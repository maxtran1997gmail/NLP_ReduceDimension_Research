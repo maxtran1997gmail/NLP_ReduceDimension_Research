{
  "nbformat": 4,
  "nbformat_minor": 0,
  "metadata": {
    "colab": {
      "name": "NLP_SimCSE_Final.ipynb",
      "provenance": []
    },
    "kernelspec": {
      "name": "python3",
      "display_name": "Python 3"
    },
    "language_info": {
      "name": "python"
    },
    "widgets": {
      "application/vnd.jupyter.widget-state+json": {
        "ad9b769137db4a769148a5b9b545319e": {
          "model_module": "@jupyter-widgets/controls",
          "model_name": "HBoxModel",
          "model_module_version": "1.5.0",
          "state": {
            "_dom_classes": [],
            "_model_module": "@jupyter-widgets/controls",
            "_model_module_version": "1.5.0",
            "_model_name": "HBoxModel",
            "_view_count": null,
            "_view_module": "@jupyter-widgets/controls",
            "_view_module_version": "1.5.0",
            "_view_name": "HBoxView",
            "box_style": "",
            "children": [
              "IPY_MODEL_e00b412088c84c3cb831dcf438cdbdb0",
              "IPY_MODEL_08254938cae4496ab8b6c30a045c2dd5",
              "IPY_MODEL_3967b9ae20d24e85a0745f53fa4268ee"
            ],
            "layout": "IPY_MODEL_1c07ee2172a0444c8a4f147be0146bad"
          }
        },
        "e00b412088c84c3cb831dcf438cdbdb0": {
          "model_module": "@jupyter-widgets/controls",
          "model_name": "HTMLModel",
          "model_module_version": "1.5.0",
          "state": {
            "_dom_classes": [],
            "_model_module": "@jupyter-widgets/controls",
            "_model_module_version": "1.5.0",
            "_model_name": "HTMLModel",
            "_view_count": null,
            "_view_module": "@jupyter-widgets/controls",
            "_view_module_version": "1.5.0",
            "_view_name": "HTMLView",
            "description": "",
            "description_tooltip": null,
            "layout": "IPY_MODEL_4f3813b696494a81bf372e1d5e158821",
            "placeholder": "​",
            "style": "IPY_MODEL_fb028495a1b24a4abbc7b8662178b5e2",
            "value": "Downloading: 100%"
          }
        },
        "08254938cae4496ab8b6c30a045c2dd5": {
          "model_module": "@jupyter-widgets/controls",
          "model_name": "FloatProgressModel",
          "model_module_version": "1.5.0",
          "state": {
            "_dom_classes": [],
            "_model_module": "@jupyter-widgets/controls",
            "_model_module_version": "1.5.0",
            "_model_name": "FloatProgressModel",
            "_view_count": null,
            "_view_module": "@jupyter-widgets/controls",
            "_view_module_version": "1.5.0",
            "_view_name": "ProgressView",
            "bar_style": "success",
            "description": "",
            "description_tooltip": null,
            "layout": "IPY_MODEL_0bf7d35421f847499791839314cae437",
            "max": 252,
            "min": 0,
            "orientation": "horizontal",
            "style": "IPY_MODEL_ff353e170bc44cac8fd0de11b89aa197",
            "value": 252
          }
        },
        "3967b9ae20d24e85a0745f53fa4268ee": {
          "model_module": "@jupyter-widgets/controls",
          "model_name": "HTMLModel",
          "model_module_version": "1.5.0",
          "state": {
            "_dom_classes": [],
            "_model_module": "@jupyter-widgets/controls",
            "_model_module_version": "1.5.0",
            "_model_name": "HTMLModel",
            "_view_count": null,
            "_view_module": "@jupyter-widgets/controls",
            "_view_module_version": "1.5.0",
            "_view_name": "HTMLView",
            "description": "",
            "description_tooltip": null,
            "layout": "IPY_MODEL_ff18bcb1497d436c9bbb05af6895ba85",
            "placeholder": "​",
            "style": "IPY_MODEL_39f9485061b043cab281bc9a719c6ffd",
            "value": " 252/252 [00:00&lt;00:00, 6.51kB/s]"
          }
        },
        "1c07ee2172a0444c8a4f147be0146bad": {
          "model_module": "@jupyter-widgets/base",
          "model_name": "LayoutModel",
          "model_module_version": "1.2.0",
          "state": {
            "_model_module": "@jupyter-widgets/base",
            "_model_module_version": "1.2.0",
            "_model_name": "LayoutModel",
            "_view_count": null,
            "_view_module": "@jupyter-widgets/base",
            "_view_module_version": "1.2.0",
            "_view_name": "LayoutView",
            "align_content": null,
            "align_items": null,
            "align_self": null,
            "border": null,
            "bottom": null,
            "display": null,
            "flex": null,
            "flex_flow": null,
            "grid_area": null,
            "grid_auto_columns": null,
            "grid_auto_flow": null,
            "grid_auto_rows": null,
            "grid_column": null,
            "grid_gap": null,
            "grid_row": null,
            "grid_template_areas": null,
            "grid_template_columns": null,
            "grid_template_rows": null,
            "height": null,
            "justify_content": null,
            "justify_items": null,
            "left": null,
            "margin": null,
            "max_height": null,
            "max_width": null,
            "min_height": null,
            "min_width": null,
            "object_fit": null,
            "object_position": null,
            "order": null,
            "overflow": null,
            "overflow_x": null,
            "overflow_y": null,
            "padding": null,
            "right": null,
            "top": null,
            "visibility": null,
            "width": null
          }
        },
        "4f3813b696494a81bf372e1d5e158821": {
          "model_module": "@jupyter-widgets/base",
          "model_name": "LayoutModel",
          "model_module_version": "1.2.0",
          "state": {
            "_model_module": "@jupyter-widgets/base",
            "_model_module_version": "1.2.0",
            "_model_name": "LayoutModel",
            "_view_count": null,
            "_view_module": "@jupyter-widgets/base",
            "_view_module_version": "1.2.0",
            "_view_name": "LayoutView",
            "align_content": null,
            "align_items": null,
            "align_self": null,
            "border": null,
            "bottom": null,
            "display": null,
            "flex": null,
            "flex_flow": null,
            "grid_area": null,
            "grid_auto_columns": null,
            "grid_auto_flow": null,
            "grid_auto_rows": null,
            "grid_column": null,
            "grid_gap": null,
            "grid_row": null,
            "grid_template_areas": null,
            "grid_template_columns": null,
            "grid_template_rows": null,
            "height": null,
            "justify_content": null,
            "justify_items": null,
            "left": null,
            "margin": null,
            "max_height": null,
            "max_width": null,
            "min_height": null,
            "min_width": null,
            "object_fit": null,
            "object_position": null,
            "order": null,
            "overflow": null,
            "overflow_x": null,
            "overflow_y": null,
            "padding": null,
            "right": null,
            "top": null,
            "visibility": null,
            "width": null
          }
        },
        "fb028495a1b24a4abbc7b8662178b5e2": {
          "model_module": "@jupyter-widgets/controls",
          "model_name": "DescriptionStyleModel",
          "model_module_version": "1.5.0",
          "state": {
            "_model_module": "@jupyter-widgets/controls",
            "_model_module_version": "1.5.0",
            "_model_name": "DescriptionStyleModel",
            "_view_count": null,
            "_view_module": "@jupyter-widgets/base",
            "_view_module_version": "1.2.0",
            "_view_name": "StyleView",
            "description_width": ""
          }
        },
        "0bf7d35421f847499791839314cae437": {
          "model_module": "@jupyter-widgets/base",
          "model_name": "LayoutModel",
          "model_module_version": "1.2.0",
          "state": {
            "_model_module": "@jupyter-widgets/base",
            "_model_module_version": "1.2.0",
            "_model_name": "LayoutModel",
            "_view_count": null,
            "_view_module": "@jupyter-widgets/base",
            "_view_module_version": "1.2.0",
            "_view_name": "LayoutView",
            "align_content": null,
            "align_items": null,
            "align_self": null,
            "border": null,
            "bottom": null,
            "display": null,
            "flex": null,
            "flex_flow": null,
            "grid_area": null,
            "grid_auto_columns": null,
            "grid_auto_flow": null,
            "grid_auto_rows": null,
            "grid_column": null,
            "grid_gap": null,
            "grid_row": null,
            "grid_template_areas": null,
            "grid_template_columns": null,
            "grid_template_rows": null,
            "height": null,
            "justify_content": null,
            "justify_items": null,
            "left": null,
            "margin": null,
            "max_height": null,
            "max_width": null,
            "min_height": null,
            "min_width": null,
            "object_fit": null,
            "object_position": null,
            "order": null,
            "overflow": null,
            "overflow_x": null,
            "overflow_y": null,
            "padding": null,
            "right": null,
            "top": null,
            "visibility": null,
            "width": null
          }
        },
        "ff353e170bc44cac8fd0de11b89aa197": {
          "model_module": "@jupyter-widgets/controls",
          "model_name": "ProgressStyleModel",
          "model_module_version": "1.5.0",
          "state": {
            "_model_module": "@jupyter-widgets/controls",
            "_model_module_version": "1.5.0",
            "_model_name": "ProgressStyleModel",
            "_view_count": null,
            "_view_module": "@jupyter-widgets/base",
            "_view_module_version": "1.2.0",
            "_view_name": "StyleView",
            "bar_color": null,
            "description_width": ""
          }
        },
        "ff18bcb1497d436c9bbb05af6895ba85": {
          "model_module": "@jupyter-widgets/base",
          "model_name": "LayoutModel",
          "model_module_version": "1.2.0",
          "state": {
            "_model_module": "@jupyter-widgets/base",
            "_model_module_version": "1.2.0",
            "_model_name": "LayoutModel",
            "_view_count": null,
            "_view_module": "@jupyter-widgets/base",
            "_view_module_version": "1.2.0",
            "_view_name": "LayoutView",
            "align_content": null,
            "align_items": null,
            "align_self": null,
            "border": null,
            "bottom": null,
            "display": null,
            "flex": null,
            "flex_flow": null,
            "grid_area": null,
            "grid_auto_columns": null,
            "grid_auto_flow": null,
            "grid_auto_rows": null,
            "grid_column": null,
            "grid_gap": null,
            "grid_row": null,
            "grid_template_areas": null,
            "grid_template_columns": null,
            "grid_template_rows": null,
            "height": null,
            "justify_content": null,
            "justify_items": null,
            "left": null,
            "margin": null,
            "max_height": null,
            "max_width": null,
            "min_height": null,
            "min_width": null,
            "object_fit": null,
            "object_position": null,
            "order": null,
            "overflow": null,
            "overflow_x": null,
            "overflow_y": null,
            "padding": null,
            "right": null,
            "top": null,
            "visibility": null,
            "width": null
          }
        },
        "39f9485061b043cab281bc9a719c6ffd": {
          "model_module": "@jupyter-widgets/controls",
          "model_name": "DescriptionStyleModel",
          "model_module_version": "1.5.0",
          "state": {
            "_model_module": "@jupyter-widgets/controls",
            "_model_module_version": "1.5.0",
            "_model_name": "DescriptionStyleModel",
            "_view_count": null,
            "_view_module": "@jupyter-widgets/base",
            "_view_module_version": "1.2.0",
            "_view_name": "StyleView",
            "description_width": ""
          }
        },
        "b1ed2731683c4203adcd42d57ea20143": {
          "model_module": "@jupyter-widgets/controls",
          "model_name": "HBoxModel",
          "model_module_version": "1.5.0",
          "state": {
            "_dom_classes": [],
            "_model_module": "@jupyter-widgets/controls",
            "_model_module_version": "1.5.0",
            "_model_name": "HBoxModel",
            "_view_count": null,
            "_view_module": "@jupyter-widgets/controls",
            "_view_module_version": "1.5.0",
            "_view_name": "HBoxView",
            "box_style": "",
            "children": [
              "IPY_MODEL_0f8f73253f16419487d29ea19f752afc",
              "IPY_MODEL_744eb39b5c684342bbe9e271fb5de91f",
              "IPY_MODEL_63a17dfb103440d58360284d3242b26e"
            ],
            "layout": "IPY_MODEL_7c23339fb874430c92dd649fff4bf9c0"
          }
        },
        "0f8f73253f16419487d29ea19f752afc": {
          "model_module": "@jupyter-widgets/controls",
          "model_name": "HTMLModel",
          "model_module_version": "1.5.0",
          "state": {
            "_dom_classes": [],
            "_model_module": "@jupyter-widgets/controls",
            "_model_module_version": "1.5.0",
            "_model_name": "HTMLModel",
            "_view_count": null,
            "_view_module": "@jupyter-widgets/controls",
            "_view_module_version": "1.5.0",
            "_view_name": "HTMLView",
            "description": "",
            "description_tooltip": null,
            "layout": "IPY_MODEL_d323690721c1443ca2e69beb061dedf3",
            "placeholder": "​",
            "style": "IPY_MODEL_550cd147fa984532b436ae77842ce583",
            "value": "Downloading: 100%"
          }
        },
        "744eb39b5c684342bbe9e271fb5de91f": {
          "model_module": "@jupyter-widgets/controls",
          "model_name": "FloatProgressModel",
          "model_module_version": "1.5.0",
          "state": {
            "_dom_classes": [],
            "_model_module": "@jupyter-widgets/controls",
            "_model_module_version": "1.5.0",
            "_model_name": "FloatProgressModel",
            "_view_count": null,
            "_view_module": "@jupyter-widgets/controls",
            "_view_module_version": "1.5.0",
            "_view_name": "ProgressView",
            "bar_style": "success",
            "description": "",
            "description_tooltip": null,
            "layout": "IPY_MODEL_f687c1e72cae4e72ac844605fa133515",
            "max": 689,
            "min": 0,
            "orientation": "horizontal",
            "style": "IPY_MODEL_8c95d366183449dcb07162ab0a5af947",
            "value": 689
          }
        },
        "63a17dfb103440d58360284d3242b26e": {
          "model_module": "@jupyter-widgets/controls",
          "model_name": "HTMLModel",
          "model_module_version": "1.5.0",
          "state": {
            "_dom_classes": [],
            "_model_module": "@jupyter-widgets/controls",
            "_model_module_version": "1.5.0",
            "_model_name": "HTMLModel",
            "_view_count": null,
            "_view_module": "@jupyter-widgets/controls",
            "_view_module_version": "1.5.0",
            "_view_name": "HTMLView",
            "description": "",
            "description_tooltip": null,
            "layout": "IPY_MODEL_d4dfd73da5ee4698a3936810adf6b7dd",
            "placeholder": "​",
            "style": "IPY_MODEL_3c81f9076d9b4af59430452cf3531442",
            "value": " 689/689 [00:00&lt;00:00, 17.3kB/s]"
          }
        },
        "7c23339fb874430c92dd649fff4bf9c0": {
          "model_module": "@jupyter-widgets/base",
          "model_name": "LayoutModel",
          "model_module_version": "1.2.0",
          "state": {
            "_model_module": "@jupyter-widgets/base",
            "_model_module_version": "1.2.0",
            "_model_name": "LayoutModel",
            "_view_count": null,
            "_view_module": "@jupyter-widgets/base",
            "_view_module_version": "1.2.0",
            "_view_name": "LayoutView",
            "align_content": null,
            "align_items": null,
            "align_self": null,
            "border": null,
            "bottom": null,
            "display": null,
            "flex": null,
            "flex_flow": null,
            "grid_area": null,
            "grid_auto_columns": null,
            "grid_auto_flow": null,
            "grid_auto_rows": null,
            "grid_column": null,
            "grid_gap": null,
            "grid_row": null,
            "grid_template_areas": null,
            "grid_template_columns": null,
            "grid_template_rows": null,
            "height": null,
            "justify_content": null,
            "justify_items": null,
            "left": null,
            "margin": null,
            "max_height": null,
            "max_width": null,
            "min_height": null,
            "min_width": null,
            "object_fit": null,
            "object_position": null,
            "order": null,
            "overflow": null,
            "overflow_x": null,
            "overflow_y": null,
            "padding": null,
            "right": null,
            "top": null,
            "visibility": null,
            "width": null
          }
        },
        "d323690721c1443ca2e69beb061dedf3": {
          "model_module": "@jupyter-widgets/base",
          "model_name": "LayoutModel",
          "model_module_version": "1.2.0",
          "state": {
            "_model_module": "@jupyter-widgets/base",
            "_model_module_version": "1.2.0",
            "_model_name": "LayoutModel",
            "_view_count": null,
            "_view_module": "@jupyter-widgets/base",
            "_view_module_version": "1.2.0",
            "_view_name": "LayoutView",
            "align_content": null,
            "align_items": null,
            "align_self": null,
            "border": null,
            "bottom": null,
            "display": null,
            "flex": null,
            "flex_flow": null,
            "grid_area": null,
            "grid_auto_columns": null,
            "grid_auto_flow": null,
            "grid_auto_rows": null,
            "grid_column": null,
            "grid_gap": null,
            "grid_row": null,
            "grid_template_areas": null,
            "grid_template_columns": null,
            "grid_template_rows": null,
            "height": null,
            "justify_content": null,
            "justify_items": null,
            "left": null,
            "margin": null,
            "max_height": null,
            "max_width": null,
            "min_height": null,
            "min_width": null,
            "object_fit": null,
            "object_position": null,
            "order": null,
            "overflow": null,
            "overflow_x": null,
            "overflow_y": null,
            "padding": null,
            "right": null,
            "top": null,
            "visibility": null,
            "width": null
          }
        },
        "550cd147fa984532b436ae77842ce583": {
          "model_module": "@jupyter-widgets/controls",
          "model_name": "DescriptionStyleModel",
          "model_module_version": "1.5.0",
          "state": {
            "_model_module": "@jupyter-widgets/controls",
            "_model_module_version": "1.5.0",
            "_model_name": "DescriptionStyleModel",
            "_view_count": null,
            "_view_module": "@jupyter-widgets/base",
            "_view_module_version": "1.2.0",
            "_view_name": "StyleView",
            "description_width": ""
          }
        },
        "f687c1e72cae4e72ac844605fa133515": {
          "model_module": "@jupyter-widgets/base",
          "model_name": "LayoutModel",
          "model_module_version": "1.2.0",
          "state": {
            "_model_module": "@jupyter-widgets/base",
            "_model_module_version": "1.2.0",
            "_model_name": "LayoutModel",
            "_view_count": null,
            "_view_module": "@jupyter-widgets/base",
            "_view_module_version": "1.2.0",
            "_view_name": "LayoutView",
            "align_content": null,
            "align_items": null,
            "align_self": null,
            "border": null,
            "bottom": null,
            "display": null,
            "flex": null,
            "flex_flow": null,
            "grid_area": null,
            "grid_auto_columns": null,
            "grid_auto_flow": null,
            "grid_auto_rows": null,
            "grid_column": null,
            "grid_gap": null,
            "grid_row": null,
            "grid_template_areas": null,
            "grid_template_columns": null,
            "grid_template_rows": null,
            "height": null,
            "justify_content": null,
            "justify_items": null,
            "left": null,
            "margin": null,
            "max_height": null,
            "max_width": null,
            "min_height": null,
            "min_width": null,
            "object_fit": null,
            "object_position": null,
            "order": null,
            "overflow": null,
            "overflow_x": null,
            "overflow_y": null,
            "padding": null,
            "right": null,
            "top": null,
            "visibility": null,
            "width": null
          }
        },
        "8c95d366183449dcb07162ab0a5af947": {
          "model_module": "@jupyter-widgets/controls",
          "model_name": "ProgressStyleModel",
          "model_module_version": "1.5.0",
          "state": {
            "_model_module": "@jupyter-widgets/controls",
            "_model_module_version": "1.5.0",
            "_model_name": "ProgressStyleModel",
            "_view_count": null,
            "_view_module": "@jupyter-widgets/base",
            "_view_module_version": "1.2.0",
            "_view_name": "StyleView",
            "bar_color": null,
            "description_width": ""
          }
        },
        "d4dfd73da5ee4698a3936810adf6b7dd": {
          "model_module": "@jupyter-widgets/base",
          "model_name": "LayoutModel",
          "model_module_version": "1.2.0",
          "state": {
            "_model_module": "@jupyter-widgets/base",
            "_model_module_version": "1.2.0",
            "_model_name": "LayoutModel",
            "_view_count": null,
            "_view_module": "@jupyter-widgets/base",
            "_view_module_version": "1.2.0",
            "_view_name": "LayoutView",
            "align_content": null,
            "align_items": null,
            "align_self": null,
            "border": null,
            "bottom": null,
            "display": null,
            "flex": null,
            "flex_flow": null,
            "grid_area": null,
            "grid_auto_columns": null,
            "grid_auto_flow": null,
            "grid_auto_rows": null,
            "grid_column": null,
            "grid_gap": null,
            "grid_row": null,
            "grid_template_areas": null,
            "grid_template_columns": null,
            "grid_template_rows": null,
            "height": null,
            "justify_content": null,
            "justify_items": null,
            "left": null,
            "margin": null,
            "max_height": null,
            "max_width": null,
            "min_height": null,
            "min_width": null,
            "object_fit": null,
            "object_position": null,
            "order": null,
            "overflow": null,
            "overflow_x": null,
            "overflow_y": null,
            "padding": null,
            "right": null,
            "top": null,
            "visibility": null,
            "width": null
          }
        },
        "3c81f9076d9b4af59430452cf3531442": {
          "model_module": "@jupyter-widgets/controls",
          "model_name": "DescriptionStyleModel",
          "model_module_version": "1.5.0",
          "state": {
            "_model_module": "@jupyter-widgets/controls",
            "_model_module_version": "1.5.0",
            "_model_name": "DescriptionStyleModel",
            "_view_count": null,
            "_view_module": "@jupyter-widgets/base",
            "_view_module_version": "1.2.0",
            "_view_name": "StyleView",
            "description_width": ""
          }
        },
        "82540202912a45e38df0bdf21458ee8a": {
          "model_module": "@jupyter-widgets/controls",
          "model_name": "HBoxModel",
          "model_module_version": "1.5.0",
          "state": {
            "_dom_classes": [],
            "_model_module": "@jupyter-widgets/controls",
            "_model_module_version": "1.5.0",
            "_model_name": "HBoxModel",
            "_view_count": null,
            "_view_module": "@jupyter-widgets/controls",
            "_view_module_version": "1.5.0",
            "_view_name": "HBoxView",
            "box_style": "",
            "children": [
              "IPY_MODEL_5bacd67bbcf2493da2008279e9a2a2de",
              "IPY_MODEL_905fdc9a1c6a4d7da702933db9c3a116",
              "IPY_MODEL_51ac7bc16d7e4aedad09c4ce4b0447a3"
            ],
            "layout": "IPY_MODEL_6b71de5efad24289ae64bdef7416bbcc"
          }
        },
        "5bacd67bbcf2493da2008279e9a2a2de": {
          "model_module": "@jupyter-widgets/controls",
          "model_name": "HTMLModel",
          "model_module_version": "1.5.0",
          "state": {
            "_dom_classes": [],
            "_model_module": "@jupyter-widgets/controls",
            "_model_module_version": "1.5.0",
            "_model_name": "HTMLModel",
            "_view_count": null,
            "_view_module": "@jupyter-widgets/controls",
            "_view_module_version": "1.5.0",
            "_view_name": "HTMLView",
            "description": "",
            "description_tooltip": null,
            "layout": "IPY_MODEL_1dac7519c4e844ffa64a9699fdf24316",
            "placeholder": "​",
            "style": "IPY_MODEL_d720fa4b262d4fc8b2dcf66787ba96af",
            "value": "Downloading: 100%"
          }
        },
        "905fdc9a1c6a4d7da702933db9c3a116": {
          "model_module": "@jupyter-widgets/controls",
          "model_name": "FloatProgressModel",
          "model_module_version": "1.5.0",
          "state": {
            "_dom_classes": [],
            "_model_module": "@jupyter-widgets/controls",
            "_model_module_version": "1.5.0",
            "_model_name": "FloatProgressModel",
            "_view_count": null,
            "_view_module": "@jupyter-widgets/controls",
            "_view_module_version": "1.5.0",
            "_view_name": "ProgressView",
            "bar_style": "success",
            "description": "",
            "description_tooltip": null,
            "layout": "IPY_MODEL_9c668472046748c8838d1dda22bee4da",
            "max": 231508,
            "min": 0,
            "orientation": "horizontal",
            "style": "IPY_MODEL_cceb72f68e4f48a4ae4a3a3875274dc4",
            "value": 231508
          }
        },
        "51ac7bc16d7e4aedad09c4ce4b0447a3": {
          "model_module": "@jupyter-widgets/controls",
          "model_name": "HTMLModel",
          "model_module_version": "1.5.0",
          "state": {
            "_dom_classes": [],
            "_model_module": "@jupyter-widgets/controls",
            "_model_module_version": "1.5.0",
            "_model_name": "HTMLModel",
            "_view_count": null,
            "_view_module": "@jupyter-widgets/controls",
            "_view_module_version": "1.5.0",
            "_view_name": "HTMLView",
            "description": "",
            "description_tooltip": null,
            "layout": "IPY_MODEL_bdf99b47ac5e421cb4181df1048d7f32",
            "placeholder": "​",
            "style": "IPY_MODEL_b3feaa0769174b9f82a17ab8955b1e6d",
            "value": " 226k/226k [00:00&lt;00:00, 863kB/s]"
          }
        },
        "6b71de5efad24289ae64bdef7416bbcc": {
          "model_module": "@jupyter-widgets/base",
          "model_name": "LayoutModel",
          "model_module_version": "1.2.0",
          "state": {
            "_model_module": "@jupyter-widgets/base",
            "_model_module_version": "1.2.0",
            "_model_name": "LayoutModel",
            "_view_count": null,
            "_view_module": "@jupyter-widgets/base",
            "_view_module_version": "1.2.0",
            "_view_name": "LayoutView",
            "align_content": null,
            "align_items": null,
            "align_self": null,
            "border": null,
            "bottom": null,
            "display": null,
            "flex": null,
            "flex_flow": null,
            "grid_area": null,
            "grid_auto_columns": null,
            "grid_auto_flow": null,
            "grid_auto_rows": null,
            "grid_column": null,
            "grid_gap": null,
            "grid_row": null,
            "grid_template_areas": null,
            "grid_template_columns": null,
            "grid_template_rows": null,
            "height": null,
            "justify_content": null,
            "justify_items": null,
            "left": null,
            "margin": null,
            "max_height": null,
            "max_width": null,
            "min_height": null,
            "min_width": null,
            "object_fit": null,
            "object_position": null,
            "order": null,
            "overflow": null,
            "overflow_x": null,
            "overflow_y": null,
            "padding": null,
            "right": null,
            "top": null,
            "visibility": null,
            "width": null
          }
        },
        "1dac7519c4e844ffa64a9699fdf24316": {
          "model_module": "@jupyter-widgets/base",
          "model_name": "LayoutModel",
          "model_module_version": "1.2.0",
          "state": {
            "_model_module": "@jupyter-widgets/base",
            "_model_module_version": "1.2.0",
            "_model_name": "LayoutModel",
            "_view_count": null,
            "_view_module": "@jupyter-widgets/base",
            "_view_module_version": "1.2.0",
            "_view_name": "LayoutView",
            "align_content": null,
            "align_items": null,
            "align_self": null,
            "border": null,
            "bottom": null,
            "display": null,
            "flex": null,
            "flex_flow": null,
            "grid_area": null,
            "grid_auto_columns": null,
            "grid_auto_flow": null,
            "grid_auto_rows": null,
            "grid_column": null,
            "grid_gap": null,
            "grid_row": null,
            "grid_template_areas": null,
            "grid_template_columns": null,
            "grid_template_rows": null,
            "height": null,
            "justify_content": null,
            "justify_items": null,
            "left": null,
            "margin": null,
            "max_height": null,
            "max_width": null,
            "min_height": null,
            "min_width": null,
            "object_fit": null,
            "object_position": null,
            "order": null,
            "overflow": null,
            "overflow_x": null,
            "overflow_y": null,
            "padding": null,
            "right": null,
            "top": null,
            "visibility": null,
            "width": null
          }
        },
        "d720fa4b262d4fc8b2dcf66787ba96af": {
          "model_module": "@jupyter-widgets/controls",
          "model_name": "DescriptionStyleModel",
          "model_module_version": "1.5.0",
          "state": {
            "_model_module": "@jupyter-widgets/controls",
            "_model_module_version": "1.5.0",
            "_model_name": "DescriptionStyleModel",
            "_view_count": null,
            "_view_module": "@jupyter-widgets/base",
            "_view_module_version": "1.2.0",
            "_view_name": "StyleView",
            "description_width": ""
          }
        },
        "9c668472046748c8838d1dda22bee4da": {
          "model_module": "@jupyter-widgets/base",
          "model_name": "LayoutModel",
          "model_module_version": "1.2.0",
          "state": {
            "_model_module": "@jupyter-widgets/base",
            "_model_module_version": "1.2.0",
            "_model_name": "LayoutModel",
            "_view_count": null,
            "_view_module": "@jupyter-widgets/base",
            "_view_module_version": "1.2.0",
            "_view_name": "LayoutView",
            "align_content": null,
            "align_items": null,
            "align_self": null,
            "border": null,
            "bottom": null,
            "display": null,
            "flex": null,
            "flex_flow": null,
            "grid_area": null,
            "grid_auto_columns": null,
            "grid_auto_flow": null,
            "grid_auto_rows": null,
            "grid_column": null,
            "grid_gap": null,
            "grid_row": null,
            "grid_template_areas": null,
            "grid_template_columns": null,
            "grid_template_rows": null,
            "height": null,
            "justify_content": null,
            "justify_items": null,
            "left": null,
            "margin": null,
            "max_height": null,
            "max_width": null,
            "min_height": null,
            "min_width": null,
            "object_fit": null,
            "object_position": null,
            "order": null,
            "overflow": null,
            "overflow_x": null,
            "overflow_y": null,
            "padding": null,
            "right": null,
            "top": null,
            "visibility": null,
            "width": null
          }
        },
        "cceb72f68e4f48a4ae4a3a3875274dc4": {
          "model_module": "@jupyter-widgets/controls",
          "model_name": "ProgressStyleModel",
          "model_module_version": "1.5.0",
          "state": {
            "_model_module": "@jupyter-widgets/controls",
            "_model_module_version": "1.5.0",
            "_model_name": "ProgressStyleModel",
            "_view_count": null,
            "_view_module": "@jupyter-widgets/base",
            "_view_module_version": "1.2.0",
            "_view_name": "StyleView",
            "bar_color": null,
            "description_width": ""
          }
        },
        "bdf99b47ac5e421cb4181df1048d7f32": {
          "model_module": "@jupyter-widgets/base",
          "model_name": "LayoutModel",
          "model_module_version": "1.2.0",
          "state": {
            "_model_module": "@jupyter-widgets/base",
            "_model_module_version": "1.2.0",
            "_model_name": "LayoutModel",
            "_view_count": null,
            "_view_module": "@jupyter-widgets/base",
            "_view_module_version": "1.2.0",
            "_view_name": "LayoutView",
            "align_content": null,
            "align_items": null,
            "align_self": null,
            "border": null,
            "bottom": null,
            "display": null,
            "flex": null,
            "flex_flow": null,
            "grid_area": null,
            "grid_auto_columns": null,
            "grid_auto_flow": null,
            "grid_auto_rows": null,
            "grid_column": null,
            "grid_gap": null,
            "grid_row": null,
            "grid_template_areas": null,
            "grid_template_columns": null,
            "grid_template_rows": null,
            "height": null,
            "justify_content": null,
            "justify_items": null,
            "left": null,
            "margin": null,
            "max_height": null,
            "max_width": null,
            "min_height": null,
            "min_width": null,
            "object_fit": null,
            "object_position": null,
            "order": null,
            "overflow": null,
            "overflow_x": null,
            "overflow_y": null,
            "padding": null,
            "right": null,
            "top": null,
            "visibility": null,
            "width": null
          }
        },
        "b3feaa0769174b9f82a17ab8955b1e6d": {
          "model_module": "@jupyter-widgets/controls",
          "model_name": "DescriptionStyleModel",
          "model_module_version": "1.5.0",
          "state": {
            "_model_module": "@jupyter-widgets/controls",
            "_model_module_version": "1.5.0",
            "_model_name": "DescriptionStyleModel",
            "_view_count": null,
            "_view_module": "@jupyter-widgets/base",
            "_view_module_version": "1.2.0",
            "_view_name": "StyleView",
            "description_width": ""
          }
        },
        "ad8b1db438d74443bf8174d66aaae46f": {
          "model_module": "@jupyter-widgets/controls",
          "model_name": "HBoxModel",
          "model_module_version": "1.5.0",
          "state": {
            "_dom_classes": [],
            "_model_module": "@jupyter-widgets/controls",
            "_model_module_version": "1.5.0",
            "_model_name": "HBoxModel",
            "_view_count": null,
            "_view_module": "@jupyter-widgets/controls",
            "_view_module_version": "1.5.0",
            "_view_name": "HBoxView",
            "box_style": "",
            "children": [
              "IPY_MODEL_40e7a06710ea4078ae3632e5dc888b95",
              "IPY_MODEL_b11e464735174f07abb2499f0a51fd4e",
              "IPY_MODEL_0d35e40647fc4ed4a73135d61ca6c4ec"
            ],
            "layout": "IPY_MODEL_08c2107d613c4856be8d6145ca1f6bfd"
          }
        },
        "40e7a06710ea4078ae3632e5dc888b95": {
          "model_module": "@jupyter-widgets/controls",
          "model_name": "HTMLModel",
          "model_module_version": "1.5.0",
          "state": {
            "_dom_classes": [],
            "_model_module": "@jupyter-widgets/controls",
            "_model_module_version": "1.5.0",
            "_model_name": "HTMLModel",
            "_view_count": null,
            "_view_module": "@jupyter-widgets/controls",
            "_view_module_version": "1.5.0",
            "_view_name": "HTMLView",
            "description": "",
            "description_tooltip": null,
            "layout": "IPY_MODEL_54a6502bf3da489e97cc9db89e11370d",
            "placeholder": "​",
            "style": "IPY_MODEL_0866b8244edc4e669a4d2c91edd81b8d",
            "value": "Downloading: 100%"
          }
        },
        "b11e464735174f07abb2499f0a51fd4e": {
          "model_module": "@jupyter-widgets/controls",
          "model_name": "FloatProgressModel",
          "model_module_version": "1.5.0",
          "state": {
            "_dom_classes": [],
            "_model_module": "@jupyter-widgets/controls",
            "_model_module_version": "1.5.0",
            "_model_name": "FloatProgressModel",
            "_view_count": null,
            "_view_module": "@jupyter-widgets/controls",
            "_view_module_version": "1.5.0",
            "_view_name": "ProgressView",
            "bar_style": "success",
            "description": "",
            "description_tooltip": null,
            "layout": "IPY_MODEL_b1e4e89b0bd4451881767589c77e7f9d",
            "max": 112,
            "min": 0,
            "orientation": "horizontal",
            "style": "IPY_MODEL_6cabdfa757544366ac27d4ee4e13d43a",
            "value": 112
          }
        },
        "0d35e40647fc4ed4a73135d61ca6c4ec": {
          "model_module": "@jupyter-widgets/controls",
          "model_name": "HTMLModel",
          "model_module_version": "1.5.0",
          "state": {
            "_dom_classes": [],
            "_model_module": "@jupyter-widgets/controls",
            "_model_module_version": "1.5.0",
            "_model_name": "HTMLModel",
            "_view_count": null,
            "_view_module": "@jupyter-widgets/controls",
            "_view_module_version": "1.5.0",
            "_view_name": "HTMLView",
            "description": "",
            "description_tooltip": null,
            "layout": "IPY_MODEL_6a3631682cb74194ac11c89e14ae6f31",
            "placeholder": "​",
            "style": "IPY_MODEL_f92c5d3ea0294e35a20095de013ba988",
            "value": " 112/112 [00:00&lt;00:00, 3.03kB/s]"
          }
        },
        "08c2107d613c4856be8d6145ca1f6bfd": {
          "model_module": "@jupyter-widgets/base",
          "model_name": "LayoutModel",
          "model_module_version": "1.2.0",
          "state": {
            "_model_module": "@jupyter-widgets/base",
            "_model_module_version": "1.2.0",
            "_model_name": "LayoutModel",
            "_view_count": null,
            "_view_module": "@jupyter-widgets/base",
            "_view_module_version": "1.2.0",
            "_view_name": "LayoutView",
            "align_content": null,
            "align_items": null,
            "align_self": null,
            "border": null,
            "bottom": null,
            "display": null,
            "flex": null,
            "flex_flow": null,
            "grid_area": null,
            "grid_auto_columns": null,
            "grid_auto_flow": null,
            "grid_auto_rows": null,
            "grid_column": null,
            "grid_gap": null,
            "grid_row": null,
            "grid_template_areas": null,
            "grid_template_columns": null,
            "grid_template_rows": null,
            "height": null,
            "justify_content": null,
            "justify_items": null,
            "left": null,
            "margin": null,
            "max_height": null,
            "max_width": null,
            "min_height": null,
            "min_width": null,
            "object_fit": null,
            "object_position": null,
            "order": null,
            "overflow": null,
            "overflow_x": null,
            "overflow_y": null,
            "padding": null,
            "right": null,
            "top": null,
            "visibility": null,
            "width": null
          }
        },
        "54a6502bf3da489e97cc9db89e11370d": {
          "model_module": "@jupyter-widgets/base",
          "model_name": "LayoutModel",
          "model_module_version": "1.2.0",
          "state": {
            "_model_module": "@jupyter-widgets/base",
            "_model_module_version": "1.2.0",
            "_model_name": "LayoutModel",
            "_view_count": null,
            "_view_module": "@jupyter-widgets/base",
            "_view_module_version": "1.2.0",
            "_view_name": "LayoutView",
            "align_content": null,
            "align_items": null,
            "align_self": null,
            "border": null,
            "bottom": null,
            "display": null,
            "flex": null,
            "flex_flow": null,
            "grid_area": null,
            "grid_auto_columns": null,
            "grid_auto_flow": null,
            "grid_auto_rows": null,
            "grid_column": null,
            "grid_gap": null,
            "grid_row": null,
            "grid_template_areas": null,
            "grid_template_columns": null,
            "grid_template_rows": null,
            "height": null,
            "justify_content": null,
            "justify_items": null,
            "left": null,
            "margin": null,
            "max_height": null,
            "max_width": null,
            "min_height": null,
            "min_width": null,
            "object_fit": null,
            "object_position": null,
            "order": null,
            "overflow": null,
            "overflow_x": null,
            "overflow_y": null,
            "padding": null,
            "right": null,
            "top": null,
            "visibility": null,
            "width": null
          }
        },
        "0866b8244edc4e669a4d2c91edd81b8d": {
          "model_module": "@jupyter-widgets/controls",
          "model_name": "DescriptionStyleModel",
          "model_module_version": "1.5.0",
          "state": {
            "_model_module": "@jupyter-widgets/controls",
            "_model_module_version": "1.5.0",
            "_model_name": "DescriptionStyleModel",
            "_view_count": null,
            "_view_module": "@jupyter-widgets/base",
            "_view_module_version": "1.2.0",
            "_view_name": "StyleView",
            "description_width": ""
          }
        },
        "b1e4e89b0bd4451881767589c77e7f9d": {
          "model_module": "@jupyter-widgets/base",
          "model_name": "LayoutModel",
          "model_module_version": "1.2.0",
          "state": {
            "_model_module": "@jupyter-widgets/base",
            "_model_module_version": "1.2.0",
            "_model_name": "LayoutModel",
            "_view_count": null,
            "_view_module": "@jupyter-widgets/base",
            "_view_module_version": "1.2.0",
            "_view_name": "LayoutView",
            "align_content": null,
            "align_items": null,
            "align_self": null,
            "border": null,
            "bottom": null,
            "display": null,
            "flex": null,
            "flex_flow": null,
            "grid_area": null,
            "grid_auto_columns": null,
            "grid_auto_flow": null,
            "grid_auto_rows": null,
            "grid_column": null,
            "grid_gap": null,
            "grid_row": null,
            "grid_template_areas": null,
            "grid_template_columns": null,
            "grid_template_rows": null,
            "height": null,
            "justify_content": null,
            "justify_items": null,
            "left": null,
            "margin": null,
            "max_height": null,
            "max_width": null,
            "min_height": null,
            "min_width": null,
            "object_fit": null,
            "object_position": null,
            "order": null,
            "overflow": null,
            "overflow_x": null,
            "overflow_y": null,
            "padding": null,
            "right": null,
            "top": null,
            "visibility": null,
            "width": null
          }
        },
        "6cabdfa757544366ac27d4ee4e13d43a": {
          "model_module": "@jupyter-widgets/controls",
          "model_name": "ProgressStyleModel",
          "model_module_version": "1.5.0",
          "state": {
            "_model_module": "@jupyter-widgets/controls",
            "_model_module_version": "1.5.0",
            "_model_name": "ProgressStyleModel",
            "_view_count": null,
            "_view_module": "@jupyter-widgets/base",
            "_view_module_version": "1.2.0",
            "_view_name": "StyleView",
            "bar_color": null,
            "description_width": ""
          }
        },
        "6a3631682cb74194ac11c89e14ae6f31": {
          "model_module": "@jupyter-widgets/base",
          "model_name": "LayoutModel",
          "model_module_version": "1.2.0",
          "state": {
            "_model_module": "@jupyter-widgets/base",
            "_model_module_version": "1.2.0",
            "_model_name": "LayoutModel",
            "_view_count": null,
            "_view_module": "@jupyter-widgets/base",
            "_view_module_version": "1.2.0",
            "_view_name": "LayoutView",
            "align_content": null,
            "align_items": null,
            "align_self": null,
            "border": null,
            "bottom": null,
            "display": null,
            "flex": null,
            "flex_flow": null,
            "grid_area": null,
            "grid_auto_columns": null,
            "grid_auto_flow": null,
            "grid_auto_rows": null,
            "grid_column": null,
            "grid_gap": null,
            "grid_row": null,
            "grid_template_areas": null,
            "grid_template_columns": null,
            "grid_template_rows": null,
            "height": null,
            "justify_content": null,
            "justify_items": null,
            "left": null,
            "margin": null,
            "max_height": null,
            "max_width": null,
            "min_height": null,
            "min_width": null,
            "object_fit": null,
            "object_position": null,
            "order": null,
            "overflow": null,
            "overflow_x": null,
            "overflow_y": null,
            "padding": null,
            "right": null,
            "top": null,
            "visibility": null,
            "width": null
          }
        },
        "f92c5d3ea0294e35a20095de013ba988": {
          "model_module": "@jupyter-widgets/controls",
          "model_name": "DescriptionStyleModel",
          "model_module_version": "1.5.0",
          "state": {
            "_model_module": "@jupyter-widgets/controls",
            "_model_module_version": "1.5.0",
            "_model_name": "DescriptionStyleModel",
            "_view_count": null,
            "_view_module": "@jupyter-widgets/base",
            "_view_module_version": "1.2.0",
            "_view_name": "StyleView",
            "description_width": ""
          }
        },
        "6f8930d99714414494f76da6820b50be": {
          "model_module": "@jupyter-widgets/controls",
          "model_name": "HBoxModel",
          "model_module_version": "1.5.0",
          "state": {
            "_dom_classes": [],
            "_model_module": "@jupyter-widgets/controls",
            "_model_module_version": "1.5.0",
            "_model_name": "HBoxModel",
            "_view_count": null,
            "_view_module": "@jupyter-widgets/controls",
            "_view_module_version": "1.5.0",
            "_view_name": "HBoxView",
            "box_style": "",
            "children": [
              "IPY_MODEL_17629140c9364ccfb7c13a2560b38482",
              "IPY_MODEL_5d08c4aadf92455a9063719b64b3836a",
              "IPY_MODEL_ef0a7c80a4f04367a705229954e6c44b"
            ],
            "layout": "IPY_MODEL_33f7e0009a54429fb2ab1442a369e35f"
          }
        },
        "17629140c9364ccfb7c13a2560b38482": {
          "model_module": "@jupyter-widgets/controls",
          "model_name": "HTMLModel",
          "model_module_version": "1.5.0",
          "state": {
            "_dom_classes": [],
            "_model_module": "@jupyter-widgets/controls",
            "_model_module_version": "1.5.0",
            "_model_name": "HTMLModel",
            "_view_count": null,
            "_view_module": "@jupyter-widgets/controls",
            "_view_module_version": "1.5.0",
            "_view_name": "HTMLView",
            "description": "",
            "description_tooltip": null,
            "layout": "IPY_MODEL_47c5fa799d9c405da7b70876d493860f",
            "placeholder": "​",
            "style": "IPY_MODEL_83d4d42f006d43daa0014ad91c30c38f",
            "value": "Downloading: 100%"
          }
        },
        "5d08c4aadf92455a9063719b64b3836a": {
          "model_module": "@jupyter-widgets/controls",
          "model_name": "FloatProgressModel",
          "model_module_version": "1.5.0",
          "state": {
            "_dom_classes": [],
            "_model_module": "@jupyter-widgets/controls",
            "_model_module_version": "1.5.0",
            "_model_name": "FloatProgressModel",
            "_view_count": null,
            "_view_module": "@jupyter-widgets/controls",
            "_view_module_version": "1.5.0",
            "_view_name": "ProgressView",
            "bar_style": "success",
            "description": "",
            "description_tooltip": null,
            "layout": "IPY_MODEL_f454aa6d62354a83945cbe3c944a5e39",
            "max": 437998343,
            "min": 0,
            "orientation": "horizontal",
            "style": "IPY_MODEL_40c824c497a548cdb3f09ab12b4c8697",
            "value": 437998343
          }
        },
        "ef0a7c80a4f04367a705229954e6c44b": {
          "model_module": "@jupyter-widgets/controls",
          "model_name": "HTMLModel",
          "model_module_version": "1.5.0",
          "state": {
            "_dom_classes": [],
            "_model_module": "@jupyter-widgets/controls",
            "_model_module_version": "1.5.0",
            "_model_name": "HTMLModel",
            "_view_count": null,
            "_view_module": "@jupyter-widgets/controls",
            "_view_module_version": "1.5.0",
            "_view_name": "HTMLView",
            "description": "",
            "description_tooltip": null,
            "layout": "IPY_MODEL_69e624038c2a465c8f7f1d27eb3f5880",
            "placeholder": "​",
            "style": "IPY_MODEL_a6bd60ace3b04a78b3711c2a4514f759",
            "value": " 418M/418M [00:09&lt;00:00, 52.2MB/s]"
          }
        },
        "33f7e0009a54429fb2ab1442a369e35f": {
          "model_module": "@jupyter-widgets/base",
          "model_name": "LayoutModel",
          "model_module_version": "1.2.0",
          "state": {
            "_model_module": "@jupyter-widgets/base",
            "_model_module_version": "1.2.0",
            "_model_name": "LayoutModel",
            "_view_count": null,
            "_view_module": "@jupyter-widgets/base",
            "_view_module_version": "1.2.0",
            "_view_name": "LayoutView",
            "align_content": null,
            "align_items": null,
            "align_self": null,
            "border": null,
            "bottom": null,
            "display": null,
            "flex": null,
            "flex_flow": null,
            "grid_area": null,
            "grid_auto_columns": null,
            "grid_auto_flow": null,
            "grid_auto_rows": null,
            "grid_column": null,
            "grid_gap": null,
            "grid_row": null,
            "grid_template_areas": null,
            "grid_template_columns": null,
            "grid_template_rows": null,
            "height": null,
            "justify_content": null,
            "justify_items": null,
            "left": null,
            "margin": null,
            "max_height": null,
            "max_width": null,
            "min_height": null,
            "min_width": null,
            "object_fit": null,
            "object_position": null,
            "order": null,
            "overflow": null,
            "overflow_x": null,
            "overflow_y": null,
            "padding": null,
            "right": null,
            "top": null,
            "visibility": null,
            "width": null
          }
        },
        "47c5fa799d9c405da7b70876d493860f": {
          "model_module": "@jupyter-widgets/base",
          "model_name": "LayoutModel",
          "model_module_version": "1.2.0",
          "state": {
            "_model_module": "@jupyter-widgets/base",
            "_model_module_version": "1.2.0",
            "_model_name": "LayoutModel",
            "_view_count": null,
            "_view_module": "@jupyter-widgets/base",
            "_view_module_version": "1.2.0",
            "_view_name": "LayoutView",
            "align_content": null,
            "align_items": null,
            "align_self": null,
            "border": null,
            "bottom": null,
            "display": null,
            "flex": null,
            "flex_flow": null,
            "grid_area": null,
            "grid_auto_columns": null,
            "grid_auto_flow": null,
            "grid_auto_rows": null,
            "grid_column": null,
            "grid_gap": null,
            "grid_row": null,
            "grid_template_areas": null,
            "grid_template_columns": null,
            "grid_template_rows": null,
            "height": null,
            "justify_content": null,
            "justify_items": null,
            "left": null,
            "margin": null,
            "max_height": null,
            "max_width": null,
            "min_height": null,
            "min_width": null,
            "object_fit": null,
            "object_position": null,
            "order": null,
            "overflow": null,
            "overflow_x": null,
            "overflow_y": null,
            "padding": null,
            "right": null,
            "top": null,
            "visibility": null,
            "width": null
          }
        },
        "83d4d42f006d43daa0014ad91c30c38f": {
          "model_module": "@jupyter-widgets/controls",
          "model_name": "DescriptionStyleModel",
          "model_module_version": "1.5.0",
          "state": {
            "_model_module": "@jupyter-widgets/controls",
            "_model_module_version": "1.5.0",
            "_model_name": "DescriptionStyleModel",
            "_view_count": null,
            "_view_module": "@jupyter-widgets/base",
            "_view_module_version": "1.2.0",
            "_view_name": "StyleView",
            "description_width": ""
          }
        },
        "f454aa6d62354a83945cbe3c944a5e39": {
          "model_module": "@jupyter-widgets/base",
          "model_name": "LayoutModel",
          "model_module_version": "1.2.0",
          "state": {
            "_model_module": "@jupyter-widgets/base",
            "_model_module_version": "1.2.0",
            "_model_name": "LayoutModel",
            "_view_count": null,
            "_view_module": "@jupyter-widgets/base",
            "_view_module_version": "1.2.0",
            "_view_name": "LayoutView",
            "align_content": null,
            "align_items": null,
            "align_self": null,
            "border": null,
            "bottom": null,
            "display": null,
            "flex": null,
            "flex_flow": null,
            "grid_area": null,
            "grid_auto_columns": null,
            "grid_auto_flow": null,
            "grid_auto_rows": null,
            "grid_column": null,
            "grid_gap": null,
            "grid_row": null,
            "grid_template_areas": null,
            "grid_template_columns": null,
            "grid_template_rows": null,
            "height": null,
            "justify_content": null,
            "justify_items": null,
            "left": null,
            "margin": null,
            "max_height": null,
            "max_width": null,
            "min_height": null,
            "min_width": null,
            "object_fit": null,
            "object_position": null,
            "order": null,
            "overflow": null,
            "overflow_x": null,
            "overflow_y": null,
            "padding": null,
            "right": null,
            "top": null,
            "visibility": null,
            "width": null
          }
        },
        "40c824c497a548cdb3f09ab12b4c8697": {
          "model_module": "@jupyter-widgets/controls",
          "model_name": "ProgressStyleModel",
          "model_module_version": "1.5.0",
          "state": {
            "_model_module": "@jupyter-widgets/controls",
            "_model_module_version": "1.5.0",
            "_model_name": "ProgressStyleModel",
            "_view_count": null,
            "_view_module": "@jupyter-widgets/base",
            "_view_module_version": "1.2.0",
            "_view_name": "StyleView",
            "bar_color": null,
            "description_width": ""
          }
        },
        "69e624038c2a465c8f7f1d27eb3f5880": {
          "model_module": "@jupyter-widgets/base",
          "model_name": "LayoutModel",
          "model_module_version": "1.2.0",
          "state": {
            "_model_module": "@jupyter-widgets/base",
            "_model_module_version": "1.2.0",
            "_model_name": "LayoutModel",
            "_view_count": null,
            "_view_module": "@jupyter-widgets/base",
            "_view_module_version": "1.2.0",
            "_view_name": "LayoutView",
            "align_content": null,
            "align_items": null,
            "align_self": null,
            "border": null,
            "bottom": null,
            "display": null,
            "flex": null,
            "flex_flow": null,
            "grid_area": null,
            "grid_auto_columns": null,
            "grid_auto_flow": null,
            "grid_auto_rows": null,
            "grid_column": null,
            "grid_gap": null,
            "grid_row": null,
            "grid_template_areas": null,
            "grid_template_columns": null,
            "grid_template_rows": null,
            "height": null,
            "justify_content": null,
            "justify_items": null,
            "left": null,
            "margin": null,
            "max_height": null,
            "max_width": null,
            "min_height": null,
            "min_width": null,
            "object_fit": null,
            "object_position": null,
            "order": null,
            "overflow": null,
            "overflow_x": null,
            "overflow_y": null,
            "padding": null,
            "right": null,
            "top": null,
            "visibility": null,
            "width": null
          }
        },
        "a6bd60ace3b04a78b3711c2a4514f759": {
          "model_module": "@jupyter-widgets/controls",
          "model_name": "DescriptionStyleModel",
          "model_module_version": "1.5.0",
          "state": {
            "_model_module": "@jupyter-widgets/controls",
            "_model_module_version": "1.5.0",
            "_model_name": "DescriptionStyleModel",
            "_view_count": null,
            "_view_module": "@jupyter-widgets/base",
            "_view_module_version": "1.2.0",
            "_view_name": "StyleView",
            "description_width": ""
          }
        }
      }
    }
  },
  "cells": [
    {
      "cell_type": "code",
      "execution_count": 1,
      "metadata": {
        "colab": {
          "base_uri": "https://localhost:8080/",
          "height": 1000
        },
        "id": "GNZAZY2zbu0m",
        "outputId": "94d5e99a-b61c-4e18-d177-7eaf780c6aad"
      },
      "outputs": [
        {
          "output_type": "stream",
          "name": "stdout",
          "text": [
            "Collecting simcse\n",
            "  Downloading simcse-0.4.tar.gz (18 kB)\n",
            "Requirement already satisfied: tqdm in /usr/local/lib/python3.7/dist-packages (from simcse) (4.64.0)\n",
            "Requirement already satisfied: scikit-learn in /usr/local/lib/python3.7/dist-packages (from simcse) (1.0.2)\n",
            "Collecting scipy<1.6,>=1.5.4\n",
            "  Downloading scipy-1.5.4-cp37-cp37m-manylinux1_x86_64.whl (25.9 MB)\n",
            "\u001b[K     |████████████████████████████████| 25.9 MB 1.5 MB/s \n",
            "\u001b[?25hCollecting transformers\n",
            "  Downloading transformers-4.18.0-py3-none-any.whl (4.0 MB)\n",
            "\u001b[K     |████████████████████████████████| 4.0 MB 38.9 MB/s \n",
            "\u001b[?25hRequirement already satisfied: torch in /usr/local/lib/python3.7/dist-packages (from simcse) (1.11.0+cu113)\n",
            "Collecting numpy<1.20,>=1.19.5\n",
            "  Downloading numpy-1.19.5-cp37-cp37m-manylinux2010_x86_64.whl (14.8 MB)\n",
            "\u001b[K     |████████████████████████████████| 14.8 MB 21.8 MB/s \n",
            "\u001b[?25hRequirement already satisfied: setuptools in /usr/local/lib/python3.7/dist-packages (from simcse) (57.4.0)\n",
            "Requirement already satisfied: joblib>=0.11 in /usr/local/lib/python3.7/dist-packages (from scikit-learn->simcse) (1.1.0)\n",
            "Requirement already satisfied: threadpoolctl>=2.0.0 in /usr/local/lib/python3.7/dist-packages (from scikit-learn->simcse) (3.1.0)\n",
            "Requirement already satisfied: typing-extensions in /usr/local/lib/python3.7/dist-packages (from torch->simcse) (4.2.0)\n",
            "Collecting sacremoses\n",
            "  Downloading sacremoses-0.0.53.tar.gz (880 kB)\n",
            "\u001b[K     |████████████████████████████████| 880 kB 23.8 MB/s \n",
            "\u001b[?25hRequirement already satisfied: regex!=2019.12.17 in /usr/local/lib/python3.7/dist-packages (from transformers->simcse) (2019.12.20)\n",
            "Requirement already satisfied: filelock in /usr/local/lib/python3.7/dist-packages (from transformers->simcse) (3.6.0)\n",
            "Requirement already satisfied: requests in /usr/local/lib/python3.7/dist-packages (from transformers->simcse) (2.23.0)\n",
            "Collecting pyyaml>=5.1\n",
            "  Downloading PyYAML-6.0-cp37-cp37m-manylinux_2_5_x86_64.manylinux1_x86_64.manylinux_2_12_x86_64.manylinux2010_x86_64.whl (596 kB)\n",
            "\u001b[K     |████████████████████████████████| 596 kB 43.5 MB/s \n",
            "\u001b[?25hCollecting tokenizers!=0.11.3,<0.13,>=0.11.1\n",
            "  Downloading tokenizers-0.12.1-cp37-cp37m-manylinux_2_12_x86_64.manylinux2010_x86_64.whl (6.6 MB)\n",
            "\u001b[K     |████████████████████████████████| 6.6 MB 41.8 MB/s \n",
            "\u001b[?25hRequirement already satisfied: importlib-metadata in /usr/local/lib/python3.7/dist-packages (from transformers->simcse) (4.11.3)\n",
            "Collecting huggingface-hub<1.0,>=0.1.0\n",
            "  Downloading huggingface_hub-0.5.1-py3-none-any.whl (77 kB)\n",
            "\u001b[K     |████████████████████████████████| 77 kB 6.3 MB/s \n",
            "\u001b[?25hRequirement already satisfied: packaging>=20.0 in /usr/local/lib/python3.7/dist-packages (from transformers->simcse) (21.3)\n",
            "Requirement already satisfied: pyparsing!=3.0.5,>=2.0.2 in /usr/local/lib/python3.7/dist-packages (from packaging>=20.0->transformers->simcse) (3.0.8)\n",
            "Requirement already satisfied: zipp>=0.5 in /usr/local/lib/python3.7/dist-packages (from importlib-metadata->transformers->simcse) (3.8.0)\n",
            "Requirement already satisfied: urllib3!=1.25.0,!=1.25.1,<1.26,>=1.21.1 in /usr/local/lib/python3.7/dist-packages (from requests->transformers->simcse) (1.24.3)\n",
            "Requirement already satisfied: chardet<4,>=3.0.2 in /usr/local/lib/python3.7/dist-packages (from requests->transformers->simcse) (3.0.4)\n",
            "Requirement already satisfied: certifi>=2017.4.17 in /usr/local/lib/python3.7/dist-packages (from requests->transformers->simcse) (2021.10.8)\n",
            "Requirement already satisfied: idna<3,>=2.5 in /usr/local/lib/python3.7/dist-packages (from requests->transformers->simcse) (2.10)\n",
            "Requirement already satisfied: six in /usr/local/lib/python3.7/dist-packages (from sacremoses->transformers->simcse) (1.15.0)\n",
            "Requirement already satisfied: click in /usr/local/lib/python3.7/dist-packages (from sacremoses->transformers->simcse) (7.1.2)\n",
            "Building wheels for collected packages: simcse, sacremoses\n",
            "  Building wheel for simcse (setup.py) ... \u001b[?25l\u001b[?25hdone\n",
            "  Created wheel for simcse: filename=simcse-0.4-py3-none-any.whl size=15033 sha256=c444adb5cb58245d003cef390eb83410ecc6e0de467c6b948a8d714c3a84091f\n",
            "  Stored in directory: /root/.cache/pip/wheels/29/b0/58/448de751ccbe2a0e75c054e34416e7a5a1aead371d5d163450\n",
            "  Building wheel for sacremoses (setup.py) ... \u001b[?25l\u001b[?25hdone\n",
            "  Created wheel for sacremoses: filename=sacremoses-0.0.53-py3-none-any.whl size=895260 sha256=9fddd59f4a769e365071acc28c94426c21e6fcfd2781ed4934244a5ded6b82a2\n",
            "  Stored in directory: /root/.cache/pip/wheels/87/39/dd/a83eeef36d0bf98e7a4d1933a4ad2d660295a40613079bafc9\n",
            "Successfully built simcse sacremoses\n",
            "Installing collected packages: pyyaml, numpy, tokenizers, scipy, sacremoses, huggingface-hub, transformers, simcse\n",
            "  Attempting uninstall: pyyaml\n",
            "    Found existing installation: PyYAML 3.13\n",
            "    Uninstalling PyYAML-3.13:\n",
            "      Successfully uninstalled PyYAML-3.13\n",
            "  Attempting uninstall: numpy\n",
            "    Found existing installation: numpy 1.21.6\n",
            "    Uninstalling numpy-1.21.6:\n",
            "      Successfully uninstalled numpy-1.21.6\n",
            "  Attempting uninstall: scipy\n",
            "    Found existing installation: scipy 1.4.1\n",
            "    Uninstalling scipy-1.4.1:\n",
            "      Successfully uninstalled scipy-1.4.1\n",
            "\u001b[31mERROR: pip's dependency resolver does not currently take into account all the packages that are installed. This behaviour is the source of the following dependency conflicts.\n",
            "tensorflow 2.8.0 requires tf-estimator-nightly==2.8.0.dev2021122109, which is not installed.\n",
            "tensorflow 2.8.0 requires numpy>=1.20, but you have numpy 1.19.5 which is incompatible.\n",
            "datascience 0.10.6 requires folium==0.2.1, but you have folium 0.8.3 which is incompatible.\n",
            "albumentations 0.1.12 requires imgaug<0.2.7,>=0.2.5, but you have imgaug 0.2.9 which is incompatible.\u001b[0m\n",
            "Successfully installed huggingface-hub-0.5.1 numpy-1.19.5 pyyaml-6.0 sacremoses-0.0.53 scipy-1.5.4 simcse-0.4 tokenizers-0.12.1 transformers-4.18.0\n"
          ]
        },
        {
          "output_type": "display_data",
          "data": {
            "application/vnd.colab-display-data+json": {
              "pip_warning": {
                "packages": [
                  "numpy"
                ]
              }
            }
          },
          "metadata": {}
        }
      ],
      "source": [
        "pip install simcse\n"
      ]
    },
    {
      "cell_type": "code",
      "source": [
        "!wget https://huggingface.co/datasets/princeton-nlp/datasets-for-simcse/resolve/main/nli_for_simcse.csv\n",
        "!wget https://huggingface.co/datasets/princeton-nlp/datasets-for-simcse/resolve/main/wiki1m_for_simcse.txt\n"
      ],
      "metadata": {
        "colab": {
          "base_uri": "https://localhost:8080/"
        },
        "id": "ts15SVPdd2p9",
        "outputId": "e1555c1b-7360-4aa0-cfbc-1fdf524e03af"
      },
      "execution_count": 3,
      "outputs": [
        {
          "output_type": "stream",
          "name": "stdout",
          "text": [
            "--2022-05-06 03:50:08--  https://huggingface.co/datasets/princeton-nlp/datasets-for-simcse/resolve/main/nli_for_simcse.csv\n",
            "Resolving huggingface.co (huggingface.co)... 34.197.58.156, 34.225.34.242, 54.161.5.137, ...\n",
            "Connecting to huggingface.co (huggingface.co)|34.197.58.156|:443... connected.\n",
            "HTTP request sent, awaiting response... 302 Found\n",
            "Location: https://cdn-lfs.huggingface.co/datasets/princeton-nlp/datasets-for-simcse/0747687ec3594fa449d2004fd3757a56c24bf5f7428976fb5b67176775a68d48 [following]\n",
            "--2022-05-06 03:50:08--  https://cdn-lfs.huggingface.co/datasets/princeton-nlp/datasets-for-simcse/0747687ec3594fa449d2004fd3757a56c24bf5f7428976fb5b67176775a68d48\n",
            "Resolving cdn-lfs.huggingface.co (cdn-lfs.huggingface.co)... 18.65.25.40, 18.65.25.124, 18.65.25.122, ...\n",
            "Connecting to cdn-lfs.huggingface.co (cdn-lfs.huggingface.co)|18.65.25.40|:443... connected.\n",
            "HTTP request sent, awaiting response... 200 OK\n",
            "Length: 48978197 (47M) [text/plain]\n",
            "Saving to: ‘nli_for_simcse.csv’\n",
            "\n",
            "nli_for_simcse.csv  100%[===================>]  46.71M  50.8MB/s    in 0.9s    \n",
            "\n",
            "2022-05-06 03:50:09 (50.8 MB/s) - ‘nli_for_simcse.csv’ saved [48978197/48978197]\n",
            "\n",
            "--2022-05-06 03:50:10--  https://huggingface.co/datasets/princeton-nlp/datasets-for-simcse/resolve/main/wiki1m_for_simcse.txt\n",
            "Resolving huggingface.co (huggingface.co)... 34.197.58.156, 34.225.34.242, 54.161.5.137, ...\n",
            "Connecting to huggingface.co (huggingface.co)|34.197.58.156|:443... connected.\n",
            "HTTP request sent, awaiting response... 302 Found\n",
            "Location: https://cdn-lfs.huggingface.co/datasets/princeton-nlp/datasets-for-simcse/7b1825863a99aa76479b0456f7c210539dfaeeb69598b41fb4de4f524dd5a706 [following]\n",
            "--2022-05-06 03:50:10--  https://cdn-lfs.huggingface.co/datasets/princeton-nlp/datasets-for-simcse/7b1825863a99aa76479b0456f7c210539dfaeeb69598b41fb4de4f524dd5a706\n",
            "Resolving cdn-lfs.huggingface.co (cdn-lfs.huggingface.co)... 18.65.25.40, 18.65.25.124, 18.65.25.122, ...\n",
            "Connecting to cdn-lfs.huggingface.co (cdn-lfs.huggingface.co)|18.65.25.40|:443... connected.\n",
            "HTTP request sent, awaiting response... 200 OK\n",
            "Length: 120038621 (114M) [text/plain]\n",
            "Saving to: ‘wiki1m_for_simcse.txt’\n",
            "\n",
            "wiki1m_for_simcse.t 100%[===================>] 114.48M  84.2MB/s    in 1.4s    \n",
            "\n",
            "2022-05-06 03:50:11 (84.2 MB/s) - ‘wiki1m_for_simcse.txt’ saved [120038621/120038621]\n",
            "\n"
          ]
        }
      ]
    },
    {
      "cell_type": "markdown",
      "source": [
        "Get Data"
      ],
      "metadata": {
        "id": "s5k87tNgeBXV"
      }
    },
    {
      "cell_type": "code",
      "source": [
        "import pandas as pd"
      ],
      "metadata": {
        "id": "nG5-QpHLd_3-"
      },
      "execution_count": 1,
      "outputs": []
    },
    {
      "cell_type": "code",
      "source": [
        "data2 = pd.read_csv('nli_for_simcse.csv')"
      ],
      "metadata": {
        "id": "QVvcJrPRd6kO"
      },
      "execution_count": 4,
      "outputs": []
    },
    {
      "cell_type": "code",
      "source": [
        "df1 = data2['sent0']\n",
        "df2 = data2['sent1']\n",
        "df3 = data2['hard_neg']"
      ],
      "metadata": {
        "id": "LT462Auad_HF"
      },
      "execution_count": 5,
      "outputs": []
    },
    {
      "cell_type": "code",
      "source": [
        "small_phrase = []"
      ],
      "metadata": {
        "id": "0HQf3Q1ugWOF"
      },
      "execution_count": 6,
      "outputs": []
    },
    {
      "cell_type": "code",
      "source": [
        "for i in range(len(df1)):\n",
        "  if len(df1[i].split()) < 10 :\n",
        "    small_phrase.append(df1[i])\n"
      ],
      "metadata": {
        "id": "aBrFef9OgXzO"
      },
      "execution_count": 7,
      "outputs": []
    },
    {
      "cell_type": "code",
      "source": [
        "len(small_phrase)"
      ],
      "metadata": {
        "colab": {
          "base_uri": "https://localhost:8080/"
        },
        "id": "uUYmCIWHgc0V",
        "outputId": "37fe83a4-9f42-4a29-c210-7e910b957f5d"
      },
      "execution_count": 8,
      "outputs": [
        {
          "output_type": "execute_result",
          "data": {
            "text/plain": [
              "78238"
            ]
          },
          "metadata": {},
          "execution_count": 8
        }
      ]
    },
    {
      "cell_type": "code",
      "source": [
        "medium_phrase = []"
      ],
      "metadata": {
        "id": "sjZ124vAezcl"
      },
      "execution_count": 9,
      "outputs": []
    },
    {
      "cell_type": "code",
      "source": [
        "for i in range(len(df1)):\n",
        "  if len(df1[i].split()) > 10 and len(df1[i].split()) < 20:\n",
        "    medium_phrase.append(df1[i])\n"
      ],
      "metadata": {
        "id": "5Z6QHUNeeOCs"
      },
      "execution_count": 10,
      "outputs": []
    },
    {
      "cell_type": "code",
      "source": [
        "len(medium_phrase)"
      ],
      "metadata": {
        "colab": {
          "base_uri": "https://localhost:8080/"
        },
        "id": "0TIEqocJfABt",
        "outputId": "9dce5e27-58d8-4bfe-ddce-5e488b09919c"
      },
      "execution_count": 11,
      "outputs": [
        {
          "output_type": "execute_result",
          "data": {
            "text/plain": [
              "112440"
            ]
          },
          "metadata": {},
          "execution_count": 11
        }
      ]
    },
    {
      "cell_type": "code",
      "source": [
        "long_phrase = []\n"
      ],
      "metadata": {
        "id": "Ijyro2nLgVqt"
      },
      "execution_count": 12,
      "outputs": []
    },
    {
      "cell_type": "code",
      "source": [
        "for i in range(len(df1)):\n",
        "  if len(df1[i].split()) > 20:\n",
        "    long_phrase.append(df1[i])\n"
      ],
      "metadata": {
        "id": "lD3gqYRcgj2-"
      },
      "execution_count": 13,
      "outputs": []
    },
    {
      "cell_type": "code",
      "source": [
        "len(long_phrase)"
      ],
      "metadata": {
        "colab": {
          "base_uri": "https://localhost:8080/"
        },
        "id": "MuuMyxGigluV",
        "outputId": "9dfc542e-fd96-491d-e6c3-27f98034e147"
      },
      "execution_count": 14,
      "outputs": [
        {
          "output_type": "execute_result",
          "data": {
            "text/plain": [
              "59113"
            ]
          },
          "metadata": {},
          "execution_count": 14
        }
      ]
    },
    {
      "cell_type": "code",
      "source": [
        "import random"
      ],
      "metadata": {
        "id": "2zF6wf4Tg04l"
      },
      "execution_count": 15,
      "outputs": []
    },
    {
      "cell_type": "code",
      "source": [
        "ran_small_phrase = random.sample(small_phrase,500)"
      ],
      "metadata": {
        "id": "DloOzWPcg1oO"
      },
      "execution_count": 16,
      "outputs": []
    },
    {
      "cell_type": "code",
      "source": [
        "len(ran_small_phrase)"
      ],
      "metadata": {
        "colab": {
          "base_uri": "https://localhost:8080/"
        },
        "id": "zV7ZgpLUhfid",
        "outputId": "a9c8b311-8c4e-49ad-9ed5-25fe5a024b40"
      },
      "execution_count": 17,
      "outputs": [
        {
          "output_type": "execute_result",
          "data": {
            "text/plain": [
              "500"
            ]
          },
          "metadata": {},
          "execution_count": 17
        }
      ]
    },
    {
      "cell_type": "code",
      "source": [
        "ran_medium_phrase = random.sample(medium_phrase,500)"
      ],
      "metadata": {
        "id": "rV8KfqIuhbXY"
      },
      "execution_count": 18,
      "outputs": []
    },
    {
      "cell_type": "code",
      "source": [
        "len(ran_medium_phrase)"
      ],
      "metadata": {
        "colab": {
          "base_uri": "https://localhost:8080/"
        },
        "id": "Se9v7JMVhhes",
        "outputId": "9a36f9f7-3f70-4984-e7da-6908b1632142"
      },
      "execution_count": 19,
      "outputs": [
        {
          "output_type": "execute_result",
          "data": {
            "text/plain": [
              "500"
            ]
          },
          "metadata": {},
          "execution_count": 19
        }
      ]
    },
    {
      "cell_type": "code",
      "source": [
        "ran_long_phrase = random.sample(long_phrase,500)"
      ],
      "metadata": {
        "id": "M6LucUPchkZF"
      },
      "execution_count": 20,
      "outputs": []
    },
    {
      "cell_type": "code",
      "source": [
        "len(ran_long_phrase)"
      ],
      "metadata": {
        "colab": {
          "base_uri": "https://localhost:8080/"
        },
        "id": "g7nMcBoShoQP",
        "outputId": "e3782758-76e1-49f6-f6c9-7ba9d9881c6c"
      },
      "execution_count": 21,
      "outputs": [
        {
          "output_type": "execute_result",
          "data": {
            "text/plain": [
              "500"
            ]
          },
          "metadata": {},
          "execution_count": 21
        }
      ]
    },
    {
      "cell_type": "code",
      "source": [
        "ran_small_phrase[1]"
      ],
      "metadata": {
        "colab": {
          "base_uri": "https://localhost:8080/",
          "height": 36
        },
        "id": "-pH6wS5thqDl",
        "outputId": "c4461329-99d1-4316-88f5-d4e361d6aa88"
      },
      "execution_count": 22,
      "outputs": [
        {
          "output_type": "execute_result",
          "data": {
            "text/plain": [
              "'I had to breathe in to fit.'"
            ],
            "application/vnd.google.colaboratory.intrinsic+json": {
              "type": "string"
            }
          },
          "metadata": {},
          "execution_count": 22
        }
      ]
    },
    {
      "cell_type": "code",
      "source": [
        "small_phrase_final = {'sent0':[],'sent1':[],'hard_neg':[]}"
      ],
      "metadata": {
        "id": "6n2cFmmVieut"
      },
      "execution_count": 23,
      "outputs": []
    },
    {
      "cell_type": "code",
      "source": [
        "small_phrase_final"
      ],
      "metadata": {
        "colab": {
          "base_uri": "https://localhost:8080/"
        },
        "id": "ZtzNsniymX83",
        "outputId": "58ccf3e7-93a9-41f1-e612-bbd870a46ca9"
      },
      "execution_count": 24,
      "outputs": [
        {
          "output_type": "execute_result",
          "data": {
            "text/plain": [
              "{'hard_neg': [], 'sent0': [], 'sent1': []}"
            ]
          },
          "metadata": {},
          "execution_count": 24
        }
      ]
    },
    {
      "cell_type": "code",
      "source": [
        "len(ran_small_phrase)"
      ],
      "metadata": {
        "colab": {
          "base_uri": "https://localhost:8080/"
        },
        "id": "0aQ-QMvkkF8t",
        "outputId": "d27993b3-92de-417b-c52a-130e8e192283"
      },
      "execution_count": 25,
      "outputs": [
        {
          "output_type": "execute_result",
          "data": {
            "text/plain": [
              "500"
            ]
          },
          "metadata": {},
          "execution_count": 25
        }
      ]
    },
    {
      "cell_type": "code",
      "source": [
        "for i in range(len(ran_small_phrase)):\n",
        "  for k in range(len(data2['sent0'])):\n",
        "    if data2['sent0'][k] == ran_small_phrase[i]:\n",
        "      small_phrase_final['sent0'].append(data2['sent0'][k])\n",
        "      small_phrase_final['sent1'].append(data2['sent1'][k])\n",
        "      small_phrase_final['hard_neg'].append(data2['hard_neg'][k])\n",
        "      "
      ],
      "metadata": {
        "id": "nIORmQ2siNam"
      },
      "execution_count": 26,
      "outputs": []
    },
    {
      "cell_type": "code",
      "source": [
        "small_df = pd.DataFrame.from_dict(small_phrase_final)"
      ],
      "metadata": {
        "id": "3rDCUzYvrzZ0"
      },
      "execution_count": 27,
      "outputs": []
    },
    {
      "cell_type": "code",
      "source": [
        "from google.colab import files\n",
        "#small_df.to_csv('small_df.csv') "
      ],
      "metadata": {
        "id": "_QZ2LPtXrLdW"
      },
      "execution_count": 28,
      "outputs": []
    },
    {
      "cell_type": "code",
      "source": [
        "medium_phrase_final = {'sent0':[],'sent1':[],'hard_neg':[]}"
      ],
      "metadata": {
        "id": "jJsBGDjKsPY-"
      },
      "execution_count": 29,
      "outputs": []
    },
    {
      "cell_type": "code",
      "source": [
        "for i in range(len(ran_medium_phrase)):\n",
        "  for k in range(len(data2['sent0'])):\n",
        "    if data2['sent0'][k] == ran_medium_phrase[i]:\n",
        "      medium_phrase_final['sent0'].append(data2['sent0'][k])\n",
        "      medium_phrase_final['sent1'].append(data2['sent1'][k])\n",
        "      medium_phrase_final['hard_neg'].append(data2['hard_neg'][k])\n",
        "      "
      ],
      "metadata": {
        "id": "jFJGaLfLsSI9"
      },
      "execution_count": 30,
      "outputs": []
    },
    {
      "cell_type": "code",
      "source": [
        "medium_df = pd.DataFrame.from_dict(medium_phrase_final)"
      ],
      "metadata": {
        "id": "vTyrTWRavaXe"
      },
      "execution_count": 31,
      "outputs": []
    },
    {
      "cell_type": "code",
      "source": [
        "#medium_df.to_csv('medium_df.csv') "
      ],
      "metadata": {
        "id": "xos4zmtCvgfn"
      },
      "execution_count": null,
      "outputs": []
    },
    {
      "cell_type": "code",
      "source": [
        "long_phrase_final = {'sent0':[],'sent1':[],'hard_neg':[]}"
      ],
      "metadata": {
        "id": "x9ylrMDYvq19"
      },
      "execution_count": 32,
      "outputs": []
    },
    {
      "cell_type": "code",
      "source": [
        "for i in range(len(ran_long_phrase)):\n",
        "  for k in range(len(data2['sent0'])):\n",
        "    if data2['sent0'][k] == ran_long_phrase[i]:\n",
        "      long_phrase_final['sent0'].append(data2['sent0'][k])\n",
        "      long_phrase_final['sent1'].append(data2['sent1'][k])\n",
        "      long_phrase_final['hard_neg'].append(data2['hard_neg'][k])\n",
        "      "
      ],
      "metadata": {
        "id": "X9GC5t56vsK1"
      },
      "execution_count": 33,
      "outputs": []
    },
    {
      "cell_type": "code",
      "source": [
        "long_df = pd.DataFrame.from_dict(long_phrase_final)"
      ],
      "metadata": {
        "id": "ZiC0wZlY0nLD"
      },
      "execution_count": 34,
      "outputs": []
    },
    {
      "cell_type": "code",
      "source": [
        "#long_df.to_csv('long_df.csv') "
      ],
      "metadata": {
        "id": "ME6I7Unj0qTl"
      },
      "execution_count": null,
      "outputs": []
    },
    {
      "cell_type": "code",
      "source": [
        "small_df"
      ],
      "metadata": {
        "colab": {
          "base_uri": "https://localhost:8080/",
          "height": 424
        },
        "id": "YYI0RoFo09fw",
        "outputId": "b277b7a8-dbda-41a1-b4f9-c8735ca68763"
      },
      "execution_count": 35,
      "outputs": [
        {
          "output_type": "execute_result",
          "data": {
            "text/plain": [
              "                                         sent0  \\\n",
              "0                    A biker fixes his bicycle   \n",
              "1                  I had to breathe in to fit.   \n",
              "2                                 Enter Europe   \n",
              "3                                    Deauville   \n",
              "4        Front view of a female bike marathon.   \n",
              "..                                         ...   \n",
              "495    Two hockey players fighting on the ice.   \n",
              "496                       Jon looked at Susan.   \n",
              "497                         I reached the lab.   \n",
              "498  A man long boarding down an empty street.   \n",
              "499               A boy is covered in bubbles.   \n",
              "\n",
              "                                      sent1  \\\n",
              "0           The biker is touching the bike.   \n",
              "1    The space was nearly too small for me.   \n",
              "2                           Europe entered.   \n",
              "3                            It's Deauville   \n",
              "4                 There is a bike marathon.   \n",
              "..                                      ...   \n",
              "495               Two players are fighting.   \n",
              "496     Jon looked at what susan was doing.   \n",
              "497                       I got to the lab.   \n",
              "498   A skateboarder skating down a street.   \n",
              "499           There are bubbles on the boy.   \n",
              "\n",
              "                                              hard_neg  \n",
              "0                        The biker is riding the bike.  \n",
              "1    I used my arms to push the buildings apart so ...  \n",
              "2                      Europe refused to get involved.  \n",
              "3                                  It's not Deauville.  \n",
              "4                       A bike is going under repairs.  \n",
              "..                                                 ...  \n",
              "495                           Two players are dancing.  \n",
              "496                                .Jon ignored susan.  \n",
              "497                           I never went to the lab.  \n",
              "498                      A man bicycles down a street.  \n",
              "499                         The boy is covered in mud.  \n",
              "\n",
              "[500 rows x 3 columns]"
            ],
            "text/html": [
              "\n",
              "  <div id=\"df-01489553-e2a0-4e7c-8fe1-f841b71af6d2\">\n",
              "    <div class=\"colab-df-container\">\n",
              "      <div>\n",
              "<style scoped>\n",
              "    .dataframe tbody tr th:only-of-type {\n",
              "        vertical-align: middle;\n",
              "    }\n",
              "\n",
              "    .dataframe tbody tr th {\n",
              "        vertical-align: top;\n",
              "    }\n",
              "\n",
              "    .dataframe thead th {\n",
              "        text-align: right;\n",
              "    }\n",
              "</style>\n",
              "<table border=\"1\" class=\"dataframe\">\n",
              "  <thead>\n",
              "    <tr style=\"text-align: right;\">\n",
              "      <th></th>\n",
              "      <th>sent0</th>\n",
              "      <th>sent1</th>\n",
              "      <th>hard_neg</th>\n",
              "    </tr>\n",
              "  </thead>\n",
              "  <tbody>\n",
              "    <tr>\n",
              "      <th>0</th>\n",
              "      <td>A biker fixes his bicycle</td>\n",
              "      <td>The biker is touching the bike.</td>\n",
              "      <td>The biker is riding the bike.</td>\n",
              "    </tr>\n",
              "    <tr>\n",
              "      <th>1</th>\n",
              "      <td>I had to breathe in to fit.</td>\n",
              "      <td>The space was nearly too small for me.</td>\n",
              "      <td>I used my arms to push the buildings apart so ...</td>\n",
              "    </tr>\n",
              "    <tr>\n",
              "      <th>2</th>\n",
              "      <td>Enter Europe</td>\n",
              "      <td>Europe entered.</td>\n",
              "      <td>Europe refused to get involved.</td>\n",
              "    </tr>\n",
              "    <tr>\n",
              "      <th>3</th>\n",
              "      <td>Deauville</td>\n",
              "      <td>It's Deauville</td>\n",
              "      <td>It's not Deauville.</td>\n",
              "    </tr>\n",
              "    <tr>\n",
              "      <th>4</th>\n",
              "      <td>Front view of a female bike marathon.</td>\n",
              "      <td>There is a bike marathon.</td>\n",
              "      <td>A bike is going under repairs.</td>\n",
              "    </tr>\n",
              "    <tr>\n",
              "      <th>...</th>\n",
              "      <td>...</td>\n",
              "      <td>...</td>\n",
              "      <td>...</td>\n",
              "    </tr>\n",
              "    <tr>\n",
              "      <th>495</th>\n",
              "      <td>Two hockey players fighting on the ice.</td>\n",
              "      <td>Two players are fighting.</td>\n",
              "      <td>Two players are dancing.</td>\n",
              "    </tr>\n",
              "    <tr>\n",
              "      <th>496</th>\n",
              "      <td>Jon looked at Susan.</td>\n",
              "      <td>Jon looked at what susan was doing.</td>\n",
              "      <td>.Jon ignored susan.</td>\n",
              "    </tr>\n",
              "    <tr>\n",
              "      <th>497</th>\n",
              "      <td>I reached the lab.</td>\n",
              "      <td>I got to the lab.</td>\n",
              "      <td>I never went to the lab.</td>\n",
              "    </tr>\n",
              "    <tr>\n",
              "      <th>498</th>\n",
              "      <td>A man long boarding down an empty street.</td>\n",
              "      <td>A skateboarder skating down a street.</td>\n",
              "      <td>A man bicycles down a street.</td>\n",
              "    </tr>\n",
              "    <tr>\n",
              "      <th>499</th>\n",
              "      <td>A boy is covered in bubbles.</td>\n",
              "      <td>There are bubbles on the boy.</td>\n",
              "      <td>The boy is covered in mud.</td>\n",
              "    </tr>\n",
              "  </tbody>\n",
              "</table>\n",
              "<p>500 rows × 3 columns</p>\n",
              "</div>\n",
              "      <button class=\"colab-df-convert\" onclick=\"convertToInteractive('df-01489553-e2a0-4e7c-8fe1-f841b71af6d2')\"\n",
              "              title=\"Convert this dataframe to an interactive table.\"\n",
              "              style=\"display:none;\">\n",
              "        \n",
              "  <svg xmlns=\"http://www.w3.org/2000/svg\" height=\"24px\"viewBox=\"0 0 24 24\"\n",
              "       width=\"24px\">\n",
              "    <path d=\"M0 0h24v24H0V0z\" fill=\"none\"/>\n",
              "    <path d=\"M18.56 5.44l.94 2.06.94-2.06 2.06-.94-2.06-.94-.94-2.06-.94 2.06-2.06.94zm-11 1L8.5 8.5l.94-2.06 2.06-.94-2.06-.94L8.5 2.5l-.94 2.06-2.06.94zm10 10l.94 2.06.94-2.06 2.06-.94-2.06-.94-.94-2.06-.94 2.06-2.06.94z\"/><path d=\"M17.41 7.96l-1.37-1.37c-.4-.4-.92-.59-1.43-.59-.52 0-1.04.2-1.43.59L10.3 9.45l-7.72 7.72c-.78.78-.78 2.05 0 2.83L4 21.41c.39.39.9.59 1.41.59.51 0 1.02-.2 1.41-.59l7.78-7.78 2.81-2.81c.8-.78.8-2.07 0-2.86zM5.41 20L4 18.59l7.72-7.72 1.47 1.35L5.41 20z\"/>\n",
              "  </svg>\n",
              "      </button>\n",
              "      \n",
              "  <style>\n",
              "    .colab-df-container {\n",
              "      display:flex;\n",
              "      flex-wrap:wrap;\n",
              "      gap: 12px;\n",
              "    }\n",
              "\n",
              "    .colab-df-convert {\n",
              "      background-color: #E8F0FE;\n",
              "      border: none;\n",
              "      border-radius: 50%;\n",
              "      cursor: pointer;\n",
              "      display: none;\n",
              "      fill: #1967D2;\n",
              "      height: 32px;\n",
              "      padding: 0 0 0 0;\n",
              "      width: 32px;\n",
              "    }\n",
              "\n",
              "    .colab-df-convert:hover {\n",
              "      background-color: #E2EBFA;\n",
              "      box-shadow: 0px 1px 2px rgba(60, 64, 67, 0.3), 0px 1px 3px 1px rgba(60, 64, 67, 0.15);\n",
              "      fill: #174EA6;\n",
              "    }\n",
              "\n",
              "    [theme=dark] .colab-df-convert {\n",
              "      background-color: #3B4455;\n",
              "      fill: #D2E3FC;\n",
              "    }\n",
              "\n",
              "    [theme=dark] .colab-df-convert:hover {\n",
              "      background-color: #434B5C;\n",
              "      box-shadow: 0px 1px 3px 1px rgba(0, 0, 0, 0.15);\n",
              "      filter: drop-shadow(0px 1px 2px rgba(0, 0, 0, 0.3));\n",
              "      fill: #FFFFFF;\n",
              "    }\n",
              "  </style>\n",
              "\n",
              "      <script>\n",
              "        const buttonEl =\n",
              "          document.querySelector('#df-01489553-e2a0-4e7c-8fe1-f841b71af6d2 button.colab-df-convert');\n",
              "        buttonEl.style.display =\n",
              "          google.colab.kernel.accessAllowed ? 'block' : 'none';\n",
              "\n",
              "        async function convertToInteractive(key) {\n",
              "          const element = document.querySelector('#df-01489553-e2a0-4e7c-8fe1-f841b71af6d2');\n",
              "          const dataTable =\n",
              "            await google.colab.kernel.invokeFunction('convertToInteractive',\n",
              "                                                     [key], {});\n",
              "          if (!dataTable) return;\n",
              "\n",
              "          const docLinkHtml = 'Like what you see? Visit the ' +\n",
              "            '<a target=\"_blank\" href=https://colab.research.google.com/notebooks/data_table.ipynb>data table notebook</a>'\n",
              "            + ' to learn more about interactive tables.';\n",
              "          element.innerHTML = '';\n",
              "          dataTable['output_type'] = 'display_data';\n",
              "          await google.colab.output.renderOutput(dataTable, element);\n",
              "          const docLink = document.createElement('div');\n",
              "          docLink.innerHTML = docLinkHtml;\n",
              "          element.appendChild(docLink);\n",
              "        }\n",
              "      </script>\n",
              "    </div>\n",
              "  </div>\n",
              "  "
            ]
          },
          "metadata": {},
          "execution_count": 35
        }
      ]
    },
    {
      "cell_type": "markdown",
      "source": [
        "Read data"
      ],
      "metadata": {
        "id": "apb-j3a7r9Bs"
      }
    },
    {
      "cell_type": "code",
      "source": [
        "import pandas as pd "
      ],
      "metadata": {
        "id": "7EPWJhfir_Ak"
      },
      "execution_count": 36,
      "outputs": []
    },
    {
      "cell_type": "code",
      "source": [
        "small_df = pd.read_csv('/content/drive/MyDrive/output_NLP/small_df.csv')\n",
        "small_df.drop('Unnamed: 0', axis=1, inplace=True)"
      ],
      "metadata": {
        "id": "4OVRnkPjsAj8"
      },
      "execution_count": 37,
      "outputs": []
    },
    {
      "cell_type": "code",
      "source": [
        "medium_df = pd.read_csv('/content/drive/MyDrive/output_NLP/medium_df.csv')\n",
        "medium_df.drop('Unnamed: 0', axis=1, inplace=True)"
      ],
      "metadata": {
        "id": "f6qbYRMBsEgU"
      },
      "execution_count": 38,
      "outputs": []
    },
    {
      "cell_type": "code",
      "source": [
        "long_df = pd.read_csv('/content/drive/MyDrive/output_NLP/long_df.csv')\n",
        "long_df.drop('Unnamed: 0', axis=1, inplace=True)"
      ],
      "metadata": {
        "id": "ItmKMsHWsHZA"
      },
      "execution_count": 39,
      "outputs": []
    },
    {
      "cell_type": "code",
      "source": [
        "from simcse import SimCSE\n"
      ],
      "metadata": {
        "id": "yqe5q0lL2x5s"
      },
      "execution_count": 40,
      "outputs": []
    },
    {
      "cell_type": "code",
      "source": [
        "model = SimCSE(\"princeton-nlp/sup-simcse-bert-base-uncased\")"
      ],
      "metadata": {
        "colab": {
          "base_uri": "https://localhost:8080/",
          "height": 177,
          "referenced_widgets": [
            "ad9b769137db4a769148a5b9b545319e",
            "e00b412088c84c3cb831dcf438cdbdb0",
            "08254938cae4496ab8b6c30a045c2dd5",
            "3967b9ae20d24e85a0745f53fa4268ee",
            "1c07ee2172a0444c8a4f147be0146bad",
            "4f3813b696494a81bf372e1d5e158821",
            "fb028495a1b24a4abbc7b8662178b5e2",
            "0bf7d35421f847499791839314cae437",
            "ff353e170bc44cac8fd0de11b89aa197",
            "ff18bcb1497d436c9bbb05af6895ba85",
            "39f9485061b043cab281bc9a719c6ffd",
            "b1ed2731683c4203adcd42d57ea20143",
            "0f8f73253f16419487d29ea19f752afc",
            "744eb39b5c684342bbe9e271fb5de91f",
            "63a17dfb103440d58360284d3242b26e",
            "7c23339fb874430c92dd649fff4bf9c0",
            "d323690721c1443ca2e69beb061dedf3",
            "550cd147fa984532b436ae77842ce583",
            "f687c1e72cae4e72ac844605fa133515",
            "8c95d366183449dcb07162ab0a5af947",
            "d4dfd73da5ee4698a3936810adf6b7dd",
            "3c81f9076d9b4af59430452cf3531442",
            "82540202912a45e38df0bdf21458ee8a",
            "5bacd67bbcf2493da2008279e9a2a2de",
            "905fdc9a1c6a4d7da702933db9c3a116",
            "51ac7bc16d7e4aedad09c4ce4b0447a3",
            "6b71de5efad24289ae64bdef7416bbcc",
            "1dac7519c4e844ffa64a9699fdf24316",
            "d720fa4b262d4fc8b2dcf66787ba96af",
            "9c668472046748c8838d1dda22bee4da",
            "cceb72f68e4f48a4ae4a3a3875274dc4",
            "bdf99b47ac5e421cb4181df1048d7f32",
            "b3feaa0769174b9f82a17ab8955b1e6d",
            "ad8b1db438d74443bf8174d66aaae46f",
            "40e7a06710ea4078ae3632e5dc888b95",
            "b11e464735174f07abb2499f0a51fd4e",
            "0d35e40647fc4ed4a73135d61ca6c4ec",
            "08c2107d613c4856be8d6145ca1f6bfd",
            "54a6502bf3da489e97cc9db89e11370d",
            "0866b8244edc4e669a4d2c91edd81b8d",
            "b1e4e89b0bd4451881767589c77e7f9d",
            "6cabdfa757544366ac27d4ee4e13d43a",
            "6a3631682cb74194ac11c89e14ae6f31",
            "f92c5d3ea0294e35a20095de013ba988",
            "6f8930d99714414494f76da6820b50be",
            "17629140c9364ccfb7c13a2560b38482",
            "5d08c4aadf92455a9063719b64b3836a",
            "ef0a7c80a4f04367a705229954e6c44b",
            "33f7e0009a54429fb2ab1442a369e35f",
            "47c5fa799d9c405da7b70876d493860f",
            "83d4d42f006d43daa0014ad91c30c38f",
            "f454aa6d62354a83945cbe3c944a5e39",
            "40c824c497a548cdb3f09ab12b4c8697",
            "69e624038c2a465c8f7f1d27eb3f5880",
            "a6bd60ace3b04a78b3711c2a4514f759"
          ]
        },
        "id": "wGIrMzTv22Ws",
        "outputId": "633084b1-0d63-4d52-ea40-4ca8efb5f2ad"
      },
      "execution_count": 41,
      "outputs": [
        {
          "output_type": "display_data",
          "data": {
            "text/plain": [
              "Downloading:   0%|          | 0.00/252 [00:00<?, ?B/s]"
            ],
            "application/vnd.jupyter.widget-view+json": {
              "version_major": 2,
              "version_minor": 0,
              "model_id": "ad9b769137db4a769148a5b9b545319e"
            }
          },
          "metadata": {}
        },
        {
          "output_type": "display_data",
          "data": {
            "text/plain": [
              "Downloading:   0%|          | 0.00/689 [00:00<?, ?B/s]"
            ],
            "application/vnd.jupyter.widget-view+json": {
              "version_major": 2,
              "version_minor": 0,
              "model_id": "b1ed2731683c4203adcd42d57ea20143"
            }
          },
          "metadata": {}
        },
        {
          "output_type": "display_data",
          "data": {
            "text/plain": [
              "Downloading:   0%|          | 0.00/226k [00:00<?, ?B/s]"
            ],
            "application/vnd.jupyter.widget-view+json": {
              "version_major": 2,
              "version_minor": 0,
              "model_id": "82540202912a45e38df0bdf21458ee8a"
            }
          },
          "metadata": {}
        },
        {
          "output_type": "display_data",
          "data": {
            "text/plain": [
              "Downloading:   0%|          | 0.00/112 [00:00<?, ?B/s]"
            ],
            "application/vnd.jupyter.widget-view+json": {
              "version_major": 2,
              "version_minor": 0,
              "model_id": "ad8b1db438d74443bf8174d66aaae46f"
            }
          },
          "metadata": {}
        },
        {
          "output_type": "display_data",
          "data": {
            "text/plain": [
              "Downloading:   0%|          | 0.00/418M [00:00<?, ?B/s]"
            ],
            "application/vnd.jupyter.widget-view+json": {
              "version_major": 2,
              "version_minor": 0,
              "model_id": "6f8930d99714414494f76da6820b50be"
            }
          },
          "metadata": {}
        }
      ]
    },
    {
      "cell_type": "markdown",
      "source": [
        "<b> Test Case 1 : Small phrase =< 10 words <b>"
      ],
      "metadata": {
        "id": "HMw76O5V2bpc"
      }
    },
    {
      "cell_type": "markdown",
      "source": [
        "1 try"
      ],
      "metadata": {
        "id": "N4s5nwip4Yar"
      }
    },
    {
      "cell_type": "code",
      "source": [
        "small_df.iloc[0,0]"
      ],
      "metadata": {
        "colab": {
          "base_uri": "https://localhost:8080/",
          "height": 35
        },
        "id": "v3W5Z8l_2fQX",
        "outputId": "64531262-141d-479e-ae68-8ca62de946ae"
      },
      "execution_count": null,
      "outputs": [
        {
          "output_type": "execute_result",
          "data": {
            "text/plain": [
              "'Of course he did.'"
            ],
            "application/vnd.google.colaboratory.intrinsic+json": {
              "type": "string"
            }
          },
          "metadata": {},
          "execution_count": 35
        }
      ]
    },
    {
      "cell_type": "code",
      "source": [
        "small_df.iloc[0,1]"
      ],
      "metadata": {
        "colab": {
          "base_uri": "https://localhost:8080/",
          "height": 35
        },
        "id": "1HXeXRvQ2niu",
        "outputId": "3e4afbcb-756b-4462-feb1-364b0eb94e6f"
      },
      "execution_count": null,
      "outputs": [
        {
          "output_type": "execute_result",
          "data": {
            "text/plain": [
              "'He did.'"
            ],
            "application/vnd.google.colaboratory.intrinsic+json": {
              "type": "string"
            }
          },
          "metadata": {},
          "execution_count": 36
        }
      ]
    },
    {
      "cell_type": "code",
      "source": [
        "small_df.iloc[0,2]"
      ],
      "metadata": {
        "colab": {
          "base_uri": "https://localhost:8080/",
          "height": 35
        },
        "id": "DLTeHFBLsWwY",
        "outputId": "98ea1c18-0f90-46ee-d9f5-10b90af0fe97"
      },
      "execution_count": null,
      "outputs": [
        {
          "output_type": "execute_result",
          "data": {
            "text/plain": [
              "'Of course not.'"
            ],
            "application/vnd.google.colaboratory.intrinsic+json": {
              "type": "string"
            }
          },
          "metadata": {},
          "execution_count": 37
        }
      ]
    },
    {
      "cell_type": "code",
      "source": [
        "model.similarity(small_df.iloc[0,0],small_df.iloc[0,1])\n"
      ],
      "metadata": {
        "colab": {
          "base_uri": "https://localhost:8080/"
        },
        "id": "KFdnI42q2u2N",
        "outputId": "4810c862-e69b-4ea7-bd63-f7bd9b8c98d4"
      },
      "execution_count": null,
      "outputs": [
        {
          "output_type": "stream",
          "name": "stderr",
          "text": [
            "100%|██████████| 1/1 [00:00<00:00,  3.60it/s]\n",
            "100%|██████████| 1/1 [00:00<00:00,  8.40it/s]\n"
          ]
        },
        {
          "output_type": "execute_result",
          "data": {
            "text/plain": [
              "0.916047215461731"
            ]
          },
          "metadata": {},
          "execution_count": 38
        }
      ]
    },
    {
      "cell_type": "markdown",
      "source": [
        "=> 91.6 percent similarity "
      ],
      "metadata": {
        "id": "y2g0pAWr3zv9"
      }
    },
    {
      "cell_type": "markdown",
      "source": [
        "Check encoder"
      ],
      "metadata": {
        "id": "pDaG72v434L3"
      }
    },
    {
      "cell_type": "code",
      "source": [
        "small1 = model.encode(small_df.iloc[0,0])\n",
        "small11 = model.encode(small_df.iloc[0,1])\n",
        "small11_neg = model.encode(small_df.iloc[0,2])"
      ],
      "metadata": {
        "colab": {
          "base_uri": "https://localhost:8080/"
        },
        "id": "OT-Y4fdS33NN",
        "outputId": "9c505b16-cba1-4876-ec54-e2393db2cde6"
      },
      "execution_count": null,
      "outputs": [
        {
          "output_type": "stream",
          "name": "stderr",
          "text": [
            "100%|██████████| 1/1 [00:00<00:00,  3.07it/s]\n",
            "100%|██████████| 1/1 [00:00<00:00, 10.14it/s]\n",
            "100%|██████████| 1/1 [00:00<00:00,  7.14it/s]\n"
          ]
        }
      ]
    },
    {
      "cell_type": "code",
      "source": [
        "from scipy.spatial.distance import cosine"
      ],
      "metadata": {
        "id": "Pz7ekSFK3-Y9"
      },
      "execution_count": null,
      "outputs": []
    },
    {
      "cell_type": "code",
      "source": [
        "1 - cosine(small1,small11)"
      ],
      "metadata": {
        "colab": {
          "base_uri": "https://localhost:8080/"
        },
        "id": "6XDOG1gO3_y3",
        "outputId": "7ab2589e-f625-4003-bfd8-2ed1342bde22"
      },
      "execution_count": null,
      "outputs": [
        {
          "output_type": "execute_result",
          "data": {
            "text/plain": [
              "0.9160471558570862"
            ]
          },
          "metadata": {},
          "execution_count": 43
        }
      ]
    },
    {
      "cell_type": "code",
      "source": [
        "1 - cosine(small1,small11_neg)"
      ],
      "metadata": {
        "colab": {
          "base_uri": "https://localhost:8080/"
        },
        "id": "uWUppFujt3mu",
        "outputId": "4aa1ee58-b78e-461c-832f-51d5caf9f3a5"
      },
      "execution_count": null,
      "outputs": [
        {
          "output_type": "execute_result",
          "data": {
            "text/plain": [
              "0.24621695280075073"
            ]
          },
          "metadata": {},
          "execution_count": 45
        }
      ]
    },
    {
      "cell_type": "code",
      "source": [
        "1 - cosine(small11,small11_neg)"
      ],
      "metadata": {
        "colab": {
          "base_uri": "https://localhost:8080/"
        },
        "id": "DFzoG_5Rt5kM",
        "outputId": "f24afb4c-8365-4e7f-eeeb-b9b3eed2a16c"
      },
      "execution_count": null,
      "outputs": [
        {
          "output_type": "execute_result",
          "data": {
            "text/plain": [
              "0.17648397386074066"
            ]
          },
          "metadata": {},
          "execution_count": 46
        }
      ]
    },
    {
      "cell_type": "markdown",
      "source": [
        "Reduce dimension to 64D with Resize function"
      ],
      "metadata": {
        "id": "ZNxnoDQ94DdV"
      }
    },
    {
      "cell_type": "code",
      "source": [
        "small1 = small1.resize_(64)"
      ],
      "metadata": {
        "id": "OGFOKc_u4MD2"
      },
      "execution_count": null,
      "outputs": []
    },
    {
      "cell_type": "code",
      "source": [
        "small11 = small11.resize_(64)"
      ],
      "metadata": {
        "id": "YlBq_fIP4JPR"
      },
      "execution_count": null,
      "outputs": []
    },
    {
      "cell_type": "code",
      "source": [
        "small11_neg = small11_neg.resize_(64)"
      ],
      "metadata": {
        "id": "W14G3qi34Gh1"
      },
      "execution_count": null,
      "outputs": []
    },
    {
      "cell_type": "code",
      "source": [
        "1 - cosine(small1,small11)"
      ],
      "metadata": {
        "colab": {
          "base_uri": "https://localhost:8080/"
        },
        "id": "3m-12eJF4RHl",
        "outputId": "5a6879a0-6b6e-477d-c7c9-92f81d20adcb"
      },
      "execution_count": null,
      "outputs": [
        {
          "output_type": "execute_result",
          "data": {
            "text/plain": [
              "0.9232966899871826"
            ]
          },
          "metadata": {},
          "execution_count": 52
        }
      ]
    },
    {
      "cell_type": "code",
      "source": [
        "1 - cosine(small11,small11_neg)"
      ],
      "metadata": {
        "colab": {
          "base_uri": "https://localhost:8080/"
        },
        "id": "EPfZao1quLzd",
        "outputId": "dd33cd1b-df2b-4d3d-f07d-494a66644a55"
      },
      "execution_count": null,
      "outputs": [
        {
          "output_type": "execute_result",
          "data": {
            "text/plain": [
              "0.1083822175860405"
            ]
          },
          "metadata": {},
          "execution_count": 53
        }
      ]
    },
    {
      "cell_type": "code",
      "source": [
        "1 - cosine(small1,small11_neg)"
      ],
      "metadata": {
        "colab": {
          "base_uri": "https://localhost:8080/"
        },
        "id": "pSEn3z_auObj",
        "outputId": "76a96959-2ee2-4586-b3ca-0f48c1dff8a9"
      },
      "execution_count": null,
      "outputs": [
        {
          "output_type": "execute_result",
          "data": {
            "text/plain": [
              "0.16686739027500153"
            ]
          },
          "metadata": {},
          "execution_count": 54
        }
      ]
    },
    {
      "cell_type": "markdown",
      "source": [
        "=> Increase similarity when reduced to 64D if positive , decrease similarity if negative"
      ],
      "metadata": {
        "id": "f5hKEn1J4SzO"
      }
    },
    {
      "cell_type": "markdown",
      "source": [
        "2 try"
      ],
      "metadata": {
        "id": "A39mj06T4bsV"
      }
    },
    {
      "cell_type": "code",
      "source": [
        "small_df.iloc[3,0]"
      ],
      "metadata": {
        "colab": {
          "base_uri": "https://localhost:8080/",
          "height": 35
        },
        "id": "n0Gvcm1D4WUf",
        "outputId": "e9982ca1-396a-4d10-83c5-f5cc15364c96"
      },
      "execution_count": null,
      "outputs": [
        {
          "output_type": "execute_result",
          "data": {
            "text/plain": [
              "'The man is wearing a red shirt.'"
            ],
            "application/vnd.google.colaboratory.intrinsic+json": {
              "type": "string"
            }
          },
          "metadata": {},
          "execution_count": 55
        }
      ]
    },
    {
      "cell_type": "code",
      "source": [
        "small_df.iloc[3,1]"
      ],
      "metadata": {
        "colab": {
          "base_uri": "https://localhost:8080/",
          "height": 35
        },
        "id": "d-AvlXOQ4-cU",
        "outputId": "76e17bb8-3cc0-4e55-9149-a630249dc664"
      },
      "execution_count": null,
      "outputs": [
        {
          "output_type": "execute_result",
          "data": {
            "text/plain": [
              "'Theres a guy in red.'"
            ],
            "application/vnd.google.colaboratory.intrinsic+json": {
              "type": "string"
            }
          },
          "metadata": {},
          "execution_count": 56
        }
      ]
    },
    {
      "cell_type": "code",
      "source": [
        "small_df.iloc[3,2]"
      ],
      "metadata": {
        "colab": {
          "base_uri": "https://localhost:8080/",
          "height": 35
        },
        "id": "AI1ZZDmxuaG8",
        "outputId": "1c6eec96-1359-4c03-9fb5-a4ae0c10f2c6"
      },
      "execution_count": null,
      "outputs": [
        {
          "output_type": "execute_result",
          "data": {
            "text/plain": [
              "\"There's a woman in black.\""
            ],
            "application/vnd.google.colaboratory.intrinsic+json": {
              "type": "string"
            }
          },
          "metadata": {},
          "execution_count": 57
        }
      ]
    },
    {
      "cell_type": "code",
      "source": [
        "model.similarity(small_df.iloc[3,0],small_df.iloc[3,1])\n"
      ],
      "metadata": {
        "colab": {
          "base_uri": "https://localhost:8080/"
        },
        "id": "Vu-7o1sQ5Awt",
        "outputId": "1880c029-7e8b-4d85-fce3-009de70e92d7"
      },
      "execution_count": null,
      "outputs": [
        {
          "output_type": "stream",
          "name": "stderr",
          "text": [
            "100%|██████████| 1/1 [00:00<00:00,  9.39it/s]\n",
            "100%|██████████| 1/1 [00:00<00:00,  9.62it/s]\n"
          ]
        },
        {
          "output_type": "execute_result",
          "data": {
            "text/plain": [
              "0.8164205551147461"
            ]
          },
          "metadata": {},
          "execution_count": 58
        }
      ]
    },
    {
      "cell_type": "code",
      "source": [
        "model.similarity(small_df.iloc[3,0],small_df.iloc[3,2])\n"
      ],
      "metadata": {
        "colab": {
          "base_uri": "https://localhost:8080/"
        },
        "id": "Vx-0bwX2ueK1",
        "outputId": "00d1d7b9-d523-4849-9a51-d7705d027397"
      },
      "execution_count": null,
      "outputs": [
        {
          "output_type": "stream",
          "name": "stderr",
          "text": [
            "100%|██████████| 1/1 [00:00<00:00,  5.64it/s]\n",
            "100%|██████████| 1/1 [00:00<00:00,  6.59it/s]\n"
          ]
        },
        {
          "output_type": "execute_result",
          "data": {
            "text/plain": [
              "0.01546010747551918"
            ]
          },
          "metadata": {},
          "execution_count": 59
        }
      ]
    },
    {
      "cell_type": "code",
      "source": [
        "model.similarity(small_df.iloc[3,1],small_df.iloc[3,2])\n"
      ],
      "metadata": {
        "colab": {
          "base_uri": "https://localhost:8080/"
        },
        "id": "PnEwUGmnujj4",
        "outputId": "9d874b33-84fc-4daa-decf-e87b1d05c526"
      },
      "execution_count": null,
      "outputs": [
        {
          "output_type": "stream",
          "name": "stderr",
          "text": [
            "100%|██████████| 1/1 [00:00<00:00,  8.72it/s]\n",
            "100%|██████████| 1/1 [00:00<00:00,  6.67it/s]\n"
          ]
        },
        {
          "output_type": "execute_result",
          "data": {
            "text/plain": [
              "0.05298232287168503"
            ]
          },
          "metadata": {},
          "execution_count": 60
        }
      ]
    },
    {
      "cell_type": "code",
      "source": [
        "small2 = model.encode(small_df.iloc[3,0])\n",
        "small22 = model.encode(small_df.iloc[3,1])\n",
        "small22_neg = model.encode(small_df.iloc[3,2])"
      ],
      "metadata": {
        "colab": {
          "base_uri": "https://localhost:8080/"
        },
        "id": "e-SO6Ql_5IjH",
        "outputId": "4ed49bf8-4ba2-4798-8daa-aa29fc7c7c46"
      },
      "execution_count": null,
      "outputs": [
        {
          "output_type": "stream",
          "name": "stderr",
          "text": [
            "100%|██████████| 1/1 [00:00<00:00,  5.71it/s]\n",
            "100%|██████████| 1/1 [00:00<00:00,  7.07it/s]\n",
            "100%|██████████| 1/1 [00:00<00:00,  6.34it/s]\n"
          ]
        }
      ]
    },
    {
      "cell_type": "code",
      "source": [
        "small2 = small2.resize_(64)\n",
        "small22 = small22.resize_(64)\n",
        "small22_neg = small22_neg.resize_(64)"
      ],
      "metadata": {
        "id": "Xuy8Rcip5QZ9"
      },
      "execution_count": null,
      "outputs": []
    },
    {
      "cell_type": "code",
      "source": [
        "1 - cosine(small2,small22)"
      ],
      "metadata": {
        "colab": {
          "base_uri": "https://localhost:8080/"
        },
        "id": "hF02Gsdi5YAe",
        "outputId": "2da4ced5-47e0-4818-bbe8-d4ed6b2a3863"
      },
      "execution_count": null,
      "outputs": [
        {
          "output_type": "execute_result",
          "data": {
            "text/plain": [
              "0.8825424313545227"
            ]
          },
          "metadata": {},
          "execution_count": 63
        }
      ]
    },
    {
      "cell_type": "code",
      "source": [
        "1 - cosine(small22,small22_neg)"
      ],
      "metadata": {
        "colab": {
          "base_uri": "https://localhost:8080/"
        },
        "id": "Qe83TTZEu4a1",
        "outputId": "7ee2b006-3ea2-483e-812c-97a3854c8840"
      },
      "execution_count": null,
      "outputs": [
        {
          "output_type": "execute_result",
          "data": {
            "text/plain": [
              "0.14013369381427765"
            ]
          },
          "metadata": {},
          "execution_count": 69
        }
      ]
    },
    {
      "cell_type": "code",
      "source": [
        "1 - cosine(small2,small22_neg)"
      ],
      "metadata": {
        "colab": {
          "base_uri": "https://localhost:8080/"
        },
        "id": "2jRL7VP3u7jW",
        "outputId": "f17522b3-f44e-4488-9b5f-1cd523a0a485"
      },
      "execution_count": null,
      "outputs": [
        {
          "output_type": "execute_result",
          "data": {
            "text/plain": [
              "0.11657603085041046"
            ]
          },
          "metadata": {},
          "execution_count": 68
        }
      ]
    },
    {
      "cell_type": "markdown",
      "source": [
        "both increase similarity when reduce dimension"
      ],
      "metadata": {
        "id": "eURz64dRvH49"
      }
    },
    {
      "cell_type": "markdown",
      "source": [
        "3 try "
      ],
      "metadata": {
        "id": "FsgzHofU6QBG"
      }
    },
    {
      "cell_type": "code",
      "source": [
        "small_df.iloc[497,0]"
      ],
      "metadata": {
        "colab": {
          "base_uri": "https://localhost:8080/",
          "height": 35
        },
        "id": "z9rraT986JVm",
        "outputId": "4a8ba168-12f1-4a31-b45c-9a8e5923c29e"
      },
      "execution_count": null,
      "outputs": [
        {
          "output_type": "execute_result",
          "data": {
            "text/plain": [
              "'People stand outside watching motorcycles drive down a road.'"
            ],
            "application/vnd.google.colaboratory.intrinsic+json": {
              "type": "string"
            }
          },
          "metadata": {},
          "execution_count": 70
        }
      ]
    },
    {
      "cell_type": "code",
      "source": [
        "small_df.iloc[497,1]"
      ],
      "metadata": {
        "colab": {
          "base_uri": "https://localhost:8080/",
          "height": 35
        },
        "id": "gARnNVJM6QnF",
        "outputId": "3f6d5393-8cde-4af1-b798-b19a8662c797"
      },
      "execution_count": null,
      "outputs": [
        {
          "output_type": "execute_result",
          "data": {
            "text/plain": [
              "'People watching motorcycles.'"
            ],
            "application/vnd.google.colaboratory.intrinsic+json": {
              "type": "string"
            }
          },
          "metadata": {},
          "execution_count": 71
        }
      ]
    },
    {
      "cell_type": "code",
      "source": [
        "small_df.iloc[497,2]"
      ],
      "metadata": {
        "colab": {
          "base_uri": "https://localhost:8080/",
          "height": 35
        },
        "id": "Cmr0RyK0vU4H",
        "outputId": "974126ec-071c-4823-ff6d-645292a16507"
      },
      "execution_count": null,
      "outputs": [
        {
          "output_type": "execute_result",
          "data": {
            "text/plain": [
              "'Children are riding their scooters in the driveway.'"
            ],
            "application/vnd.google.colaboratory.intrinsic+json": {
              "type": "string"
            }
          },
          "metadata": {},
          "execution_count": 72
        }
      ]
    },
    {
      "cell_type": "code",
      "source": [
        "model.similarity(small_df.iloc[497,0],small_df.iloc[497,1])\n"
      ],
      "metadata": {
        "colab": {
          "base_uri": "https://localhost:8080/"
        },
        "id": "tcQUnif46STX",
        "outputId": "855c5b77-6061-4478-d618-5a2f8c2b2a51"
      },
      "execution_count": null,
      "outputs": [
        {
          "output_type": "stream",
          "name": "stderr",
          "text": [
            "100%|██████████| 1/1 [00:00<00:00,  3.09it/s]\n",
            "100%|██████████| 1/1 [00:00<00:00,  6.14it/s]\n"
          ]
        },
        {
          "output_type": "execute_result",
          "data": {
            "text/plain": [
              "0.8838492035865784"
            ]
          },
          "metadata": {},
          "execution_count": 73
        }
      ]
    },
    {
      "cell_type": "code",
      "source": [
        "model.similarity(small_df.iloc[497,1],small_df.iloc[497,2])\n"
      ],
      "metadata": {
        "colab": {
          "base_uri": "https://localhost:8080/"
        },
        "id": "PzkYu6RgvX6k",
        "outputId": "f2c0ec2e-7c84-414f-eced-6ac4c777a616"
      },
      "execution_count": null,
      "outputs": [
        {
          "output_type": "stream",
          "name": "stderr",
          "text": [
            "100%|██████████| 1/1 [00:00<00:00,  9.15it/s]\n",
            "100%|██████████| 1/1 [00:00<00:00,  5.41it/s]\n"
          ]
        },
        {
          "output_type": "execute_result",
          "data": {
            "text/plain": [
              "0.2996256947517395"
            ]
          },
          "metadata": {},
          "execution_count": 74
        }
      ]
    },
    {
      "cell_type": "code",
      "source": [
        "model.similarity(small_df.iloc[497,0],small_df.iloc[497,2])\n"
      ],
      "metadata": {
        "colab": {
          "base_uri": "https://localhost:8080/"
        },
        "id": "2cmf6g2WvaWu",
        "outputId": "5d213577-3d10-4cde-e25a-4fc3d768e3a0"
      },
      "execution_count": null,
      "outputs": [
        {
          "output_type": "stream",
          "name": "stderr",
          "text": [
            "100%|██████████| 1/1 [00:00<00:00,  7.09it/s]\n",
            "100%|██████████| 1/1 [00:00<00:00,  6.51it/s]\n"
          ]
        },
        {
          "output_type": "execute_result",
          "data": {
            "text/plain": [
              "0.41031163930892944"
            ]
          },
          "metadata": {},
          "execution_count": 75
        }
      ]
    },
    {
      "cell_type": "code",
      "source": [
        "small3 = model.encode(small_df.iloc[497,0])\n",
        "small33 = model.encode(small_df.iloc[497,1])\n",
        "small33_neg = model.encode(small_df.iloc[497,2])"
      ],
      "metadata": {
        "colab": {
          "base_uri": "https://localhost:8080/"
        },
        "id": "KZt_1nsm6WpY",
        "outputId": "3f884cf7-1e8c-490f-960a-94c62039c8f5"
      },
      "execution_count": null,
      "outputs": [
        {
          "output_type": "stream",
          "name": "stderr",
          "text": [
            "100%|██████████| 1/1 [00:00<00:00,  6.77it/s]\n",
            "100%|██████████| 1/1 [00:00<00:00,  8.52it/s]\n",
            "100%|██████████| 1/1 [00:00<00:00,  5.55it/s]\n"
          ]
        }
      ]
    },
    {
      "cell_type": "code",
      "source": [
        "small3 = small3.resize_(64)\n",
        "small33 = small33.resize_(64)\n",
        "small33_neg = small33_neg.resize_(64)"
      ],
      "metadata": {
        "id": "qhLlTPe86dXu"
      },
      "execution_count": null,
      "outputs": []
    },
    {
      "cell_type": "code",
      "source": [
        "1 - cosine(small3,small33)"
      ],
      "metadata": {
        "colab": {
          "base_uri": "https://localhost:8080/"
        },
        "id": "Kx3GwXMt6gD1",
        "outputId": "897bcacc-4852-45eb-b660-9faf015687ae"
      },
      "execution_count": null,
      "outputs": [
        {
          "output_type": "execute_result",
          "data": {
            "text/plain": [
              "0.7902023196220398"
            ]
          },
          "metadata": {},
          "execution_count": 79
        }
      ]
    },
    {
      "cell_type": "code",
      "source": [
        "1 - cosine(small33,small33_neg)"
      ],
      "metadata": {
        "colab": {
          "base_uri": "https://localhost:8080/"
        },
        "id": "fD7jKsgDvwsu",
        "outputId": "e4465468-f559-4ce9-d7c5-c0ec2ded165c"
      },
      "execution_count": null,
      "outputs": [
        {
          "output_type": "execute_result",
          "data": {
            "text/plain": [
              "0.05900786444544792"
            ]
          },
          "metadata": {},
          "execution_count": 80
        }
      ]
    },
    {
      "cell_type": "code",
      "source": [
        "1 - cosine(small3,small33_neg)"
      ],
      "metadata": {
        "colab": {
          "base_uri": "https://localhost:8080/"
        },
        "id": "cz-7E09Bv2Kl",
        "outputId": "9097a600-24fb-496f-db3a-baa663c8a868"
      },
      "execution_count": null,
      "outputs": [
        {
          "output_type": "execute_result",
          "data": {
            "text/plain": [
              "0.25978004932403564"
            ]
          },
          "metadata": {},
          "execution_count": 81
        }
      ]
    },
    {
      "cell_type": "markdown",
      "source": [
        "4 try"
      ],
      "metadata": {
        "id": "5PQGQmyj69GN"
      }
    },
    {
      "cell_type": "code",
      "source": [
        "small_df.iloc[250,0]"
      ],
      "metadata": {
        "colab": {
          "base_uri": "https://localhost:8080/",
          "height": 35
        },
        "id": "oCv6am5A6_Af",
        "outputId": "57de25a4-6e3c-4d5e-91ab-c2f1a6c9902b"
      },
      "execution_count": null,
      "outputs": [
        {
          "output_type": "execute_result",
          "data": {
            "text/plain": [
              "'Two women are swinging in a carnival ride.'"
            ],
            "application/vnd.google.colaboratory.intrinsic+json": {
              "type": "string"
            }
          },
          "metadata": {},
          "execution_count": 82
        }
      ]
    },
    {
      "cell_type": "code",
      "source": [
        "small_df.iloc[250,1]"
      ],
      "metadata": {
        "colab": {
          "base_uri": "https://localhost:8080/",
          "height": 35
        },
        "id": "HSb0Jaou7G8n",
        "outputId": "6c6d8f98-0058-4a1c-fe30-03f4d1a0f403"
      },
      "execution_count": null,
      "outputs": [
        {
          "output_type": "execute_result",
          "data": {
            "text/plain": [
              "'Two women are swinging'"
            ],
            "application/vnd.google.colaboratory.intrinsic+json": {
              "type": "string"
            }
          },
          "metadata": {},
          "execution_count": 83
        }
      ]
    },
    {
      "cell_type": "code",
      "source": [
        "small_df.iloc[250,2]"
      ],
      "metadata": {
        "colab": {
          "base_uri": "https://localhost:8080/",
          "height": 35
        },
        "id": "hB-TdJwxv-Kl",
        "outputId": "f639293f-1cd2-4a42-c1d9-147fe55bca09"
      },
      "execution_count": null,
      "outputs": [
        {
          "output_type": "execute_result",
          "data": {
            "text/plain": [
              "'Two men are swinging in a carnival ride.'"
            ],
            "application/vnd.google.colaboratory.intrinsic+json": {
              "type": "string"
            }
          },
          "metadata": {},
          "execution_count": 84
        }
      ]
    },
    {
      "cell_type": "code",
      "source": [
        "model.similarity(small_df.iloc[250,0],small_df.iloc[250,1])\n"
      ],
      "metadata": {
        "colab": {
          "base_uri": "https://localhost:8080/"
        },
        "id": "ZM4bn0eb7PXl",
        "outputId": "33fd149e-0915-4998-8190-e7d2d6acd4f6"
      },
      "execution_count": null,
      "outputs": [
        {
          "output_type": "stream",
          "name": "stderr",
          "text": [
            "100%|██████████| 1/1 [00:00<00:00,  6.93it/s]\n",
            "100%|██████████| 1/1 [00:00<00:00,  9.45it/s]\n"
          ]
        },
        {
          "output_type": "execute_result",
          "data": {
            "text/plain": [
              "0.7730103731155396"
            ]
          },
          "metadata": {},
          "execution_count": 90
        }
      ]
    },
    {
      "cell_type": "code",
      "source": [
        "model.similarity(small_df.iloc[250,1],small_df.iloc[250,2])\n"
      ],
      "metadata": {
        "colab": {
          "base_uri": "https://localhost:8080/"
        },
        "id": "sZYZqieUwBXW",
        "outputId": "7db7f62a-7fe9-4c5c-da55-4dc6f0d1014d"
      },
      "execution_count": null,
      "outputs": [
        {
          "output_type": "stream",
          "name": "stderr",
          "text": [
            "100%|██████████| 1/1 [00:00<00:00,  7.72it/s]\n",
            "100%|██████████| 1/1 [00:00<00:00,  5.18it/s]\n"
          ]
        },
        {
          "output_type": "execute_result",
          "data": {
            "text/plain": [
              "0.4844681918621063"
            ]
          },
          "metadata": {},
          "execution_count": 91
        }
      ]
    },
    {
      "cell_type": "code",
      "source": [
        "model.similarity(small_df.iloc[250,0],small_df.iloc[250,2])\n"
      ],
      "metadata": {
        "colab": {
          "base_uri": "https://localhost:8080/"
        },
        "id": "uvizBEC1wkmb",
        "outputId": "443b58ac-e488-4ad2-e36a-f03663c5761c"
      },
      "execution_count": null,
      "outputs": [
        {
          "output_type": "stream",
          "name": "stderr",
          "text": [
            "100%|██████████| 1/1 [00:00<00:00,  6.03it/s]\n",
            "100%|██████████| 1/1 [00:00<00:00,  7.39it/s]\n"
          ]
        },
        {
          "output_type": "execute_result",
          "data": {
            "text/plain": [
              "0.7666797637939453"
            ]
          },
          "metadata": {},
          "execution_count": 92
        }
      ]
    },
    {
      "cell_type": "code",
      "source": [
        "small4 = model.encode(small_df.iloc[250,0])\n",
        "small44 = model.encode(small_df.iloc[250,1])\n",
        "small44_neg = model.encode(small_df.iloc[250,2])"
      ],
      "metadata": {
        "colab": {
          "base_uri": "https://localhost:8080/"
        },
        "id": "rI7m1IJr7aPd",
        "outputId": "ff92b66b-363a-4282-a940-dddb1cd31751"
      },
      "execution_count": null,
      "outputs": [
        {
          "output_type": "stream",
          "name": "stderr",
          "text": [
            "100%|██████████| 1/1 [00:00<00:00,  4.28it/s]\n",
            "100%|██████████| 1/1 [00:00<00:00,  3.83it/s]\n",
            "100%|██████████| 1/1 [00:00<00:00,  6.37it/s]\n"
          ]
        }
      ]
    },
    {
      "cell_type": "code",
      "source": [
        "small4 = small4.resize_(64)\n",
        "small44 = small44.resize_(64)\n",
        "small44_neg = small44_neg.resize_(64)"
      ],
      "metadata": {
        "id": "JxAKUqWB7Uql"
      },
      "execution_count": null,
      "outputs": []
    },
    {
      "cell_type": "code",
      "source": [
        "1 - cosine(small4,small44)"
      ],
      "metadata": {
        "colab": {
          "base_uri": "https://localhost:8080/"
        },
        "id": "g4bRNadq776m",
        "outputId": "7557c6e9-3062-47d7-8d5b-a32652f210c5"
      },
      "execution_count": null,
      "outputs": [
        {
          "output_type": "execute_result",
          "data": {
            "text/plain": [
              "0.7429532408714294"
            ]
          },
          "metadata": {},
          "execution_count": 97
        }
      ]
    },
    {
      "cell_type": "code",
      "source": [
        "1 - cosine(small44,small44_neg)"
      ],
      "metadata": {
        "colab": {
          "base_uri": "https://localhost:8080/"
        },
        "id": "Gi1Ecgniw7iG",
        "outputId": "dfbff6b3-73d5-417c-b402-da0367d269f7"
      },
      "execution_count": null,
      "outputs": [
        {
          "output_type": "execute_result",
          "data": {
            "text/plain": [
              "0.45167288184165955"
            ]
          },
          "metadata": {},
          "execution_count": 98
        }
      ]
    },
    {
      "cell_type": "code",
      "source": [
        "1 - cosine(small4,small44_neg)"
      ],
      "metadata": {
        "colab": {
          "base_uri": "https://localhost:8080/"
        },
        "id": "BX2OkSUYw-5n",
        "outputId": "7a3f3bad-0194-42c3-a970-3dad84230254"
      },
      "execution_count": null,
      "outputs": [
        {
          "output_type": "execute_result",
          "data": {
            "text/plain": [
              "0.7423922419548035"
            ]
          },
          "metadata": {},
          "execution_count": 99
        }
      ]
    },
    {
      "cell_type": "markdown",
      "source": [
        "5 try"
      ],
      "metadata": {
        "id": "sNN3g09n8FyU"
      }
    },
    {
      "cell_type": "code",
      "source": [
        "small_df.iloc[25,0]"
      ],
      "metadata": {
        "colab": {
          "base_uri": "https://localhost:8080/",
          "height": 35
        },
        "id": "OC9wMmNT8Gue",
        "outputId": "b9aaffc3-251c-4599-a793-c1aca0d9d4a7"
      },
      "execution_count": null,
      "outputs": [
        {
          "output_type": "execute_result",
          "data": {
            "text/plain": [
              "'Chicago ought to do the same.'"
            ],
            "application/vnd.google.colaboratory.intrinsic+json": {
              "type": "string"
            }
          },
          "metadata": {},
          "execution_count": 100
        }
      ]
    },
    {
      "cell_type": "code",
      "source": [
        "small_df.iloc[25,1]"
      ],
      "metadata": {
        "colab": {
          "base_uri": "https://localhost:8080/",
          "height": 35
        },
        "id": "xgUKuvtE8LjO",
        "outputId": "cc6277b2-1773-4c79-ec18-ca4214faed02"
      },
      "execution_count": null,
      "outputs": [
        {
          "output_type": "execute_result",
          "data": {
            "text/plain": [
              "'Chicago should follow suit.'"
            ],
            "application/vnd.google.colaboratory.intrinsic+json": {
              "type": "string"
            }
          },
          "metadata": {},
          "execution_count": 101
        }
      ]
    },
    {
      "cell_type": "code",
      "source": [
        "small_df.iloc[25,2]"
      ],
      "metadata": {
        "colab": {
          "base_uri": "https://localhost:8080/",
          "height": 35
        },
        "id": "8aH28bNbxFRX",
        "outputId": "73ebc769-3330-4928-82bf-a0779df755f3"
      },
      "execution_count": null,
      "outputs": [
        {
          "output_type": "execute_result",
          "data": {
            "text/plain": [
              "'Chicago would be better off doing something else.'"
            ],
            "application/vnd.google.colaboratory.intrinsic+json": {
              "type": "string"
            }
          },
          "metadata": {},
          "execution_count": 102
        }
      ]
    },
    {
      "cell_type": "code",
      "source": [
        "model.similarity(small_df.iloc[25,0],small_df.iloc[25,1])\n"
      ],
      "metadata": {
        "colab": {
          "base_uri": "https://localhost:8080/"
        },
        "id": "9DD8v6iw8OSe",
        "outputId": "5d13d02e-f387-4455-c2ea-fec68422dfbf"
      },
      "execution_count": null,
      "outputs": [
        {
          "output_type": "stream",
          "name": "stderr",
          "text": [
            "100%|██████████| 1/1 [00:00<00:00,  6.72it/s]\n",
            "100%|██████████| 1/1 [00:00<00:00,  7.15it/s]\n"
          ]
        },
        {
          "output_type": "execute_result",
          "data": {
            "text/plain": [
              "0.9323086142539978"
            ]
          },
          "metadata": {},
          "execution_count": 103
        }
      ]
    },
    {
      "cell_type": "code",
      "source": [
        "model.similarity(small_df.iloc[25,1],small_df.iloc[25,2])\n"
      ],
      "metadata": {
        "colab": {
          "base_uri": "https://localhost:8080/"
        },
        "id": "8cNnkbehxNAt",
        "outputId": "441e4d80-f86c-48a4-f8fc-cf544df04703"
      },
      "execution_count": null,
      "outputs": [
        {
          "output_type": "stream",
          "name": "stderr",
          "text": [
            "100%|██████████| 1/1 [00:00<00:00,  6.73it/s]\n",
            "100%|██████████| 1/1 [00:00<00:00,  6.59it/s]\n"
          ]
        },
        {
          "output_type": "execute_result",
          "data": {
            "text/plain": [
              "0.6656961441040039"
            ]
          },
          "metadata": {},
          "execution_count": 104
        }
      ]
    },
    {
      "cell_type": "code",
      "source": [
        "model.similarity(small_df.iloc[25,0],small_df.iloc[25,2])\n"
      ],
      "metadata": {
        "colab": {
          "base_uri": "https://localhost:8080/"
        },
        "id": "pnNLo4tuxRMf",
        "outputId": "0cdf9926-a161-4f69-a9fd-580f0a43e507"
      },
      "execution_count": null,
      "outputs": [
        {
          "output_type": "stream",
          "name": "stderr",
          "text": [
            "100%|██████████| 1/1 [00:00<00:00,  6.76it/s]\n",
            "100%|██████████| 1/1 [00:00<00:00,  7.35it/s]\n"
          ]
        },
        {
          "output_type": "execute_result",
          "data": {
            "text/plain": [
              "0.7475359439849854"
            ]
          },
          "metadata": {},
          "execution_count": 105
        }
      ]
    },
    {
      "cell_type": "code",
      "source": [
        "small5 = model.encode(small_df.iloc[25,0])\n",
        "small55 = model.encode(small_df.iloc[25,1])\n",
        "small55_neg = model.encode(small_df.iloc[25,2])\n",
        "small5 = small5.resize_(64)\n",
        "small55 = small55.resize_(64)\n",
        "small55_neg = small55_neg.resize_(64)"
      ],
      "metadata": {
        "colab": {
          "base_uri": "https://localhost:8080/"
        },
        "id": "RUXeGfXV8WwJ",
        "outputId": "07aa25ce-c99b-4225-a07a-48a9952166ba"
      },
      "execution_count": null,
      "outputs": [
        {
          "output_type": "stream",
          "name": "stderr",
          "text": [
            "100%|██████████| 1/1 [00:00<00:00,  5.52it/s]\n",
            "100%|██████████| 1/1 [00:00<00:00,  7.38it/s]\n",
            "100%|██████████| 1/1 [00:00<00:00,  5.19it/s]\n"
          ]
        }
      ]
    },
    {
      "cell_type": "code",
      "source": [
        "1 - cosine(small5,small55)"
      ],
      "metadata": {
        "colab": {
          "base_uri": "https://localhost:8080/"
        },
        "id": "eRv6ZbpE8ewO",
        "outputId": "ef1f1d52-3fdc-4981-b544-33a4d98a611c"
      },
      "execution_count": null,
      "outputs": [
        {
          "output_type": "execute_result",
          "data": {
            "text/plain": [
              "0.93842613697052"
            ]
          },
          "metadata": {},
          "execution_count": 108
        }
      ]
    },
    {
      "cell_type": "code",
      "source": [
        "1 - cosine(small55,small55_neg)"
      ],
      "metadata": {
        "colab": {
          "base_uri": "https://localhost:8080/"
        },
        "id": "KYRt7T7-xj--",
        "outputId": "5ab4248a-bf17-426f-daf2-81d64741411d"
      },
      "execution_count": null,
      "outputs": [
        {
          "output_type": "execute_result",
          "data": {
            "text/plain": [
              "0.6667433381080627"
            ]
          },
          "metadata": {},
          "execution_count": 109
        }
      ]
    },
    {
      "cell_type": "code",
      "source": [
        "1 - cosine(small5,small55_neg)"
      ],
      "metadata": {
        "colab": {
          "base_uri": "https://localhost:8080/"
        },
        "id": "zFgbGAEixmhg",
        "outputId": "5023eeb0-2839-4f57-cb05-88deefb69368"
      },
      "execution_count": null,
      "outputs": [
        {
          "output_type": "execute_result",
          "data": {
            "text/plain": [
              "0.7240594625473022"
            ]
          },
          "metadata": {},
          "execution_count": 110
        }
      ]
    },
    {
      "cell_type": "markdown",
      "source": [
        "6 try"
      ],
      "metadata": {
        "id": "cf7Q57_08lnB"
      }
    },
    {
      "cell_type": "code",
      "source": [
        "small_df.iloc[75,0]"
      ],
      "metadata": {
        "colab": {
          "base_uri": "https://localhost:8080/",
          "height": 35
        },
        "id": "Kn2FLFn88mdQ",
        "outputId": "1cc6e415-ab97-4150-bf0c-5a0f442c706e"
      },
      "execution_count": null,
      "outputs": [
        {
          "output_type": "execute_result",
          "data": {
            "text/plain": [
              "'A helicopter is taking off for flight.'"
            ],
            "application/vnd.google.colaboratory.intrinsic+json": {
              "type": "string"
            }
          },
          "metadata": {},
          "execution_count": 111
        }
      ]
    },
    {
      "cell_type": "code",
      "source": [
        "small_df.iloc[75,1]"
      ],
      "metadata": {
        "colab": {
          "base_uri": "https://localhost:8080/",
          "height": 35
        },
        "id": "X7qr2tOH8rum",
        "outputId": "ef194858-9833-4323-a477-9c71a9af6da5"
      },
      "execution_count": null,
      "outputs": [
        {
          "output_type": "execute_result",
          "data": {
            "text/plain": [
              "'A helicopter is ready to leave.'"
            ],
            "application/vnd.google.colaboratory.intrinsic+json": {
              "type": "string"
            }
          },
          "metadata": {},
          "execution_count": 112
        }
      ]
    },
    {
      "cell_type": "code",
      "source": [
        "small_df.iloc[75,2]"
      ],
      "metadata": {
        "colab": {
          "base_uri": "https://localhost:8080/",
          "height": 35
        },
        "id": "z75tRIYOxpVc",
        "outputId": "f61f05c3-6fb9-4e28-f311-fa4de43a962b"
      },
      "execution_count": null,
      "outputs": [
        {
          "output_type": "execute_result",
          "data": {
            "text/plain": [
              "'A helicopter is burning in flames.'"
            ],
            "application/vnd.google.colaboratory.intrinsic+json": {
              "type": "string"
            }
          },
          "metadata": {},
          "execution_count": 114
        }
      ]
    },
    {
      "cell_type": "code",
      "source": [
        "model.similarity(small_df.iloc[75,0],small_df.iloc[75,1])\n"
      ],
      "metadata": {
        "colab": {
          "base_uri": "https://localhost:8080/"
        },
        "id": "Dm5nJK9S8t1c",
        "outputId": "8468eb99-fcef-49a1-c62a-d18eeb55fa50"
      },
      "execution_count": null,
      "outputs": [
        {
          "output_type": "stream",
          "name": "stderr",
          "text": [
            "100%|██████████| 1/1 [00:00<00:00,  8.92it/s]\n",
            "100%|██████████| 1/1 [00:00<00:00,  8.69it/s]\n"
          ]
        },
        {
          "output_type": "execute_result",
          "data": {
            "text/plain": [
              "0.874832034111023"
            ]
          },
          "metadata": {},
          "execution_count": 115
        }
      ]
    },
    {
      "cell_type": "code",
      "source": [
        "model.similarity(small_df.iloc[75,1],small_df.iloc[75,2])\n"
      ],
      "metadata": {
        "colab": {
          "base_uri": "https://localhost:8080/"
        },
        "id": "My3LSX2Lxri8",
        "outputId": "eaba3359-c921-4cfb-ad3e-ee7f635810d0"
      },
      "execution_count": null,
      "outputs": [
        {
          "output_type": "stream",
          "name": "stderr",
          "text": [
            "100%|██████████| 1/1 [00:00<00:00,  6.47it/s]\n",
            "100%|██████████| 1/1 [00:00<00:00,  6.13it/s]\n"
          ]
        },
        {
          "output_type": "execute_result",
          "data": {
            "text/plain": [
              "0.49845150113105774"
            ]
          },
          "metadata": {},
          "execution_count": 116
        }
      ]
    },
    {
      "cell_type": "code",
      "source": [
        "model.similarity(small_df.iloc[75,0],small_df.iloc[75,2])\n"
      ],
      "metadata": {
        "colab": {
          "base_uri": "https://localhost:8080/"
        },
        "id": "8Ipr4I56xuE8",
        "outputId": "74670e62-c01a-459d-c739-16f127df87fc"
      },
      "execution_count": null,
      "outputs": [
        {
          "output_type": "stream",
          "name": "stderr",
          "text": [
            "100%|██████████| 1/1 [00:00<00:00,  5.75it/s]\n",
            "100%|██████████| 1/1 [00:00<00:00, 11.04it/s]\n"
          ]
        },
        {
          "output_type": "execute_result",
          "data": {
            "text/plain": [
              "0.5966677665710449"
            ]
          },
          "metadata": {},
          "execution_count": 117
        }
      ]
    },
    {
      "cell_type": "code",
      "source": [
        "small6 = model.encode(small_df.iloc[75,0])\n",
        "small66 = model.encode(small_df.iloc[75,1])\n",
        "small66_neg = model.encode(small_df.iloc[75,2])\n",
        "small6 = small6.resize_(64)\n",
        "small66 = small66.resize_(64)\n",
        "small66_neg = small66_neg.resize_(64)"
      ],
      "metadata": {
        "colab": {
          "base_uri": "https://localhost:8080/"
        },
        "id": "dlXlAxAS8yLu",
        "outputId": "280f9b37-4c42-47d8-871a-29a5a9539334"
      },
      "execution_count": null,
      "outputs": [
        {
          "output_type": "stream",
          "name": "stderr",
          "text": [
            "100%|██████████| 1/1 [00:00<00:00,  5.72it/s]\n",
            "100%|██████████| 1/1 [00:00<00:00,  5.59it/s]\n",
            "100%|██████████| 1/1 [00:00<00:00,  6.82it/s]\n"
          ]
        }
      ]
    },
    {
      "cell_type": "code",
      "source": [
        "1 - cosine(small6,small66)"
      ],
      "metadata": {
        "colab": {
          "base_uri": "https://localhost:8080/"
        },
        "id": "dTuYZ7P987x1",
        "outputId": "0109bed5-7ef0-41d0-c821-b9ce61578f45"
      },
      "execution_count": null,
      "outputs": [
        {
          "output_type": "execute_result",
          "data": {
            "text/plain": [
              "0.8607755899429321"
            ]
          },
          "metadata": {},
          "execution_count": 119
        }
      ]
    },
    {
      "cell_type": "code",
      "source": [
        "1 - cosine(small66,small66_neg)"
      ],
      "metadata": {
        "colab": {
          "base_uri": "https://localhost:8080/"
        },
        "id": "XbSRoVzqx8zU",
        "outputId": "19eef8be-c362-4e23-c829-1ce4f0e4b149"
      },
      "execution_count": null,
      "outputs": [
        {
          "output_type": "execute_result",
          "data": {
            "text/plain": [
              "0.41674402356147766"
            ]
          },
          "metadata": {},
          "execution_count": 120
        }
      ]
    },
    {
      "cell_type": "code",
      "source": [
        "1 - cosine(small6,small66_neg)"
      ],
      "metadata": {
        "colab": {
          "base_uri": "https://localhost:8080/"
        },
        "id": "dIo4IF_4x_r-",
        "outputId": "68459902-bee2-4825-9632-cb4a3d054445"
      },
      "execution_count": null,
      "outputs": [
        {
          "output_type": "execute_result",
          "data": {
            "text/plain": [
              "0.5325911045074463"
            ]
          },
          "metadata": {},
          "execution_count": 121
        }
      ]
    },
    {
      "cell_type": "markdown",
      "source": [
        "7 try"
      ],
      "metadata": {
        "id": "7chz3DX09TWg"
      }
    },
    {
      "cell_type": "code",
      "source": [
        "small_df.iloc[50,0]"
      ],
      "metadata": {
        "colab": {
          "base_uri": "https://localhost:8080/",
          "height": 35
        },
        "id": "fEBpRmwl9JeK",
        "outputId": "62281ec1-0477-4ec4-afb1-808b39de59ba"
      },
      "execution_count": null,
      "outputs": [
        {
          "output_type": "execute_result",
          "data": {
            "text/plain": [
              "'Construction workers are standing behind a fence.'"
            ],
            "application/vnd.google.colaboratory.intrinsic+json": {
              "type": "string"
            }
          },
          "metadata": {},
          "execution_count": 122
        }
      ]
    },
    {
      "cell_type": "code",
      "source": [
        "small_df.iloc[50,1]"
      ],
      "metadata": {
        "colab": {
          "base_uri": "https://localhost:8080/",
          "height": 35
        },
        "id": "OEMR1M849h9Z",
        "outputId": "164245c6-6dc6-4c23-90da-a0476f497624"
      },
      "execution_count": null,
      "outputs": [
        {
          "output_type": "execute_result",
          "data": {
            "text/plain": [
              "'These men are behind a fence'"
            ],
            "application/vnd.google.colaboratory.intrinsic+json": {
              "type": "string"
            }
          },
          "metadata": {},
          "execution_count": 123
        }
      ]
    },
    {
      "cell_type": "code",
      "source": [
        "small_df.iloc[50,2]"
      ],
      "metadata": {
        "colab": {
          "base_uri": "https://localhost:8080/",
          "height": 35
        },
        "id": "KCpwn6JCyNVs",
        "outputId": "dfad75a5-0999-40be-dc58-0695f4623ea6"
      },
      "execution_count": null,
      "outputs": [
        {
          "output_type": "execute_result",
          "data": {
            "text/plain": [
              "'These men are waiting for someone to move the fence'"
            ],
            "application/vnd.google.colaboratory.intrinsic+json": {
              "type": "string"
            }
          },
          "metadata": {},
          "execution_count": 124
        }
      ]
    },
    {
      "cell_type": "code",
      "source": [
        "model.similarity(small_df.iloc[50,0],small_df.iloc[50,1])\n"
      ],
      "metadata": {
        "colab": {
          "base_uri": "https://localhost:8080/"
        },
        "id": "wyqWnzb39lkx",
        "outputId": "46846bcc-863f-42a7-9858-a11ebfabca68"
      },
      "execution_count": null,
      "outputs": [
        {
          "output_type": "stream",
          "name": "stderr",
          "text": [
            "100%|██████████| 1/1 [00:00<00:00,  5.70it/s]\n",
            "100%|██████████| 1/1 [00:00<00:00,  6.10it/s]\n"
          ]
        },
        {
          "output_type": "execute_result",
          "data": {
            "text/plain": [
              "0.7181403636932373"
            ]
          },
          "metadata": {},
          "execution_count": 125
        }
      ]
    },
    {
      "cell_type": "code",
      "source": [
        "model.similarity(small_df.iloc[50,1],small_df.iloc[50,2])\n"
      ],
      "metadata": {
        "colab": {
          "base_uri": "https://localhost:8080/"
        },
        "id": "I_9EjtCYyPmP",
        "outputId": "7d95d71b-f730-45a0-fbd2-42c4f607da76"
      },
      "execution_count": null,
      "outputs": [
        {
          "output_type": "stream",
          "name": "stderr",
          "text": [
            "100%|██████████| 1/1 [00:00<00:00,  6.96it/s]\n",
            "100%|██████████| 1/1 [00:00<00:00,  6.38it/s]\n"
          ]
        },
        {
          "output_type": "execute_result",
          "data": {
            "text/plain": [
              "0.81404709815979"
            ]
          },
          "metadata": {},
          "execution_count": 126
        }
      ]
    },
    {
      "cell_type": "code",
      "source": [
        "model.similarity(small_df.iloc[50,0],small_df.iloc[50,2])\n"
      ],
      "metadata": {
        "colab": {
          "base_uri": "https://localhost:8080/"
        },
        "id": "sLq9KhcQySAZ",
        "outputId": "05a9a292-fd36-4cf0-e89a-bfa0aba878e0"
      },
      "execution_count": null,
      "outputs": [
        {
          "output_type": "stream",
          "name": "stderr",
          "text": [
            "100%|██████████| 1/1 [00:00<00:00,  6.40it/s]\n",
            "100%|██████████| 1/1 [00:00<00:00,  5.97it/s]\n"
          ]
        },
        {
          "output_type": "execute_result",
          "data": {
            "text/plain": [
              "0.65935879945755"
            ]
          },
          "metadata": {},
          "execution_count": 127
        }
      ]
    },
    {
      "cell_type": "code",
      "source": [
        "small7 = model.encode(small_df.iloc[50,0])\n",
        "small77 = model.encode(small_df.iloc[50,1])\n",
        "small77_neg = model.encode(small_df.iloc[50,2])\n",
        "small7 = small7.resize_(64)\n",
        "small77 = small77.resize_(64)\n",
        "small77_neg = small77_neg.resize_(64)"
      ],
      "metadata": {
        "colab": {
          "base_uri": "https://localhost:8080/"
        },
        "id": "GmZjgjPy9q8f",
        "outputId": "40abf31f-8a3a-4a50-87ab-20a57b769195"
      },
      "execution_count": null,
      "outputs": [
        {
          "output_type": "stream",
          "name": "stderr",
          "text": [
            "100%|██████████| 1/1 [00:00<00:00,  6.33it/s]\n",
            "100%|██████████| 1/1 [00:00<00:00,  7.40it/s]\n",
            "100%|██████████| 1/1 [00:00<00:00,  7.22it/s]\n"
          ]
        }
      ]
    },
    {
      "cell_type": "code",
      "source": [
        "1 - cosine(small7,small77)"
      ],
      "metadata": {
        "colab": {
          "base_uri": "https://localhost:8080/"
        },
        "id": "aJl3K4wH9ybn",
        "outputId": "8e5dde37-2d24-4b7c-fc34-f73428c40e84"
      },
      "execution_count": null,
      "outputs": [
        {
          "output_type": "execute_result",
          "data": {
            "text/plain": [
              "0.6967712044715881"
            ]
          },
          "metadata": {},
          "execution_count": 129
        }
      ]
    },
    {
      "cell_type": "code",
      "source": [
        "1 - cosine(small77,small77_neg)"
      ],
      "metadata": {
        "colab": {
          "base_uri": "https://localhost:8080/"
        },
        "id": "NA_XGGlryl-u",
        "outputId": "65c96685-0e50-4ac6-fca8-5d62baba055e"
      },
      "execution_count": null,
      "outputs": [
        {
          "output_type": "execute_result",
          "data": {
            "text/plain": [
              "0.862401008605957"
            ]
          },
          "metadata": {},
          "execution_count": 130
        }
      ]
    },
    {
      "cell_type": "code",
      "source": [
        "1 - cosine(small7,small77_neg)"
      ],
      "metadata": {
        "colab": {
          "base_uri": "https://localhost:8080/"
        },
        "id": "io_PmWhfyoa2",
        "outputId": "cf607aa2-5fc4-4567-b80b-ce3a7690e01c"
      },
      "execution_count": null,
      "outputs": [
        {
          "output_type": "execute_result",
          "data": {
            "text/plain": [
              "0.591957151889801"
            ]
          },
          "metadata": {},
          "execution_count": 131
        }
      ]
    },
    {
      "cell_type": "markdown",
      "source": [
        "8 try "
      ],
      "metadata": {
        "id": "v3NTIE3M983h"
      }
    },
    {
      "cell_type": "code",
      "source": [
        "small_df.iloc[450,0]"
      ],
      "metadata": {
        "colab": {
          "base_uri": "https://localhost:8080/",
          "height": 35
        },
        "id": "OuYxBGyr99yd",
        "outputId": "e74e20de-db9b-4166-fd26-7bf638145219"
      },
      "execution_count": null,
      "outputs": [
        {
          "output_type": "execute_result",
          "data": {
            "text/plain": [
              "'I can read.'"
            ],
            "application/vnd.google.colaboratory.intrinsic+json": {
              "type": "string"
            }
          },
          "metadata": {},
          "execution_count": 141
        }
      ]
    },
    {
      "cell_type": "code",
      "source": [
        "small_df.iloc[450,1]"
      ],
      "metadata": {
        "colab": {
          "base_uri": "https://localhost:8080/",
          "height": 53
        },
        "id": "G1zWyRh7-oIw",
        "outputId": "313e88f5-585b-4da3-c92d-d5f6c61d2c76"
      },
      "execution_count": null,
      "outputs": [
        {
          "output_type": "execute_result",
          "data": {
            "text/plain": [
              "'I am able to understand what it is the combination of letters on the page are meaning.'"
            ],
            "application/vnd.google.colaboratory.intrinsic+json": {
              "type": "string"
            }
          },
          "metadata": {},
          "execution_count": 143
        }
      ]
    },
    {
      "cell_type": "code",
      "source": [
        "small_df.iloc[450,2]"
      ],
      "metadata": {
        "colab": {
          "base_uri": "https://localhost:8080/",
          "height": 35
        },
        "id": "zygfH9du-M1N",
        "outputId": "2629dc59-049a-4cec-e7cd-df323f09203e"
      },
      "execution_count": null,
      "outputs": [
        {
          "output_type": "execute_result",
          "data": {
            "text/plain": [
              "'I cannot understand what the words on the page mean.'"
            ],
            "application/vnd.google.colaboratory.intrinsic+json": {
              "type": "string"
            }
          },
          "metadata": {},
          "execution_count": 144
        }
      ]
    },
    {
      "cell_type": "code",
      "source": [
        "model.similarity(small_df.iloc[450,0],small_df.iloc[450,1])\n"
      ],
      "metadata": {
        "colab": {
          "base_uri": "https://localhost:8080/"
        },
        "id": "JpxP-wMc-RmW",
        "outputId": "b67dfb55-cc18-4af5-df7a-f58d84dcf51e"
      },
      "execution_count": null,
      "outputs": [
        {
          "output_type": "stream",
          "name": "stderr",
          "text": [
            "100%|██████████| 1/1 [00:00<00:00,  6.36it/s]\n",
            "100%|██████████| 1/1 [00:00<00:00,  4.59it/s]\n"
          ]
        },
        {
          "output_type": "execute_result",
          "data": {
            "text/plain": [
              "0.49029120802879333"
            ]
          },
          "metadata": {},
          "execution_count": 145
        }
      ]
    },
    {
      "cell_type": "code",
      "source": [
        "model.similarity(small_df.iloc[450,1],small_df.iloc[450,2])\n"
      ],
      "metadata": {
        "colab": {
          "base_uri": "https://localhost:8080/"
        },
        "id": "kWWh8Rec-qBS",
        "outputId": "2a89b993-7a47-416e-8da0-4ab380560260"
      },
      "execution_count": null,
      "outputs": [
        {
          "output_type": "stream",
          "name": "stderr",
          "text": [
            "100%|██████████| 1/1 [00:00<00:00,  4.47it/s]\n",
            "100%|██████████| 1/1 [00:00<00:00,  6.36it/s]\n"
          ]
        },
        {
          "output_type": "execute_result",
          "data": {
            "text/plain": [
              "0.7228000164031982"
            ]
          },
          "metadata": {},
          "execution_count": 146
        }
      ]
    },
    {
      "cell_type": "code",
      "source": [
        "model.similarity(small_df.iloc[450,0],small_df.iloc[450,2])\n"
      ],
      "metadata": {
        "colab": {
          "base_uri": "https://localhost:8080/"
        },
        "id": "bG2PpuWa30qD",
        "outputId": "1514ef72-71e7-4431-afe6-ea165dc9874e"
      },
      "execution_count": null,
      "outputs": [
        {
          "output_type": "stream",
          "name": "stderr",
          "text": [
            "100%|██████████| 1/1 [00:00<00:00,  5.63it/s]\n",
            "100%|██████████| 1/1 [00:00<00:00,  6.40it/s]\n"
          ]
        },
        {
          "output_type": "execute_result",
          "data": {
            "text/plain": [
              "0.38609033823013306"
            ]
          },
          "metadata": {},
          "execution_count": 147
        }
      ]
    },
    {
      "cell_type": "code",
      "source": [
        "small8 = model.encode(small_df.iloc[450,0])\n",
        "small88 = model.encode(small_df.iloc[450,1])\n",
        "small88_neg = model.encode(small_df.iloc[450,2])\n",
        "small8 = small8.resize_(64)\n",
        "small88 = small88.resize_(64)\n",
        "small88_neg = small88_neg.resize_(64)"
      ],
      "metadata": {
        "colab": {
          "base_uri": "https://localhost:8080/"
        },
        "id": "3LeIpLF9-lsS",
        "outputId": "23f35b38-8f78-41c0-f8ae-6315d0f453fe"
      },
      "execution_count": null,
      "outputs": [
        {
          "output_type": "stream",
          "name": "stderr",
          "text": [
            "100%|██████████| 1/1 [00:00<00:00,  5.98it/s]\n",
            "100%|██████████| 1/1 [00:00<00:00,  5.16it/s]\n",
            "100%|██████████| 1/1 [00:00<00:00,  6.62it/s]\n"
          ]
        }
      ]
    },
    {
      "cell_type": "code",
      "source": [
        "1 - cosine(small8,small88)"
      ],
      "metadata": {
        "colab": {
          "base_uri": "https://localhost:8080/"
        },
        "id": "iKQnfMbi--Ae",
        "outputId": "62528f8e-fa22-4c2d-c84e-11613c348f8a"
      },
      "execution_count": null,
      "outputs": [
        {
          "output_type": "execute_result",
          "data": {
            "text/plain": [
              "0.5887284874916077"
            ]
          },
          "metadata": {},
          "execution_count": 149
        }
      ]
    },
    {
      "cell_type": "code",
      "source": [
        "1 - cosine(small8,small88_neg)"
      ],
      "metadata": {
        "colab": {
          "base_uri": "https://localhost:8080/"
        },
        "id": "3bxXZi6V_A_x",
        "outputId": "2b1ebba1-788e-42e5-bb31-be1146969914"
      },
      "execution_count": null,
      "outputs": [
        {
          "output_type": "execute_result",
          "data": {
            "text/plain": [
              "0.38956084847450256"
            ]
          },
          "metadata": {},
          "execution_count": 150
        }
      ]
    },
    {
      "cell_type": "code",
      "source": [
        "1 - cosine(small88,small88_neg)"
      ],
      "metadata": {
        "colab": {
          "base_uri": "https://localhost:8080/"
        },
        "id": "62KNgQdp4se3",
        "outputId": "46400f96-e576-4204-f10c-4628128013fc"
      },
      "execution_count": null,
      "outputs": [
        {
          "output_type": "execute_result",
          "data": {
            "text/plain": [
              "0.7445430159568787"
            ]
          },
          "metadata": {},
          "execution_count": 151
        }
      ]
    },
    {
      "cell_type": "markdown",
      "source": [
        "9 try "
      ],
      "metadata": {
        "id": "0zVd_KJP_FoA"
      }
    },
    {
      "cell_type": "code",
      "source": [
        "small_df.iloc[368,0]"
      ],
      "metadata": {
        "colab": {
          "base_uri": "https://localhost:8080/",
          "height": 35
        },
        "id": "opGjQT6m_HoK",
        "outputId": "1859a87e-df97-4b46-d122-c704871008a9"
      },
      "execution_count": null,
      "outputs": [
        {
          "output_type": "execute_result",
          "data": {
            "text/plain": [
              "'The motocross rider wearing blue and black pants.'"
            ],
            "application/vnd.google.colaboratory.intrinsic+json": {
              "type": "string"
            }
          },
          "metadata": {},
          "execution_count": 152
        }
      ]
    },
    {
      "cell_type": "code",
      "source": [
        "small_df.iloc[368,1]"
      ],
      "metadata": {
        "colab": {
          "base_uri": "https://localhost:8080/",
          "height": 35
        },
        "id": "RCGYNrAy_Qk3",
        "outputId": "007db4cd-15ad-445d-adda-d09cf16e85cb"
      },
      "execution_count": null,
      "outputs": [
        {
          "output_type": "execute_result",
          "data": {
            "text/plain": [
              "'The motocross rider wears clothing.'"
            ],
            "application/vnd.google.colaboratory.intrinsic+json": {
              "type": "string"
            }
          },
          "metadata": {},
          "execution_count": 153
        }
      ]
    },
    {
      "cell_type": "code",
      "source": [
        "small_df.iloc[368,2]"
      ],
      "metadata": {
        "colab": {
          "base_uri": "https://localhost:8080/",
          "height": 35
        },
        "id": "BI39oZzZ_PId",
        "outputId": "ebd9228f-c3ce-4138-ad1d-87c9d87bf09e"
      },
      "execution_count": null,
      "outputs": [
        {
          "output_type": "execute_result",
          "data": {
            "text/plain": [
              "'A puppy plays alone.'"
            ],
            "application/vnd.google.colaboratory.intrinsic+json": {
              "type": "string"
            }
          },
          "metadata": {},
          "execution_count": 154
        }
      ]
    },
    {
      "cell_type": "code",
      "source": [
        "model.similarity(small_df.iloc[368,0],small_df.iloc[368,1])\n"
      ],
      "metadata": {
        "colab": {
          "base_uri": "https://localhost:8080/"
        },
        "id": "yfSpRVNy_S_m",
        "outputId": "1366af49-525c-46a6-ead5-93a232190f08"
      },
      "execution_count": null,
      "outputs": [
        {
          "output_type": "stream",
          "name": "stderr",
          "text": [
            "100%|██████████| 1/1 [00:00<00:00,  5.96it/s]\n",
            "100%|██████████| 1/1 [00:00<00:00,  7.62it/s]\n"
          ]
        },
        {
          "output_type": "execute_result",
          "data": {
            "text/plain": [
              "0.8167100548744202"
            ]
          },
          "metadata": {},
          "execution_count": 155
        }
      ]
    },
    {
      "cell_type": "code",
      "source": [
        "model.similarity(small_df.iloc[368,1],small_df.iloc[368,2])\n"
      ],
      "metadata": {
        "colab": {
          "base_uri": "https://localhost:8080/"
        },
        "id": "4K762h6X_X_x",
        "outputId": "6c5670f1-caac-4c00-8d56-5d5b622f6440"
      },
      "execution_count": null,
      "outputs": [
        {
          "output_type": "stream",
          "name": "stderr",
          "text": [
            "100%|██████████| 1/1 [00:00<00:00,  7.68it/s]\n",
            "100%|██████████| 1/1 [00:00<00:00,  8.31it/s]\n"
          ]
        },
        {
          "output_type": "execute_result",
          "data": {
            "text/plain": [
              "-0.039435938000679016"
            ]
          },
          "metadata": {},
          "execution_count": 156
        }
      ]
    },
    {
      "cell_type": "code",
      "source": [
        "model.similarity(small_df.iloc[368,0],small_df.iloc[368,2])\n"
      ],
      "metadata": {
        "colab": {
          "base_uri": "https://localhost:8080/"
        },
        "id": "hbx3kCqt5MsZ",
        "outputId": "c8c022bf-373c-4908-92ef-07013690c765"
      },
      "execution_count": null,
      "outputs": [
        {
          "output_type": "stream",
          "name": "stderr",
          "text": [
            "100%|██████████| 1/1 [00:00<00:00,  5.30it/s]\n",
            "100%|██████████| 1/1 [00:00<00:00,  7.91it/s]\n"
          ]
        },
        {
          "output_type": "execute_result",
          "data": {
            "text/plain": [
              "0.04679647833108902"
            ]
          },
          "metadata": {},
          "execution_count": 157
        }
      ]
    },
    {
      "cell_type": "code",
      "source": [
        "small9 = model.encode(small_df.iloc[368,0])\n",
        "small99 = model.encode(small_df.iloc[368,1])\n",
        "small99_neg = model.encode(small_df.iloc[368,2])\n",
        "small9 = small9.resize_(64)\n",
        "small99 = small99.resize_(64)\n",
        "small99_neg = small99_neg.resize_(64)"
      ],
      "metadata": {
        "colab": {
          "base_uri": "https://localhost:8080/"
        },
        "id": "L5CZ7H8y_gwP",
        "outputId": "cd576d8e-b8a8-4308-b4d4-44eadb833543"
      },
      "execution_count": null,
      "outputs": [
        {
          "output_type": "stream",
          "name": "stderr",
          "text": [
            "100%|██████████| 1/1 [00:00<00:00,  6.55it/s]\n",
            "100%|██████████| 1/1 [00:00<00:00,  7.27it/s]\n",
            "100%|██████████| 1/1 [00:00<00:00,  8.08it/s]\n"
          ]
        }
      ]
    },
    {
      "cell_type": "code",
      "source": [
        "1 - cosine(small9,small99)"
      ],
      "metadata": {
        "colab": {
          "base_uri": "https://localhost:8080/"
        },
        "id": "Xu1DO8s7_1Ir",
        "outputId": "fb95e631-6523-4ef4-ff07-c730ed1abacc"
      },
      "execution_count": null,
      "outputs": [
        {
          "output_type": "execute_result",
          "data": {
            "text/plain": [
              "0.838875412940979"
            ]
          },
          "metadata": {},
          "execution_count": 159
        }
      ]
    },
    {
      "cell_type": "code",
      "source": [
        "1 - cosine(small99,small99_neg)"
      ],
      "metadata": {
        "colab": {
          "base_uri": "https://localhost:8080/"
        },
        "id": "JciGUB0r_9wf",
        "outputId": "077e5936-c720-4b34-9cc3-71627e0483d4"
      },
      "execution_count": null,
      "outputs": [
        {
          "output_type": "execute_result",
          "data": {
            "text/plain": [
              "0.030747773125767708"
            ]
          },
          "metadata": {},
          "execution_count": 160
        }
      ]
    },
    {
      "cell_type": "code",
      "source": [
        "1 - cosine(small9,small99_neg)"
      ],
      "metadata": {
        "colab": {
          "base_uri": "https://localhost:8080/"
        },
        "id": "u4CF76D45j9A",
        "outputId": "ff050bb6-7176-4378-f07b-cb5775c0c764"
      },
      "execution_count": null,
      "outputs": [
        {
          "output_type": "execute_result",
          "data": {
            "text/plain": [
              "0.18870140612125397"
            ]
          },
          "metadata": {},
          "execution_count": 161
        }
      ]
    },
    {
      "cell_type": "markdown",
      "source": [
        "10 try (negative)"
      ],
      "metadata": {
        "id": "WQ3NAlTyAOi4"
      }
    },
    {
      "cell_type": "code",
      "source": [
        "small_df.iloc[139,0]"
      ],
      "metadata": {
        "colab": {
          "base_uri": "https://localhost:8080/",
          "height": 35
        },
        "id": "6wtUtkaPAGHn",
        "outputId": "42c2e865-93dd-45c5-9acd-59f6e7a34dc9"
      },
      "execution_count": null,
      "outputs": [
        {
          "output_type": "execute_result",
          "data": {
            "text/plain": [
              "\"'My idea.\""
            ],
            "application/vnd.google.colaboratory.intrinsic+json": {
              "type": "string"
            }
          },
          "metadata": {},
          "execution_count": 162
        }
      ]
    },
    {
      "cell_type": "code",
      "source": [
        "small_df.iloc[139,1]"
      ],
      "metadata": {
        "colab": {
          "base_uri": "https://localhost:8080/",
          "height": 35
        },
        "id": "FPjIQJn6AW9n",
        "outputId": "f8d14451-eb40-493e-dad7-ad0881bfbcd8"
      },
      "execution_count": null,
      "outputs": [
        {
          "output_type": "execute_result",
          "data": {
            "text/plain": [
              "'The idea was mine.'"
            ],
            "application/vnd.google.colaboratory.intrinsic+json": {
              "type": "string"
            }
          },
          "metadata": {},
          "execution_count": 163
        }
      ]
    },
    {
      "cell_type": "code",
      "source": [
        "small_df.iloc[139,2]"
      ],
      "metadata": {
        "colab": {
          "base_uri": "https://localhost:8080/",
          "height": 35
        },
        "id": "6C83nzttAYZ-",
        "outputId": "7bbb1ce1-7280-4de6-a5ff-0b5db2b77610"
      },
      "execution_count": null,
      "outputs": [
        {
          "output_type": "execute_result",
          "data": {
            "text/plain": [
              "\"Wasn't my idea. \""
            ],
            "application/vnd.google.colaboratory.intrinsic+json": {
              "type": "string"
            }
          },
          "metadata": {},
          "execution_count": 164
        }
      ]
    },
    {
      "cell_type": "code",
      "source": [
        "model.similarity(small_df.iloc[139,0],small_df.iloc[139,1])\n"
      ],
      "metadata": {
        "colab": {
          "base_uri": "https://localhost:8080/"
        },
        "id": "kEYfYxyiAbr6",
        "outputId": "bb054c41-d667-426f-cba6-59e179f980b5"
      },
      "execution_count": null,
      "outputs": [
        {
          "output_type": "stream",
          "name": "stderr",
          "text": [
            "100%|██████████| 1/1 [00:00<00:00,  8.63it/s]\n",
            "100%|██████████| 1/1 [00:00<00:00,  8.65it/s]\n"
          ]
        },
        {
          "output_type": "execute_result",
          "data": {
            "text/plain": [
              "0.7370314598083496"
            ]
          },
          "metadata": {},
          "execution_count": 165
        }
      ]
    },
    {
      "cell_type": "code",
      "source": [
        "model.similarity(small_df.iloc[139,1],small_df.iloc[139,2])\n"
      ],
      "metadata": {
        "colab": {
          "base_uri": "https://localhost:8080/"
        },
        "id": "p69nokXpAgrm",
        "outputId": "856d9e3a-65e4-4a73-875c-e22cddcc0a27"
      },
      "execution_count": null,
      "outputs": [
        {
          "output_type": "stream",
          "name": "stderr",
          "text": [
            "100%|██████████| 1/1 [00:00<00:00,  6.74it/s]\n",
            "100%|██████████| 1/1 [00:00<00:00,  6.39it/s]\n"
          ]
        },
        {
          "output_type": "execute_result",
          "data": {
            "text/plain": [
              "0.4896235167980194"
            ]
          },
          "metadata": {},
          "execution_count": 166
        }
      ]
    },
    {
      "cell_type": "code",
      "source": [
        "model.similarity(small_df.iloc[139,0],small_df.iloc[139,2])\n"
      ],
      "metadata": {
        "colab": {
          "base_uri": "https://localhost:8080/"
        },
        "id": "p54nneAf6APc",
        "outputId": "2ac724de-cd36-44a6-8fe1-1d14102ae3aa"
      },
      "execution_count": null,
      "outputs": [
        {
          "output_type": "stream",
          "name": "stderr",
          "text": [
            "100%|██████████| 1/1 [00:00<00:00,  7.74it/s]\n",
            "100%|██████████| 1/1 [00:00<00:00,  7.82it/s]\n"
          ]
        },
        {
          "output_type": "execute_result",
          "data": {
            "text/plain": [
              "0.4910527765750885"
            ]
          },
          "metadata": {},
          "execution_count": 167
        }
      ]
    },
    {
      "cell_type": "code",
      "source": [
        "small10 = model.encode(small_df.iloc[139,0])\n",
        "small1010 = model.encode(small_df.iloc[139,1])\n",
        "small1010_neg = model.encode(small_df.iloc[139,2])\n",
        "small10 = small10.resize_(64)\n",
        "small1010 = small1010.resize_(64)\n",
        "small1010_neg = small1010_neg.resize_(64)"
      ],
      "metadata": {
        "colab": {
          "base_uri": "https://localhost:8080/"
        },
        "id": "UloF9sjEAnEv",
        "outputId": "9650c104-6108-473b-f2b6-7654b6b6c30c"
      },
      "execution_count": null,
      "outputs": [
        {
          "output_type": "stream",
          "name": "stderr",
          "text": [
            "100%|██████████| 1/1 [00:00<00:00,  6.41it/s]\n",
            "100%|██████████| 1/1 [00:00<00:00,  7.34it/s]\n",
            "100%|██████████| 1/1 [00:00<00:00,  4.24it/s]\n"
          ]
        }
      ]
    },
    {
      "cell_type": "code",
      "source": [
        "1 - cosine(small10,small1010)"
      ],
      "metadata": {
        "colab": {
          "base_uri": "https://localhost:8080/"
        },
        "id": "o1NxzkORAypG",
        "outputId": "1fd3934e-5b5c-435b-e78a-55a00e14e1bc"
      },
      "execution_count": null,
      "outputs": [
        {
          "output_type": "execute_result",
          "data": {
            "text/plain": [
              "0.796205997467041"
            ]
          },
          "metadata": {},
          "execution_count": 169
        }
      ]
    },
    {
      "cell_type": "code",
      "source": [
        "1 - cosine(small1010,small1010_neg)"
      ],
      "metadata": {
        "colab": {
          "base_uri": "https://localhost:8080/"
        },
        "id": "bbetKwYGA1ce",
        "outputId": "d09f6f34-2f6d-4287-e357-acd53d41a5b0"
      },
      "execution_count": null,
      "outputs": [
        {
          "output_type": "execute_result",
          "data": {
            "text/plain": [
              "0.33862513303756714"
            ]
          },
          "metadata": {},
          "execution_count": 170
        }
      ]
    },
    {
      "cell_type": "code",
      "source": [
        "1 - cosine(small10,small1010_neg)"
      ],
      "metadata": {
        "colab": {
          "base_uri": "https://localhost:8080/"
        },
        "id": "WJTuThjD6Sbf",
        "outputId": "f5c700af-614e-49e2-b1d1-efab8f4192b9"
      },
      "execution_count": null,
      "outputs": [
        {
          "output_type": "execute_result",
          "data": {
            "text/plain": [
              "0.40116822719573975"
            ]
          },
          "metadata": {},
          "execution_count": 171
        }
      ]
    },
    {
      "cell_type": "markdown",
      "source": [
        "<b> Test Case 2 : Medium phrase > 10 words & < 20 words <b>"
      ],
      "metadata": {
        "id": "F17iiHvO6Zbo"
      }
    },
    {
      "cell_type": "markdown",
      "source": [
        "1 try"
      ],
      "metadata": {
        "id": "muFRGqHH6vdK"
      }
    },
    {
      "cell_type": "code",
      "source": [
        "medium_df.iloc[100,0]"
      ],
      "metadata": {
        "colab": {
          "base_uri": "https://localhost:8080/",
          "height": 35
        },
        "id": "42OF57zh66Pd",
        "outputId": "436e5b65-a3b2-4de8-ab87-b2db16572fdc"
      },
      "execution_count": null,
      "outputs": [
        {
          "output_type": "execute_result",
          "data": {
            "text/plain": [
              "'Two kids, one wearing white one wearing red, playing in the water on a beach.'"
            ],
            "application/vnd.google.colaboratory.intrinsic+json": {
              "type": "string"
            }
          },
          "metadata": {},
          "execution_count": 189
        }
      ]
    },
    {
      "cell_type": "code",
      "source": [
        "medium_df.iloc[100,1]"
      ],
      "metadata": {
        "colab": {
          "base_uri": "https://localhost:8080/",
          "height": 35
        },
        "id": "EJB7yeHg68oE",
        "outputId": "59aca045-5f76-4e7d-b1c3-7d1ab2d92b15"
      },
      "execution_count": null,
      "outputs": [
        {
          "output_type": "execute_result",
          "data": {
            "text/plain": [
              "'There are kids outside.'"
            ],
            "application/vnd.google.colaboratory.intrinsic+json": {
              "type": "string"
            }
          },
          "metadata": {},
          "execution_count": 190
        }
      ]
    },
    {
      "cell_type": "code",
      "source": [
        "medium_df.iloc[100,2]"
      ],
      "metadata": {
        "colab": {
          "base_uri": "https://localhost:8080/",
          "height": 35
        },
        "id": "m9IjPsHJ69nZ",
        "outputId": "cf0d3755-7549-4ad2-f121-59a9755e8d54"
      },
      "execution_count": null,
      "outputs": [
        {
          "output_type": "execute_result",
          "data": {
            "text/plain": [
              "'The kids are in an airplane.'"
            ],
            "application/vnd.google.colaboratory.intrinsic+json": {
              "type": "string"
            }
          },
          "metadata": {},
          "execution_count": 191
        }
      ]
    },
    {
      "cell_type": "code",
      "source": [
        "model.similarity(medium_df.iloc[100,0],medium_df.iloc[100,1])\n"
      ],
      "metadata": {
        "colab": {
          "base_uri": "https://localhost:8080/"
        },
        "id": "xwppkwXt8CxY",
        "outputId": "ec04a727-eca7-4875-da75-174d6a52099c"
      },
      "execution_count": null,
      "outputs": [
        {
          "output_type": "stream",
          "name": "stderr",
          "text": [
            "100%|██████████| 1/1 [00:00<00:00,  4.43it/s]\n",
            "100%|██████████| 1/1 [00:00<00:00,  7.35it/s]\n"
          ]
        },
        {
          "output_type": "execute_result",
          "data": {
            "text/plain": [
              "0.6418862342834473"
            ]
          },
          "metadata": {},
          "execution_count": 192
        }
      ]
    },
    {
      "cell_type": "code",
      "source": [
        "model.similarity(medium_df.iloc[100,1],medium_df.iloc[100,2])\n"
      ],
      "metadata": {
        "colab": {
          "base_uri": "https://localhost:8080/"
        },
        "id": "5YAOzOnz8ITl",
        "outputId": "b09bf921-9d6e-42d2-d64c-3c74fc22ae35"
      },
      "execution_count": null,
      "outputs": [
        {
          "output_type": "stream",
          "name": "stderr",
          "text": [
            "100%|██████████| 1/1 [00:00<00:00,  6.00it/s]\n",
            "100%|██████████| 1/1 [00:00<00:00,  6.25it/s]\n"
          ]
        },
        {
          "output_type": "execute_result",
          "data": {
            "text/plain": [
              "0.4563589096069336"
            ]
          },
          "metadata": {},
          "execution_count": 193
        }
      ]
    },
    {
      "cell_type": "code",
      "source": [
        "model.similarity(medium_df.iloc[100,0],medium_df.iloc[100,2])\n"
      ],
      "metadata": {
        "colab": {
          "base_uri": "https://localhost:8080/"
        },
        "id": "PO4sO4EO8KFu",
        "outputId": "156614cc-a3ac-40a0-93e3-97b221ac1671"
      },
      "execution_count": null,
      "outputs": [
        {
          "output_type": "stream",
          "name": "stderr",
          "text": [
            "100%|██████████| 1/1 [00:00<00:00,  4.78it/s]\n",
            "100%|██████████| 1/1 [00:00<00:00,  8.12it/s]\n"
          ]
        },
        {
          "output_type": "execute_result",
          "data": {
            "text/plain": [
              "0.24781277775764465"
            ]
          },
          "metadata": {},
          "execution_count": 194
        }
      ]
    },
    {
      "cell_type": "code",
      "source": [
        "medium1 = model.encode(medium_df.iloc[100,0])\n",
        "medium11 = model.encode(medium_df.iloc[100,1])\n",
        "medium11_neg = model.encode(medium_df.iloc[100,2])\n",
        "medium1 = medium1.resize_(64)\n",
        "medium11 = medium11.resize_(64)\n",
        "medium11_neg = medium11_neg.resize_(64)"
      ],
      "metadata": {
        "colab": {
          "base_uri": "https://localhost:8080/"
        },
        "id": "nFp8OfX28Sro",
        "outputId": "f0ef52ac-3a80-4580-cb18-f3aada51db8e"
      },
      "execution_count": null,
      "outputs": [
        {
          "output_type": "stream",
          "name": "stderr",
          "text": [
            "100%|██████████| 1/1 [00:00<00:00,  4.49it/s]\n",
            "100%|██████████| 1/1 [00:00<00:00,  6.14it/s]\n",
            "100%|██████████| 1/1 [00:00<00:00,  6.22it/s]\n"
          ]
        }
      ]
    },
    {
      "cell_type": "code",
      "source": [
        "1 - cosine(medium1,medium11)"
      ],
      "metadata": {
        "colab": {
          "base_uri": "https://localhost:8080/"
        },
        "id": "815XRsSt8pbW",
        "outputId": "942b3d44-c0b3-4506-dd6a-1203fecf8ef1"
      },
      "execution_count": null,
      "outputs": [
        {
          "output_type": "execute_result",
          "data": {
            "text/plain": [
              "0.7547147274017334"
            ]
          },
          "metadata": {},
          "execution_count": 197
        }
      ]
    },
    {
      "cell_type": "code",
      "source": [
        "1 - cosine(medium11,medium11_neg)"
      ],
      "metadata": {
        "colab": {
          "base_uri": "https://localhost:8080/"
        },
        "id": "f1hUdbVi8rk9",
        "outputId": "b568a6aa-d513-488f-ee60-dee44c4920ab"
      },
      "execution_count": null,
      "outputs": [
        {
          "output_type": "execute_result",
          "data": {
            "text/plain": [
              "0.5142351984977722"
            ]
          },
          "metadata": {},
          "execution_count": 198
        }
      ]
    },
    {
      "cell_type": "code",
      "source": [
        "1 - cosine(medium1,medium11_neg)"
      ],
      "metadata": {
        "colab": {
          "base_uri": "https://localhost:8080/"
        },
        "id": "ierfTpUt8s5C",
        "outputId": "4a63ba28-8651-422f-ce13-ecc85cd83c21"
      },
      "execution_count": null,
      "outputs": [
        {
          "output_type": "execute_result",
          "data": {
            "text/plain": [
              "0.27869072556495667"
            ]
          },
          "metadata": {},
          "execution_count": 196
        }
      ]
    },
    {
      "cell_type": "markdown",
      "source": [
        "2 try"
      ],
      "metadata": {
        "id": "biBq2_KX8yEN"
      }
    },
    {
      "cell_type": "code",
      "source": [
        "print(medium_df.iloc[50,0])\n",
        "print(medium_df.iloc[50,1])\n",
        "print(medium_df.iloc[50,2])"
      ],
      "metadata": {
        "colab": {
          "base_uri": "https://localhost:8080/"
        },
        "id": "wQ7UWIg08yzT",
        "outputId": "cce35cdc-7e7c-4197-892b-6146b11c0927"
      },
      "execution_count": null,
      "outputs": [
        {
          "output_type": "stream",
          "name": "stdout",
          "text": [
            "A young boy wearing safety goggles in watching others saw through something metal.\n",
            "A boy is looking at other people.\n",
            "A boy is alone by himself in an elevator.\n"
          ]
        }
      ]
    },
    {
      "cell_type": "code",
      "source": [
        "model.similarity(medium_df.iloc[50,0],medium_df.iloc[50,1])\n"
      ],
      "metadata": {
        "colab": {
          "base_uri": "https://localhost:8080/"
        },
        "id": "7LEVKc2o9IrW",
        "outputId": "869b806d-32cc-42db-9e74-ef572cf630ad"
      },
      "execution_count": null,
      "outputs": [
        {
          "output_type": "stream",
          "name": "stderr",
          "text": [
            "100%|██████████| 1/1 [00:00<00:00,  3.93it/s]\n",
            "100%|██████████| 1/1 [00:00<00:00,  6.67it/s]\n"
          ]
        },
        {
          "output_type": "execute_result",
          "data": {
            "text/plain": [
              "0.6744619607925415"
            ]
          },
          "metadata": {},
          "execution_count": 201
        }
      ]
    },
    {
      "cell_type": "code",
      "source": [
        "model.similarity(medium_df.iloc[50,1],medium_df.iloc[50,2])\n"
      ],
      "metadata": {
        "colab": {
          "base_uri": "https://localhost:8080/"
        },
        "id": "f90kpbs-9MQa",
        "outputId": "c9592667-3203-4915-b4a5-24a67cefc7f8"
      },
      "execution_count": null,
      "outputs": [
        {
          "output_type": "stream",
          "name": "stderr",
          "text": [
            "100%|██████████| 1/1 [00:00<00:00,  7.39it/s]\n",
            "100%|██████████| 1/1 [00:00<00:00,  7.15it/s]\n"
          ]
        },
        {
          "output_type": "execute_result",
          "data": {
            "text/plain": [
              "0.2787923514842987"
            ]
          },
          "metadata": {},
          "execution_count": 202
        }
      ]
    },
    {
      "cell_type": "code",
      "source": [
        "model.similarity(medium_df.iloc[50,0],medium_df.iloc[50,2])\n"
      ],
      "metadata": {
        "colab": {
          "base_uri": "https://localhost:8080/"
        },
        "id": "icOmCOmF9Svm",
        "outputId": "af156b8e-b931-47f6-a520-cee77a22da3c"
      },
      "execution_count": null,
      "outputs": [
        {
          "output_type": "stream",
          "name": "stderr",
          "text": [
            "100%|██████████| 1/1 [00:00<00:00,  6.14it/s]\n",
            "100%|██████████| 1/1 [00:00<00:00,  6.62it/s]\n"
          ]
        },
        {
          "output_type": "execute_result",
          "data": {
            "text/plain": [
              "0.16354185342788696"
            ]
          },
          "metadata": {},
          "execution_count": 203
        }
      ]
    },
    {
      "cell_type": "code",
      "source": [
        "medium2 = model.encode(medium_df.iloc[50,0])\n",
        "medium22 = model.encode(medium_df.iloc[50,1])\n",
        "medium22_neg = model.encode(medium_df.iloc[50,2])\n",
        "medium2 = medium2.resize_(64)\n",
        "medium22 = medium22.resize_(64)\n",
        "medium22_neg = medium22_neg.resize_(64)"
      ],
      "metadata": {
        "colab": {
          "base_uri": "https://localhost:8080/"
        },
        "id": "vr6Xcze-9YWn",
        "outputId": "fef871ce-82b9-4a84-8873-038bed65cf11"
      },
      "execution_count": null,
      "outputs": [
        {
          "output_type": "stream",
          "name": "stderr",
          "text": [
            "100%|██████████| 1/1 [00:00<00:00,  5.19it/s]\n",
            "100%|██████████| 1/1 [00:00<00:00,  6.00it/s]\n",
            "100%|██████████| 1/1 [00:00<00:00,  5.50it/s]\n"
          ]
        }
      ]
    },
    {
      "cell_type": "code",
      "source": [
        "1 - cosine(medium2,medium22)"
      ],
      "metadata": {
        "colab": {
          "base_uri": "https://localhost:8080/"
        },
        "id": "igJQ9rgP9gBY",
        "outputId": "9ec55263-341f-4f1b-f5af-e3eb1d965a39"
      },
      "execution_count": null,
      "outputs": [
        {
          "output_type": "execute_result",
          "data": {
            "text/plain": [
              "0.6261547207832336"
            ]
          },
          "metadata": {},
          "execution_count": 205
        }
      ]
    },
    {
      "cell_type": "code",
      "source": [
        "1 - cosine(medium22,medium22_neg)"
      ],
      "metadata": {
        "colab": {
          "base_uri": "https://localhost:8080/"
        },
        "id": "hO_apqdP9jDR",
        "outputId": "4c62793a-8b3a-4265-d4dd-5b6cd4349297"
      },
      "execution_count": null,
      "outputs": [
        {
          "output_type": "execute_result",
          "data": {
            "text/plain": [
              "0.2531001567840576"
            ]
          },
          "metadata": {},
          "execution_count": 206
        }
      ]
    },
    {
      "cell_type": "code",
      "source": [
        "1 - cosine(medium2,medium22_neg)"
      ],
      "metadata": {
        "colab": {
          "base_uri": "https://localhost:8080/"
        },
        "id": "Io8jfXU19kve",
        "outputId": "c5aa4006-fcb0-4f9e-9541-484a679eafec"
      },
      "execution_count": null,
      "outputs": [
        {
          "output_type": "execute_result",
          "data": {
            "text/plain": [
              "0.20584343373775482"
            ]
          },
          "metadata": {},
          "execution_count": 207
        }
      ]
    },
    {
      "cell_type": "markdown",
      "source": [
        "3 try "
      ],
      "metadata": {
        "id": "-buj652F9nhO"
      }
    },
    {
      "cell_type": "code",
      "source": [
        "print(medium_df.iloc[125,0])\n",
        "print(medium_df.iloc[125,1])\n",
        "print(medium_df.iloc[125,2])"
      ],
      "metadata": {
        "colab": {
          "base_uri": "https://localhost:8080/"
        },
        "id": "5T-zOMYl9oG2",
        "outputId": "63da2764-003c-4840-f68d-28296fa95b3b"
      },
      "execution_count": null,
      "outputs": [
        {
          "output_type": "stream",
          "name": "stdout",
          "text": [
            "A red plane flying over a boat as it trails pink smoke.\n",
            "There is a plane in the sky.\n",
            "A plane crashes into a boat.\n"
          ]
        }
      ]
    },
    {
      "cell_type": "code",
      "source": [
        "model.similarity(medium_df.iloc[125,0],medium_df.iloc[125,1])\n"
      ],
      "metadata": {
        "colab": {
          "base_uri": "https://localhost:8080/"
        },
        "id": "665hWpm_-T-I",
        "outputId": "b6058f85-9cde-4520-a3e5-6e16992f212e"
      },
      "execution_count": null,
      "outputs": [
        {
          "output_type": "stream",
          "name": "stderr",
          "text": [
            "100%|██████████| 1/1 [00:00<00:00,  2.67it/s]\n",
            "100%|██████████| 1/1 [00:00<00:00,  4.93it/s]\n"
          ]
        },
        {
          "output_type": "execute_result",
          "data": {
            "text/plain": [
              "0.660590648651123"
            ]
          },
          "metadata": {},
          "execution_count": 210
        }
      ]
    },
    {
      "cell_type": "code",
      "source": [
        "model.similarity(medium_df.iloc[125,1],medium_df.iloc[125,2])\n"
      ],
      "metadata": {
        "colab": {
          "base_uri": "https://localhost:8080/"
        },
        "id": "YHv77lBE-YOQ",
        "outputId": "ed439ec6-e21f-4a38-bfb5-fd53619d1bf0"
      },
      "execution_count": null,
      "outputs": [
        {
          "output_type": "stream",
          "name": "stderr",
          "text": [
            "100%|██████████| 1/1 [00:00<00:00,  8.12it/s]\n",
            "100%|██████████| 1/1 [00:00<00:00,  7.75it/s]\n"
          ]
        },
        {
          "output_type": "execute_result",
          "data": {
            "text/plain": [
              "0.5971212387084961"
            ]
          },
          "metadata": {},
          "execution_count": 211
        }
      ]
    },
    {
      "cell_type": "code",
      "source": [
        "model.similarity(medium_df.iloc[125,0],medium_df.iloc[125,2])\n"
      ],
      "metadata": {
        "colab": {
          "base_uri": "https://localhost:8080/"
        },
        "id": "QiF3v9To-aKG",
        "outputId": "0ea14386-0824-4764-8b38-98e9ee28dd0f"
      },
      "execution_count": null,
      "outputs": [
        {
          "output_type": "stream",
          "name": "stderr",
          "text": [
            "100%|██████████| 1/1 [00:00<00:00,  5.65it/s]\n",
            "100%|██████████| 1/1 [00:00<00:00,  7.11it/s]\n"
          ]
        },
        {
          "output_type": "execute_result",
          "data": {
            "text/plain": [
              "0.5179123878479004"
            ]
          },
          "metadata": {},
          "execution_count": 212
        }
      ]
    },
    {
      "cell_type": "code",
      "source": [
        "medium3 = model.encode(medium_df.iloc[125,0])\n",
        "medium33 = model.encode(medium_df.iloc[125,1])\n",
        "medium33_neg = model.encode(medium_df.iloc[125,2])\n",
        "medium3 = medium3.resize_(64)\n",
        "medium33 = medium33.resize_(64)\n",
        "medium33_neg = medium33_neg.resize_(64)"
      ],
      "metadata": {
        "colab": {
          "base_uri": "https://localhost:8080/"
        },
        "id": "SsXOnQWT-d0y",
        "outputId": "17a6898c-5713-4b62-9b18-9850ec09636f"
      },
      "execution_count": null,
      "outputs": [
        {
          "output_type": "stream",
          "name": "stderr",
          "text": [
            "100%|██████████| 1/1 [00:00<00:00,  5.53it/s]\n",
            "100%|██████████| 1/1 [00:00<00:00,  6.55it/s]\n",
            "100%|██████████| 1/1 [00:00<00:00,  6.58it/s]\n"
          ]
        }
      ]
    },
    {
      "cell_type": "code",
      "source": [
        "print(1 - cosine(medium3,medium33))\n",
        "print(1 - cosine(medium33,medium33_neg))\n",
        "print(1 - cosine(medium3,medium33_neg))"
      ],
      "metadata": {
        "colab": {
          "base_uri": "https://localhost:8080/"
        },
        "id": "dtGdWHLc-k_1",
        "outputId": "f850d981-4643-4a03-963f-97d821102587"
      },
      "execution_count": null,
      "outputs": [
        {
          "output_type": "stream",
          "name": "stdout",
          "text": [
            "0.6113825440406799\n",
            "0.6036392450332642\n",
            "0.4909999668598175\n"
          ]
        }
      ]
    },
    {
      "cell_type": "markdown",
      "source": [
        "4 try"
      ],
      "metadata": {
        "id": "fd9DhcSo-2CK"
      }
    },
    {
      "cell_type": "code",
      "source": [
        "print(medium_df.iloc[275,0])\n",
        "print(medium_df.iloc[275,1])\n",
        "print(medium_df.iloc[275,2])"
      ],
      "metadata": {
        "colab": {
          "base_uri": "https://localhost:8080/"
        },
        "id": "eYZz3ASk-2q-",
        "outputId": "12551c82-53d4-481e-9408-06bbf25b0195"
      },
      "execution_count": null,
      "outputs": [
        {
          "output_type": "stream",
          "name": "stdout",
          "text": [
            "Two people are walking on the street toward a colorful mural on the side of a building.\n",
            "Two people walking outside near a decorated building.\n",
            "Two people are skipping on the street toward a colorful mural on the side of a building.\n"
          ]
        }
      ]
    },
    {
      "cell_type": "code",
      "source": [
        "medium4 = model.encode(medium_df.iloc[275,0])\n",
        "medium44 = model.encode(medium_df.iloc[275,1])\n",
        "medium44_neg = model.encode(medium_df.iloc[275,2])\n",
        "print('-----------------')\n",
        "print(1 - cosine(medium4,medium44))\n",
        "print(1 - cosine(medium44,medium44_neg))\n",
        "print(1 - cosine(medium4,medium44_neg))"
      ],
      "metadata": {
        "colab": {
          "base_uri": "https://localhost:8080/"
        },
        "id": "hLUx8VwY--ek",
        "outputId": "85145870-e414-44cb-f323-0a0eaf64a786"
      },
      "execution_count": null,
      "outputs": [
        {
          "output_type": "stream",
          "name": "stderr",
          "text": [
            "100%|██████████| 1/1 [00:00<00:00,  4.75it/s]\n",
            "100%|██████████| 1/1 [00:00<00:00,  7.38it/s]\n",
            "100%|██████████| 1/1 [00:00<00:00,  5.55it/s]\n"
          ]
        },
        {
          "output_type": "stream",
          "name": "stdout",
          "text": [
            "-----------------\n",
            "0.8276210427284241\n",
            "0.6100082397460938\n",
            "0.718060314655304\n"
          ]
        }
      ]
    },
    {
      "cell_type": "code",
      "source": [
        "medium4 = medium4.resize_(64)\n",
        "medium44 = medium44.resize_(64)\n",
        "medium44_neg = medium44_neg.resize_(64)\n",
        "print('-----------------')\n",
        "print(1 - cosine(medium4,medium44))\n",
        "print(1 - cosine(medium44,medium44_neg))\n",
        "print(1 - cosine(medium4,medium44_neg))"
      ],
      "metadata": {
        "colab": {
          "base_uri": "https://localhost:8080/"
        },
        "id": "RnQk4fu1--k0",
        "outputId": "a39ae269-a40b-40aa-c721-12dae887df98"
      },
      "execution_count": null,
      "outputs": [
        {
          "output_type": "stream",
          "name": "stdout",
          "text": [
            "-----------------\n",
            "0.802506148815155\n",
            "0.5492473244667053\n",
            "0.6776707768440247\n"
          ]
        }
      ]
    },
    {
      "cell_type": "markdown",
      "source": [
        "5 try"
      ],
      "metadata": {
        "id": "4cmYyjvd__4n"
      }
    },
    {
      "cell_type": "code",
      "source": [
        "print(medium_df.iloc[325,0])\n",
        "print(medium_df.iloc[325,1])\n",
        "print(medium_df.iloc[325,2])"
      ],
      "metadata": {
        "colab": {
          "base_uri": "https://localhost:8080/"
        },
        "id": "fK0y_nihAAaQ",
        "outputId": "de95abc4-5fea-4cb5-ed97-daee2c2275ee"
      },
      "execution_count": null,
      "outputs": [
        {
          "output_type": "stream",
          "name": "stdout",
          "text": [
            "A black dog wearing an orange collar is entangled with fishing wire.\n",
            "A dog has gotten caught within fishing wire.\n",
            "A black dog is untangled from the fishing wire.\n"
          ]
        }
      ]
    },
    {
      "cell_type": "code",
      "source": [
        "medium5 = model.encode(medium_df.iloc[325,0])\n",
        "medium55 = model.encode(medium_df.iloc[325,1])\n",
        "medium55_neg = model.encode(medium_df.iloc[325,2])\n",
        "print('------------------')\n",
        "print(1 - cosine(medium5,medium55))\n",
        "print(1 - cosine(medium55,medium55_neg))\n",
        "print(1 - cosine(medium5,medium55_neg))"
      ],
      "metadata": {
        "colab": {
          "base_uri": "https://localhost:8080/"
        },
        "id": "NOMkSTucAc7H",
        "outputId": "8bf66184-32e9-4a1d-ff63-2d38f97adf20"
      },
      "execution_count": null,
      "outputs": [
        {
          "output_type": "stream",
          "name": "stderr",
          "text": [
            "100%|██████████| 1/1 [00:00<00:00,  3.10it/s]\n",
            "100%|██████████| 1/1 [00:00<00:00,  6.06it/s]\n",
            "100%|██████████| 1/1 [00:00<00:00,  5.27it/s]"
          ]
        },
        {
          "output_type": "stream",
          "name": "stdout",
          "text": [
            "------------------\n",
            "0.782781183719635\n",
            "0.8341248035430908\n",
            "0.8695409893989563\n"
          ]
        },
        {
          "output_type": "stream",
          "name": "stderr",
          "text": [
            "\n"
          ]
        }
      ]
    },
    {
      "cell_type": "code",
      "source": [
        "medium5 = medium5.resize_(64)\n",
        "medium55 = medium55.resize_(64)\n",
        "medium55_neg = medium55_neg.resize_(64)\n",
        "print('-----------------')\n",
        "print(1 - cosine(medium5,medium55))\n",
        "print(1 - cosine(medium55,medium55_neg))\n",
        "print(1 - cosine(medium5,medium55_neg))"
      ],
      "metadata": {
        "colab": {
          "base_uri": "https://localhost:8080/"
        },
        "id": "NDtO-C69A280",
        "outputId": "699a143a-17c2-48ea-d6a2-539de5d2156d"
      },
      "execution_count": null,
      "outputs": [
        {
          "output_type": "stream",
          "name": "stdout",
          "text": [
            "-----------------\n",
            "0.7548390030860901\n",
            "0.847226619720459\n",
            "0.8560105562210083\n"
          ]
        }
      ]
    },
    {
      "cell_type": "markdown",
      "source": [
        "6 try"
      ],
      "metadata": {
        "id": "_LNzPaq4BDYm"
      }
    },
    {
      "cell_type": "code",
      "source": [
        "print(medium_df.iloc[475,0])\n",
        "print(medium_df.iloc[475,1])\n",
        "print(medium_df.iloc[475,2])"
      ],
      "metadata": {
        "colab": {
          "base_uri": "https://localhost:8080/"
        },
        "id": "bnadZFf9BEIr",
        "outputId": "85d55b46-3929-4eea-9a3c-59c90335cdb1"
      },
      "execution_count": null,
      "outputs": [
        {
          "output_type": "stream",
          "name": "stdout",
          "text": [
            "I do not have the energy to remedy these deficiencies now.\n",
            "I don't have the strength to fix these problems now.\n",
            "I am very ready to address those deficiencies now. \n"
          ]
        }
      ]
    },
    {
      "cell_type": "code",
      "source": [
        "medium6 = model.encode(medium_df.iloc[475,0])\n",
        "medium66 = model.encode(medium_df.iloc[475,1])\n",
        "medium66_neg = model.encode(medium_df.iloc[475,2])\n",
        "print('------------------')\n",
        "print(1 - cosine(medium6,medium66))\n",
        "print(1 - cosine(medium66,medium66_neg))\n",
        "print(1 - cosine(medium6,medium66_neg))"
      ],
      "metadata": {
        "colab": {
          "base_uri": "https://localhost:8080/"
        },
        "id": "VgyuDalIBL3W",
        "outputId": "671cdf59-135a-4f7b-ac69-f4681cd68c5f"
      },
      "execution_count": null,
      "outputs": [
        {
          "output_type": "stream",
          "name": "stderr",
          "text": [
            "100%|██████████| 1/1 [00:00<00:00,  4.27it/s]\n",
            "100%|██████████| 1/1 [00:00<00:00,  6.56it/s]\n",
            "100%|██████████| 1/1 [00:00<00:00,  6.09it/s]"
          ]
        },
        {
          "output_type": "stream",
          "name": "stdout",
          "text": [
            "------------------\n",
            "0.9269535541534424\n",
            "0.4673035740852356\n",
            "0.531039297580719\n"
          ]
        },
        {
          "output_type": "stream",
          "name": "stderr",
          "text": [
            "\n"
          ]
        }
      ]
    },
    {
      "cell_type": "code",
      "source": [
        "medium6 = medium6.resize_(64)\n",
        "medium66 = medium66.resize_(64)\n",
        "medium66_neg = medium66_neg.resize_(64)\n",
        "print('-----------------')\n",
        "print(1 - cosine(medium6,medium66))\n",
        "print(1 - cosine(medium66,medium66_neg))\n",
        "print(1 - cosine(medium6,medium66_neg))"
      ],
      "metadata": {
        "colab": {
          "base_uri": "https://localhost:8080/"
        },
        "id": "gujw8xD2BU-W",
        "outputId": "ca52d9e7-ec26-46eb-ae1d-6b91fa3d0957"
      },
      "execution_count": null,
      "outputs": [
        {
          "output_type": "stream",
          "name": "stdout",
          "text": [
            "-----------------\n",
            "0.9224339723587036\n",
            "0.5231744050979614\n",
            "0.6260664463043213\n"
          ]
        }
      ]
    },
    {
      "cell_type": "markdown",
      "source": [
        "7 try"
      ],
      "metadata": {
        "id": "fktSTkGYBke_"
      }
    },
    {
      "cell_type": "code",
      "source": [
        "print(medium_df.iloc[268,0])\n",
        "print(medium_df.iloc[268,1])\n",
        "print(medium_df.iloc[268,2])"
      ],
      "metadata": {
        "colab": {
          "base_uri": "https://localhost:8080/"
        },
        "id": "zDoJu-nCBlJZ",
        "outputId": "b7dcf0cb-7f1b-43ce-b30e-a18b29cefcd3"
      },
      "execution_count": null,
      "outputs": [
        {
          "output_type": "stream",
          "name": "stdout",
          "text": [
            "Many people are walking around shopping in a brightly lit and colorful shopping mall.\n",
            "The mall is crowded with people shopping.\n",
            "The mall is closed for the day.\n"
          ]
        }
      ]
    },
    {
      "cell_type": "code",
      "source": [
        "medium7 = model.encode(medium_df.iloc[268,0])\n",
        "medium77 = model.encode(medium_df.iloc[268,1])\n",
        "medium77_neg = model.encode(medium_df.iloc[268,2])\n",
        "print('------------------')\n",
        "print(1 - cosine(medium7,medium77))\n",
        "print(1 - cosine(medium77,medium77_neg))\n",
        "print(1 - cosine(medium7,medium77_neg))"
      ],
      "metadata": {
        "colab": {
          "base_uri": "https://localhost:8080/"
        },
        "id": "gD7-YCdpBqgR",
        "outputId": "7301f715-67fe-4c17-dc2d-45db73420b03"
      },
      "execution_count": null,
      "outputs": [
        {
          "output_type": "stream",
          "name": "stderr",
          "text": [
            "100%|██████████| 1/1 [00:00<00:00,  5.94it/s]\n",
            "100%|██████████| 1/1 [00:00<00:00,  7.44it/s]\n",
            "100%|██████████| 1/1 [00:00<00:00,  7.47it/s]"
          ]
        },
        {
          "output_type": "stream",
          "name": "stdout",
          "text": [
            "------------------\n",
            "0.888792097568512\n",
            "0.4692143201828003\n",
            "0.3659130334854126\n"
          ]
        },
        {
          "output_type": "stream",
          "name": "stderr",
          "text": [
            "\n"
          ]
        }
      ]
    },
    {
      "cell_type": "code",
      "source": [
        "medium7 = medium7.resize_(64)\n",
        "medium77 = medium77.resize_(64)\n",
        "medium77_neg = medium77_neg.resize_(64)\n",
        "print('-----------------')\n",
        "print(1 - cosine(medium7,medium77))\n",
        "print(1 - cosine(medium77,medium77_neg))\n",
        "print(1 - cosine(medium7,medium77_neg))"
      ],
      "metadata": {
        "colab": {
          "base_uri": "https://localhost:8080/"
        },
        "id": "8TZTwhOMBz36",
        "outputId": "4e223c36-2fdf-4f56-fcb5-2a608e253ed4"
      },
      "execution_count": null,
      "outputs": [
        {
          "output_type": "stream",
          "name": "stdout",
          "text": [
            "-----------------\n",
            "0.8738236427307129\n",
            "0.42142346501350403\n",
            "0.2980762720108032\n"
          ]
        }
      ]
    },
    {
      "cell_type": "markdown",
      "source": [
        "8 try"
      ],
      "metadata": {
        "id": "1xBPTJJNB9UG"
      }
    },
    {
      "cell_type": "code",
      "source": [
        "print(medium_df.iloc[339,0])\n",
        "print(medium_df.iloc[339,1])\n",
        "print(medium_df.iloc[339,2])"
      ],
      "metadata": {
        "colab": {
          "base_uri": "https://localhost:8080/"
        },
        "id": "0d2rLC5-B9_C",
        "outputId": "a6e721c6-a65e-4058-e07d-024e02050cdc"
      },
      "execution_count": null,
      "outputs": [
        {
          "output_type": "stream",
          "name": "stdout",
          "text": [
            "ATM covered area with numerous machines used for making withdraws from a bank account.\n",
            "There were numerous ATM machines\n",
            "ATMs were no where to be found\n"
          ]
        }
      ]
    },
    {
      "cell_type": "code",
      "source": [
        "medium8 = model.encode(medium_df.iloc[339,0])\n",
        "medium88 = model.encode(medium_df.iloc[339,1])\n",
        "medium88_neg = model.encode(medium_df.iloc[339,2])\n",
        "print('------------------')\n",
        "print(1 - cosine(medium8,medium88))\n",
        "print(1 - cosine(medium88,medium88_neg))\n",
        "print(1 - cosine(medium8,medium88_neg))"
      ],
      "metadata": {
        "colab": {
          "base_uri": "https://localhost:8080/"
        },
        "id": "WmeV2l60CVKz",
        "outputId": "397e4d38-5478-4889-d498-477ff395cc30"
      },
      "execution_count": null,
      "outputs": [
        {
          "output_type": "stream",
          "name": "stderr",
          "text": [
            "100%|██████████| 1/1 [00:00<00:00,  5.25it/s]\n",
            "100%|██████████| 1/1 [00:00<00:00,  6.86it/s]\n",
            "100%|██████████| 1/1 [00:00<00:00,  5.38it/s]\n"
          ]
        },
        {
          "output_type": "stream",
          "name": "stdout",
          "text": [
            "------------------\n",
            "0.8855964541435242\n",
            "0.6240269541740417\n",
            "0.5844043493270874\n"
          ]
        }
      ]
    },
    {
      "cell_type": "code",
      "source": [
        "medium8 = medium8.resize_(64)\n",
        "medium88 = medium88.resize_(64)\n",
        "medium88_neg = medium88_neg.resize_(64)\n",
        "print('-----------------')\n",
        "print(1 - cosine(medium8,medium88))\n",
        "print(1 - cosine(medium88,medium88_neg))\n",
        "print(1 - cosine(medium8,medium88_neg))"
      ],
      "metadata": {
        "colab": {
          "base_uri": "https://localhost:8080/"
        },
        "id": "MI_zoy-ICcbu",
        "outputId": "3ac06779-3275-4d42-e510-0eeb42295687"
      },
      "execution_count": null,
      "outputs": [
        {
          "output_type": "stream",
          "name": "stdout",
          "text": [
            "-----------------\n",
            "0.9010452628135681\n",
            "0.6661293506622314\n",
            "0.6199396252632141\n"
          ]
        }
      ]
    },
    {
      "cell_type": "markdown",
      "source": [
        "9 try "
      ],
      "metadata": {
        "id": "oHFJJchjCm9O"
      }
    },
    {
      "cell_type": "code",
      "source": [
        "print(medium_df.iloc[413,0])\n",
        "print(medium_df.iloc[413,1])\n",
        "print(medium_df.iloc[413,2])"
      ],
      "metadata": {
        "colab": {
          "base_uri": "https://localhost:8080/"
        },
        "id": "tBva5W2jCnjT",
        "outputId": "09a63ad0-8e59-4732-d16a-4fd7d9019782"
      },
      "execution_count": null,
      "outputs": [
        {
          "output_type": "stream",
          "name": "stdout",
          "text": [
            "A man is teaching three girls how to play an instrument.\n",
            "A man is teaching\n",
            "A woman is teaching the girls\n"
          ]
        }
      ]
    },
    {
      "cell_type": "code",
      "source": [
        "medium9 = model.encode(medium_df.iloc[413,0])\n",
        "medium99 = model.encode(medium_df.iloc[413,1])\n",
        "medium99_neg = model.encode(medium_df.iloc[413,2])\n",
        "print('------------------')\n",
        "print(1 - cosine(medium9,medium99))\n",
        "print(1 - cosine(medium99,medium99_neg))\n",
        "print(1 - cosine(medium9,medium99_neg))"
      ],
      "metadata": {
        "colab": {
          "base_uri": "https://localhost:8080/"
        },
        "id": "yPgfXeksCrw7",
        "outputId": "4d671ecf-c41a-404c-bbdb-972e835dfd0f"
      },
      "execution_count": null,
      "outputs": [
        {
          "output_type": "stream",
          "name": "stderr",
          "text": [
            "100%|██████████| 1/1 [00:00<00:00,  9.31it/s]\n",
            "100%|██████████| 1/1 [00:00<00:00, 12.02it/s]\n",
            "100%|██████████| 1/1 [00:00<00:00, 11.65it/s]"
          ]
        },
        {
          "output_type": "stream",
          "name": "stdout",
          "text": [
            "------------------\n",
            "0.43553417921066284\n",
            "0.5148645043373108\n",
            "0.5522639155387878\n"
          ]
        },
        {
          "output_type": "stream",
          "name": "stderr",
          "text": [
            "\n"
          ]
        }
      ]
    },
    {
      "cell_type": "code",
      "source": [
        "medium9 = medium9.resize_(64)\n",
        "medium99 = medium99.resize_(64)\n",
        "medium99_neg = medium99_neg.resize_(64)\n",
        "print('-----------------')\n",
        "print(1 - cosine(medium9,medium99))\n",
        "print(1 - cosine(medium99,medium99_neg))\n",
        "print(1 - cosine(medium9,medium99_neg))"
      ],
      "metadata": {
        "colab": {
          "base_uri": "https://localhost:8080/"
        },
        "id": "y737eYJbCxLR",
        "outputId": "f348a89c-3fa7-44e2-8880-780f829c0d37"
      },
      "execution_count": null,
      "outputs": [
        {
          "output_type": "stream",
          "name": "stdout",
          "text": [
            "-----------------\n",
            "0.5246419906616211\n",
            "0.4783340096473694\n",
            "0.37513279914855957\n"
          ]
        }
      ]
    },
    {
      "cell_type": "markdown",
      "source": [
        "10 try "
      ],
      "metadata": {
        "id": "Wpb6wascDPYV"
      }
    },
    {
      "cell_type": "code",
      "source": [
        "print(medium_df.iloc[168,0])\n",
        "print(medium_df.iloc[168,1])\n",
        "print(medium_df.iloc[168,2])"
      ],
      "metadata": {
        "colab": {
          "base_uri": "https://localhost:8080/"
        },
        "id": "rNz6a3yIDUO-",
        "outputId": "f328dd5f-6529-4c75-aed6-4fc15c285b0a"
      },
      "execution_count": null,
      "outputs": [
        {
          "output_type": "stream",
          "name": "stdout",
          "text": [
            "In 1603 James VI of Scotland was thus crowned James I of England, marking the Union of the Crowns.\n",
            "The Union of the Crowns happened in 1603 when James VI of Scotland was crowned James I of England. \n",
            "James could not be king of both England and Scotland at the same time, so in 1603 he was forced to choose between them. \n"
          ]
        }
      ]
    },
    {
      "cell_type": "code",
      "source": [
        "medium10 = model.encode(medium_df.iloc[168,0])\n",
        "medium1010 = model.encode(medium_df.iloc[168,1])\n",
        "medium1010_neg = model.encode(medium_df.iloc[168,2])\n",
        "print('------------------')\n",
        "print(1 - cosine(medium10,medium1010))\n",
        "print(1 - cosine(medium1010,medium1010_neg))\n",
        "print(1 - cosine(medium10,medium1010_neg))"
      ],
      "metadata": {
        "colab": {
          "base_uri": "https://localhost:8080/"
        },
        "id": "OpxcKc7cDjGm",
        "outputId": "c7a57d5d-a59e-4b70-c88b-bfa705ff95f3"
      },
      "execution_count": null,
      "outputs": [
        {
          "output_type": "stream",
          "name": "stderr",
          "text": [
            "100%|██████████| 1/1 [00:00<00:00,  6.37it/s]\n",
            "100%|██████████| 1/1 [00:00<00:00,  6.27it/s]\n",
            "100%|██████████| 1/1 [00:00<00:00,  5.40it/s]"
          ]
        },
        {
          "output_type": "stream",
          "name": "stdout",
          "text": [
            "------------------\n",
            "0.9803878664970398\n",
            "0.7015968561172485\n",
            "0.67607581615448\n"
          ]
        },
        {
          "output_type": "stream",
          "name": "stderr",
          "text": [
            "\n"
          ]
        }
      ]
    },
    {
      "cell_type": "code",
      "source": [
        "medium10 = medium10.resize_(64)\n",
        "medium1010 = medium1010.resize_(64)\n",
        "medium1010_neg = medium1010_neg.resize_(64)\n",
        "print('-----------------')\n",
        "print(1 - cosine(medium10,medium1010))\n",
        "print(1 - cosine(medium1010,medium1010_neg))\n",
        "print(1 - cosine(medium10,medium1010_neg))"
      ],
      "metadata": {
        "colab": {
          "base_uri": "https://localhost:8080/"
        },
        "id": "VZ__vXGRDwn7",
        "outputId": "4c8ef48f-c6d2-4fba-98d4-874a325673aa"
      },
      "execution_count": null,
      "outputs": [
        {
          "output_type": "stream",
          "name": "stdout",
          "text": [
            "-----------------\n",
            "0.987387478351593\n",
            "0.6964432597160339\n",
            "0.6806049942970276\n"
          ]
        }
      ]
    },
    {
      "cell_type": "markdown",
      "source": [
        "<b> Test Case 3 : Long phrase > 20 words <b>"
      ],
      "metadata": {
        "id": "vysrMazEEJ5x"
      }
    },
    {
      "cell_type": "markdown",
      "source": [
        "1 try"
      ],
      "metadata": {
        "id": "pJh5apKZI4iR"
      }
    },
    {
      "cell_type": "code",
      "source": [
        "long_df.iloc[100,0]"
      ],
      "metadata": {
        "colab": {
          "base_uri": "https://localhost:8080/",
          "height": 70
        },
        "outputId": "cbe36651-84e2-4d31-bd94-e7f0d5669c85",
        "id": "WXJ-SN_6I4iR"
      },
      "execution_count": null,
      "outputs": [
        {
          "output_type": "execute_result",
          "data": {
            "text/plain": [
              "\"According to Hersh, who was leaked information that had been kept secret since Pollard's arrest, Pollard not only compromised America's Middle East operations, he also gave away tons of American classified data about the Soviet Union.\""
            ],
            "application/vnd.google.colaboratory.intrinsic+json": {
              "type": "string"
            }
          },
          "metadata": {},
          "execution_count": 308
        }
      ]
    },
    {
      "cell_type": "code",
      "source": [
        "long_df.iloc[100,1]"
      ],
      "metadata": {
        "colab": {
          "base_uri": "https://localhost:8080/",
          "height": 53
        },
        "outputId": "bd2b1d34-cd1f-4df2-da8c-930f23561b41",
        "id": "9x2WNlO9I4iS"
      },
      "execution_count": null,
      "outputs": [
        {
          "output_type": "execute_result",
          "data": {
            "text/plain": [
              "\"Hersh gave further information regarding the intelligence leaked by Pollard regarding America's covert actions.\""
            ],
            "application/vnd.google.colaboratory.intrinsic+json": {
              "type": "string"
            }
          },
          "metadata": {},
          "execution_count": 309
        }
      ]
    },
    {
      "cell_type": "code",
      "source": [
        "long_df.iloc[100,2]"
      ],
      "metadata": {
        "colab": {
          "base_uri": "https://localhost:8080/",
          "height": 35
        },
        "outputId": "58892768-3630-4580-f4f6-c3d7df3a72b8",
        "id": "bbAKZQo6I4iS"
      },
      "execution_count": null,
      "outputs": [
        {
          "output_type": "execute_result",
          "data": {
            "text/plain": [
              "'Hersh insists that Pollard gave away no US intelligence.'"
            ],
            "application/vnd.google.colaboratory.intrinsic+json": {
              "type": "string"
            }
          },
          "metadata": {},
          "execution_count": 310
        }
      ]
    },
    {
      "cell_type": "code",
      "source": [
        "model.similarity(long_df.iloc[100,0],long_df.iloc[100,1])\n"
      ],
      "metadata": {
        "colab": {
          "base_uri": "https://localhost:8080/"
        },
        "outputId": "62ed5479-fc12-4e02-cf3b-3db8008f4c0f",
        "id": "HmY3p1FmI4iS"
      },
      "execution_count": null,
      "outputs": [
        {
          "output_type": "stream",
          "name": "stderr",
          "text": [
            "100%|██████████| 1/1 [00:00<00:00,  4.05it/s]\n",
            "100%|██████████| 1/1 [00:00<00:00,  7.51it/s]\n"
          ]
        },
        {
          "output_type": "execute_result",
          "data": {
            "text/plain": [
              "0.8716976642608643"
            ]
          },
          "metadata": {},
          "execution_count": 311
        }
      ]
    },
    {
      "cell_type": "code",
      "source": [
        "model.similarity(long_df.iloc[100,1],long_df.iloc[100,2])\n"
      ],
      "metadata": {
        "colab": {
          "base_uri": "https://localhost:8080/"
        },
        "outputId": "0999ee25-e2ab-4a39-d267-af2fff120055",
        "id": "YDKUPVodI4iS"
      },
      "execution_count": null,
      "outputs": [
        {
          "output_type": "stream",
          "name": "stderr",
          "text": [
            "100%|██████████| 1/1 [00:00<00:00,  7.43it/s]\n",
            "100%|██████████| 1/1 [00:00<00:00,  8.51it/s]\n"
          ]
        },
        {
          "output_type": "execute_result",
          "data": {
            "text/plain": [
              "0.6181213855743408"
            ]
          },
          "metadata": {},
          "execution_count": 312
        }
      ]
    },
    {
      "cell_type": "code",
      "source": [
        "model.similarity(long_df.iloc[100,0],long_df.iloc[100,2])\n"
      ],
      "metadata": {
        "colab": {
          "base_uri": "https://localhost:8080/"
        },
        "outputId": "e05bc845-bb24-4385-a18d-3f2713b56507",
        "id": "CMiqXWBhI4iS"
      },
      "execution_count": null,
      "outputs": [
        {
          "output_type": "stream",
          "name": "stderr",
          "text": [
            "100%|██████████| 1/1 [00:00<00:00,  4.03it/s]\n",
            "100%|██████████| 1/1 [00:00<00:00,  8.45it/s]\n"
          ]
        },
        {
          "output_type": "execute_result",
          "data": {
            "text/plain": [
              "0.5945637822151184"
            ]
          },
          "metadata": {},
          "execution_count": 313
        }
      ]
    },
    {
      "cell_type": "code",
      "source": [
        "medium1 = model.encode(long_df.iloc[100,0])\n",
        "medium11 = model.encode(long_df.iloc[100,1])\n",
        "medium11_neg = model.encode(long_df.iloc[100,2])\n",
        "medium1 = medium1.resize_(64)\n",
        "medium11 = medium11.resize_(64)\n",
        "medium11_neg = medium11_neg.resize_(64)"
      ],
      "metadata": {
        "colab": {
          "base_uri": "https://localhost:8080/"
        },
        "outputId": "a1537995-4d1e-44f4-9424-93815a4b26a8",
        "id": "xqAlYhbZI4iS"
      },
      "execution_count": null,
      "outputs": [
        {
          "output_type": "stream",
          "name": "stderr",
          "text": [
            "100%|██████████| 1/1 [00:00<00:00,  4.24it/s]\n",
            "100%|██████████| 1/1 [00:00<00:00,  7.24it/s]\n",
            "100%|██████████| 1/1 [00:00<00:00,  9.12it/s]\n"
          ]
        }
      ]
    },
    {
      "cell_type": "code",
      "source": [
        "1 - cosine(medium1,medium11)"
      ],
      "metadata": {
        "colab": {
          "base_uri": "https://localhost:8080/"
        },
        "outputId": "7b722c6a-4de0-4a3c-b93f-d2aa0d0418af",
        "id": "DO7YlCZaI4iS"
      },
      "execution_count": null,
      "outputs": [
        {
          "output_type": "execute_result",
          "data": {
            "text/plain": [
              "0.8650340437889099"
            ]
          },
          "metadata": {},
          "execution_count": 315
        }
      ]
    },
    {
      "cell_type": "code",
      "source": [
        "1 - cosine(medium11,medium11_neg)"
      ],
      "metadata": {
        "colab": {
          "base_uri": "https://localhost:8080/"
        },
        "outputId": "45217414-d8a1-437b-b6ee-6efc930a5d07",
        "id": "NMSy191VI4iT"
      },
      "execution_count": null,
      "outputs": [
        {
          "output_type": "execute_result",
          "data": {
            "text/plain": [
              "0.6167147755622864"
            ]
          },
          "metadata": {},
          "execution_count": 316
        }
      ]
    },
    {
      "cell_type": "code",
      "source": [
        "1 - cosine(medium1,medium11_neg)"
      ],
      "metadata": {
        "colab": {
          "base_uri": "https://localhost:8080/"
        },
        "outputId": "eab81b46-21ea-47c6-b0cb-e3db143db70d",
        "id": "M2NMS1lpI4iT"
      },
      "execution_count": null,
      "outputs": [
        {
          "output_type": "execute_result",
          "data": {
            "text/plain": [
              "0.5785084962844849"
            ]
          },
          "metadata": {},
          "execution_count": 317
        }
      ]
    },
    {
      "cell_type": "markdown",
      "source": [
        "2 try"
      ],
      "metadata": {
        "id": "-e_mbHzNI4iT"
      }
    },
    {
      "cell_type": "code",
      "source": [
        "print(long_df.iloc[50,0])\n",
        "print(long_df.iloc[50,1])\n",
        "print(long_df.iloc[50,2])"
      ],
      "metadata": {
        "colab": {
          "base_uri": "https://localhost:8080/"
        },
        "outputId": "3decbe9e-2942-4799-d489-bf7c5de4fa6b",
        "id": "38SMlx1jI4iT"
      },
      "execution_count": null,
      "outputs": [
        {
          "output_type": "stream",
          "name": "stdout",
          "text": [
            "Many staff also have experience in other nonprofit organizations that work as partners with our grantees, such as bar associations, non-LSC funded legal services providers and social welfare advocacy groups.\n",
            "Experience with other nonprofit organizations isn't unusual with staff.\n",
            "Very few staff have had much experience in other nonprofit organizations.\n"
          ]
        }
      ]
    },
    {
      "cell_type": "code",
      "source": [
        "model.similarity(long_df.iloc[50,0],long_df.iloc[50,1])\n"
      ],
      "metadata": {
        "colab": {
          "base_uri": "https://localhost:8080/"
        },
        "outputId": "04659cf6-7fc9-41b0-af52-cb24621db0a1",
        "id": "7_zxJuH8I4iT"
      },
      "execution_count": null,
      "outputs": [
        {
          "output_type": "stream",
          "name": "stderr",
          "text": [
            "100%|██████████| 1/1 [00:00<00:00,  4.20it/s]\n",
            "100%|██████████| 1/1 [00:00<00:00,  7.25it/s]\n"
          ]
        },
        {
          "output_type": "execute_result",
          "data": {
            "text/plain": [
              "0.6759517192840576"
            ]
          },
          "metadata": {},
          "execution_count": 319
        }
      ]
    },
    {
      "cell_type": "code",
      "source": [
        "model.similarity(long_df.iloc[50,1],long_df.iloc[50,2])\n"
      ],
      "metadata": {
        "colab": {
          "base_uri": "https://localhost:8080/"
        },
        "outputId": "a8dc7212-bda2-43b4-82c1-2aee544e69ad",
        "id": "sWUSlpjmI4iT"
      },
      "execution_count": null,
      "outputs": [
        {
          "output_type": "stream",
          "name": "stderr",
          "text": [
            "100%|██████████| 1/1 [00:00<00:00,  8.14it/s]\n",
            "100%|██████████| 1/1 [00:00<00:00,  8.47it/s]\n"
          ]
        },
        {
          "output_type": "execute_result",
          "data": {
            "text/plain": [
              "0.7087241411209106"
            ]
          },
          "metadata": {},
          "execution_count": 320
        }
      ]
    },
    {
      "cell_type": "code",
      "source": [
        "model.similarity(long_df.iloc[50,0],long_df.iloc[50,2])\n"
      ],
      "metadata": {
        "colab": {
          "base_uri": "https://localhost:8080/"
        },
        "outputId": "fbe3ed7e-bd02-4e0f-b045-0a8f13659208",
        "id": "RqtLGEKpI4iT"
      },
      "execution_count": null,
      "outputs": [
        {
          "output_type": "stream",
          "name": "stderr",
          "text": [
            "100%|██████████| 1/1 [00:00<00:00,  4.62it/s]\n",
            "100%|██████████| 1/1 [00:00<00:00,  7.29it/s]\n"
          ]
        },
        {
          "output_type": "execute_result",
          "data": {
            "text/plain": [
              "0.5493679046630859"
            ]
          },
          "metadata": {},
          "execution_count": 321
        }
      ]
    },
    {
      "cell_type": "code",
      "source": [
        "medium2 = model.encode(long_df.iloc[50,0])\n",
        "medium22 = model.encode(long_df.iloc[50,1])\n",
        "medium22_neg = model.encode(long_df.iloc[50,2])\n",
        "medium2 = medium2.resize_(64)\n",
        "medium22 = medium22.resize_(64)\n",
        "medium22_neg = medium22_neg.resize_(64)"
      ],
      "metadata": {
        "colab": {
          "base_uri": "https://localhost:8080/"
        },
        "outputId": "21c8a692-f513-4d3b-e4bb-f8f5a6b4042e",
        "id": "SLKkODlFI4iT"
      },
      "execution_count": null,
      "outputs": [
        {
          "output_type": "stream",
          "name": "stderr",
          "text": [
            "100%|██████████| 1/1 [00:00<00:00,  5.06it/s]\n",
            "100%|██████████| 1/1 [00:00<00:00, 10.32it/s]\n",
            "100%|██████████| 1/1 [00:00<00:00,  9.19it/s]\n"
          ]
        }
      ]
    },
    {
      "cell_type": "code",
      "source": [
        "1 - cosine(medium2,medium22)"
      ],
      "metadata": {
        "colab": {
          "base_uri": "https://localhost:8080/"
        },
        "outputId": "499da806-da71-46d6-bed5-3e699e49ff72",
        "id": "GpN-F293I4iT"
      },
      "execution_count": null,
      "outputs": [
        {
          "output_type": "execute_result",
          "data": {
            "text/plain": [
              "0.7100947499275208"
            ]
          },
          "metadata": {},
          "execution_count": 323
        }
      ]
    },
    {
      "cell_type": "code",
      "source": [
        "1 - cosine(medium22,medium22_neg)"
      ],
      "metadata": {
        "colab": {
          "base_uri": "https://localhost:8080/"
        },
        "outputId": "031d51f7-5143-440a-b4c5-3685506400ff",
        "id": "mn38ALENI4iT"
      },
      "execution_count": null,
      "outputs": [
        {
          "output_type": "execute_result",
          "data": {
            "text/plain": [
              "0.6854230761528015"
            ]
          },
          "metadata": {},
          "execution_count": 324
        }
      ]
    },
    {
      "cell_type": "code",
      "source": [
        "1 - cosine(medium2,medium22_neg)"
      ],
      "metadata": {
        "colab": {
          "base_uri": "https://localhost:8080/"
        },
        "outputId": "2953ebfe-5c1d-4023-8c48-ac473e532e60",
        "id": "pdVuYXFzI4iU"
      },
      "execution_count": null,
      "outputs": [
        {
          "output_type": "execute_result",
          "data": {
            "text/plain": [
              "0.5201151967048645"
            ]
          },
          "metadata": {},
          "execution_count": 325
        }
      ]
    },
    {
      "cell_type": "markdown",
      "source": [
        "3 try "
      ],
      "metadata": {
        "id": "BLirwiwwI4iU"
      }
    },
    {
      "cell_type": "code",
      "source": [
        "print(long_df.iloc[125,0])\n",
        "print(long_df.iloc[125,1])\n",
        "print(long_df.iloc[125,2])"
      ],
      "metadata": {
        "colab": {
          "base_uri": "https://localhost:8080/"
        },
        "outputId": "a82dc842-9e8d-489b-8609-b43fcd8bf221",
        "id": "dpRmk1hfI4iU"
      },
      "execution_count": null,
      "outputs": [
        {
          "output_type": "stream",
          "name": "stdout",
          "text": [
            "A photo of the back of a crowd watching an event on a city street with some bicyclists standing and seated around.\n",
            "the photo is of a crowd\n",
            "the crowd is at the beach\n"
          ]
        }
      ]
    },
    {
      "cell_type": "code",
      "source": [
        "model.similarity(long_df.iloc[125,0],long_df.iloc[125,1])\n"
      ],
      "metadata": {
        "colab": {
          "base_uri": "https://localhost:8080/"
        },
        "outputId": "a13004d3-85d6-4ba7-b382-df8aa7269098",
        "id": "L_bNWQbRI4iU"
      },
      "execution_count": null,
      "outputs": [
        {
          "output_type": "stream",
          "name": "stderr",
          "text": [
            "100%|██████████| 1/1 [00:00<00:00,  7.42it/s]\n",
            "100%|██████████| 1/1 [00:00<00:00, 12.08it/s]\n"
          ]
        },
        {
          "output_type": "execute_result",
          "data": {
            "text/plain": [
              "0.7379953861236572"
            ]
          },
          "metadata": {},
          "execution_count": 327
        }
      ]
    },
    {
      "cell_type": "code",
      "source": [
        "model.similarity(long_df.iloc[125,1],long_df.iloc[125,2])\n"
      ],
      "metadata": {
        "colab": {
          "base_uri": "https://localhost:8080/"
        },
        "outputId": "c76b49fb-3d99-4342-cea1-82243478d9a1",
        "id": "RPNDwpJYI4iU"
      },
      "execution_count": null,
      "outputs": [
        {
          "output_type": "stream",
          "name": "stderr",
          "text": [
            "100%|██████████| 1/1 [00:00<00:00, 12.21it/s]\n",
            "100%|██████████| 1/1 [00:00<00:00, 10.84it/s]\n"
          ]
        },
        {
          "output_type": "execute_result",
          "data": {
            "text/plain": [
              "0.5444076657295227"
            ]
          },
          "metadata": {},
          "execution_count": 328
        }
      ]
    },
    {
      "cell_type": "code",
      "source": [
        "model.similarity(long_df.iloc[125,0],long_df.iloc[125,2])\n"
      ],
      "metadata": {
        "colab": {
          "base_uri": "https://localhost:8080/"
        },
        "outputId": "40f040b6-b2e5-4dd8-9046-ef4f245f7df6",
        "id": "XR4mcrkwI4iU"
      },
      "execution_count": null,
      "outputs": [
        {
          "output_type": "stream",
          "name": "stderr",
          "text": [
            "100%|██████████| 1/1 [00:00<00:00,  6.65it/s]\n",
            "100%|██████████| 1/1 [00:00<00:00, 12.03it/s]\n"
          ]
        },
        {
          "output_type": "execute_result",
          "data": {
            "text/plain": [
              "0.4238884449005127"
            ]
          },
          "metadata": {},
          "execution_count": 329
        }
      ]
    },
    {
      "cell_type": "code",
      "source": [
        "medium3 = model.encode(long_df.iloc[125,0])\n",
        "medium33 = model.encode(long_df.iloc[125,1])\n",
        "medium33_neg = model.encode(long_df.iloc[125,2])\n",
        "medium3 = medium3.resize_(64)\n",
        "medium33 = medium33.resize_(64)\n",
        "medium33_neg = medium33_neg.resize_(64)"
      ],
      "metadata": {
        "colab": {
          "base_uri": "https://localhost:8080/"
        },
        "outputId": "56513b6f-c5a1-48ac-ae70-88776e7bda7c",
        "id": "6k5QcDkAI4iU"
      },
      "execution_count": null,
      "outputs": [
        {
          "output_type": "stream",
          "name": "stderr",
          "text": [
            "100%|██████████| 1/1 [00:00<00:00,  7.49it/s]\n",
            "100%|██████████| 1/1 [00:00<00:00, 10.83it/s]\n",
            "100%|██████████| 1/1 [00:00<00:00, 11.13it/s]\n"
          ]
        }
      ]
    },
    {
      "cell_type": "code",
      "source": [
        "print(1 - cosine(medium3,medium33))\n",
        "print(1 - cosine(medium33,medium33_neg))\n",
        "print(1 - cosine(medium3,medium33_neg))"
      ],
      "metadata": {
        "colab": {
          "base_uri": "https://localhost:8080/"
        },
        "outputId": "8bbe3b3b-3e6d-4a4f-bf4c-b807d982bb09",
        "id": "WCXYnQt_I4iU"
      },
      "execution_count": null,
      "outputs": [
        {
          "output_type": "stream",
          "name": "stdout",
          "text": [
            "0.7789707779884338\n",
            "0.5011929869651794\n",
            "0.4018721282482147\n"
          ]
        }
      ]
    },
    {
      "cell_type": "markdown",
      "source": [
        "4 try"
      ],
      "metadata": {
        "id": "KQxtyWEMI4iU"
      }
    },
    {
      "cell_type": "code",
      "source": [
        "print(long_df.iloc[275,0])\n",
        "print(long_df.iloc[275,1])\n",
        "print(long_df.iloc[275,2])"
      ],
      "metadata": {
        "colab": {
          "base_uri": "https://localhost:8080/"
        },
        "outputId": "5200b234-1f55-4ddb-fd70-a3240e29cb2c",
        "id": "UGBGd1YfI4iV"
      },
      "execution_count": null,
      "outputs": [
        {
          "output_type": "stream",
          "name": "stdout",
          "text": [
            "A row of shining new cans tempted him with labels and optimism: fruit a la mango, exotic fruit with bacon, fruity mushroom, vegetable-carrot cellulose, natural flavor of home made yogurt, eccentric raspberry flavored orange and many others.\n",
            "He was tempted by the line of shiny new cans including fruity mushroom and fruit a la mango.\n",
            "Looking at what the cans contained made him want to vomit.\n"
          ]
        }
      ]
    },
    {
      "cell_type": "code",
      "source": [
        "medium4 = model.encode(long_df.iloc[275,0])\n",
        "medium44 = model.encode(long_df.iloc[275,1])\n",
        "medium44_neg = model.encode(long_df.iloc[275,2])\n",
        "print('-----------------')\n",
        "print(1 - cosine(medium4,medium44))\n",
        "print(1 - cosine(medium44,medium44_neg))\n",
        "print(1 - cosine(medium4,medium44_neg))"
      ],
      "metadata": {
        "colab": {
          "base_uri": "https://localhost:8080/"
        },
        "outputId": "60cc339a-eed2-443c-bcea-298e9e215785",
        "id": "QYml_MnMI4iV"
      },
      "execution_count": null,
      "outputs": [
        {
          "output_type": "stream",
          "name": "stderr",
          "text": [
            "100%|██████████| 1/1 [00:00<00:00,  3.57it/s]\n",
            "100%|██████████| 1/1 [00:00<00:00,  6.27it/s]\n",
            "100%|██████████| 1/1 [00:00<00:00,  8.47it/s]"
          ]
        },
        {
          "output_type": "stream",
          "name": "stdout",
          "text": [
            "-----------------\n",
            "0.8688520789146423\n",
            "0.40855222940444946\n",
            "0.3191720247268677\n"
          ]
        },
        {
          "output_type": "stream",
          "name": "stderr",
          "text": [
            "\n"
          ]
        }
      ]
    },
    {
      "cell_type": "code",
      "source": [
        "medium4 = medium4.resize_(64)\n",
        "medium44 = medium44.resize_(64)\n",
        "medium44_neg = medium44_neg.resize_(64)\n",
        "print('-----------------')\n",
        "print(1 - cosine(medium4,medium44))\n",
        "print(1 - cosine(medium44,medium44_neg))\n",
        "print(1 - cosine(medium4,medium44_neg))"
      ],
      "metadata": {
        "colab": {
          "base_uri": "https://localhost:8080/"
        },
        "outputId": "f1cad419-e9fb-4bc5-db3c-9d95b396a149",
        "id": "vUAwSZo7I4iV"
      },
      "execution_count": null,
      "outputs": [
        {
          "output_type": "stream",
          "name": "stdout",
          "text": [
            "-----------------\n",
            "0.8903583884239197\n",
            "0.3173321485519409\n",
            "0.23994478583335876\n"
          ]
        }
      ]
    },
    {
      "cell_type": "markdown",
      "source": [
        "5 try"
      ],
      "metadata": {
        "id": "CXQPJ0nEI4iV"
      }
    },
    {
      "cell_type": "code",
      "source": [
        "print(long_df.iloc[325,0])\n",
        "print(long_df.iloc[325,1])\n",
        "print(long_df.iloc[325,2])"
      ],
      "metadata": {
        "colab": {
          "base_uri": "https://localhost:8080/"
        },
        "outputId": "8f8b37da-fcaa-468d-a37b-94c94ca02baf",
        "id": "mL-8FYByI4iV"
      },
      "execution_count": null,
      "outputs": [
        {
          "output_type": "stream",
          "name": "stdout",
          "text": [
            "The Act covers programs for both unclassified and national security systems, but exempts agencies operating national security systems from OMB oversight.\n",
            "Several agencies operating systems are exempted from OMB oversight.\n",
            "The OMB has full oversight authority over all agencies.\n"
          ]
        }
      ]
    },
    {
      "cell_type": "code",
      "source": [
        "medium5 = model.encode(long_df.iloc[325,0])\n",
        "medium55 = model.encode(long_df.iloc[325,1])\n",
        "medium55_neg = model.encode(long_df.iloc[325,2])\n",
        "print('------------------')\n",
        "print(1 - cosine(medium5,medium55))\n",
        "print(1 - cosine(medium55,medium55_neg))\n",
        "print(1 - cosine(medium5,medium55_neg))"
      ],
      "metadata": {
        "colab": {
          "base_uri": "https://localhost:8080/"
        },
        "outputId": "93c72a28-4d59-4f99-d67c-7167e43d63ac",
        "id": "HAgG9tjcI4iV"
      },
      "execution_count": null,
      "outputs": [
        {
          "output_type": "stream",
          "name": "stderr",
          "text": [
            "100%|██████████| 1/1 [00:00<00:00,  6.37it/s]\n",
            "100%|██████████| 1/1 [00:00<00:00,  7.43it/s]\n",
            "100%|██████████| 1/1 [00:00<00:00,  9.00it/s]"
          ]
        },
        {
          "output_type": "stream",
          "name": "stdout",
          "text": [
            "------------------\n",
            "0.7786933779716492\n",
            "0.3891911804676056\n",
            "0.2666461765766144\n"
          ]
        },
        {
          "output_type": "stream",
          "name": "stderr",
          "text": [
            "\n"
          ]
        }
      ]
    },
    {
      "cell_type": "code",
      "source": [
        "medium5 = medium5.resize_(64)\n",
        "medium55 = medium55.resize_(64)\n",
        "medium55_neg = medium55_neg.resize_(64)\n",
        "print('-----------------')\n",
        "print(1 - cosine(medium5,medium55))\n",
        "print(1 - cosine(medium55,medium55_neg))\n",
        "print(1 - cosine(medium5,medium55_neg))"
      ],
      "metadata": {
        "colab": {
          "base_uri": "https://localhost:8080/"
        },
        "outputId": "86da3343-ea1d-497b-9f83-18d4c4199021",
        "id": "Bc3kh3IuI4iV"
      },
      "execution_count": null,
      "outputs": [
        {
          "output_type": "stream",
          "name": "stdout",
          "text": [
            "-----------------\n",
            "0.8348422050476074\n",
            "0.496021568775177\n",
            "0.3655577301979065\n"
          ]
        }
      ]
    },
    {
      "cell_type": "markdown",
      "source": [
        "6 try"
      ],
      "metadata": {
        "id": "qK0gsZjrI4iV"
      }
    },
    {
      "cell_type": "code",
      "source": [
        "print(long_df.iloc[475,0])\n",
        "print(long_df.iloc[475,1])\n",
        "print(long_df.iloc[475,2])"
      ],
      "metadata": {
        "colab": {
          "base_uri": "https://localhost:8080/"
        },
        "outputId": "91ffb281-7fb3-4092-ece2-58e8ec55a17c",
        "id": "x2XDaLivI4iW"
      },
      "execution_count": null,
      "outputs": [
        {
          "output_type": "stream",
          "name": "stdout",
          "text": [
            "Its name stems not from a drinking phrase but from the fact that it was very close to the gallows that used to stand in the  The  last drop  refers to the fall to the end of the rope.\n",
            "Its name stems from its proximity to the old gallows that were there.\n",
            "Its name stems from an old drinking phrase.\n"
          ]
        }
      ]
    },
    {
      "cell_type": "code",
      "source": [
        "medium6 = model.encode(long_df.iloc[475,0])\n",
        "medium66 = model.encode(long_df.iloc[475,1])\n",
        "medium66_neg = model.encode(long_df.iloc[475,2])\n",
        "print('------------------')\n",
        "print(1 - cosine(medium6,medium66))\n",
        "print(1 - cosine(medium66,medium66_neg))\n",
        "print(1 - cosine(medium6,medium66_neg))"
      ],
      "metadata": {
        "colab": {
          "base_uri": "https://localhost:8080/"
        },
        "outputId": "ac2fbf1f-7a83-4af6-bdec-454355ef2b45",
        "id": "hnDRIi9AI4iW"
      },
      "execution_count": null,
      "outputs": [
        {
          "output_type": "stream",
          "name": "stderr",
          "text": [
            "100%|██████████| 1/1 [00:00<00:00,  3.71it/s]\n",
            "100%|██████████| 1/1 [00:00<00:00,  8.21it/s]\n",
            "100%|██████████| 1/1 [00:00<00:00,  9.16it/s]"
          ]
        },
        {
          "output_type": "stream",
          "name": "stdout",
          "text": [
            "------------------\n",
            "0.7122676372528076\n",
            "0.42452365159988403\n",
            "0.45447611808776855\n"
          ]
        },
        {
          "output_type": "stream",
          "name": "stderr",
          "text": [
            "\n"
          ]
        }
      ]
    },
    {
      "cell_type": "code",
      "source": [
        "medium6 = medium6.resize_(64)\n",
        "medium66 = medium66.resize_(64)\n",
        "medium66_neg = medium66_neg.resize_(64)\n",
        "print('-----------------')\n",
        "print(1 - cosine(medium6,medium66))\n",
        "print(1 - cosine(medium66,medium66_neg))\n",
        "print(1 - cosine(medium6,medium66_neg))"
      ],
      "metadata": {
        "colab": {
          "base_uri": "https://localhost:8080/"
        },
        "outputId": "e908533a-6aa7-4142-e1e2-6ff61027b17b",
        "id": "qV-pFIFrI4iW"
      },
      "execution_count": null,
      "outputs": [
        {
          "output_type": "stream",
          "name": "stdout",
          "text": [
            "-----------------\n",
            "0.7611706852912903\n",
            "0.47002726793289185\n",
            "0.46318891644477844\n"
          ]
        }
      ]
    },
    {
      "cell_type": "markdown",
      "source": [
        "7 try"
      ],
      "metadata": {
        "id": "Xd1l39PvI4iW"
      }
    },
    {
      "cell_type": "code",
      "source": [
        "print(long_df.iloc[268,0])\n",
        "print(long_df.iloc[268,1])\n",
        "print(long_df.iloc[268,2])"
      ],
      "metadata": {
        "colab": {
          "base_uri": "https://localhost:8080/"
        },
        "outputId": "8119a2c5-3e47-4185-9f4c-e95925318aa0",
        "id": "1zjLtMVLI4iW"
      },
      "execution_count": null,
      "outputs": [
        {
          "output_type": "stream",
          "name": "stdout",
          "text": [
            "The findings should put the legal community on notice that more needs to be done because the problem is only going to get worse, said Melville Miller, president of Legal Services.\n",
            "There is a worsening problem that effects the legal community.\n",
            "Nobody in the legal community should care about this problem.\n"
          ]
        }
      ]
    },
    {
      "cell_type": "code",
      "source": [
        "medium7 = model.encode(long_df.iloc[268,0])\n",
        "medium77 = model.encode(long_df.iloc[268,1])\n",
        "medium77_neg = model.encode(long_df.iloc[268,2])\n",
        "print('------------------')\n",
        "print(1 - cosine(medium7,medium77))\n",
        "print(1 - cosine(medium77,medium77_neg))\n",
        "print(1 - cosine(medium7,medium77_neg))"
      ],
      "metadata": {
        "colab": {
          "base_uri": "https://localhost:8080/"
        },
        "outputId": "1ed56605-8c3e-42a1-a4c6-2666f1395873",
        "id": "_n_5go3nI4iW"
      },
      "execution_count": null,
      "outputs": [
        {
          "output_type": "stream",
          "name": "stderr",
          "text": [
            "100%|██████████| 1/1 [00:00<00:00,  4.71it/s]\n",
            "100%|██████████| 1/1 [00:00<00:00,  8.30it/s]\n",
            "100%|██████████| 1/1 [00:00<00:00,  8.24it/s]"
          ]
        },
        {
          "output_type": "stream",
          "name": "stdout",
          "text": [
            "------------------\n",
            "0.6167194843292236\n",
            "0.3989822268486023\n",
            "0.2336193323135376\n"
          ]
        },
        {
          "output_type": "stream",
          "name": "stderr",
          "text": [
            "\n"
          ]
        }
      ]
    },
    {
      "cell_type": "code",
      "source": [
        "medium7 = medium7.resize_(64)\n",
        "medium77 = medium77.resize_(64)\n",
        "medium77_neg = medium77_neg.resize_(64)\n",
        "print('-----------------')\n",
        "print(1 - cosine(medium7,medium77))\n",
        "print(1 - cosine(medium77,medium77_neg))\n",
        "print(1 - cosine(medium7,medium77_neg))"
      ],
      "metadata": {
        "colab": {
          "base_uri": "https://localhost:8080/"
        },
        "outputId": "ce2e790f-e4b0-4c54-ee01-f1151b67050a",
        "id": "blfWhpsHI4iW"
      },
      "execution_count": null,
      "outputs": [
        {
          "output_type": "stream",
          "name": "stdout",
          "text": [
            "-----------------\n",
            "0.6126019954681396\n",
            "0.40169838070869446\n",
            "0.3285750448703766\n"
          ]
        }
      ]
    },
    {
      "cell_type": "markdown",
      "source": [
        "8 try"
      ],
      "metadata": {
        "id": "Pan96CgJI4iW"
      }
    },
    {
      "cell_type": "code",
      "source": [
        "print(long_df.iloc[339,0])\n",
        "print(long_df.iloc[339,1])\n",
        "print(long_df.iloc[339,2])"
      ],
      "metadata": {
        "colab": {
          "base_uri": "https://localhost:8080/"
        },
        "outputId": "4d9ff8ce-efe4-4731-b7b7-dc78b06a4292",
        "id": "nsmE8IljI4iW"
      },
      "execution_count": null,
      "outputs": [
        {
          "output_type": "stream",
          "name": "stdout",
          "text": [
            "(Related  Pundit Central once called the president Schmucko and got bushels of harsh mail, some from his own mother and aunt.\n",
            "Pundit Central received a lot of harsh mail after calling the president Schmucko.\n",
            "Pundit Central only received praise for calling the president Schmucko.\n"
          ]
        }
      ]
    },
    {
      "cell_type": "code",
      "source": [
        "medium8 = model.encode(long_df.iloc[339,0])\n",
        "medium88 = model.encode(long_df.iloc[339,1])\n",
        "medium88_neg = model.encode(long_df.iloc[339,2])\n",
        "print('------------------')\n",
        "print(1 - cosine(medium8,medium88))\n",
        "print(1 - cosine(medium88,medium88_neg))\n",
        "print(1 - cosine(medium8,medium88_neg))"
      ],
      "metadata": {
        "colab": {
          "base_uri": "https://localhost:8080/"
        },
        "outputId": "cfe12b0e-2fbf-4f17-ce89-6f2e88003f2b",
        "id": "e6q_AT1_I4iX"
      },
      "execution_count": null,
      "outputs": [
        {
          "output_type": "stream",
          "name": "stderr",
          "text": [
            "100%|██████████| 1/1 [00:00<00:00,  5.09it/s]\n",
            "100%|██████████| 1/1 [00:00<00:00,  7.01it/s]\n",
            "100%|██████████| 1/1 [00:00<00:00,  7.23it/s]"
          ]
        },
        {
          "output_type": "stream",
          "name": "stdout",
          "text": [
            "------------------\n",
            "0.8510461449623108\n",
            "0.5450409054756165\n",
            "0.5009057521820068\n"
          ]
        },
        {
          "output_type": "stream",
          "name": "stderr",
          "text": [
            "\n"
          ]
        }
      ]
    },
    {
      "cell_type": "code",
      "source": [
        "medium8 = medium8.resize_(64)\n",
        "medium88 = medium88.resize_(64)\n",
        "medium88_neg = medium88_neg.resize_(64)\n",
        "print('-----------------')\n",
        "print(1 - cosine(medium8,medium88))\n",
        "print(1 - cosine(medium88,medium88_neg))\n",
        "print(1 - cosine(medium8,medium88_neg))"
      ],
      "metadata": {
        "colab": {
          "base_uri": "https://localhost:8080/"
        },
        "outputId": "5c3e89c1-90e2-4676-f965-391693e417ba",
        "id": "9V2qDXI6I4iX"
      },
      "execution_count": null,
      "outputs": [
        {
          "output_type": "stream",
          "name": "stdout",
          "text": [
            "-----------------\n",
            "0.8327449560165405\n",
            "0.3707433342933655\n",
            "0.37288588285446167\n"
          ]
        }
      ]
    },
    {
      "cell_type": "markdown",
      "source": [
        "9 try "
      ],
      "metadata": {
        "id": "9pz29hlII4iX"
      }
    },
    {
      "cell_type": "code",
      "source": [
        "print(long_df.iloc[413,0])\n",
        "print(long_df.iloc[413,1])\n",
        "print(long_df.iloc[413,2])"
      ],
      "metadata": {
        "colab": {
          "base_uri": "https://localhost:8080/"
        },
        "outputId": "9f360bdd-51b2-4233-a7f2-2e2e6fce7665",
        "id": "Ov8F7Bo0I4iX"
      },
      "execution_count": null,
      "outputs": [
        {
          "output_type": "stream",
          "name": "stdout",
          "text": [
            "i get i i just couldn't imagine i mean it's more money than i make in a year so  you know it you know me being one person with a above the median\n",
            "It is more money than I could make.\n",
            "I don't think it was very much money.\n"
          ]
        }
      ]
    },
    {
      "cell_type": "code",
      "source": [
        "medium9 = model.encode(long_df.iloc[413,0])\n",
        "medium99 = model.encode(long_df.iloc[413,1])\n",
        "medium99_neg = model.encode(long_df.iloc[413,2])\n",
        "print('------------------')\n",
        "print(1 - cosine(medium9,medium99))\n",
        "print(1 - cosine(medium99,medium99_neg))\n",
        "print(1 - cosine(medium9,medium99_neg))"
      ],
      "metadata": {
        "colab": {
          "base_uri": "https://localhost:8080/"
        },
        "outputId": "a9603078-cb75-4d06-f655-4e4786432535",
        "id": "krd55JZ0I4iX"
      },
      "execution_count": null,
      "outputs": [
        {
          "output_type": "stream",
          "name": "stderr",
          "text": [
            "100%|██████████| 1/1 [00:00<00:00,  4.66it/s]\n",
            "100%|██████████| 1/1 [00:00<00:00,  8.17it/s]\n",
            "100%|██████████| 1/1 [00:00<00:00,  8.39it/s]"
          ]
        },
        {
          "output_type": "stream",
          "name": "stdout",
          "text": [
            "------------------\n",
            "0.6696338653564453\n",
            "0.6029624342918396\n",
            "0.4716639518737793\n"
          ]
        },
        {
          "output_type": "stream",
          "name": "stderr",
          "text": [
            "\n"
          ]
        }
      ]
    },
    {
      "cell_type": "code",
      "source": [
        "medium9 = medium9.resize_(64)\n",
        "medium99 = medium99.resize_(64)\n",
        "medium99_neg = medium99_neg.resize_(64)\n",
        "print('-----------------')\n",
        "print(1 - cosine(medium9,medium99))\n",
        "print(1 - cosine(medium99,medium99_neg))\n",
        "print(1 - cosine(medium9,medium99_neg))"
      ],
      "metadata": {
        "colab": {
          "base_uri": "https://localhost:8080/"
        },
        "outputId": "34e62861-f62c-4ee8-f740-21957833a323",
        "id": "Q0tZRBfYI4iX"
      },
      "execution_count": null,
      "outputs": [
        {
          "output_type": "stream",
          "name": "stdout",
          "text": [
            "-----------------\n",
            "0.6267873048782349\n",
            "0.6502290964126587\n",
            "0.4736689329147339\n"
          ]
        }
      ]
    },
    {
      "cell_type": "markdown",
      "source": [
        "10 try "
      ],
      "metadata": {
        "id": "NgRHgPsmI4iX"
      }
    },
    {
      "cell_type": "code",
      "source": [
        "print(long_df.iloc[168,0])\n",
        "print(long_df.iloc[168,1])\n",
        "print(long_df.iloc[168,2])"
      ],
      "metadata": {
        "colab": {
          "base_uri": "https://localhost:8080/"
        },
        "outputId": "4f1c592f-d165-431b-d416-234b6d670471",
        "id": "vvsYkxiiI4iX"
      },
      "execution_count": null,
      "outputs": [
        {
          "output_type": "stream",
          "name": "stdout",
          "text": [
            "Others find the book cynical, simplistic and patronizing (Richard Rhodes, the New York Times Book Review ). They say Kinsey's private life bears no relation to his scholarship, and they question the biography's anonymous sources.\n",
            "Some found the book both cynical and simplistic.\n",
            "They say Kinsey's private life bears much resemblance.\n"
          ]
        }
      ]
    },
    {
      "cell_type": "code",
      "source": [
        "medium10 = model.encode(long_df.iloc[168,0])\n",
        "medium1010 = model.encode(long_df.iloc[168,1])\n",
        "medium1010_neg = model.encode(long_df.iloc[168,2])\n",
        "print('------------------')\n",
        "print(1 - cosine(medium10,medium1010))\n",
        "print(1 - cosine(medium1010,medium1010_neg))\n",
        "print(1 - cosine(medium10,medium1010_neg))"
      ],
      "metadata": {
        "colab": {
          "base_uri": "https://localhost:8080/"
        },
        "outputId": "ce852e89-19e5-4004-e646-fcc9915e3634",
        "id": "NxUOvyN3I4iX"
      },
      "execution_count": null,
      "outputs": [
        {
          "output_type": "stream",
          "name": "stderr",
          "text": [
            "100%|██████████| 1/1 [00:00<00:00,  3.93it/s]\n",
            "100%|██████████| 1/1 [00:00<00:00,  8.55it/s]\n",
            "100%|██████████| 1/1 [00:00<00:00,  8.31it/s]"
          ]
        },
        {
          "output_type": "stream",
          "name": "stdout",
          "text": [
            "------------------\n",
            "0.602012038230896\n",
            "0.06102094054222107\n",
            "0.38995683193206787\n"
          ]
        },
        {
          "output_type": "stream",
          "name": "stderr",
          "text": [
            "\n"
          ]
        }
      ]
    },
    {
      "cell_type": "code",
      "source": [
        "medium10 = medium10.resize_(64)\n",
        "medium1010 = medium1010.resize_(64)\n",
        "medium1010_neg = medium1010_neg.resize_(64)\n",
        "print('-----------------')\n",
        "print(1 - cosine(medium10,medium1010))\n",
        "print(1 - cosine(medium1010,medium1010_neg))\n",
        "print(1 - cosine(medium10,medium1010_neg))"
      ],
      "metadata": {
        "colab": {
          "base_uri": "https://localhost:8080/"
        },
        "outputId": "cb246897-19cf-4b88-efde-75d1c3d9de90",
        "id": "GLP5m-4jI4iX"
      },
      "execution_count": null,
      "outputs": [
        {
          "output_type": "stream",
          "name": "stdout",
          "text": [
            "-----------------\n",
            "0.5394722819328308\n",
            "0.23669233918190002\n",
            "0.4977438747882843\n"
          ]
        }
      ]
    },
    {
      "cell_type": "markdown",
      "source": [
        "<b> Use PCA to Reduce Dimension <b> "
      ],
      "metadata": {
        "id": "J8n7nqiRLsW7"
      }
    },
    {
      "cell_type": "code",
      "source": [
        "from sklearn.decomposition import PCA"
      ],
      "metadata": {
        "id": "fpb4Y9f7LweR"
      },
      "execution_count": null,
      "outputs": []
    },
    {
      "cell_type": "code",
      "source": [
        "from scipy.spatial.distance import cosine"
      ],
      "metadata": {
        "id": "-QqyvnPqdfzx"
      },
      "execution_count": 44,
      "outputs": []
    },
    {
      "cell_type": "code",
      "source": [
        "small_df_1 = small_df['sent0'].values.tolist()\n",
        "small_df_2 = small_df['sent1'].values.tolist()\n",
        "small_df_3 = small_df['hard_neg'].values.tolist()"
      ],
      "metadata": {
        "id": "6dhuz6isL3q3"
      },
      "execution_count": null,
      "outputs": []
    },
    {
      "cell_type": "code",
      "source": [
        "small_df_1 = model.encode(small_df_1)\n",
        "small_df_2 = model.encode(small_df_2)\n",
        "small_df_3 = model.encode(small_df_3)"
      ],
      "metadata": {
        "colab": {
          "base_uri": "https://localhost:8080/"
        },
        "id": "L-4jgwhxOe9M",
        "outputId": "b0fdafbf-ec14-4019-d3af-9f8aa3c3405b"
      },
      "execution_count": null,
      "outputs": [
        {
          "output_type": "stream",
          "name": "stderr",
          "text": [
            "100%|██████████| 8/8 [00:27<00:00,  3.45s/it]\n",
            "100%|██████████| 8/8 [00:33<00:00,  4.23s/it]\n",
            "100%|██████████| 8/8 [00:26<00:00,  3.28s/it]\n"
          ]
        }
      ]
    },
    {
      "cell_type": "code",
      "source": [
        "small_df_1.shape"
      ],
      "metadata": {
        "colab": {
          "base_uri": "https://localhost:8080/"
        },
        "id": "6R_LynoUPJ_u",
        "outputId": "7936a394-df88-4bc6-8764-724bc6887c58"
      },
      "execution_count": null,
      "outputs": [
        {
          "output_type": "execute_result",
          "data": {
            "text/plain": [
              "torch.Size([500, 768])"
            ]
          },
          "metadata": {},
          "execution_count": 11
        }
      ]
    },
    {
      "cell_type": "code",
      "source": [
        "pca = PCA(n_components=64)"
      ],
      "metadata": {
        "id": "aqaobN1bMqVc"
      },
      "execution_count": null,
      "outputs": []
    },
    {
      "cell_type": "code",
      "source": [
        "pca = PCA(n_components=64)\n",
        "pca.fit(small_df_1)\n",
        "pca_encoded_1 = pca.transform(small_df_1)"
      ],
      "metadata": {
        "id": "gf60P-UGMq93"
      },
      "execution_count": null,
      "outputs": []
    },
    {
      "cell_type": "code",
      "source": [
        "pca_encoded_1[1]"
      ],
      "metadata": {
        "colab": {
          "base_uri": "https://localhost:8080/"
        },
        "id": "N-LzlVECdFxe",
        "outputId": "6159b6d0-61f7-4b2b-df40-325659ed7c0b"
      },
      "execution_count": null,
      "outputs": [
        {
          "output_type": "execute_result",
          "data": {
            "text/plain": [
              "array([-0.13223015, -0.08039567,  0.02117563,  0.24711452, -0.1951229 ,\n",
              "       -0.10355655, -0.18855583, -0.05642286, -0.1248731 ,  0.1762139 ,\n",
              "       -0.04370495,  0.29369499, -0.21515294,  0.02101633, -0.10399396,\n",
              "        0.19624507, -0.02854014, -0.02696018,  0.11586481, -0.15757834,\n",
              "       -0.07178347,  0.05724325,  0.10341456,  0.20603635, -0.09984674,\n",
              "        0.09731165,  0.03702533, -0.02543975, -0.04418236,  0.09923672,\n",
              "        0.09001072,  0.02087291, -0.06300729,  0.04977566, -0.14087931,\n",
              "       -0.02373362, -0.04061981, -0.09814657,  0.00109455,  0.06893186,\n",
              "       -0.03011807,  0.04219671,  0.0639778 , -0.02820675, -0.10561927,\n",
              "       -0.0855555 , -0.02692127,  0.07403245, -0.01220747,  0.17884855,\n",
              "       -0.03931697,  0.0753911 ,  0.12663867, -0.07039579,  0.00376878,\n",
              "        0.12370786,  0.05922024,  0.01687441, -0.0665818 , -0.07009754,\n",
              "       -0.03993663, -0.02062464,  0.03932272,  0.01661877])"
            ]
          },
          "metadata": {},
          "execution_count": 22
        }
      ]
    },
    {
      "cell_type": "code",
      "source": [
        "pca = PCA(n_components=64)\n",
        "pca.fit(small_df_2)\n",
        "pca_encoded_2 = pca.transform(small_df_2)"
      ],
      "metadata": {
        "id": "TuhjkqIHckD2"
      },
      "execution_count": null,
      "outputs": []
    },
    {
      "cell_type": "code",
      "source": [
        "pca_encoded_2[1]"
      ],
      "metadata": {
        "colab": {
          "base_uri": "https://localhost:8080/"
        },
        "id": "CV2NbF_KdHnI",
        "outputId": "3e16623c-99c8-4b7e-dd1a-15fd5eae7626"
      },
      "execution_count": null,
      "outputs": [
        {
          "output_type": "execute_result",
          "data": {
            "text/plain": [
              "array([-0.21200833, -0.05387764,  0.35371129,  0.38002964, -0.22312882,\n",
              "        0.09312543, -0.03500461, -0.22229779,  0.06716901,  0.20839668,\n",
              "        0.11791723,  0.05435083,  0.04164938, -0.06840719,  0.15135085,\n",
              "       -0.09314302, -0.09451144, -0.12657404, -0.09024429, -0.06553752,\n",
              "       -0.05294603, -0.13826718,  0.01713256,  0.02720765, -0.05159476,\n",
              "       -0.14388757, -0.07396218, -0.03480505,  0.03539749, -0.11431727,\n",
              "       -0.08014331,  0.06982981, -0.04371312,  0.06813486,  0.03725109,\n",
              "        0.09835008,  0.06212548,  0.02453763, -0.11087256,  0.03037901,\n",
              "        0.04738238, -0.0475034 ,  0.06505546,  0.00756659, -0.02423346,\n",
              "       -0.06364036,  0.02924757,  0.06640208,  0.03988904,  0.06464081,\n",
              "        0.13901273, -0.0441957 , -0.02582671,  0.08691332,  0.02871944,\n",
              "       -0.03949157, -0.18797421,  0.09548031, -0.0471393 , -0.03567412,\n",
              "       -0.03044768,  0.03067712,  0.00163772, -0.01394225])"
            ]
          },
          "metadata": {},
          "execution_count": 23
        }
      ]
    },
    {
      "cell_type": "code",
      "source": [
        "pca = PCA(n_components=64)\n",
        "pca.fit(small_df_3)\n",
        "pca_encoded_3 = pca.transform(small_df_2)"
      ],
      "metadata": {
        "id": "CvxrKA5Ncpr_"
      },
      "execution_count": null,
      "outputs": []
    },
    {
      "cell_type": "code",
      "source": [
        "pca_encoded_3[1]"
      ],
      "metadata": {
        "colab": {
          "base_uri": "https://localhost:8080/"
        },
        "id": "MFfA5o1DdKAr",
        "outputId": "47a7ded4-ce51-43a0-b2bc-e536374b178e"
      },
      "execution_count": null,
      "outputs": [
        {
          "output_type": "execute_result",
          "data": {
            "text/plain": [
              "array([ 2.75719032e-01, -1.21770287e-02,  1.56349684e-01,  1.36086724e-01,\n",
              "       -1.75571967e-01,  1.64676349e-01,  3.71750508e-01,  2.84663938e-01,\n",
              "       -4.23810045e-02,  2.58747035e-01,  2.28709665e-02,  1.98668353e-02,\n",
              "        1.03212351e-01, -1.02347473e-01, -1.84652084e-01,  1.51469176e-01,\n",
              "       -4.87458510e-02,  1.63889948e-01, -6.52148899e-02, -1.01839382e-01,\n",
              "        1.13779108e-01,  1.05136731e-02, -1.25894388e-01,  4.57462685e-02,\n",
              "        2.48683279e-02, -6.63204526e-03,  1.05737564e-01, -1.26949777e-01,\n",
              "       -5.57707719e-02, -6.06714080e-02,  6.34429779e-02,  2.58323166e-02,\n",
              "       -8.42627537e-02,  7.34437097e-02, -5.65300731e-02,  3.76213517e-02,\n",
              "       -1.21964680e-01,  2.01636703e-02, -2.20896824e-02, -1.15009831e-01,\n",
              "        2.37791528e-02, -6.19859237e-03, -4.71555133e-02,  6.26676927e-02,\n",
              "        5.17415825e-02, -1.24929726e-02, -4.52571594e-02,  8.84681097e-03,\n",
              "        5.36273161e-02, -5.45967864e-02,  3.24306965e-02,  1.08853599e-02,\n",
              "       -2.32782877e-02,  1.72632153e-02,  8.03279718e-02,  1.91682185e-02,\n",
              "       -2.78949565e-05, -3.45079697e-02, -2.78109803e-02,  4.47361467e-02,\n",
              "       -1.23441489e-01,  7.83336184e-02,  5.85997110e-02, -7.28448186e-02])"
            ]
          },
          "metadata": {},
          "execution_count": 24
        }
      ]
    },
    {
      "cell_type": "code",
      "source": [
        "print(1 - cosine(pca_encoded_1[0],pca_encoded_2[0]))\n",
        "print(1 - cosine(pca_encoded_2[0],pca_encoded_3[0]))\n",
        "print(1 - cosine(pca_encoded_1[0],pca_encoded_3[0]))"
      ],
      "metadata": {
        "colab": {
          "base_uri": "https://localhost:8080/"
        },
        "id": "srzpC6Y9dUCU",
        "outputId": "2692bf9f-58fe-411c-88bc-9df404361479"
      },
      "execution_count": null,
      "outputs": [
        {
          "output_type": "stream",
          "name": "stdout",
          "text": [
            "0.5980114539269644\n",
            "-0.04502142087475525\n",
            "0.1361744160943803\n"
          ]
        }
      ]
    },
    {
      "cell_type": "code",
      "source": [
        "print(1 - cosine(pca_encoded_1[3],pca_encoded_2[3]))\n",
        "print(1 - cosine(pca_encoded_2[3],pca_encoded_3[3]))\n",
        "print(1 - cosine(pca_encoded_1[3],pca_encoded_3[3]))"
      ],
      "metadata": {
        "colab": {
          "base_uri": "https://localhost:8080/"
        },
        "id": "gItmeiDnmm_t",
        "outputId": "290fcb71-63ac-4fa5-8ec4-02a2a48580d2"
      },
      "execution_count": null,
      "outputs": [
        {
          "output_type": "stream",
          "name": "stdout",
          "text": [
            "0.48756817135411346\n",
            "-0.045263760342495685\n",
            "0.17023397701816623\n"
          ]
        }
      ]
    },
    {
      "cell_type": "code",
      "source": [
        "print(1 - cosine(pca_encoded_1[497],pca_encoded_2[497]))\n",
        "print(1 - cosine(pca_encoded_2[497],pca_encoded_3[497]))\n",
        "print(1 - cosine(pca_encoded_1[497],pca_encoded_3[497]))"
      ],
      "metadata": {
        "colab": {
          "base_uri": "https://localhost:8080/"
        },
        "id": "iT-5RxnTmzEF",
        "outputId": "6325d5d3-1ac5-4ee7-9ce4-bab4cccf34b7"
      },
      "execution_count": null,
      "outputs": [
        {
          "output_type": "stream",
          "name": "stdout",
          "text": [
            "0.0015482410441627348\n",
            "0.055192355010261096\n",
            "0.020912545320835085\n"
          ]
        }
      ]
    },
    {
      "cell_type": "code",
      "source": [
        "print(1 - cosine(pca_encoded_1[250],pca_encoded_2[250]))\n",
        "print(1 - cosine(pca_encoded_2[250],pca_encoded_3[250]))\n",
        "print(1 - cosine(pca_encoded_1[250],pca_encoded_3[250]))"
      ],
      "metadata": {
        "colab": {
          "base_uri": "https://localhost:8080/"
        },
        "id": "TV-9wlS2nfhh",
        "outputId": "9d889adb-7199-431d-c092-4646f8187400"
      },
      "execution_count": null,
      "outputs": [
        {
          "output_type": "stream",
          "name": "stdout",
          "text": [
            "0.13998934398757912\n",
            "0.11485088574686808\n",
            "-0.050763800311781404\n"
          ]
        }
      ]
    },
    {
      "cell_type": "code",
      "source": [
        "print(1 - cosine(pca_encoded_1[25],pca_encoded_2[25]))\n",
        "print(1 - cosine(pca_encoded_2[25],pca_encoded_3[25]))\n",
        "print(1 - cosine(pca_encoded_1[25],pca_encoded_3[25]))"
      ],
      "metadata": {
        "colab": {
          "base_uri": "https://localhost:8080/"
        },
        "id": "M-wT9vPsnmcF",
        "outputId": "a9506331-1ed2-4697-8d3e-a747b07ddeb1"
      },
      "execution_count": null,
      "outputs": [
        {
          "output_type": "stream",
          "name": "stdout",
          "text": [
            "0.15032082179305406\n",
            "-0.015145838465743244\n",
            "-0.0343966904835018\n"
          ]
        }
      ]
    },
    {
      "cell_type": "markdown",
      "source": [
        "medium df"
      ],
      "metadata": {
        "id": "EnfN3j94oI6A"
      }
    },
    {
      "cell_type": "code",
      "source": [
        "medium_df_1 = medium_df['sent0'].values.tolist()\n",
        "medium_df_2 = medium_df['sent1'].values.tolist()\n",
        "medium_df_3 = medium_df['hard_neg'].values.tolist()\n",
        "medium_df_1 = model.encode(medium_df_1)\n",
        "medium_df_2 = model.encode(medium_df_2)\n",
        "medium_df_3 = model.encode(medium_df_3)"
      ],
      "metadata": {
        "colab": {
          "base_uri": "https://localhost:8080/"
        },
        "id": "oDLQKv11n2AB",
        "outputId": "8c08a5cf-55fb-442a-f561-93bc7d310d0e"
      },
      "execution_count": null,
      "outputs": [
        {
          "output_type": "stream",
          "name": "stderr",
          "text": [
            "100%|██████████| 8/8 [00:49<00:00,  6.20s/it]\n",
            "100%|██████████| 8/8 [00:31<00:00,  4.00s/it]\n",
            "100%|██████████| 8/8 [00:32<00:00,  4.08s/it]\n"
          ]
        }
      ]
    },
    {
      "cell_type": "code",
      "source": [
        "pca = PCA(n_components=64)\n",
        "pca.fit(medium_df_1)\n",
        "pca_encoded_1 = pca.transform(medium_df_1)\n",
        "pca = PCA(n_components=64)\n",
        "pca.fit(medium_df_2)\n",
        "pca_encoded_2 = pca.transform(medium_df_2)\n",
        "pca = PCA(n_components=64)\n",
        "pca.fit(medium_df_3)\n",
        "pca_encoded_3 = pca.transform(medium_df_3)\n"
      ],
      "metadata": {
        "id": "JIxbXiWooSIG"
      },
      "execution_count": null,
      "outputs": []
    },
    {
      "cell_type": "code",
      "source": [
        "print(1 - cosine(pca_encoded_1[100],pca_encoded_2[100]))\n",
        "print(1 - cosine(pca_encoded_2[100],pca_encoded_3[100]))\n",
        "print(1 - cosine(pca_encoded_1[100],pca_encoded_3[100]))"
      ],
      "metadata": {
        "colab": {
          "base_uri": "https://localhost:8080/"
        },
        "id": "jUaThP7go6xW",
        "outputId": "ec004bdd-5499-4de0-fc63-c67c82cd1203"
      },
      "execution_count": null,
      "outputs": [
        {
          "output_type": "stream",
          "name": "stdout",
          "text": [
            "0.21340565077206286\n",
            "0.5615493023190835\n",
            "-0.040205145443934276\n"
          ]
        }
      ]
    },
    {
      "cell_type": "code",
      "source": [
        "print(1 - cosine(pca_encoded_1[50],pca_encoded_2[50]))\n",
        "print(1 - cosine(pca_encoded_2[50],pca_encoded_3[50]))\n",
        "print(1 - cosine(pca_encoded_1[50],pca_encoded_3[50]))"
      ],
      "metadata": {
        "colab": {
          "base_uri": "https://localhost:8080/"
        },
        "id": "gTgvlYTgpDyC",
        "outputId": "f023ae81-918c-41d3-8446-dcdd246bba2a"
      },
      "execution_count": null,
      "outputs": [
        {
          "output_type": "stream",
          "name": "stdout",
          "text": [
            "0.027937485712655308\n",
            "-0.011428386330814888\n",
            "-0.1304833048965912\n"
          ]
        }
      ]
    },
    {
      "cell_type": "code",
      "source": [
        "print(1 - cosine(pca_encoded_1[125],pca_encoded_2[125]))\n",
        "print(1 - cosine(pca_encoded_2[125],pca_encoded_3[125]))\n",
        "print(1 - cosine(pca_encoded_1[125],pca_encoded_3[125]))"
      ],
      "metadata": {
        "colab": {
          "base_uri": "https://localhost:8080/"
        },
        "id": "EFWiscgrpEKo",
        "outputId": "f54aebf2-2f3b-454b-ba80-2199dcc51e11"
      },
      "execution_count": null,
      "outputs": [
        {
          "output_type": "stream",
          "name": "stdout",
          "text": [
            "-0.17060825964655368\n",
            "-0.055267062600922845\n",
            "0.0033807613692244942\n"
          ]
        }
      ]
    },
    {
      "cell_type": "code",
      "source": [
        "print(1 - cosine(pca_encoded_1[275],pca_encoded_2[275]))\n",
        "print(1 - cosine(pca_encoded_2[275],pca_encoded_3[275]))\n",
        "print(1 - cosine(pca_encoded_1[275],pca_encoded_3[275]))"
      ],
      "metadata": {
        "colab": {
          "base_uri": "https://localhost:8080/"
        },
        "id": "1HTurjHppN73",
        "outputId": "b896954e-ede0-4704-b490-c72f664dcd5d"
      },
      "execution_count": null,
      "outputs": [
        {
          "output_type": "stream",
          "name": "stdout",
          "text": [
            "0.0900556127579012\n",
            "-0.11947082337172521\n",
            "-0.05242274975456329\n"
          ]
        }
      ]
    },
    {
      "cell_type": "code",
      "source": [
        "print(1 - cosine(pca_encoded_1[325],pca_encoded_2[325]))\n",
        "print(1 - cosine(pca_encoded_2[325],pca_encoded_3[325]))\n",
        "print(1 - cosine(pca_encoded_1[325],pca_encoded_3[325]))"
      ],
      "metadata": {
        "colab": {
          "base_uri": "https://localhost:8080/"
        },
        "id": "W2Wv7aYzpTeq",
        "outputId": "502f12bc-9c6d-4844-ac99-5ee668ce0b17"
      },
      "execution_count": null,
      "outputs": [
        {
          "output_type": "stream",
          "name": "stdout",
          "text": [
            "0.27491397409232865\n",
            "0.21035244219223603\n",
            "0.08135521659878442\n"
          ]
        }
      ]
    },
    {
      "cell_type": "markdown",
      "source": [
        "long df"
      ],
      "metadata": {
        "id": "xFA8-M8jpcSm"
      }
    },
    {
      "cell_type": "code",
      "source": [
        "long_df_1 = long_df['sent0'].values.tolist()\n",
        "long_df_2 = long_df['sent1'].values.tolist()\n",
        "long_df_3 = long_df['hard_neg'].values.tolist()\n",
        "long_df_1 = model.encode(long_df_1)\n",
        "long_df_2 = model.encode(long_df_2)\n",
        "long_df_3 = model.encode(long_df_3)\n",
        "\n",
        "\n"
      ],
      "metadata": {
        "colab": {
          "base_uri": "https://localhost:8080/"
        },
        "id": "bpZ_zLnipdIx",
        "outputId": "80ac9cbe-2e66-4b2d-caad-5401d7f4e1a6"
      },
      "execution_count": null,
      "outputs": [
        {
          "output_type": "stream",
          "name": "stderr",
          "text": [
            "100%|██████████| 8/8 [02:16<00:00, 17.03s/it]\n",
            "100%|██████████| 8/8 [00:48<00:00,  6.00s/it]\n",
            "100%|██████████| 8/8 [00:37<00:00,  4.70s/it]\n"
          ]
        }
      ]
    },
    {
      "cell_type": "code",
      "source": [
        "pca = PCA(n_components=64)\n",
        "pca.fit(medium_df_1)\n",
        "pca_encoded_1 = pca.transform(long_df_1)\n",
        "pca = PCA(n_components=64)\n",
        "pca.fit(medium_df_2)\n",
        "pca_encoded_2 = pca.transform(long_df_2)\n",
        "pca = PCA(n_components=64)\n",
        "pca.fit(medium_df_3)\n",
        "pca_encoded_3 = pca.transform(long_df_3)"
      ],
      "metadata": {
        "id": "WjF7-Cej4iz3"
      },
      "execution_count": null,
      "outputs": []
    },
    {
      "cell_type": "code",
      "source": [
        "print(1 - cosine(pca_encoded_1[100],pca_encoded_2[100]))\n",
        "print(1 - cosine(pca_encoded_2[100],pca_encoded_3[100]))\n",
        "print(1 - cosine(pca_encoded_1[100],pca_encoded_3[100]))"
      ],
      "metadata": {
        "colab": {
          "base_uri": "https://localhost:8080/"
        },
        "id": "9aXH04Jyp0JD",
        "outputId": "b9f0f3b7-b372-4a65-9367-463024eca23b"
      },
      "execution_count": null,
      "outputs": [
        {
          "output_type": "stream",
          "name": "stdout",
          "text": [
            "-0.15870794558990187\n",
            "-0.19996859386209076\n",
            "0.05821631658392923\n"
          ]
        }
      ]
    },
    {
      "cell_type": "code",
      "source": [
        "print(1 - cosine(pca_encoded_1[50],pca_encoded_2[50]))\n",
        "print(1 - cosine(pca_encoded_2[50],pca_encoded_3[50]))\n",
        "print(1 - cosine(pca_encoded_1[50],pca_encoded_3[50]))"
      ],
      "metadata": {
        "colab": {
          "base_uri": "https://localhost:8080/"
        },
        "id": "xv8jbbQxq_4b",
        "outputId": "ead5975b-0229-40b0-8528-f031ea66d642"
      },
      "execution_count": null,
      "outputs": [
        {
          "output_type": "stream",
          "name": "stdout",
          "text": [
            "-0.04213284832111053\n",
            "0.015002186809184637\n",
            "0.08856857527120954\n"
          ]
        }
      ]
    },
    {
      "cell_type": "code",
      "source": [
        "print(1 - cosine(pca_encoded_1[125],pca_encoded_2[125]))\n",
        "print(1 - cosine(pca_encoded_2[125],pca_encoded_3[125]))\n",
        "print(1 - cosine(pca_encoded_1[125],pca_encoded_3[125]))"
      ],
      "metadata": {
        "colab": {
          "base_uri": "https://localhost:8080/"
        },
        "id": "EnWtGMmxrB6f",
        "outputId": "f1bf8338-95c7-4792-87e1-50e1cbbccfda"
      },
      "execution_count": null,
      "outputs": [
        {
          "output_type": "stream",
          "name": "stdout",
          "text": [
            "0.022087284887616243\n",
            "-0.2971252685924908\n",
            "0.19920677378670393\n"
          ]
        }
      ]
    },
    {
      "cell_type": "code",
      "source": [
        "print(1 - cosine(pca_encoded_1[275],pca_encoded_2[275]))\n",
        "print(1 - cosine(pca_encoded_2[275],pca_encoded_3[275]))\n",
        "print(1 - cosine(pca_encoded_1[275],pca_encoded_3[275]))"
      ],
      "metadata": {
        "colab": {
          "base_uri": "https://localhost:8080/"
        },
        "id": "fh3eaA4prFuW",
        "outputId": "96607b30-bb27-46d7-b279-91717edd1c0e"
      },
      "execution_count": null,
      "outputs": [
        {
          "output_type": "stream",
          "name": "stdout",
          "text": [
            "0.07950443290760445\n",
            "-0.11264793009768104\n",
            "-0.21039050980211282\n"
          ]
        }
      ]
    },
    {
      "cell_type": "code",
      "source": [
        "print(1 - cosine(pca_encoded_1[325],pca_encoded_2[325]))\n",
        "print(1 - cosine(pca_encoded_2[325],pca_encoded_3[325]))\n",
        "print(1 - cosine(pca_encoded_1[325],pca_encoded_3[325]))"
      ],
      "metadata": {
        "colab": {
          "base_uri": "https://localhost:8080/"
        },
        "id": "2hwWHgOXrMfr",
        "outputId": "6d791e0e-36f8-47bf-a4f2-cfc1ba94faa1"
      },
      "execution_count": null,
      "outputs": [
        {
          "output_type": "stream",
          "name": "stdout",
          "text": [
            "0.09262621203074317\n",
            "-0.008572783348723911\n",
            "0.06640055701902259\n"
          ]
        }
      ]
    },
    {
      "cell_type": "code",
      "source": [
        "import regex as re"
      ],
      "metadata": {
        "id": "m1wyLcVLrzmT"
      },
      "execution_count": null,
      "outputs": []
    },
    {
      "cell_type": "code",
      "source": [
        "df1"
      ],
      "metadata": {
        "colab": {
          "base_uri": "https://localhost:8080/"
        },
        "id": "gL1bZFSkrwJY",
        "outputId": "9e468df4-cc56-4086-c28a-41977fe5359b"
      },
      "execution_count": null,
      "outputs": [
        {
          "output_type": "execute_result",
          "data": {
            "text/plain": [
              "0         you know during the season and i guess at at y...\n",
              "1         One of our number will carry out your instruct...\n",
              "2         How do you know? All this is their information...\n",
              "3         yeah i tell you what though if you go price so...\n",
              "4         my walkman broke so i'm upset now i just have ...\n",
              "                                ...                        \n",
              "275596    A group of four kids stand in front of a statu...\n",
              "275597       a kid doing tricks on a skateboard on a bridge\n",
              "275598         A dog with a blue collar plays ball outside.\n",
              "275599                  Four dirty and barefooted children.\n",
              "275600    A man is surfing in a bodysuit in beautiful bl...\n",
              "Name: sent0, Length: 275601, dtype: object"
            ]
          },
          "metadata": {},
          "execution_count": 67
        }
      ]
    },
    {
      "cell_type": "code",
      "source": [
        "df1[274175]"
      ],
      "metadata": {
        "colab": {
          "base_uri": "https://localhost:8080/",
          "height": 35
        },
        "id": "oJPytsAQsoxG",
        "outputId": "046889d7-eef7-41d4-c21e-5570694d11cd"
      },
      "execution_count": null,
      "outputs": [
        {
          "output_type": "execute_result",
          "data": {
            "text/plain": [
              "'The man is wearing a red shirt.'"
            ],
            "application/vnd.google.colaboratory.intrinsic+json": {
              "type": "string"
            }
          },
          "metadata": {},
          "execution_count": 80
        }
      ]
    },
    {
      "cell_type": "code",
      "source": [
        "a = pd.DataFrame(df1)"
      ],
      "metadata": {
        "id": "WD77Pnfjr9hL"
      },
      "execution_count": null,
      "outputs": []
    },
    {
      "cell_type": "code",
      "source": [
        "a[a['sent0'] == 'The man is wearing a red shirt.']"
      ],
      "metadata": {
        "colab": {
          "base_uri": "https://localhost:8080/",
          "height": 81
        },
        "id": "0enIrZ9HsdqV",
        "outputId": "2f7745cf-19c6-4358-9d15-c5a41ad20432"
      },
      "execution_count": null,
      "outputs": [
        {
          "output_type": "execute_result",
          "data": {
            "text/plain": [
              "                                  sent0\n",
              "274175  The man is wearing a red shirt."
            ],
            "text/html": [
              "\n",
              "  <div id=\"df-92e55bfe-42a8-4124-8d7d-cbb9c0d1a2ba\">\n",
              "    <div class=\"colab-df-container\">\n",
              "      <div>\n",
              "<style scoped>\n",
              "    .dataframe tbody tr th:only-of-type {\n",
              "        vertical-align: middle;\n",
              "    }\n",
              "\n",
              "    .dataframe tbody tr th {\n",
              "        vertical-align: top;\n",
              "    }\n",
              "\n",
              "    .dataframe thead th {\n",
              "        text-align: right;\n",
              "    }\n",
              "</style>\n",
              "<table border=\"1\" class=\"dataframe\">\n",
              "  <thead>\n",
              "    <tr style=\"text-align: right;\">\n",
              "      <th></th>\n",
              "      <th>sent0</th>\n",
              "    </tr>\n",
              "  </thead>\n",
              "  <tbody>\n",
              "    <tr>\n",
              "      <th>274175</th>\n",
              "      <td>The man is wearing a red shirt.</td>\n",
              "    </tr>\n",
              "  </tbody>\n",
              "</table>\n",
              "</div>\n",
              "      <button class=\"colab-df-convert\" onclick=\"convertToInteractive('df-92e55bfe-42a8-4124-8d7d-cbb9c0d1a2ba')\"\n",
              "              title=\"Convert this dataframe to an interactive table.\"\n",
              "              style=\"display:none;\">\n",
              "        \n",
              "  <svg xmlns=\"http://www.w3.org/2000/svg\" height=\"24px\"viewBox=\"0 0 24 24\"\n",
              "       width=\"24px\">\n",
              "    <path d=\"M0 0h24v24H0V0z\" fill=\"none\"/>\n",
              "    <path d=\"M18.56 5.44l.94 2.06.94-2.06 2.06-.94-2.06-.94-.94-2.06-.94 2.06-2.06.94zm-11 1L8.5 8.5l.94-2.06 2.06-.94-2.06-.94L8.5 2.5l-.94 2.06-2.06.94zm10 10l.94 2.06.94-2.06 2.06-.94-2.06-.94-.94-2.06-.94 2.06-2.06.94z\"/><path d=\"M17.41 7.96l-1.37-1.37c-.4-.4-.92-.59-1.43-.59-.52 0-1.04.2-1.43.59L10.3 9.45l-7.72 7.72c-.78.78-.78 2.05 0 2.83L4 21.41c.39.39.9.59 1.41.59.51 0 1.02-.2 1.41-.59l7.78-7.78 2.81-2.81c.8-.78.8-2.07 0-2.86zM5.41 20L4 18.59l7.72-7.72 1.47 1.35L5.41 20z\"/>\n",
              "  </svg>\n",
              "      </button>\n",
              "      \n",
              "  <style>\n",
              "    .colab-df-container {\n",
              "      display:flex;\n",
              "      flex-wrap:wrap;\n",
              "      gap: 12px;\n",
              "    }\n",
              "\n",
              "    .colab-df-convert {\n",
              "      background-color: #E8F0FE;\n",
              "      border: none;\n",
              "      border-radius: 50%;\n",
              "      cursor: pointer;\n",
              "      display: none;\n",
              "      fill: #1967D2;\n",
              "      height: 32px;\n",
              "      padding: 0 0 0 0;\n",
              "      width: 32px;\n",
              "    }\n",
              "\n",
              "    .colab-df-convert:hover {\n",
              "      background-color: #E2EBFA;\n",
              "      box-shadow: 0px 1px 2px rgba(60, 64, 67, 0.3), 0px 1px 3px 1px rgba(60, 64, 67, 0.15);\n",
              "      fill: #174EA6;\n",
              "    }\n",
              "\n",
              "    [theme=dark] .colab-df-convert {\n",
              "      background-color: #3B4455;\n",
              "      fill: #D2E3FC;\n",
              "    }\n",
              "\n",
              "    [theme=dark] .colab-df-convert:hover {\n",
              "      background-color: #434B5C;\n",
              "      box-shadow: 0px 1px 3px 1px rgba(0, 0, 0, 0.15);\n",
              "      filter: drop-shadow(0px 1px 2px rgba(0, 0, 0, 0.3));\n",
              "      fill: #FFFFFF;\n",
              "    }\n",
              "  </style>\n",
              "\n",
              "      <script>\n",
              "        const buttonEl =\n",
              "          document.querySelector('#df-92e55bfe-42a8-4124-8d7d-cbb9c0d1a2ba button.colab-df-convert');\n",
              "        buttonEl.style.display =\n",
              "          google.colab.kernel.accessAllowed ? 'block' : 'none';\n",
              "\n",
              "        async function convertToInteractive(key) {\n",
              "          const element = document.querySelector('#df-92e55bfe-42a8-4124-8d7d-cbb9c0d1a2ba');\n",
              "          const dataTable =\n",
              "            await google.colab.kernel.invokeFunction('convertToInteractive',\n",
              "                                                     [key], {});\n",
              "          if (!dataTable) return;\n",
              "\n",
              "          const docLinkHtml = 'Like what you see? Visit the ' +\n",
              "            '<a target=\"_blank\" href=https://colab.research.google.com/notebooks/data_table.ipynb>data table notebook</a>'\n",
              "            + ' to learn more about interactive tables.';\n",
              "          element.innerHTML = '';\n",
              "          dataTable['output_type'] = 'display_data';\n",
              "          await google.colab.output.renderOutput(dataTable, element);\n",
              "          const docLink = document.createElement('div');\n",
              "          docLink.innerHTML = docLinkHtml;\n",
              "          element.appendChild(docLink);\n",
              "        }\n",
              "      </script>\n",
              "    </div>\n",
              "  </div>\n",
              "  "
            ]
          },
          "metadata": {},
          "execution_count": 79
        }
      ]
    },
    {
      "cell_type": "code",
      "source": [
        "a[a['sent0'] == 'People stand outside watching motorcycles drive down a road.']"
      ],
      "metadata": {
        "colab": {
          "base_uri": "https://localhost:8080/",
          "height": 81
        },
        "id": "R68vEHv5vC9m",
        "outputId": "86911d06-e9fc-4579-db6a-54395caf90c1"
      },
      "execution_count": null,
      "outputs": [
        {
          "output_type": "execute_result",
          "data": {
            "text/plain": [
              "                                                    sent0\n",
              "136006  People stand outside watching motorcycles driv..."
            ],
            "text/html": [
              "\n",
              "  <div id=\"df-c5b16b0e-80c6-4e34-80b5-7524ce9c66d7\">\n",
              "    <div class=\"colab-df-container\">\n",
              "      <div>\n",
              "<style scoped>\n",
              "    .dataframe tbody tr th:only-of-type {\n",
              "        vertical-align: middle;\n",
              "    }\n",
              "\n",
              "    .dataframe tbody tr th {\n",
              "        vertical-align: top;\n",
              "    }\n",
              "\n",
              "    .dataframe thead th {\n",
              "        text-align: right;\n",
              "    }\n",
              "</style>\n",
              "<table border=\"1\" class=\"dataframe\">\n",
              "  <thead>\n",
              "    <tr style=\"text-align: right;\">\n",
              "      <th></th>\n",
              "      <th>sent0</th>\n",
              "    </tr>\n",
              "  </thead>\n",
              "  <tbody>\n",
              "    <tr>\n",
              "      <th>136006</th>\n",
              "      <td>People stand outside watching motorcycles driv...</td>\n",
              "    </tr>\n",
              "  </tbody>\n",
              "</table>\n",
              "</div>\n",
              "      <button class=\"colab-df-convert\" onclick=\"convertToInteractive('df-c5b16b0e-80c6-4e34-80b5-7524ce9c66d7')\"\n",
              "              title=\"Convert this dataframe to an interactive table.\"\n",
              "              style=\"display:none;\">\n",
              "        \n",
              "  <svg xmlns=\"http://www.w3.org/2000/svg\" height=\"24px\"viewBox=\"0 0 24 24\"\n",
              "       width=\"24px\">\n",
              "    <path d=\"M0 0h24v24H0V0z\" fill=\"none\"/>\n",
              "    <path d=\"M18.56 5.44l.94 2.06.94-2.06 2.06-.94-2.06-.94-.94-2.06-.94 2.06-2.06.94zm-11 1L8.5 8.5l.94-2.06 2.06-.94-2.06-.94L8.5 2.5l-.94 2.06-2.06.94zm10 10l.94 2.06.94-2.06 2.06-.94-2.06-.94-.94-2.06-.94 2.06-2.06.94z\"/><path d=\"M17.41 7.96l-1.37-1.37c-.4-.4-.92-.59-1.43-.59-.52 0-1.04.2-1.43.59L10.3 9.45l-7.72 7.72c-.78.78-.78 2.05 0 2.83L4 21.41c.39.39.9.59 1.41.59.51 0 1.02-.2 1.41-.59l7.78-7.78 2.81-2.81c.8-.78.8-2.07 0-2.86zM5.41 20L4 18.59l7.72-7.72 1.47 1.35L5.41 20z\"/>\n",
              "  </svg>\n",
              "      </button>\n",
              "      \n",
              "  <style>\n",
              "    .colab-df-container {\n",
              "      display:flex;\n",
              "      flex-wrap:wrap;\n",
              "      gap: 12px;\n",
              "    }\n",
              "\n",
              "    .colab-df-convert {\n",
              "      background-color: #E8F0FE;\n",
              "      border: none;\n",
              "      border-radius: 50%;\n",
              "      cursor: pointer;\n",
              "      display: none;\n",
              "      fill: #1967D2;\n",
              "      height: 32px;\n",
              "      padding: 0 0 0 0;\n",
              "      width: 32px;\n",
              "    }\n",
              "\n",
              "    .colab-df-convert:hover {\n",
              "      background-color: #E2EBFA;\n",
              "      box-shadow: 0px 1px 2px rgba(60, 64, 67, 0.3), 0px 1px 3px 1px rgba(60, 64, 67, 0.15);\n",
              "      fill: #174EA6;\n",
              "    }\n",
              "\n",
              "    [theme=dark] .colab-df-convert {\n",
              "      background-color: #3B4455;\n",
              "      fill: #D2E3FC;\n",
              "    }\n",
              "\n",
              "    [theme=dark] .colab-df-convert:hover {\n",
              "      background-color: #434B5C;\n",
              "      box-shadow: 0px 1px 3px 1px rgba(0, 0, 0, 0.15);\n",
              "      filter: drop-shadow(0px 1px 2px rgba(0, 0, 0, 0.3));\n",
              "      fill: #FFFFFF;\n",
              "    }\n",
              "  </style>\n",
              "\n",
              "      <script>\n",
              "        const buttonEl =\n",
              "          document.querySelector('#df-c5b16b0e-80c6-4e34-80b5-7524ce9c66d7 button.colab-df-convert');\n",
              "        buttonEl.style.display =\n",
              "          google.colab.kernel.accessAllowed ? 'block' : 'none';\n",
              "\n",
              "        async function convertToInteractive(key) {\n",
              "          const element = document.querySelector('#df-c5b16b0e-80c6-4e34-80b5-7524ce9c66d7');\n",
              "          const dataTable =\n",
              "            await google.colab.kernel.invokeFunction('convertToInteractive',\n",
              "                                                     [key], {});\n",
              "          if (!dataTable) return;\n",
              "\n",
              "          const docLinkHtml = 'Like what you see? Visit the ' +\n",
              "            '<a target=\"_blank\" href=https://colab.research.google.com/notebooks/data_table.ipynb>data table notebook</a>'\n",
              "            + ' to learn more about interactive tables.';\n",
              "          element.innerHTML = '';\n",
              "          dataTable['output_type'] = 'display_data';\n",
              "          await google.colab.output.renderOutput(dataTable, element);\n",
              "          const docLink = document.createElement('div');\n",
              "          docLink.innerHTML = docLinkHtml;\n",
              "          element.appendChild(docLink);\n",
              "        }\n",
              "      </script>\n",
              "    </div>\n",
              "  </div>\n",
              "  "
            ]
          },
          "metadata": {},
          "execution_count": 103
        }
      ]
    },
    {
      "cell_type": "code",
      "source": [
        "a[a['sent0'] == 'A red plane flying over a boat as it trails pink smoke.']"
      ],
      "metadata": {
        "colab": {
          "base_uri": "https://localhost:8080/",
          "height": 81
        },
        "id": "fKSF2GsWvT39",
        "outputId": "3855f5f9-8eaf-476b-e473-eab37032e9fb"
      },
      "execution_count": null,
      "outputs": [
        {
          "output_type": "execute_result",
          "data": {
            "text/plain": [
              "                                                    sent0\n",
              "213366  A red plane flying over a boat as it trails pi..."
            ],
            "text/html": [
              "\n",
              "  <div id=\"df-9a6cfdb0-e7c7-4695-9d56-ee1e3da6501d\">\n",
              "    <div class=\"colab-df-container\">\n",
              "      <div>\n",
              "<style scoped>\n",
              "    .dataframe tbody tr th:only-of-type {\n",
              "        vertical-align: middle;\n",
              "    }\n",
              "\n",
              "    .dataframe tbody tr th {\n",
              "        vertical-align: top;\n",
              "    }\n",
              "\n",
              "    .dataframe thead th {\n",
              "        text-align: right;\n",
              "    }\n",
              "</style>\n",
              "<table border=\"1\" class=\"dataframe\">\n",
              "  <thead>\n",
              "    <tr style=\"text-align: right;\">\n",
              "      <th></th>\n",
              "      <th>sent0</th>\n",
              "    </tr>\n",
              "  </thead>\n",
              "  <tbody>\n",
              "    <tr>\n",
              "      <th>213366</th>\n",
              "      <td>A red plane flying over a boat as it trails pi...</td>\n",
              "    </tr>\n",
              "  </tbody>\n",
              "</table>\n",
              "</div>\n",
              "      <button class=\"colab-df-convert\" onclick=\"convertToInteractive('df-9a6cfdb0-e7c7-4695-9d56-ee1e3da6501d')\"\n",
              "              title=\"Convert this dataframe to an interactive table.\"\n",
              "              style=\"display:none;\">\n",
              "        \n",
              "  <svg xmlns=\"http://www.w3.org/2000/svg\" height=\"24px\"viewBox=\"0 0 24 24\"\n",
              "       width=\"24px\">\n",
              "    <path d=\"M0 0h24v24H0V0z\" fill=\"none\"/>\n",
              "    <path d=\"M18.56 5.44l.94 2.06.94-2.06 2.06-.94-2.06-.94-.94-2.06-.94 2.06-2.06.94zm-11 1L8.5 8.5l.94-2.06 2.06-.94-2.06-.94L8.5 2.5l-.94 2.06-2.06.94zm10 10l.94 2.06.94-2.06 2.06-.94-2.06-.94-.94-2.06-.94 2.06-2.06.94z\"/><path d=\"M17.41 7.96l-1.37-1.37c-.4-.4-.92-.59-1.43-.59-.52 0-1.04.2-1.43.59L10.3 9.45l-7.72 7.72c-.78.78-.78 2.05 0 2.83L4 21.41c.39.39.9.59 1.41.59.51 0 1.02-.2 1.41-.59l7.78-7.78 2.81-2.81c.8-.78.8-2.07 0-2.86zM5.41 20L4 18.59l7.72-7.72 1.47 1.35L5.41 20z\"/>\n",
              "  </svg>\n",
              "      </button>\n",
              "      \n",
              "  <style>\n",
              "    .colab-df-container {\n",
              "      display:flex;\n",
              "      flex-wrap:wrap;\n",
              "      gap: 12px;\n",
              "    }\n",
              "\n",
              "    .colab-df-convert {\n",
              "      background-color: #E8F0FE;\n",
              "      border: none;\n",
              "      border-radius: 50%;\n",
              "      cursor: pointer;\n",
              "      display: none;\n",
              "      fill: #1967D2;\n",
              "      height: 32px;\n",
              "      padding: 0 0 0 0;\n",
              "      width: 32px;\n",
              "    }\n",
              "\n",
              "    .colab-df-convert:hover {\n",
              "      background-color: #E2EBFA;\n",
              "      box-shadow: 0px 1px 2px rgba(60, 64, 67, 0.3), 0px 1px 3px 1px rgba(60, 64, 67, 0.15);\n",
              "      fill: #174EA6;\n",
              "    }\n",
              "\n",
              "    [theme=dark] .colab-df-convert {\n",
              "      background-color: #3B4455;\n",
              "      fill: #D2E3FC;\n",
              "    }\n",
              "\n",
              "    [theme=dark] .colab-df-convert:hover {\n",
              "      background-color: #434B5C;\n",
              "      box-shadow: 0px 1px 3px 1px rgba(0, 0, 0, 0.15);\n",
              "      filter: drop-shadow(0px 1px 2px rgba(0, 0, 0, 0.3));\n",
              "      fill: #FFFFFF;\n",
              "    }\n",
              "  </style>\n",
              "\n",
              "      <script>\n",
              "        const buttonEl =\n",
              "          document.querySelector('#df-9a6cfdb0-e7c7-4695-9d56-ee1e3da6501d button.colab-df-convert');\n",
              "        buttonEl.style.display =\n",
              "          google.colab.kernel.accessAllowed ? 'block' : 'none';\n",
              "\n",
              "        async function convertToInteractive(key) {\n",
              "          const element = document.querySelector('#df-9a6cfdb0-e7c7-4695-9d56-ee1e3da6501d');\n",
              "          const dataTable =\n",
              "            await google.colab.kernel.invokeFunction('convertToInteractive',\n",
              "                                                     [key], {});\n",
              "          if (!dataTable) return;\n",
              "\n",
              "          const docLinkHtml = 'Like what you see? Visit the ' +\n",
              "            '<a target=\"_blank\" href=https://colab.research.google.com/notebooks/data_table.ipynb>data table notebook</a>'\n",
              "            + ' to learn more about interactive tables.';\n",
              "          element.innerHTML = '';\n",
              "          dataTable['output_type'] = 'display_data';\n",
              "          await google.colab.output.renderOutput(dataTable, element);\n",
              "          const docLink = document.createElement('div');\n",
              "          docLink.innerHTML = docLinkHtml;\n",
              "          element.appendChild(docLink);\n",
              "        }\n",
              "      </script>\n",
              "    </div>\n",
              "  </div>\n",
              "  "
            ]
          },
          "metadata": {},
          "execution_count": 105
        }
      ]
    },
    {
      "cell_type": "code",
      "source": [
        "a[a['sent0'] == 'I do not have the energy to remedy these deficiencies now.']"
      ],
      "metadata": {
        "colab": {
          "base_uri": "https://localhost:8080/",
          "height": 81
        },
        "id": "QEL7TqbZvfHp",
        "outputId": "c65936f0-b7a0-47ca-837c-20911e07abb1"
      },
      "execution_count": null,
      "outputs": [
        {
          "output_type": "execute_result",
          "data": {
            "text/plain": [
              "                                                   sent0\n",
              "62364  I do not have the energy to remedy these defic..."
            ],
            "text/html": [
              "\n",
              "  <div id=\"df-da836c7f-7620-4308-9d9c-a5d5ae44ea00\">\n",
              "    <div class=\"colab-df-container\">\n",
              "      <div>\n",
              "<style scoped>\n",
              "    .dataframe tbody tr th:only-of-type {\n",
              "        vertical-align: middle;\n",
              "    }\n",
              "\n",
              "    .dataframe tbody tr th {\n",
              "        vertical-align: top;\n",
              "    }\n",
              "\n",
              "    .dataframe thead th {\n",
              "        text-align: right;\n",
              "    }\n",
              "</style>\n",
              "<table border=\"1\" class=\"dataframe\">\n",
              "  <thead>\n",
              "    <tr style=\"text-align: right;\">\n",
              "      <th></th>\n",
              "      <th>sent0</th>\n",
              "    </tr>\n",
              "  </thead>\n",
              "  <tbody>\n",
              "    <tr>\n",
              "      <th>62364</th>\n",
              "      <td>I do not have the energy to remedy these defic...</td>\n",
              "    </tr>\n",
              "  </tbody>\n",
              "</table>\n",
              "</div>\n",
              "      <button class=\"colab-df-convert\" onclick=\"convertToInteractive('df-da836c7f-7620-4308-9d9c-a5d5ae44ea00')\"\n",
              "              title=\"Convert this dataframe to an interactive table.\"\n",
              "              style=\"display:none;\">\n",
              "        \n",
              "  <svg xmlns=\"http://www.w3.org/2000/svg\" height=\"24px\"viewBox=\"0 0 24 24\"\n",
              "       width=\"24px\">\n",
              "    <path d=\"M0 0h24v24H0V0z\" fill=\"none\"/>\n",
              "    <path d=\"M18.56 5.44l.94 2.06.94-2.06 2.06-.94-2.06-.94-.94-2.06-.94 2.06-2.06.94zm-11 1L8.5 8.5l.94-2.06 2.06-.94-2.06-.94L8.5 2.5l-.94 2.06-2.06.94zm10 10l.94 2.06.94-2.06 2.06-.94-2.06-.94-.94-2.06-.94 2.06-2.06.94z\"/><path d=\"M17.41 7.96l-1.37-1.37c-.4-.4-.92-.59-1.43-.59-.52 0-1.04.2-1.43.59L10.3 9.45l-7.72 7.72c-.78.78-.78 2.05 0 2.83L4 21.41c.39.39.9.59 1.41.59.51 0 1.02-.2 1.41-.59l7.78-7.78 2.81-2.81c.8-.78.8-2.07 0-2.86zM5.41 20L4 18.59l7.72-7.72 1.47 1.35L5.41 20z\"/>\n",
              "  </svg>\n",
              "      </button>\n",
              "      \n",
              "  <style>\n",
              "    .colab-df-container {\n",
              "      display:flex;\n",
              "      flex-wrap:wrap;\n",
              "      gap: 12px;\n",
              "    }\n",
              "\n",
              "    .colab-df-convert {\n",
              "      background-color: #E8F0FE;\n",
              "      border: none;\n",
              "      border-radius: 50%;\n",
              "      cursor: pointer;\n",
              "      display: none;\n",
              "      fill: #1967D2;\n",
              "      height: 32px;\n",
              "      padding: 0 0 0 0;\n",
              "      width: 32px;\n",
              "    }\n",
              "\n",
              "    .colab-df-convert:hover {\n",
              "      background-color: #E2EBFA;\n",
              "      box-shadow: 0px 1px 2px rgba(60, 64, 67, 0.3), 0px 1px 3px 1px rgba(60, 64, 67, 0.15);\n",
              "      fill: #174EA6;\n",
              "    }\n",
              "\n",
              "    [theme=dark] .colab-df-convert {\n",
              "      background-color: #3B4455;\n",
              "      fill: #D2E3FC;\n",
              "    }\n",
              "\n",
              "    [theme=dark] .colab-df-convert:hover {\n",
              "      background-color: #434B5C;\n",
              "      box-shadow: 0px 1px 3px 1px rgba(0, 0, 0, 0.15);\n",
              "      filter: drop-shadow(0px 1px 2px rgba(0, 0, 0, 0.3));\n",
              "      fill: #FFFFFF;\n",
              "    }\n",
              "  </style>\n",
              "\n",
              "      <script>\n",
              "        const buttonEl =\n",
              "          document.querySelector('#df-da836c7f-7620-4308-9d9c-a5d5ae44ea00 button.colab-df-convert');\n",
              "        buttonEl.style.display =\n",
              "          google.colab.kernel.accessAllowed ? 'block' : 'none';\n",
              "\n",
              "        async function convertToInteractive(key) {\n",
              "          const element = document.querySelector('#df-da836c7f-7620-4308-9d9c-a5d5ae44ea00');\n",
              "          const dataTable =\n",
              "            await google.colab.kernel.invokeFunction('convertToInteractive',\n",
              "                                                     [key], {});\n",
              "          if (!dataTable) return;\n",
              "\n",
              "          const docLinkHtml = 'Like what you see? Visit the ' +\n",
              "            '<a target=\"_blank\" href=https://colab.research.google.com/notebooks/data_table.ipynb>data table notebook</a>'\n",
              "            + ' to learn more about interactive tables.';\n",
              "          element.innerHTML = '';\n",
              "          dataTable['output_type'] = 'display_data';\n",
              "          await google.colab.output.renderOutput(dataTable, element);\n",
              "          const docLink = document.createElement('div');\n",
              "          docLink.innerHTML = docLinkHtml;\n",
              "          element.appendChild(docLink);\n",
              "        }\n",
              "      </script>\n",
              "    </div>\n",
              "  </div>\n",
              "  "
            ]
          },
          "metadata": {},
          "execution_count": 107
        }
      ]
    },
    {
      "cell_type": "code",
      "source": [
        "a[a['sent0'] == \"According to Hersh, who was leaked information that had been kept secret since Pollard's arrest, Pollard not only compromised America's Middle East operations, he also gave away tons of American classified data about the Soviet Union.\"]"
      ],
      "metadata": {
        "colab": {
          "base_uri": "https://localhost:8080/",
          "height": 81
        },
        "id": "rKHtFedQvs_K",
        "outputId": "f706a9d4-99b5-4ed5-b6a2-cf241e062202"
      },
      "execution_count": null,
      "outputs": [
        {
          "output_type": "execute_result",
          "data": {
            "text/plain": [
              "                                                   sent0\n",
              "89037  According to Hersh, who was leaked information..."
            ],
            "text/html": [
              "\n",
              "  <div id=\"df-b804058b-5a6d-49de-8a2a-a465cef93c1d\">\n",
              "    <div class=\"colab-df-container\">\n",
              "      <div>\n",
              "<style scoped>\n",
              "    .dataframe tbody tr th:only-of-type {\n",
              "        vertical-align: middle;\n",
              "    }\n",
              "\n",
              "    .dataframe tbody tr th {\n",
              "        vertical-align: top;\n",
              "    }\n",
              "\n",
              "    .dataframe thead th {\n",
              "        text-align: right;\n",
              "    }\n",
              "</style>\n",
              "<table border=\"1\" class=\"dataframe\">\n",
              "  <thead>\n",
              "    <tr style=\"text-align: right;\">\n",
              "      <th></th>\n",
              "      <th>sent0</th>\n",
              "    </tr>\n",
              "  </thead>\n",
              "  <tbody>\n",
              "    <tr>\n",
              "      <th>89037</th>\n",
              "      <td>According to Hersh, who was leaked information...</td>\n",
              "    </tr>\n",
              "  </tbody>\n",
              "</table>\n",
              "</div>\n",
              "      <button class=\"colab-df-convert\" onclick=\"convertToInteractive('df-b804058b-5a6d-49de-8a2a-a465cef93c1d')\"\n",
              "              title=\"Convert this dataframe to an interactive table.\"\n",
              "              style=\"display:none;\">\n",
              "        \n",
              "  <svg xmlns=\"http://www.w3.org/2000/svg\" height=\"24px\"viewBox=\"0 0 24 24\"\n",
              "       width=\"24px\">\n",
              "    <path d=\"M0 0h24v24H0V0z\" fill=\"none\"/>\n",
              "    <path d=\"M18.56 5.44l.94 2.06.94-2.06 2.06-.94-2.06-.94-.94-2.06-.94 2.06-2.06.94zm-11 1L8.5 8.5l.94-2.06 2.06-.94-2.06-.94L8.5 2.5l-.94 2.06-2.06.94zm10 10l.94 2.06.94-2.06 2.06-.94-2.06-.94-.94-2.06-.94 2.06-2.06.94z\"/><path d=\"M17.41 7.96l-1.37-1.37c-.4-.4-.92-.59-1.43-.59-.52 0-1.04.2-1.43.59L10.3 9.45l-7.72 7.72c-.78.78-.78 2.05 0 2.83L4 21.41c.39.39.9.59 1.41.59.51 0 1.02-.2 1.41-.59l7.78-7.78 2.81-2.81c.8-.78.8-2.07 0-2.86zM5.41 20L4 18.59l7.72-7.72 1.47 1.35L5.41 20z\"/>\n",
              "  </svg>\n",
              "      </button>\n",
              "      \n",
              "  <style>\n",
              "    .colab-df-container {\n",
              "      display:flex;\n",
              "      flex-wrap:wrap;\n",
              "      gap: 12px;\n",
              "    }\n",
              "\n",
              "    .colab-df-convert {\n",
              "      background-color: #E8F0FE;\n",
              "      border: none;\n",
              "      border-radius: 50%;\n",
              "      cursor: pointer;\n",
              "      display: none;\n",
              "      fill: #1967D2;\n",
              "      height: 32px;\n",
              "      padding: 0 0 0 0;\n",
              "      width: 32px;\n",
              "    }\n",
              "\n",
              "    .colab-df-convert:hover {\n",
              "      background-color: #E2EBFA;\n",
              "      box-shadow: 0px 1px 2px rgba(60, 64, 67, 0.3), 0px 1px 3px 1px rgba(60, 64, 67, 0.15);\n",
              "      fill: #174EA6;\n",
              "    }\n",
              "\n",
              "    [theme=dark] .colab-df-convert {\n",
              "      background-color: #3B4455;\n",
              "      fill: #D2E3FC;\n",
              "    }\n",
              "\n",
              "    [theme=dark] .colab-df-convert:hover {\n",
              "      background-color: #434B5C;\n",
              "      box-shadow: 0px 1px 3px 1px rgba(0, 0, 0, 0.15);\n",
              "      filter: drop-shadow(0px 1px 2px rgba(0, 0, 0, 0.3));\n",
              "      fill: #FFFFFF;\n",
              "    }\n",
              "  </style>\n",
              "\n",
              "      <script>\n",
              "        const buttonEl =\n",
              "          document.querySelector('#df-b804058b-5a6d-49de-8a2a-a465cef93c1d button.colab-df-convert');\n",
              "        buttonEl.style.display =\n",
              "          google.colab.kernel.accessAllowed ? 'block' : 'none';\n",
              "\n",
              "        async function convertToInteractive(key) {\n",
              "          const element = document.querySelector('#df-b804058b-5a6d-49de-8a2a-a465cef93c1d');\n",
              "          const dataTable =\n",
              "            await google.colab.kernel.invokeFunction('convertToInteractive',\n",
              "                                                     [key], {});\n",
              "          if (!dataTable) return;\n",
              "\n",
              "          const docLinkHtml = 'Like what you see? Visit the ' +\n",
              "            '<a target=\"_blank\" href=https://colab.research.google.com/notebooks/data_table.ipynb>data table notebook</a>'\n",
              "            + ' to learn more about interactive tables.';\n",
              "          element.innerHTML = '';\n",
              "          dataTable['output_type'] = 'display_data';\n",
              "          await google.colab.output.renderOutput(dataTable, element);\n",
              "          const docLink = document.createElement('div');\n",
              "          docLink.innerHTML = docLinkHtml;\n",
              "          element.appendChild(docLink);\n",
              "        }\n",
              "      </script>\n",
              "    </div>\n",
              "  </div>\n",
              "  "
            ]
          },
          "metadata": {},
          "execution_count": 110
        }
      ]
    },
    {
      "cell_type": "code",
      "source": [
        "a[a['sent0'] == \"The findings should put the legal community on notice that more needs to be done because the problem is only going to get worse, said Melville Miller, president of Legal Services.\"]"
      ],
      "metadata": {
        "colab": {
          "base_uri": "https://localhost:8080/",
          "height": 81
        },
        "id": "qe6DYbd6vtod",
        "outputId": "4cf11537-7b96-4069-c3c2-e93fe99a30f8"
      },
      "execution_count": null,
      "outputs": [
        {
          "output_type": "execute_result",
          "data": {
            "text/plain": [
              "                                                   sent0\n",
              "31455  The findings should put the legal community on..."
            ],
            "text/html": [
              "\n",
              "  <div id=\"df-3887bb16-108c-4964-acd1-466848b0622a\">\n",
              "    <div class=\"colab-df-container\">\n",
              "      <div>\n",
              "<style scoped>\n",
              "    .dataframe tbody tr th:only-of-type {\n",
              "        vertical-align: middle;\n",
              "    }\n",
              "\n",
              "    .dataframe tbody tr th {\n",
              "        vertical-align: top;\n",
              "    }\n",
              "\n",
              "    .dataframe thead th {\n",
              "        text-align: right;\n",
              "    }\n",
              "</style>\n",
              "<table border=\"1\" class=\"dataframe\">\n",
              "  <thead>\n",
              "    <tr style=\"text-align: right;\">\n",
              "      <th></th>\n",
              "      <th>sent0</th>\n",
              "    </tr>\n",
              "  </thead>\n",
              "  <tbody>\n",
              "    <tr>\n",
              "      <th>31455</th>\n",
              "      <td>The findings should put the legal community on...</td>\n",
              "    </tr>\n",
              "  </tbody>\n",
              "</table>\n",
              "</div>\n",
              "      <button class=\"colab-df-convert\" onclick=\"convertToInteractive('df-3887bb16-108c-4964-acd1-466848b0622a')\"\n",
              "              title=\"Convert this dataframe to an interactive table.\"\n",
              "              style=\"display:none;\">\n",
              "        \n",
              "  <svg xmlns=\"http://www.w3.org/2000/svg\" height=\"24px\"viewBox=\"0 0 24 24\"\n",
              "       width=\"24px\">\n",
              "    <path d=\"M0 0h24v24H0V0z\" fill=\"none\"/>\n",
              "    <path d=\"M18.56 5.44l.94 2.06.94-2.06 2.06-.94-2.06-.94-.94-2.06-.94 2.06-2.06.94zm-11 1L8.5 8.5l.94-2.06 2.06-.94-2.06-.94L8.5 2.5l-.94 2.06-2.06.94zm10 10l.94 2.06.94-2.06 2.06-.94-2.06-.94-.94-2.06-.94 2.06-2.06.94z\"/><path d=\"M17.41 7.96l-1.37-1.37c-.4-.4-.92-.59-1.43-.59-.52 0-1.04.2-1.43.59L10.3 9.45l-7.72 7.72c-.78.78-.78 2.05 0 2.83L4 21.41c.39.39.9.59 1.41.59.51 0 1.02-.2 1.41-.59l7.78-7.78 2.81-2.81c.8-.78.8-2.07 0-2.86zM5.41 20L4 18.59l7.72-7.72 1.47 1.35L5.41 20z\"/>\n",
              "  </svg>\n",
              "      </button>\n",
              "      \n",
              "  <style>\n",
              "    .colab-df-container {\n",
              "      display:flex;\n",
              "      flex-wrap:wrap;\n",
              "      gap: 12px;\n",
              "    }\n",
              "\n",
              "    .colab-df-convert {\n",
              "      background-color: #E8F0FE;\n",
              "      border: none;\n",
              "      border-radius: 50%;\n",
              "      cursor: pointer;\n",
              "      display: none;\n",
              "      fill: #1967D2;\n",
              "      height: 32px;\n",
              "      padding: 0 0 0 0;\n",
              "      width: 32px;\n",
              "    }\n",
              "\n",
              "    .colab-df-convert:hover {\n",
              "      background-color: #E2EBFA;\n",
              "      box-shadow: 0px 1px 2px rgba(60, 64, 67, 0.3), 0px 1px 3px 1px rgba(60, 64, 67, 0.15);\n",
              "      fill: #174EA6;\n",
              "    }\n",
              "\n",
              "    [theme=dark] .colab-df-convert {\n",
              "      background-color: #3B4455;\n",
              "      fill: #D2E3FC;\n",
              "    }\n",
              "\n",
              "    [theme=dark] .colab-df-convert:hover {\n",
              "      background-color: #434B5C;\n",
              "      box-shadow: 0px 1px 3px 1px rgba(0, 0, 0, 0.15);\n",
              "      filter: drop-shadow(0px 1px 2px rgba(0, 0, 0, 0.3));\n",
              "      fill: #FFFFFF;\n",
              "    }\n",
              "  </style>\n",
              "\n",
              "      <script>\n",
              "        const buttonEl =\n",
              "          document.querySelector('#df-3887bb16-108c-4964-acd1-466848b0622a button.colab-df-convert');\n",
              "        buttonEl.style.display =\n",
              "          google.colab.kernel.accessAllowed ? 'block' : 'none';\n",
              "\n",
              "        async function convertToInteractive(key) {\n",
              "          const element = document.querySelector('#df-3887bb16-108c-4964-acd1-466848b0622a');\n",
              "          const dataTable =\n",
              "            await google.colab.kernel.invokeFunction('convertToInteractive',\n",
              "                                                     [key], {});\n",
              "          if (!dataTable) return;\n",
              "\n",
              "          const docLinkHtml = 'Like what you see? Visit the ' +\n",
              "            '<a target=\"_blank\" href=https://colab.research.google.com/notebooks/data_table.ipynb>data table notebook</a>'\n",
              "            + ' to learn more about interactive tables.';\n",
              "          element.innerHTML = '';\n",
              "          dataTable['output_type'] = 'display_data';\n",
              "          await google.colab.output.renderOutput(dataTable, element);\n",
              "          const docLink = document.createElement('div');\n",
              "          docLink.innerHTML = docLinkHtml;\n",
              "          element.appendChild(docLink);\n",
              "        }\n",
              "      </script>\n",
              "    </div>\n",
              "  </div>\n",
              "  "
            ]
          },
          "metadata": {},
          "execution_count": 114
        }
      ]
    },
    {
      "cell_type": "code",
      "source": [
        "df1[274175]"
      ],
      "metadata": {
        "colab": {
          "base_uri": "https://localhost:8080/",
          "height": 35
        },
        "id": "BLPw3ozUu1D0",
        "outputId": "6067298d-685a-4700-cd99-591bef1f280f"
      },
      "execution_count": null,
      "outputs": [
        {
          "output_type": "execute_result",
          "data": {
            "text/plain": [
              "'The man is wearing a red shirt.'"
            ],
            "application/vnd.google.colaboratory.intrinsic+json": {
              "type": "string"
            }
          },
          "metadata": {},
          "execution_count": 101
        }
      ]
    },
    {
      "cell_type": "code",
      "source": [
        "df2"
      ],
      "metadata": {
        "colab": {
          "base_uri": "https://localhost:8080/"
        },
        "id": "rSyq_mNOr3DO",
        "outputId": "d42e24f1-56ef-4334-a8f4-a1b209426083"
      },
      "execution_count": null,
      "outputs": [
        {
          "output_type": "execute_result",
          "data": {
            "text/plain": [
              "0         You lose the things to the following level if ...\n",
              "1         A member of my team will execute your orders w...\n",
              "2                         This information belongs to them.\n",
              "3         The tennis shoes can be in the hundred dollar ...\n",
              "4         I'm upset that my walkman broke and now I have...\n",
              "                                ...                        \n",
              "275596                                   four kids standing\n",
              "275597                               a kid is skateboarding\n",
              "275598                                     a dog is outside\n",
              "275599                       four children have dirty feet.\n",
              "275600    On the beautiful blue water there is a man in ...\n",
              "Name: sent1, Length: 275601, dtype: object"
            ]
          },
          "metadata": {},
          "execution_count": 68
        }
      ]
    },
    {
      "cell_type": "code",
      "source": [
        "df2[274175]"
      ],
      "metadata": {
        "colab": {
          "base_uri": "https://localhost:8080/",
          "height": 35
        },
        "id": "feuj50oGsrKk",
        "outputId": "186d8197-7271-4bf6-84d9-6ed32994ba85"
      },
      "execution_count": null,
      "outputs": [
        {
          "output_type": "execute_result",
          "data": {
            "text/plain": [
              "'Theres a guy in red.'"
            ],
            "application/vnd.google.colaboratory.intrinsic+json": {
              "type": "string"
            }
          },
          "metadata": {},
          "execution_count": 81
        }
      ]
    },
    {
      "cell_type": "code",
      "source": [
        "df3"
      ],
      "metadata": {
        "colab": {
          "base_uri": "https://localhost:8080/"
        },
        "id": "tORL4urSr4PE",
        "outputId": "973f4702-5a8e-4240-d41f-a3c0f0029e5f"
      },
      "execution_count": null,
      "outputs": [
        {
          "output_type": "execute_result",
          "data": {
            "text/plain": [
              "0                   They never perform recalls on anything.\n",
              "1         We have no one free at the moment so you have ...\n",
              "2                          They have no information at all.\n",
              "3            The tennis shoes are not over hundred dollars.\n",
              "4          My walkman still works as well as it always did.\n",
              "                                ...                        \n",
              "275596                                  the kids are seated\n",
              "275597                                      a kid is inside\n",
              "275598                                a dog is on the couch\n",
              "275599             four kids won awards for 'cleanest feet'\n",
              "275600    A man in a business suit is heading to a board...\n",
              "Name: hard_neg, Length: 275601, dtype: object"
            ]
          },
          "metadata": {},
          "execution_count": 69
        }
      ]
    },
    {
      "cell_type": "code",
      "source": [
        "df3[274175]"
      ],
      "metadata": {
        "colab": {
          "base_uri": "https://localhost:8080/",
          "height": 35
        },
        "id": "RrOJ9C2hstRy",
        "outputId": "0bea21ac-e311-4204-cd50-3a87b0b7f20d"
      },
      "execution_count": null,
      "outputs": [
        {
          "output_type": "execute_result",
          "data": {
            "text/plain": [
              "\"There's a woman in black.\""
            ],
            "application/vnd.google.colaboratory.intrinsic+json": {
              "type": "string"
            }
          },
          "metadata": {},
          "execution_count": 82
        }
      ]
    },
    {
      "cell_type": "code",
      "source": [
        "list_0_encoded = pd.read_csv('/content/drive/MyDrive/output_NLP/list_0_encoded_df.csv')"
      ],
      "metadata": {
        "id": "zvEeZBQqsw7w"
      },
      "execution_count": null,
      "outputs": []
    },
    {
      "cell_type": "code",
      "source": [
        "list_1_encoded = pd.read_csv('/content/drive/MyDrive/output_NLP/list_1_encoded_df.csv')"
      ],
      "metadata": {
        "id": "lk1a7gBVs6WG"
      },
      "execution_count": null,
      "outputs": []
    },
    {
      "cell_type": "code",
      "source": [
        "list_2_encoded = pd.read_csv('/content/drive/MyDrive/output_NLP/list_2_encoded_df.csv')"
      ],
      "metadata": {
        "id": "XFex5ZVLs8zX"
      },
      "execution_count": null,
      "outputs": []
    },
    {
      "cell_type": "code",
      "source": [
        "list_0_encoded.drop([\"Unnamed: 0\"], axis=1, inplace=True)"
      ],
      "metadata": {
        "id": "R6a12HvetrxN"
      },
      "execution_count": null,
      "outputs": []
    },
    {
      "cell_type": "code",
      "source": [
        "list_1_encoded.drop([\"Unnamed: 0\"], axis=1, inplace=True)"
      ],
      "metadata": {
        "id": "_Fo79vbTuQxa"
      },
      "execution_count": null,
      "outputs": []
    },
    {
      "cell_type": "code",
      "source": [
        "list_2_encoded.drop([\"Unnamed: 0\"], axis=1, inplace=True)"
      ],
      "metadata": {
        "id": "rVGZwb73uRR4"
      },
      "execution_count": null,
      "outputs": []
    },
    {
      "cell_type": "code",
      "source": [
        "list_0_encoded = list_0_encoded.to_numpy()"
      ],
      "metadata": {
        "id": "9WSzTYLnuVc1"
      },
      "execution_count": null,
      "outputs": []
    },
    {
      "cell_type": "code",
      "source": [
        "list_1_encoded = list_1_encoded.to_numpy()"
      ],
      "metadata": {
        "id": "ne4A4TaHueUW"
      },
      "execution_count": null,
      "outputs": []
    },
    {
      "cell_type": "code",
      "source": [
        "list_2_encoded = list_2_encoded.to_numpy()"
      ],
      "metadata": {
        "id": "sChgLEWdugCe"
      },
      "execution_count": null,
      "outputs": []
    },
    {
      "cell_type": "code",
      "source": [
        "list_0_encoded.shape"
      ],
      "metadata": {
        "colab": {
          "base_uri": "https://localhost:8080/"
        },
        "id": "lLbPDJ2wujdo",
        "outputId": "16819c77-3aea-4481-ca59-aaa2e3809f6b"
      },
      "execution_count": null,
      "outputs": [
        {
          "output_type": "execute_result",
          "data": {
            "text/plain": [
              "(275601, 768)"
            ]
          },
          "metadata": {},
          "execution_count": 99
        }
      ]
    },
    {
      "cell_type": "code",
      "source": [
        "print(1 - cosine(list_0_encoded[274175],list_1_encoded[274175]))"
      ],
      "metadata": {
        "colab": {
          "base_uri": "https://localhost:8080/"
        },
        "id": "tHJ85Wf9umJM",
        "outputId": "93ab999d-e489-409e-dc29-9d2937967aa7"
      },
      "execution_count": null,
      "outputs": [
        {
          "output_type": "stream",
          "name": "stdout",
          "text": [
            "0.8164204699533785\n"
          ]
        }
      ]
    },
    {
      "cell_type": "code",
      "source": [
        "print(1 - cosine(list_0_encoded[136006],list_1_encoded[136006]))"
      ],
      "metadata": {
        "colab": {
          "base_uri": "https://localhost:8080/"
        },
        "id": "dCBU0h_ku8qR",
        "outputId": "5074f3a5-5d99-4c07-9fab-d71c80cc67b8"
      },
      "execution_count": null,
      "outputs": [
        {
          "output_type": "stream",
          "name": "stdout",
          "text": [
            "0.8838492055987933\n"
          ]
        }
      ]
    },
    {
      "cell_type": "code",
      "source": [
        "print(1 - cosine(list_0_encoded[213366],list_1_encoded[213366]))"
      ],
      "metadata": {
        "colab": {
          "base_uri": "https://localhost:8080/"
        },
        "id": "LYp5JFKmvQQn",
        "outputId": "9b9a1748-d77d-45dd-ee6e-7f6f25d414ce"
      },
      "execution_count": null,
      "outputs": [
        {
          "output_type": "stream",
          "name": "stdout",
          "text": [
            "0.66059048892864\n"
          ]
        }
      ]
    },
    {
      "cell_type": "code",
      "source": [
        "print(1 - cosine(list_0_encoded[62364],list_1_encoded[62364]))"
      ],
      "metadata": {
        "colab": {
          "base_uri": "https://localhost:8080/"
        },
        "id": "bhbCHCJAvb3O",
        "outputId": "228c8af0-9f02-40f8-fe12-284ebeb74526"
      },
      "execution_count": null,
      "outputs": [
        {
          "output_type": "stream",
          "name": "stdout",
          "text": [
            "0.9269535866221352\n"
          ]
        }
      ]
    },
    {
      "cell_type": "code",
      "source": [
        "print(1 - cosine(list_0_encoded[89037],list_1_encoded[89037]))"
      ],
      "metadata": {
        "colab": {
          "base_uri": "https://localhost:8080/"
        },
        "id": "0asblTx7vrHE",
        "outputId": "bf77020f-cd8e-4ce3-b8af-5145deaed5b3"
      },
      "execution_count": null,
      "outputs": [
        {
          "output_type": "stream",
          "name": "stdout",
          "text": [
            "0.8716975886654467\n"
          ]
        }
      ]
    },
    {
      "cell_type": "code",
      "source": [
        "print(1 - cosine(list_0_encoded[31455],list_1_encoded[31455]))"
      ],
      "metadata": {
        "colab": {
          "base_uri": "https://localhost:8080/"
        },
        "id": "YhfS6L-wv5Iv",
        "outputId": "c5f98700-4c01-49d7-85dc-4c71a67a402b"
      },
      "execution_count": null,
      "outputs": [
        {
          "output_type": "stream",
          "name": "stdout",
          "text": [
            "0.6167193174411403\n"
          ]
        }
      ]
    },
    {
      "cell_type": "code",
      "source": [
        "pca = PCA(n_components=64)\n",
        "pca.fit(list_0_encoded)\n",
        "pca_encoded_1 = pca.transform(list_0_encoded)\n",
        "\n",
        "\n"
      ],
      "metadata": {
        "id": "x36CDJhlwMJr"
      },
      "execution_count": null,
      "outputs": []
    },
    {
      "cell_type": "code",
      "source": [
        "pca_encoded_1.shape"
      ],
      "metadata": {
        "colab": {
          "base_uri": "https://localhost:8080/"
        },
        "id": "3a8bYTPwwlx8",
        "outputId": "5dd832cb-281e-4385-e23c-2bbcf46d6472"
      },
      "execution_count": null,
      "outputs": [
        {
          "output_type": "execute_result",
          "data": {
            "text/plain": [
              "(275601, 64)"
            ]
          },
          "metadata": {},
          "execution_count": 117
        }
      ]
    },
    {
      "cell_type": "code",
      "source": [
        "pca = PCA(n_components=64)\n",
        "pca.fit(list_1_encoded)\n",
        "list_1_encoded = pca.transform(list_1_encoded)\n",
        "\n",
        "\n"
      ],
      "metadata": {
        "id": "tISrX3VBxEZy"
      },
      "execution_count": null,
      "outputs": []
    },
    {
      "cell_type": "code",
      "source": [
        "list_1_encoded.shape"
      ],
      "metadata": {
        "colab": {
          "base_uri": "https://localhost:8080/"
        },
        "id": "xqLbI0Xmxprh",
        "outputId": "f02e2792-07be-4b9c-ff0a-6f3994605fa9"
      },
      "execution_count": null,
      "outputs": [
        {
          "output_type": "execute_result",
          "data": {
            "text/plain": [
              "(275601, 64)"
            ]
          },
          "metadata": {},
          "execution_count": 122
        }
      ]
    },
    {
      "cell_type": "code",
      "source": [
        "pca = PCA(n_components=64)\n",
        "pca.fit(list_2_encoded)\n",
        "list_2_encoded = pca.transform(list_2_encoded)\n",
        "\n",
        "\n"
      ],
      "metadata": {
        "id": "Rlc4iDDPxJcD"
      },
      "execution_count": null,
      "outputs": []
    },
    {
      "cell_type": "code",
      "source": [
        "list_2_encoded.shape"
      ],
      "metadata": {
        "colab": {
          "base_uri": "https://localhost:8080/"
        },
        "id": "6SgqeS-pxq6F",
        "outputId": "59fba863-50fe-4a0c-8e9a-9be9b30287e1"
      },
      "execution_count": null,
      "outputs": [
        {
          "output_type": "execute_result",
          "data": {
            "text/plain": [
              "(275601, 64)"
            ]
          },
          "metadata": {},
          "execution_count": 123
        }
      ]
    },
    {
      "cell_type": "code",
      "source": [
        "print(1 - cosine(pca_encoded_1[274175],list_1_encoded[274175]))"
      ],
      "metadata": {
        "colab": {
          "base_uri": "https://localhost:8080/"
        },
        "id": "DABK_5HoxsIt",
        "outputId": "41bf7940-f18c-432c-ae0b-90d2d9e1d98f"
      },
      "execution_count": null,
      "outputs": [
        {
          "output_type": "stream",
          "name": "stdout",
          "text": [
            "-0.09615293831462557\n"
          ]
        }
      ]
    },
    {
      "cell_type": "code",
      "source": [
        "print(1 - cosine(pca_encoded_1[136006],list_1_encoded[136006]))"
      ],
      "metadata": {
        "colab": {
          "base_uri": "https://localhost:8080/"
        },
        "id": "vsmNtv_xxyMi",
        "outputId": "adac8574-455d-4d03-8a10-17ecffc91f82"
      },
      "execution_count": null,
      "outputs": [
        {
          "output_type": "stream",
          "name": "stdout",
          "text": [
            "0.33221879742823157\n"
          ]
        }
      ]
    },
    {
      "cell_type": "code",
      "source": [
        "print(1 - cosine(pca_encoded_1[89037],list_1_encoded[89037]))"
      ],
      "metadata": {
        "colab": {
          "base_uri": "https://localhost:8080/"
        },
        "id": "8BPpZANSx8xV",
        "outputId": "58795474-25f2-4261-c42d-1dc698c32ae7"
      },
      "execution_count": null,
      "outputs": [
        {
          "output_type": "stream",
          "name": "stdout",
          "text": [
            "-0.2801058204300779\n"
          ]
        }
      ]
    },
    {
      "cell_type": "code",
      "source": [
        "print(1 - cosine(pca_encoded_1[31455],list_1_encoded[31455]))"
      ],
      "metadata": {
        "colab": {
          "base_uri": "https://localhost:8080/"
        },
        "id": "73ALC1-1yEQg",
        "outputId": "dda26ad9-89ae-4d41-e6b6-e61da2b55899"
      },
      "execution_count": null,
      "outputs": [
        {
          "output_type": "stream",
          "name": "stdout",
          "text": [
            "-0.0522771577314709\n"
          ]
        }
      ]
    },
    {
      "cell_type": "markdown",
      "source": [
        "Auto Encoder "
      ],
      "metadata": {
        "id": "ozsuJ6-GyZ_q"
      }
    },
    {
      "cell_type": "code",
      "source": [
        "small_df_1 = small_df_1.numpy()\n"
      ],
      "metadata": {
        "id": "wiripQMezVw3"
      },
      "execution_count": null,
      "outputs": []
    },
    {
      "cell_type": "code",
      "source": [
        "small_df_2 = small_df_2.numpy()"
      ],
      "metadata": {
        "id": "Jw1B3iC4zlgd"
      },
      "execution_count": null,
      "outputs": []
    },
    {
      "cell_type": "code",
      "source": [
        "small_df_3 = small_df_3.numpy()"
      ],
      "metadata": {
        "id": "l_W97DTPzmHX"
      },
      "execution_count": null,
      "outputs": []
    },
    {
      "cell_type": "code",
      "source": [
        "medium_df_1 = medium_df_1.numpy()\n",
        "medium_df_2 = medium_df_2.numpy()\n",
        "medium_df_3 = medium_df_3.numpy()"
      ],
      "metadata": {
        "id": "_9ahTkHt6L-s"
      },
      "execution_count": null,
      "outputs": []
    },
    {
      "cell_type": "code",
      "source": [
        "long_df_1 = long_df_1.numpy()\n",
        "long_df_2 = long_df_2.numpy()\n",
        "long_df_3 = long_df_3.numpy()"
      ],
      "metadata": {
        "id": "FvhJsFKe6Tip"
      },
      "execution_count": null,
      "outputs": []
    },
    {
      "cell_type": "code",
      "source": [
        "import tensorflow as tf\n",
        "from keras.models import Sequential\n",
        "from keras.utils import np_utils\n",
        "from keras.layers import Dense, Dropout, GaussianNoise, Conv1D\n",
        "import numpy as np\n",
        "from tensorflow import keras"
      ],
      "metadata": {
        "id": "u1ENE4Keyb9-"
      },
      "execution_count": null,
      "outputs": []
    },
    {
      "cell_type": "code",
      "source": [
        "encoder = keras.models.Sequential([keras.layers.Dense(64, input_shape=[768]),])"
      ],
      "metadata": {
        "id": "zpcx9ou52gVy"
      },
      "execution_count": null,
      "outputs": []
    },
    {
      "cell_type": "code",
      "source": [
        "decoder = keras.models.Sequential([keras.layers.Dense(768, input_shape=[64]),])"
      ],
      "metadata": {
        "id": "zqDOvI3c30_x"
      },
      "execution_count": null,
      "outputs": []
    },
    {
      "cell_type": "code",
      "source": [
        "autoencoder = keras.models.Sequential([encoder, decoder])"
      ],
      "metadata": {
        "id": "MpA10IfO390S"
      },
      "execution_count": null,
      "outputs": []
    },
    {
      "cell_type": "code",
      "source": [
        "autoencoder.compile(loss='mse', optimizer = keras.optimizers.SGD(lr=0.1))\n"
      ],
      "metadata": {
        "colab": {
          "base_uri": "https://localhost:8080/"
        },
        "id": "i7kL4HaY3_pu",
        "outputId": "a92ba3b5-f191-4086-8e8d-260959f8ef4e"
      },
      "execution_count": null,
      "outputs": [
        {
          "output_type": "stream",
          "name": "stderr",
          "text": [
            "/usr/local/lib/python3.7/dist-packages/keras/optimizer_v2/gradient_descent.py:102: UserWarning: The `lr` argument is deprecated, use `learning_rate` instead.\n",
            "  super(SGD, self).__init__(name, **kwargs)\n"
          ]
        }
      ]
    },
    {
      "cell_type": "code",
      "source": [
        "history = autoencoder.fit(small_df_1,small_df_1, epochs=100)"
      ],
      "metadata": {
        "id": "pNIHOeUA4CLf"
      },
      "execution_count": null,
      "outputs": []
    },
    {
      "cell_type": "code",
      "source": [
        "codings = encoder.predict(small_df_1)"
      ],
      "metadata": {
        "id": "0AZ4DHIS49IE"
      },
      "execution_count": null,
      "outputs": []
    },
    {
      "cell_type": "code",
      "source": [
        "codings.shape"
      ],
      "metadata": {
        "colab": {
          "base_uri": "https://localhost:8080/"
        },
        "id": "TB8-g6bw5JvY",
        "outputId": "afd97264-aa18-43b7-bd14-6118898a382b"
      },
      "execution_count": null,
      "outputs": [
        {
          "output_type": "execute_result",
          "data": {
            "text/plain": [
              "(500, 64)"
            ]
          },
          "metadata": {},
          "execution_count": 26
        }
      ]
    },
    {
      "cell_type": "code",
      "source": [
        "history = autoencoder.fit(small_df_2,small_df_2, epochs=100)"
      ],
      "metadata": {
        "id": "yllP7Fh45TdV"
      },
      "execution_count": null,
      "outputs": []
    },
    {
      "cell_type": "code",
      "source": [
        "codings2 = encoder.predict(small_df_2)"
      ],
      "metadata": {
        "id": "SAS07pQz5ryF"
      },
      "execution_count": null,
      "outputs": []
    },
    {
      "cell_type": "code",
      "source": [
        "codings2.shape"
      ],
      "metadata": {
        "colab": {
          "base_uri": "https://localhost:8080/"
        },
        "id": "NDsbo9q_5wRB",
        "outputId": "5114019a-b193-4850-8a31-1b90d6c05a99"
      },
      "execution_count": null,
      "outputs": [
        {
          "output_type": "execute_result",
          "data": {
            "text/plain": [
              "(500, 64)"
            ]
          },
          "metadata": {},
          "execution_count": 29
        }
      ]
    },
    {
      "cell_type": "code",
      "source": [
        "history = autoencoder.fit(small_df_3,small_df_3, epochs=100)"
      ],
      "metadata": {
        "id": "KHx8-EQ654vj"
      },
      "execution_count": null,
      "outputs": []
    },
    {
      "cell_type": "code",
      "source": [
        "codings3 = encoder.predict(small_df_3)"
      ],
      "metadata": {
        "id": "pDu9VHvA59G-"
      },
      "execution_count": null,
      "outputs": []
    },
    {
      "cell_type": "code",
      "source": [
        "codings3.shape"
      ],
      "metadata": {
        "colab": {
          "base_uri": "https://localhost:8080/"
        },
        "id": "upFuTBL66Aym",
        "outputId": "bba5411e-abca-418c-f9f2-ce9da7e26893"
      },
      "execution_count": null,
      "outputs": [
        {
          "output_type": "execute_result",
          "data": {
            "text/plain": [
              "(500, 64)"
            ]
          },
          "metadata": {},
          "execution_count": 32
        }
      ]
    },
    {
      "cell_type": "code",
      "source": [
        "print(1 - cosine(codings[0],codings2[0]))\n"
      ],
      "metadata": {
        "colab": {
          "base_uri": "https://localhost:8080/"
        },
        "id": "pYK89ALv6Es2",
        "outputId": "f427f3c9-96b7-42c6-a4fa-d3efdf6f3f56"
      },
      "execution_count": null,
      "outputs": [
        {
          "output_type": "stream",
          "name": "stdout",
          "text": [
            "0.9254652261734009\n"
          ]
        }
      ]
    },
    {
      "cell_type": "code",
      "source": [
        "print(1 - cosine(codings[3],codings2[3]))\n"
      ],
      "metadata": {
        "colab": {
          "base_uri": "https://localhost:8080/"
        },
        "id": "nmXRjbdt6N80",
        "outputId": "a15649fc-2ee4-4257-c7d6-fdb2a4457f72"
      },
      "execution_count": null,
      "outputs": [
        {
          "output_type": "stream",
          "name": "stdout",
          "text": [
            "0.7481586337089539\n"
          ]
        }
      ]
    },
    {
      "cell_type": "code",
      "source": [
        "print(1 - cosine(codings[497],codings2[497]))\n"
      ],
      "metadata": {
        "colab": {
          "base_uri": "https://localhost:8080/"
        },
        "id": "QJ3mco8Q6Rkf",
        "outputId": "43573d53-a070-4aa5-fa02-610b880e2551"
      },
      "execution_count": null,
      "outputs": [
        {
          "output_type": "stream",
          "name": "stdout",
          "text": [
            "0.9039180874824524\n"
          ]
        }
      ]
    },
    {
      "cell_type": "code",
      "source": [
        "print(1 - cosine(codings[250],codings2[250]))\n"
      ],
      "metadata": {
        "colab": {
          "base_uri": "https://localhost:8080/"
        },
        "id": "Sls4LuyS6ZO3",
        "outputId": "aa07ec9e-7546-421a-b8b7-ecdd2a306658"
      },
      "execution_count": null,
      "outputs": [
        {
          "output_type": "stream",
          "name": "stdout",
          "text": [
            "0.7690733671188354\n"
          ]
        }
      ]
    },
    {
      "cell_type": "code",
      "source": [
        "print(1 - cosine(codings[25],codings2[25]))\n"
      ],
      "metadata": {
        "colab": {
          "base_uri": "https://localhost:8080/"
        },
        "id": "XsTFDSIv6tzZ",
        "outputId": "9bb0a086-2c77-4118-f28f-9e16a4e800d8"
      },
      "execution_count": null,
      "outputs": [
        {
          "output_type": "stream",
          "name": "stdout",
          "text": [
            "0.906549334526062\n"
          ]
        }
      ]
    },
    {
      "cell_type": "code",
      "source": [
        "print(1 - cosine(codings[75],codings2[75]))\n"
      ],
      "metadata": {
        "id": "WVRKo5_o605H",
        "outputId": "37af22df-24bc-4ad0-a9b0-18c14b585473",
        "colab": {
          "base_uri": "https://localhost:8080/"
        }
      },
      "execution_count": null,
      "outputs": [
        {
          "output_type": "stream",
          "name": "stdout",
          "text": [
            "0.8761385679244995\n"
          ]
        }
      ]
    },
    {
      "cell_type": "code",
      "source": [
        "print(1 - cosine(codings[50],codings2[50]))\n",
        "print(1 - cosine(codings[450],codings2[450]))\n",
        "print(1 - cosine(codings[368],codings2[368]))\n",
        "print(1 - cosine(codings[139],codings2[139]))\n"
      ],
      "metadata": {
        "colab": {
          "base_uri": "https://localhost:8080/"
        },
        "id": "A9LtFRC765e6",
        "outputId": "dc6fb49e-7cb1-4666-c25c-d787da46d3bd"
      },
      "execution_count": null,
      "outputs": [
        {
          "output_type": "stream",
          "name": "stdout",
          "text": [
            "0.738998532295227\n",
            "0.4216069281101227\n",
            "0.8100810647010803\n",
            "0.7165603041648865\n"
          ]
        }
      ]
    },
    {
      "cell_type": "code",
      "source": [
        "history = autoencoder.fit(medium_df_1,medium_df_1, epochs=100)\n",
        "coding1 = encoder.predict(medium_df_1)\n",
        "\n"
      ],
      "metadata": {
        "colab": {
          "base_uri": "https://localhost:8080/"
        },
        "id": "AFCWh1037cQu",
        "outputId": "347313e8-54cc-482e-db75-91a364501de1"
      },
      "execution_count": null,
      "outputs": [
        {
          "output_type": "stream",
          "name": "stdout",
          "text": [
            "Epoch 1/100\n",
            "16/16 [==============================] - 0s 3ms/step - loss: 0.0016\n",
            "Epoch 2/100\n",
            "16/16 [==============================] - 0s 3ms/step - loss: 0.0016\n",
            "Epoch 3/100\n",
            "16/16 [==============================] - 0s 6ms/step - loss: 0.0016\n",
            "Epoch 4/100\n",
            "16/16 [==============================] - 0s 4ms/step - loss: 0.0016\n",
            "Epoch 5/100\n",
            "16/16 [==============================] - 0s 3ms/step - loss: 0.0016\n",
            "Epoch 6/100\n",
            "16/16 [==============================] - 0s 3ms/step - loss: 0.0016\n",
            "Epoch 7/100\n",
            "16/16 [==============================] - 0s 3ms/step - loss: 0.0016\n",
            "Epoch 8/100\n",
            "16/16 [==============================] - 0s 4ms/step - loss: 0.0016\n",
            "Epoch 9/100\n",
            "16/16 [==============================] - 0s 4ms/step - loss: 0.0016\n",
            "Epoch 10/100\n",
            "16/16 [==============================] - 0s 5ms/step - loss: 0.0016\n",
            "Epoch 11/100\n",
            "16/16 [==============================] - 0s 5ms/step - loss: 0.0016\n",
            "Epoch 12/100\n",
            "16/16 [==============================] - 0s 4ms/step - loss: 0.0016\n",
            "Epoch 13/100\n",
            "16/16 [==============================] - 0s 4ms/step - loss: 0.0016\n",
            "Epoch 14/100\n",
            "16/16 [==============================] - 0s 4ms/step - loss: 0.0016\n",
            "Epoch 15/100\n",
            "16/16 [==============================] - 0s 4ms/step - loss: 0.0016\n",
            "Epoch 16/100\n",
            "16/16 [==============================] - 0s 4ms/step - loss: 0.0016\n",
            "Epoch 17/100\n",
            "16/16 [==============================] - 0s 5ms/step - loss: 0.0016\n",
            "Epoch 18/100\n",
            "16/16 [==============================] - 0s 3ms/step - loss: 0.0016\n",
            "Epoch 19/100\n",
            "16/16 [==============================] - 0s 3ms/step - loss: 0.0016\n",
            "Epoch 20/100\n",
            "16/16 [==============================] - 0s 3ms/step - loss: 0.0016\n",
            "Epoch 21/100\n",
            "16/16 [==============================] - 0s 5ms/step - loss: 0.0016\n",
            "Epoch 22/100\n",
            "16/16 [==============================] - 0s 3ms/step - loss: 0.0016\n",
            "Epoch 23/100\n",
            "16/16 [==============================] - 0s 5ms/step - loss: 0.0016\n",
            "Epoch 24/100\n",
            "16/16 [==============================] - 0s 5ms/step - loss: 0.0016\n",
            "Epoch 25/100\n",
            "16/16 [==============================] - 0s 6ms/step - loss: 0.0016\n",
            "Epoch 26/100\n",
            "16/16 [==============================] - 0s 5ms/step - loss: 0.0016\n",
            "Epoch 27/100\n",
            "16/16 [==============================] - 0s 5ms/step - loss: 0.0016\n",
            "Epoch 28/100\n",
            "16/16 [==============================] - 0s 6ms/step - loss: 0.0015\n",
            "Epoch 29/100\n",
            "16/16 [==============================] - 0s 8ms/step - loss: 0.0015\n",
            "Epoch 30/100\n",
            "16/16 [==============================] - 0s 6ms/step - loss: 0.0015\n",
            "Epoch 31/100\n",
            "16/16 [==============================] - 0s 4ms/step - loss: 0.0015\n",
            "Epoch 32/100\n",
            "16/16 [==============================] - 0s 4ms/step - loss: 0.0015\n",
            "Epoch 33/100\n",
            "16/16 [==============================] - 0s 3ms/step - loss: 0.0015\n",
            "Epoch 34/100\n",
            "16/16 [==============================] - 0s 4ms/step - loss: 0.0015\n",
            "Epoch 35/100\n",
            "16/16 [==============================] - 0s 6ms/step - loss: 0.0015\n",
            "Epoch 36/100\n",
            "16/16 [==============================] - 0s 4ms/step - loss: 0.0015\n",
            "Epoch 37/100\n",
            "16/16 [==============================] - 0s 6ms/step - loss: 0.0015\n",
            "Epoch 38/100\n",
            "16/16 [==============================] - 0s 4ms/step - loss: 0.0015\n",
            "Epoch 39/100\n",
            "16/16 [==============================] - 0s 6ms/step - loss: 0.0015\n",
            "Epoch 40/100\n",
            "16/16 [==============================] - 0s 4ms/step - loss: 0.0015\n",
            "Epoch 41/100\n",
            "16/16 [==============================] - 0s 6ms/step - loss: 0.0015\n",
            "Epoch 42/100\n",
            "16/16 [==============================] - 0s 3ms/step - loss: 0.0015\n",
            "Epoch 43/100\n",
            "16/16 [==============================] - 0s 3ms/step - loss: 0.0015\n",
            "Epoch 44/100\n",
            "16/16 [==============================] - 0s 5ms/step - loss: 0.0015\n",
            "Epoch 45/100\n",
            "16/16 [==============================] - 0s 3ms/step - loss: 0.0015\n",
            "Epoch 46/100\n",
            "16/16 [==============================] - 0s 3ms/step - loss: 0.0015\n",
            "Epoch 47/100\n",
            "16/16 [==============================] - 0s 3ms/step - loss: 0.0015\n",
            "Epoch 48/100\n",
            "16/16 [==============================] - 0s 3ms/step - loss: 0.0015\n",
            "Epoch 49/100\n",
            "16/16 [==============================] - 0s 5ms/step - loss: 0.0015\n",
            "Epoch 50/100\n",
            "16/16 [==============================] - 0s 3ms/step - loss: 0.0015\n",
            "Epoch 51/100\n",
            "16/16 [==============================] - 0s 4ms/step - loss: 0.0015\n",
            "Epoch 52/100\n",
            "16/16 [==============================] - 0s 5ms/step - loss: 0.0015\n",
            "Epoch 53/100\n",
            "16/16 [==============================] - 0s 3ms/step - loss: 0.0015\n",
            "Epoch 54/100\n",
            "16/16 [==============================] - 0s 4ms/step - loss: 0.0015\n",
            "Epoch 55/100\n",
            "16/16 [==============================] - 0s 5ms/step - loss: 0.0015\n",
            "Epoch 56/100\n",
            "16/16 [==============================] - 0s 3ms/step - loss: 0.0015\n",
            "Epoch 57/100\n",
            "16/16 [==============================] - 0s 4ms/step - loss: 0.0015\n",
            "Epoch 58/100\n",
            "16/16 [==============================] - 0s 5ms/step - loss: 0.0015\n",
            "Epoch 59/100\n",
            "16/16 [==============================] - 0s 5ms/step - loss: 0.0015\n",
            "Epoch 60/100\n",
            "16/16 [==============================] - 0s 3ms/step - loss: 0.0015\n",
            "Epoch 61/100\n",
            "16/16 [==============================] - 0s 5ms/step - loss: 0.0015\n",
            "Epoch 62/100\n",
            "16/16 [==============================] - 0s 6ms/step - loss: 0.0015\n",
            "Epoch 63/100\n",
            "16/16 [==============================] - 0s 5ms/step - loss: 0.0015\n",
            "Epoch 64/100\n",
            "16/16 [==============================] - 0s 4ms/step - loss: 0.0015\n",
            "Epoch 65/100\n",
            "16/16 [==============================] - 0s 4ms/step - loss: 0.0015\n",
            "Epoch 66/100\n",
            "16/16 [==============================] - 0s 3ms/step - loss: 0.0015\n",
            "Epoch 67/100\n",
            "16/16 [==============================] - 0s 5ms/step - loss: 0.0015\n",
            "Epoch 68/100\n",
            "16/16 [==============================] - 0s 5ms/step - loss: 0.0015\n",
            "Epoch 69/100\n",
            "16/16 [==============================] - 0s 3ms/step - loss: 0.0015\n",
            "Epoch 70/100\n",
            "16/16 [==============================] - 0s 5ms/step - loss: 0.0015\n",
            "Epoch 71/100\n",
            "16/16 [==============================] - 0s 9ms/step - loss: 0.0015\n",
            "Epoch 72/100\n",
            "16/16 [==============================] - 0s 5ms/step - loss: 0.0015\n",
            "Epoch 73/100\n",
            "16/16 [==============================] - 0s 3ms/step - loss: 0.0015\n",
            "Epoch 74/100\n",
            "16/16 [==============================] - 0s 3ms/step - loss: 0.0015\n",
            "Epoch 75/100\n",
            "16/16 [==============================] - 0s 3ms/step - loss: 0.0015\n",
            "Epoch 76/100\n",
            "16/16 [==============================] - 0s 3ms/step - loss: 0.0015\n",
            "Epoch 77/100\n",
            "16/16 [==============================] - 0s 3ms/step - loss: 0.0015\n",
            "Epoch 78/100\n",
            "16/16 [==============================] - 0s 5ms/step - loss: 0.0015\n",
            "Epoch 79/100\n",
            "16/16 [==============================] - 0s 5ms/step - loss: 0.0015\n",
            "Epoch 80/100\n",
            "16/16 [==============================] - 0s 4ms/step - loss: 0.0015\n",
            "Epoch 81/100\n",
            "16/16 [==============================] - 0s 6ms/step - loss: 0.0015\n",
            "Epoch 82/100\n",
            "16/16 [==============================] - 0s 5ms/step - loss: 0.0015\n",
            "Epoch 83/100\n",
            "16/16 [==============================] - 0s 3ms/step - loss: 0.0015\n",
            "Epoch 84/100\n",
            "16/16 [==============================] - 0s 5ms/step - loss: 0.0015\n",
            "Epoch 85/100\n",
            "16/16 [==============================] - 0s 5ms/step - loss: 0.0015\n",
            "Epoch 86/100\n",
            "16/16 [==============================] - 0s 4ms/step - loss: 0.0015\n",
            "Epoch 87/100\n",
            "16/16 [==============================] - 0s 3ms/step - loss: 0.0015\n",
            "Epoch 88/100\n",
            "16/16 [==============================] - 0s 3ms/step - loss: 0.0015\n",
            "Epoch 89/100\n",
            "16/16 [==============================] - 0s 6ms/step - loss: 0.0015\n",
            "Epoch 90/100\n",
            "16/16 [==============================] - 0s 4ms/step - loss: 0.0015\n",
            "Epoch 91/100\n",
            "16/16 [==============================] - 0s 4ms/step - loss: 0.0015\n",
            "Epoch 92/100\n",
            "16/16 [==============================] - 0s 5ms/step - loss: 0.0015\n",
            "Epoch 93/100\n",
            "16/16 [==============================] - 0s 5ms/step - loss: 0.0015\n",
            "Epoch 94/100\n",
            "16/16 [==============================] - 0s 8ms/step - loss: 0.0015\n",
            "Epoch 95/100\n",
            "16/16 [==============================] - 0s 7ms/step - loss: 0.0015\n",
            "Epoch 96/100\n",
            "16/16 [==============================] - 0s 6ms/step - loss: 0.0015\n",
            "Epoch 97/100\n",
            "16/16 [==============================] - 0s 6ms/step - loss: 0.0015\n",
            "Epoch 98/100\n",
            "16/16 [==============================] - 0s 4ms/step - loss: 0.0015\n",
            "Epoch 99/100\n",
            "16/16 [==============================] - 0s 6ms/step - loss: 0.0015\n",
            "Epoch 100/100\n",
            "16/16 [==============================] - 0s 4ms/step - loss: 0.0015\n"
          ]
        }
      ]
    },
    {
      "cell_type": "code",
      "source": [
        "history = autoencoder.fit(medium_df_2,medium_df_2, epochs=100)\n",
        "coding2 = encoder.predict(medium_df_2)\n"
      ],
      "metadata": {
        "colab": {
          "base_uri": "https://localhost:8080/"
        },
        "id": "ju-l7Qhi9nlS",
        "outputId": "bfce9771-ab67-46e6-c19f-ed19efd7ef2e"
      },
      "execution_count": null,
      "outputs": [
        {
          "output_type": "stream",
          "name": "stdout",
          "text": [
            "Epoch 1/100\n",
            "16/16 [==============================] - 0s 5ms/step - loss: 0.0015\n",
            "Epoch 2/100\n",
            "16/16 [==============================] - 0s 4ms/step - loss: 0.0015\n",
            "Epoch 3/100\n",
            "16/16 [==============================] - 0s 5ms/step - loss: 0.0015\n",
            "Epoch 4/100\n",
            "16/16 [==============================] - 0s 4ms/step - loss: 0.0015\n",
            "Epoch 5/100\n",
            "16/16 [==============================] - 0s 4ms/step - loss: 0.0015\n",
            "Epoch 6/100\n",
            "16/16 [==============================] - 0s 4ms/step - loss: 0.0015\n",
            "Epoch 7/100\n",
            "16/16 [==============================] - 0s 4ms/step - loss: 0.0015\n",
            "Epoch 8/100\n",
            "16/16 [==============================] - 0s 6ms/step - loss: 0.0015\n",
            "Epoch 9/100\n",
            "16/16 [==============================] - 0s 4ms/step - loss: 0.0015\n",
            "Epoch 10/100\n",
            "16/16 [==============================] - 0s 4ms/step - loss: 0.0015\n",
            "Epoch 11/100\n",
            "16/16 [==============================] - 0s 4ms/step - loss: 0.0015\n",
            "Epoch 12/100\n",
            "16/16 [==============================] - 0s 5ms/step - loss: 0.0015\n",
            "Epoch 13/100\n",
            "16/16 [==============================] - 0s 5ms/step - loss: 0.0015\n",
            "Epoch 14/100\n",
            "16/16 [==============================] - 0s 4ms/step - loss: 0.0015\n",
            "Epoch 15/100\n",
            "16/16 [==============================] - 0s 4ms/step - loss: 0.0015\n",
            "Epoch 16/100\n",
            "16/16 [==============================] - 0s 3ms/step - loss: 0.0015\n",
            "Epoch 17/100\n",
            "16/16 [==============================] - 0s 4ms/step - loss: 0.0015\n",
            "Epoch 18/100\n",
            "16/16 [==============================] - 0s 4ms/step - loss: 0.0015\n",
            "Epoch 19/100\n",
            "16/16 [==============================] - 0s 5ms/step - loss: 0.0015\n",
            "Epoch 20/100\n",
            "16/16 [==============================] - 0s 4ms/step - loss: 0.0015\n",
            "Epoch 21/100\n",
            "16/16 [==============================] - 0s 5ms/step - loss: 0.0015\n",
            "Epoch 22/100\n",
            "16/16 [==============================] - 0s 4ms/step - loss: 0.0015\n",
            "Epoch 23/100\n",
            "16/16 [==============================] - 0s 3ms/step - loss: 0.0015\n",
            "Epoch 24/100\n",
            "16/16 [==============================] - 0s 3ms/step - loss: 0.0015\n",
            "Epoch 25/100\n",
            "16/16 [==============================] - 0s 8ms/step - loss: 0.0015\n",
            "Epoch 26/100\n",
            "16/16 [==============================] - 0s 9ms/step - loss: 0.0015\n",
            "Epoch 27/100\n",
            "16/16 [==============================] - 0s 10ms/step - loss: 0.0015\n",
            "Epoch 28/100\n",
            "16/16 [==============================] - 0s 14ms/step - loss: 0.0015\n",
            "Epoch 29/100\n",
            "16/16 [==============================] - 0s 9ms/step - loss: 0.0015\n",
            "Epoch 30/100\n",
            "16/16 [==============================] - 0s 10ms/step - loss: 0.0015\n",
            "Epoch 31/100\n",
            "16/16 [==============================] - 0s 12ms/step - loss: 0.0015\n",
            "Epoch 32/100\n",
            "16/16 [==============================] - 0s 6ms/step - loss: 0.0015\n",
            "Epoch 33/100\n",
            "16/16 [==============================] - 0s 10ms/step - loss: 0.0015\n",
            "Epoch 34/100\n",
            "16/16 [==============================] - 0s 4ms/step - loss: 0.0015\n",
            "Epoch 35/100\n",
            "16/16 [==============================] - 0s 4ms/step - loss: 0.0015\n",
            "Epoch 36/100\n",
            "16/16 [==============================] - 0s 4ms/step - loss: 0.0015\n",
            "Epoch 37/100\n",
            "16/16 [==============================] - 0s 4ms/step - loss: 0.0015\n",
            "Epoch 38/100\n",
            "16/16 [==============================] - 0s 6ms/step - loss: 0.0015\n",
            "Epoch 39/100\n",
            "16/16 [==============================] - 0s 8ms/step - loss: 0.0015\n",
            "Epoch 40/100\n",
            "16/16 [==============================] - 0s 6ms/step - loss: 0.0015\n",
            "Epoch 41/100\n",
            "16/16 [==============================] - 0s 5ms/step - loss: 0.0015\n",
            "Epoch 42/100\n",
            "16/16 [==============================] - 0s 3ms/step - loss: 0.0015\n",
            "Epoch 43/100\n",
            "16/16 [==============================] - 0s 3ms/step - loss: 0.0015\n",
            "Epoch 44/100\n",
            "16/16 [==============================] - 0s 3ms/step - loss: 0.0015\n",
            "Epoch 45/100\n",
            "16/16 [==============================] - 0s 3ms/step - loss: 0.0015\n",
            "Epoch 46/100\n",
            "16/16 [==============================] - 0s 3ms/step - loss: 0.0015\n",
            "Epoch 47/100\n",
            "16/16 [==============================] - 0s 3ms/step - loss: 0.0015\n",
            "Epoch 48/100\n",
            "16/16 [==============================] - 0s 4ms/step - loss: 0.0015\n",
            "Epoch 49/100\n",
            "16/16 [==============================] - 0s 3ms/step - loss: 0.0015\n",
            "Epoch 50/100\n",
            "16/16 [==============================] - 0s 5ms/step - loss: 0.0015\n",
            "Epoch 51/100\n",
            "16/16 [==============================] - 0s 3ms/step - loss: 0.0015\n",
            "Epoch 52/100\n",
            "16/16 [==============================] - 0s 4ms/step - loss: 0.0015\n",
            "Epoch 53/100\n",
            "16/16 [==============================] - 0s 3ms/step - loss: 0.0015\n",
            "Epoch 54/100\n",
            "16/16 [==============================] - 0s 3ms/step - loss: 0.0015\n",
            "Epoch 55/100\n",
            "16/16 [==============================] - 0s 4ms/step - loss: 0.0015\n",
            "Epoch 56/100\n",
            "16/16 [==============================] - 0s 4ms/step - loss: 0.0015\n",
            "Epoch 57/100\n",
            "16/16 [==============================] - 0s 4ms/step - loss: 0.0015\n",
            "Epoch 58/100\n",
            "16/16 [==============================] - 0s 3ms/step - loss: 0.0015\n",
            "Epoch 59/100\n",
            "16/16 [==============================] - 0s 3ms/step - loss: 0.0015\n",
            "Epoch 60/100\n",
            "16/16 [==============================] - 0s 3ms/step - loss: 0.0015\n",
            "Epoch 61/100\n",
            "16/16 [==============================] - 0s 3ms/step - loss: 0.0015\n",
            "Epoch 62/100\n",
            "16/16 [==============================] - 0s 4ms/step - loss: 0.0015\n",
            "Epoch 63/100\n",
            "16/16 [==============================] - 0s 3ms/step - loss: 0.0015\n",
            "Epoch 64/100\n",
            "16/16 [==============================] - 0s 3ms/step - loss: 0.0015\n",
            "Epoch 65/100\n",
            "16/16 [==============================] - 0s 4ms/step - loss: 0.0015\n",
            "Epoch 66/100\n",
            "16/16 [==============================] - 0s 3ms/step - loss: 0.0015\n",
            "Epoch 67/100\n",
            "16/16 [==============================] - 0s 3ms/step - loss: 0.0015\n",
            "Epoch 68/100\n",
            "16/16 [==============================] - 0s 3ms/step - loss: 0.0015\n",
            "Epoch 69/100\n",
            "16/16 [==============================] - 0s 3ms/step - loss: 0.0015\n",
            "Epoch 70/100\n",
            "16/16 [==============================] - 0s 3ms/step - loss: 0.0015\n",
            "Epoch 71/100\n",
            "16/16 [==============================] - 0s 3ms/step - loss: 0.0015\n",
            "Epoch 72/100\n",
            "16/16 [==============================] - 0s 5ms/step - loss: 0.0015\n",
            "Epoch 73/100\n",
            "16/16 [==============================] - 0s 3ms/step - loss: 0.0015\n",
            "Epoch 74/100\n",
            "16/16 [==============================] - 0s 3ms/step - loss: 0.0015\n",
            "Epoch 75/100\n",
            "16/16 [==============================] - 0s 3ms/step - loss: 0.0015\n",
            "Epoch 76/100\n",
            "16/16 [==============================] - 0s 3ms/step - loss: 0.0015\n",
            "Epoch 77/100\n",
            "16/16 [==============================] - 0s 4ms/step - loss: 0.0015\n",
            "Epoch 78/100\n",
            "16/16 [==============================] - 0s 3ms/step - loss: 0.0015\n",
            "Epoch 79/100\n",
            "16/16 [==============================] - 0s 3ms/step - loss: 0.0015\n",
            "Epoch 80/100\n",
            "16/16 [==============================] - 0s 3ms/step - loss: 0.0015\n",
            "Epoch 81/100\n",
            "16/16 [==============================] - 0s 3ms/step - loss: 0.0015\n",
            "Epoch 82/100\n",
            "16/16 [==============================] - 0s 3ms/step - loss: 0.0015\n",
            "Epoch 83/100\n",
            "16/16 [==============================] - 0s 3ms/step - loss: 0.0015\n",
            "Epoch 84/100\n",
            "16/16 [==============================] - 1s 35ms/step - loss: 0.0015\n",
            "Epoch 85/100\n",
            "16/16 [==============================] - 0s 28ms/step - loss: 0.0015\n",
            "Epoch 86/100\n",
            "16/16 [==============================] - 0s 9ms/step - loss: 0.0015\n",
            "Epoch 87/100\n",
            "16/16 [==============================] - 0s 5ms/step - loss: 0.0015\n",
            "Epoch 88/100\n",
            "16/16 [==============================] - 0s 8ms/step - loss: 0.0015\n",
            "Epoch 89/100\n",
            "16/16 [==============================] - 0s 5ms/step - loss: 0.0015\n",
            "Epoch 90/100\n",
            "16/16 [==============================] - 0s 5ms/step - loss: 0.0015\n",
            "Epoch 91/100\n",
            "16/16 [==============================] - 0s 3ms/step - loss: 0.0015\n",
            "Epoch 92/100\n",
            "16/16 [==============================] - 0s 3ms/step - loss: 0.0015\n",
            "Epoch 93/100\n",
            "16/16 [==============================] - 0s 3ms/step - loss: 0.0015\n",
            "Epoch 94/100\n",
            "16/16 [==============================] - 0s 3ms/step - loss: 0.0015\n",
            "Epoch 95/100\n",
            "16/16 [==============================] - 0s 3ms/step - loss: 0.0015\n",
            "Epoch 96/100\n",
            "16/16 [==============================] - 0s 3ms/step - loss: 0.0015\n",
            "Epoch 97/100\n",
            "16/16 [==============================] - 0s 3ms/step - loss: 0.0015\n",
            "Epoch 98/100\n",
            "16/16 [==============================] - 0s 3ms/step - loss: 0.0015\n",
            "Epoch 99/100\n",
            "16/16 [==============================] - 0s 3ms/step - loss: 0.0015\n",
            "Epoch 100/100\n",
            "16/16 [==============================] - 0s 4ms/step - loss: 0.0015\n"
          ]
        }
      ]
    },
    {
      "cell_type": "code",
      "source": [
        "history = autoencoder.fit(medium_df_3,medium_df_3, epochs=100)\n",
        "coding3 = encoder.predict(medium_df_3)"
      ],
      "metadata": {
        "colab": {
          "base_uri": "https://localhost:8080/"
        },
        "id": "wNsoEgSt9oZC",
        "outputId": "1e14674b-45ae-4cbd-b400-e24471537584"
      },
      "execution_count": null,
      "outputs": [
        {
          "output_type": "stream",
          "name": "stdout",
          "text": [
            "Epoch 1/100\n",
            "16/16 [==============================] - 0s 4ms/step - loss: 0.0016\n",
            "Epoch 2/100\n",
            "16/16 [==============================] - 0s 7ms/step - loss: 0.0016\n",
            "Epoch 3/100\n",
            "16/16 [==============================] - 0s 5ms/step - loss: 0.0016\n",
            "Epoch 4/100\n",
            "16/16 [==============================] - 0s 4ms/step - loss: 0.0016\n",
            "Epoch 5/100\n",
            "16/16 [==============================] - 0s 4ms/step - loss: 0.0016\n",
            "Epoch 6/100\n",
            "16/16 [==============================] - 0s 4ms/step - loss: 0.0016\n",
            "Epoch 7/100\n",
            "16/16 [==============================] - 0s 4ms/step - loss: 0.0016\n",
            "Epoch 8/100\n",
            "16/16 [==============================] - 0s 3ms/step - loss: 0.0016\n",
            "Epoch 9/100\n",
            "16/16 [==============================] - 0s 3ms/step - loss: 0.0016\n",
            "Epoch 10/100\n",
            "16/16 [==============================] - 0s 4ms/step - loss: 0.0016\n",
            "Epoch 11/100\n",
            "16/16 [==============================] - 0s 3ms/step - loss: 0.0016\n",
            "Epoch 12/100\n",
            "16/16 [==============================] - 0s 4ms/step - loss: 0.0016\n",
            "Epoch 13/100\n",
            "16/16 [==============================] - 0s 4ms/step - loss: 0.0016\n",
            "Epoch 14/100\n",
            "16/16 [==============================] - 0s 4ms/step - loss: 0.0016\n",
            "Epoch 15/100\n",
            "16/16 [==============================] - 0s 5ms/step - loss: 0.0016\n",
            "Epoch 16/100\n",
            "16/16 [==============================] - 0s 4ms/step - loss: 0.0016\n",
            "Epoch 17/100\n",
            "16/16 [==============================] - 0s 4ms/step - loss: 0.0016\n",
            "Epoch 18/100\n",
            "16/16 [==============================] - 0s 4ms/step - loss: 0.0016\n",
            "Epoch 19/100\n",
            "16/16 [==============================] - 0s 3ms/step - loss: 0.0016\n",
            "Epoch 20/100\n",
            "16/16 [==============================] - 0s 7ms/step - loss: 0.0016\n",
            "Epoch 21/100\n",
            "16/16 [==============================] - 0s 6ms/step - loss: 0.0016\n",
            "Epoch 22/100\n",
            "16/16 [==============================] - 0s 4ms/step - loss: 0.0016\n",
            "Epoch 23/100\n",
            "16/16 [==============================] - 0s 4ms/step - loss: 0.0016\n",
            "Epoch 24/100\n",
            "16/16 [==============================] - 0s 5ms/step - loss: 0.0016\n",
            "Epoch 25/100\n",
            "16/16 [==============================] - 0s 6ms/step - loss: 0.0016\n",
            "Epoch 26/100\n",
            "16/16 [==============================] - 0s 3ms/step - loss: 0.0016\n",
            "Epoch 27/100\n",
            "16/16 [==============================] - 0s 5ms/step - loss: 0.0016\n",
            "Epoch 28/100\n",
            "16/16 [==============================] - 0s 5ms/step - loss: 0.0016\n",
            "Epoch 29/100\n",
            "16/16 [==============================] - 0s 6ms/step - loss: 0.0016\n",
            "Epoch 30/100\n",
            "16/16 [==============================] - 0s 14ms/step - loss: 0.0016\n",
            "Epoch 31/100\n",
            "16/16 [==============================] - 0s 9ms/step - loss: 0.0016\n",
            "Epoch 32/100\n",
            "16/16 [==============================] - 0s 9ms/step - loss: 0.0016\n",
            "Epoch 33/100\n",
            "16/16 [==============================] - 0s 8ms/step - loss: 0.0016\n",
            "Epoch 34/100\n",
            "16/16 [==============================] - 0s 8ms/step - loss: 0.0016\n",
            "Epoch 35/100\n",
            "16/16 [==============================] - 0s 8ms/step - loss: 0.0016\n",
            "Epoch 36/100\n",
            "16/16 [==============================] - 0s 13ms/step - loss: 0.0016\n",
            "Epoch 37/100\n",
            "16/16 [==============================] - 0s 9ms/step - loss: 0.0016\n",
            "Epoch 38/100\n",
            "16/16 [==============================] - 0s 8ms/step - loss: 0.0016\n",
            "Epoch 39/100\n",
            "16/16 [==============================] - 0s 13ms/step - loss: 0.0016\n",
            "Epoch 40/100\n",
            "16/16 [==============================] - 0s 10ms/step - loss: 0.0016\n",
            "Epoch 41/100\n",
            "16/16 [==============================] - 0s 6ms/step - loss: 0.0016\n",
            "Epoch 42/100\n",
            "16/16 [==============================] - 0s 6ms/step - loss: 0.0016\n",
            "Epoch 43/100\n",
            "16/16 [==============================] - 0s 3ms/step - loss: 0.0016\n",
            "Epoch 44/100\n",
            "16/16 [==============================] - 0s 3ms/step - loss: 0.0016\n",
            "Epoch 45/100\n",
            "16/16 [==============================] - 0s 5ms/step - loss: 0.0016\n",
            "Epoch 46/100\n",
            "16/16 [==============================] - 0s 4ms/step - loss: 0.0016\n",
            "Epoch 47/100\n",
            "16/16 [==============================] - 0s 4ms/step - loss: 0.0016\n",
            "Epoch 48/100\n",
            "16/16 [==============================] - 0s 4ms/step - loss: 0.0016\n",
            "Epoch 49/100\n",
            "16/16 [==============================] - 0s 4ms/step - loss: 0.0016\n",
            "Epoch 50/100\n",
            "16/16 [==============================] - 0s 4ms/step - loss: 0.0016\n",
            "Epoch 51/100\n",
            "16/16 [==============================] - 0s 6ms/step - loss: 0.0016\n",
            "Epoch 52/100\n",
            "16/16 [==============================] - 0s 3ms/step - loss: 0.0016\n",
            "Epoch 53/100\n",
            "16/16 [==============================] - 0s 3ms/step - loss: 0.0016\n",
            "Epoch 54/100\n",
            "16/16 [==============================] - 0s 4ms/step - loss: 0.0016\n",
            "Epoch 55/100\n",
            "16/16 [==============================] - 0s 5ms/step - loss: 0.0016\n",
            "Epoch 56/100\n",
            "16/16 [==============================] - 0s 3ms/step - loss: 0.0016\n",
            "Epoch 57/100\n",
            "16/16 [==============================] - 0s 3ms/step - loss: 0.0016\n",
            "Epoch 58/100\n",
            "16/16 [==============================] - 0s 3ms/step - loss: 0.0016\n",
            "Epoch 59/100\n",
            "16/16 [==============================] - 0s 3ms/step - loss: 0.0016\n",
            "Epoch 60/100\n",
            "16/16 [==============================] - 0s 3ms/step - loss: 0.0016\n",
            "Epoch 61/100\n",
            "16/16 [==============================] - 0s 3ms/step - loss: 0.0016\n",
            "Epoch 62/100\n",
            "16/16 [==============================] - 0s 3ms/step - loss: 0.0016\n",
            "Epoch 63/100\n",
            "16/16 [==============================] - 0s 6ms/step - loss: 0.0016\n",
            "Epoch 64/100\n",
            "16/16 [==============================] - 0s 5ms/step - loss: 0.0016\n",
            "Epoch 65/100\n",
            "16/16 [==============================] - 0s 5ms/step - loss: 0.0015\n",
            "Epoch 66/100\n",
            "16/16 [==============================] - 0s 4ms/step - loss: 0.0015\n",
            "Epoch 67/100\n",
            "16/16 [==============================] - 0s 4ms/step - loss: 0.0015\n",
            "Epoch 68/100\n",
            "16/16 [==============================] - 0s 3ms/step - loss: 0.0015\n",
            "Epoch 69/100\n",
            "16/16 [==============================] - 0s 4ms/step - loss: 0.0015\n",
            "Epoch 70/100\n",
            "16/16 [==============================] - 0s 4ms/step - loss: 0.0015\n",
            "Epoch 71/100\n",
            "16/16 [==============================] - 0s 3ms/step - loss: 0.0015\n",
            "Epoch 72/100\n",
            "16/16 [==============================] - 0s 3ms/step - loss: 0.0015\n",
            "Epoch 73/100\n",
            "16/16 [==============================] - 0s 3ms/step - loss: 0.0015\n",
            "Epoch 74/100\n",
            "16/16 [==============================] - 0s 3ms/step - loss: 0.0015\n",
            "Epoch 75/100\n",
            "16/16 [==============================] - 0s 4ms/step - loss: 0.0015\n",
            "Epoch 76/100\n",
            "16/16 [==============================] - 0s 4ms/step - loss: 0.0015\n",
            "Epoch 77/100\n",
            "16/16 [==============================] - 0s 3ms/step - loss: 0.0015\n",
            "Epoch 78/100\n",
            "16/16 [==============================] - 0s 3ms/step - loss: 0.0015\n",
            "Epoch 79/100\n",
            "16/16 [==============================] - 0s 3ms/step - loss: 0.0015\n",
            "Epoch 80/100\n",
            "16/16 [==============================] - 0s 4ms/step - loss: 0.0015\n",
            "Epoch 81/100\n",
            "16/16 [==============================] - 0s 3ms/step - loss: 0.0015\n",
            "Epoch 82/100\n",
            "16/16 [==============================] - 0s 3ms/step - loss: 0.0015\n",
            "Epoch 83/100\n",
            "16/16 [==============================] - 0s 3ms/step - loss: 0.0015\n",
            "Epoch 84/100\n",
            "16/16 [==============================] - 0s 3ms/step - loss: 0.0015\n",
            "Epoch 85/100\n",
            "16/16 [==============================] - 0s 4ms/step - loss: 0.0015\n",
            "Epoch 86/100\n",
            "16/16 [==============================] - 0s 4ms/step - loss: 0.0015\n",
            "Epoch 87/100\n",
            "16/16 [==============================] - 0s 4ms/step - loss: 0.0015\n",
            "Epoch 88/100\n",
            "16/16 [==============================] - 0s 4ms/step - loss: 0.0015\n",
            "Epoch 89/100\n",
            "16/16 [==============================] - 0s 4ms/step - loss: 0.0015\n",
            "Epoch 90/100\n",
            "16/16 [==============================] - 0s 4ms/step - loss: 0.0015\n",
            "Epoch 91/100\n",
            "16/16 [==============================] - 0s 4ms/step - loss: 0.0015\n",
            "Epoch 92/100\n",
            "16/16 [==============================] - 0s 4ms/step - loss: 0.0015\n",
            "Epoch 93/100\n",
            "16/16 [==============================] - 0s 4ms/step - loss: 0.0015\n",
            "Epoch 94/100\n",
            "16/16 [==============================] - 0s 4ms/step - loss: 0.0015\n",
            "Epoch 95/100\n",
            "16/16 [==============================] - 0s 4ms/step - loss: 0.0015\n",
            "Epoch 96/100\n",
            "16/16 [==============================] - 0s 3ms/step - loss: 0.0015\n",
            "Epoch 97/100\n",
            "16/16 [==============================] - 0s 3ms/step - loss: 0.0015\n",
            "Epoch 98/100\n",
            "16/16 [==============================] - 0s 3ms/step - loss: 0.0015\n",
            "Epoch 99/100\n",
            "16/16 [==============================] - 0s 4ms/step - loss: 0.0015\n",
            "Epoch 100/100\n",
            "16/16 [==============================] - 0s 3ms/step - loss: 0.0015\n"
          ]
        }
      ]
    },
    {
      "cell_type": "code",
      "source": [
        "print(1 - cosine(coding1[100],coding2[100]))\n",
        "print(1 - cosine(coding1[50],coding2[50]))\n",
        "print(1 - cosine(coding1[125],coding2[125]))\n",
        "print(1 - cosine(coding1[275],coding2[275]))\n",
        "print(1 - cosine(coding1[325],coding2[325]))\n",
        "print(1 - cosine(coding1[475],coding2[475]))\n",
        "print(1 - cosine(coding1[268],coding2[268]))\n",
        "print(1 - cosine(coding1[339],coding2[339]))\n",
        "print(1 - cosine(coding1[413],coding2[413]))\n",
        "print(1 - cosine(coding1[168],coding2[168]))\n",
        "\n"
      ],
      "metadata": {
        "colab": {
          "base_uri": "https://localhost:8080/"
        },
        "id": "ydE9TDxg8RH3",
        "outputId": "de036269-21ee-4148-b5d4-08b0235808d8"
      },
      "execution_count": null,
      "outputs": [
        {
          "output_type": "stream",
          "name": "stdout",
          "text": [
            "0.5905750393867493\n",
            "0.6687065362930298\n",
            "0.6893504858016968\n",
            "0.7890355587005615\n",
            "0.8108150959014893\n",
            "0.9425581693649292\n",
            "0.9297263622283936\n",
            "0.9081563353538513\n",
            "0.5040022730827332\n",
            "0.9846978187561035\n"
          ]
        }
      ]
    },
    {
      "cell_type": "code",
      "source": [
        "history = autoencoder.fit(long_df_1,long_df_1, epochs=100)\n",
        "coding1 = encoder.predict(long_df_1)\n",
        "history = autoencoder.fit(long_df_2,long_df_2, epochs=100)\n",
        "coding2 = encoder.predict(long_df_2)\n",
        "history = autoencoder.fit(long_df_3,long_df_3, epochs=100)\n",
        "coding3 = encoder.predict(long_df_3)"
      ],
      "metadata": {
        "colab": {
          "base_uri": "https://localhost:8080/"
        },
        "id": "lP5DsapI-dE9",
        "outputId": "8d8b3f6e-98d7-460a-ddf9-e80f28e48cc4"
      },
      "execution_count": null,
      "outputs": [
        {
          "output_type": "stream",
          "name": "stdout",
          "text": [
            "Epoch 1/100\n",
            "16/16 [==============================] - 0s 5ms/step - loss: 0.0016\n",
            "Epoch 2/100\n",
            "16/16 [==============================] - 0s 5ms/step - loss: 0.0016\n",
            "Epoch 3/100\n",
            "16/16 [==============================] - 0s 5ms/step - loss: 0.0016\n",
            "Epoch 4/100\n",
            "16/16 [==============================] - 0s 4ms/step - loss: 0.0016\n",
            "Epoch 5/100\n",
            "16/16 [==============================] - 0s 6ms/step - loss: 0.0016\n",
            "Epoch 6/100\n",
            "16/16 [==============================] - 0s 4ms/step - loss: 0.0016\n",
            "Epoch 7/100\n",
            "16/16 [==============================] - 0s 3ms/step - loss: 0.0016\n",
            "Epoch 8/100\n",
            "16/16 [==============================] - 0s 3ms/step - loss: 0.0016\n",
            "Epoch 9/100\n",
            "16/16 [==============================] - 0s 4ms/step - loss: 0.0016\n",
            "Epoch 10/100\n",
            "16/16 [==============================] - 0s 5ms/step - loss: 0.0016\n",
            "Epoch 11/100\n",
            "16/16 [==============================] - 0s 4ms/step - loss: 0.0016\n",
            "Epoch 12/100\n",
            "16/16 [==============================] - 0s 4ms/step - loss: 0.0016\n",
            "Epoch 13/100\n",
            "16/16 [==============================] - 0s 5ms/step - loss: 0.0016\n",
            "Epoch 14/100\n",
            "16/16 [==============================] - 0s 4ms/step - loss: 0.0016\n",
            "Epoch 15/100\n",
            "16/16 [==============================] - 0s 4ms/step - loss: 0.0016\n",
            "Epoch 16/100\n",
            "16/16 [==============================] - 0s 5ms/step - loss: 0.0016\n",
            "Epoch 17/100\n",
            "16/16 [==============================] - 0s 4ms/step - loss: 0.0016\n",
            "Epoch 18/100\n",
            "16/16 [==============================] - 0s 4ms/step - loss: 0.0016\n",
            "Epoch 19/100\n",
            "16/16 [==============================] - 0s 4ms/step - loss: 0.0016\n",
            "Epoch 20/100\n",
            "16/16 [==============================] - 0s 4ms/step - loss: 0.0016\n",
            "Epoch 21/100\n",
            "16/16 [==============================] - 0s 4ms/step - loss: 0.0016\n",
            "Epoch 22/100\n",
            "16/16 [==============================] - 0s 4ms/step - loss: 0.0016\n",
            "Epoch 23/100\n",
            "16/16 [==============================] - 0s 5ms/step - loss: 0.0016\n",
            "Epoch 24/100\n",
            "16/16 [==============================] - 0s 5ms/step - loss: 0.0016\n",
            "Epoch 25/100\n",
            "16/16 [==============================] - 0s 5ms/step - loss: 0.0016\n",
            "Epoch 26/100\n",
            "16/16 [==============================] - 0s 4ms/step - loss: 0.0016\n",
            "Epoch 27/100\n",
            "16/16 [==============================] - 0s 4ms/step - loss: 0.0016\n",
            "Epoch 28/100\n",
            "16/16 [==============================] - 0s 4ms/step - loss: 0.0016\n",
            "Epoch 29/100\n",
            "16/16 [==============================] - 0s 4ms/step - loss: 0.0016\n",
            "Epoch 30/100\n",
            "16/16 [==============================] - 0s 4ms/step - loss: 0.0016\n",
            "Epoch 31/100\n",
            "16/16 [==============================] - 0s 4ms/step - loss: 0.0016\n",
            "Epoch 32/100\n",
            "16/16 [==============================] - 0s 4ms/step - loss: 0.0016\n",
            "Epoch 33/100\n",
            "16/16 [==============================] - 0s 3ms/step - loss: 0.0016\n",
            "Epoch 34/100\n",
            "16/16 [==============================] - 0s 3ms/step - loss: 0.0016\n",
            "Epoch 35/100\n",
            "16/16 [==============================] - 0s 3ms/step - loss: 0.0016\n",
            "Epoch 36/100\n",
            "16/16 [==============================] - 0s 3ms/step - loss: 0.0016\n",
            "Epoch 37/100\n",
            "16/16 [==============================] - 0s 3ms/step - loss: 0.0016\n",
            "Epoch 38/100\n",
            "16/16 [==============================] - 0s 4ms/step - loss: 0.0016\n",
            "Epoch 39/100\n",
            "16/16 [==============================] - 0s 4ms/step - loss: 0.0016\n",
            "Epoch 40/100\n",
            "16/16 [==============================] - 0s 3ms/step - loss: 0.0016\n",
            "Epoch 41/100\n",
            "16/16 [==============================] - 0s 4ms/step - loss: 0.0016\n",
            "Epoch 42/100\n",
            "16/16 [==============================] - 0s 5ms/step - loss: 0.0016\n",
            "Epoch 43/100\n",
            "16/16 [==============================] - 0s 5ms/step - loss: 0.0016\n",
            "Epoch 44/100\n",
            "16/16 [==============================] - 0s 3ms/step - loss: 0.0016\n",
            "Epoch 45/100\n",
            "16/16 [==============================] - 0s 4ms/step - loss: 0.0016\n",
            "Epoch 46/100\n",
            "16/16 [==============================] - 0s 3ms/step - loss: 0.0016\n",
            "Epoch 47/100\n",
            "16/16 [==============================] - 0s 4ms/step - loss: 0.0016\n",
            "Epoch 48/100\n",
            "16/16 [==============================] - 0s 3ms/step - loss: 0.0016\n",
            "Epoch 49/100\n",
            "16/16 [==============================] - 0s 4ms/step - loss: 0.0016\n",
            "Epoch 50/100\n",
            "16/16 [==============================] - 0s 4ms/step - loss: 0.0016\n",
            "Epoch 51/100\n",
            "16/16 [==============================] - 0s 4ms/step - loss: 0.0016\n",
            "Epoch 52/100\n",
            "16/16 [==============================] - 0s 5ms/step - loss: 0.0016\n",
            "Epoch 53/100\n",
            "16/16 [==============================] - 0s 4ms/step - loss: 0.0016\n",
            "Epoch 54/100\n",
            "16/16 [==============================] - 0s 4ms/step - loss: 0.0016\n",
            "Epoch 55/100\n",
            "16/16 [==============================] - 0s 4ms/step - loss: 0.0016\n",
            "Epoch 56/100\n",
            "16/16 [==============================] - 0s 4ms/step - loss: 0.0016\n",
            "Epoch 57/100\n",
            "16/16 [==============================] - 0s 4ms/step - loss: 0.0016\n",
            "Epoch 58/100\n",
            "16/16 [==============================] - 0s 4ms/step - loss: 0.0016\n",
            "Epoch 59/100\n",
            "16/16 [==============================] - 0s 4ms/step - loss: 0.0016\n",
            "Epoch 60/100\n",
            "16/16 [==============================] - 0s 4ms/step - loss: 0.0016\n",
            "Epoch 61/100\n",
            "16/16 [==============================] - 0s 4ms/step - loss: 0.0015\n",
            "Epoch 62/100\n",
            "16/16 [==============================] - 0s 3ms/step - loss: 0.0015\n",
            "Epoch 63/100\n",
            "16/16 [==============================] - 0s 4ms/step - loss: 0.0015\n",
            "Epoch 64/100\n",
            "16/16 [==============================] - 0s 3ms/step - loss: 0.0015\n",
            "Epoch 65/100\n",
            "16/16 [==============================] - 0s 4ms/step - loss: 0.0015\n",
            "Epoch 66/100\n",
            "16/16 [==============================] - 0s 4ms/step - loss: 0.0015\n",
            "Epoch 67/100\n",
            "16/16 [==============================] - 0s 5ms/step - loss: 0.0015\n",
            "Epoch 68/100\n",
            "16/16 [==============================] - 0s 3ms/step - loss: 0.0015\n",
            "Epoch 69/100\n",
            "16/16 [==============================] - 0s 3ms/step - loss: 0.0015\n",
            "Epoch 70/100\n",
            "16/16 [==============================] - 0s 4ms/step - loss: 0.0015\n",
            "Epoch 71/100\n",
            "16/16 [==============================] - 0s 4ms/step - loss: 0.0015\n",
            "Epoch 72/100\n",
            "16/16 [==============================] - 0s 3ms/step - loss: 0.0015\n",
            "Epoch 73/100\n",
            "16/16 [==============================] - 0s 4ms/step - loss: 0.0015\n",
            "Epoch 74/100\n",
            "16/16 [==============================] - 0s 4ms/step - loss: 0.0015\n",
            "Epoch 75/100\n",
            "16/16 [==============================] - 0s 4ms/step - loss: 0.0015\n",
            "Epoch 76/100\n",
            "16/16 [==============================] - 0s 4ms/step - loss: 0.0015\n",
            "Epoch 77/100\n",
            "16/16 [==============================] - 0s 3ms/step - loss: 0.0015\n",
            "Epoch 78/100\n",
            "16/16 [==============================] - 0s 4ms/step - loss: 0.0015\n",
            "Epoch 79/100\n",
            "16/16 [==============================] - 0s 4ms/step - loss: 0.0015\n",
            "Epoch 80/100\n",
            "16/16 [==============================] - 0s 4ms/step - loss: 0.0015\n",
            "Epoch 81/100\n",
            "16/16 [==============================] - 0s 4ms/step - loss: 0.0015\n",
            "Epoch 82/100\n",
            "16/16 [==============================] - 0s 5ms/step - loss: 0.0015\n",
            "Epoch 83/100\n",
            "16/16 [==============================] - 0s 5ms/step - loss: 0.0015\n",
            "Epoch 84/100\n",
            "16/16 [==============================] - 0s 4ms/step - loss: 0.0015\n",
            "Epoch 85/100\n",
            "16/16 [==============================] - 0s 4ms/step - loss: 0.0015\n",
            "Epoch 86/100\n",
            "16/16 [==============================] - 0s 4ms/step - loss: 0.0015\n",
            "Epoch 87/100\n",
            "16/16 [==============================] - 0s 4ms/step - loss: 0.0015\n",
            "Epoch 88/100\n",
            "16/16 [==============================] - 0s 4ms/step - loss: 0.0015\n",
            "Epoch 89/100\n",
            "16/16 [==============================] - 0s 5ms/step - loss: 0.0015\n",
            "Epoch 90/100\n",
            "16/16 [==============================] - 0s 10ms/step - loss: 0.0015\n",
            "Epoch 91/100\n",
            "16/16 [==============================] - 0s 8ms/step - loss: 0.0015\n",
            "Epoch 92/100\n",
            "16/16 [==============================] - 0s 10ms/step - loss: 0.0015\n",
            "Epoch 93/100\n",
            "16/16 [==============================] - 0s 8ms/step - loss: 0.0015\n",
            "Epoch 94/100\n",
            "16/16 [==============================] - 0s 9ms/step - loss: 0.0015\n",
            "Epoch 95/100\n",
            "16/16 [==============================] - 0s 8ms/step - loss: 0.0015\n",
            "Epoch 96/100\n",
            "16/16 [==============================] - 0s 5ms/step - loss: 0.0015\n",
            "Epoch 97/100\n",
            "16/16 [==============================] - 0s 4ms/step - loss: 0.0015\n",
            "Epoch 98/100\n",
            "16/16 [==============================] - 0s 5ms/step - loss: 0.0015\n",
            "Epoch 99/100\n",
            "16/16 [==============================] - 0s 5ms/step - loss: 0.0015\n",
            "Epoch 100/100\n",
            "16/16 [==============================] - 0s 6ms/step - loss: 0.0015\n",
            "Epoch 1/100\n",
            "16/16 [==============================] - 0s 3ms/step - loss: 0.0015\n",
            "Epoch 2/100\n",
            "16/16 [==============================] - 0s 3ms/step - loss: 0.0015\n",
            "Epoch 3/100\n",
            "16/16 [==============================] - 0s 5ms/step - loss: 0.0015\n",
            "Epoch 4/100\n",
            "16/16 [==============================] - 0s 3ms/step - loss: 0.0015\n",
            "Epoch 5/100\n",
            "16/16 [==============================] - 0s 3ms/step - loss: 0.0015\n",
            "Epoch 6/100\n",
            "16/16 [==============================] - 0s 3ms/step - loss: 0.0015\n",
            "Epoch 7/100\n",
            "16/16 [==============================] - 0s 3ms/step - loss: 0.0015\n",
            "Epoch 8/100\n",
            "16/16 [==============================] - 0s 3ms/step - loss: 0.0015\n",
            "Epoch 9/100\n",
            "16/16 [==============================] - 0s 3ms/step - loss: 0.0015\n",
            "Epoch 10/100\n",
            "16/16 [==============================] - 0s 3ms/step - loss: 0.0015\n",
            "Epoch 11/100\n",
            "16/16 [==============================] - 0s 4ms/step - loss: 0.0015\n",
            "Epoch 12/100\n",
            "16/16 [==============================] - 0s 5ms/step - loss: 0.0015\n",
            "Epoch 13/100\n",
            "16/16 [==============================] - 0s 4ms/step - loss: 0.0015\n",
            "Epoch 14/100\n",
            "16/16 [==============================] - 0s 4ms/step - loss: 0.0015\n",
            "Epoch 15/100\n",
            "16/16 [==============================] - 0s 3ms/step - loss: 0.0015\n",
            "Epoch 16/100\n",
            "16/16 [==============================] - 0s 3ms/step - loss: 0.0015\n",
            "Epoch 17/100\n",
            "16/16 [==============================] - 0s 3ms/step - loss: 0.0015\n",
            "Epoch 18/100\n",
            "16/16 [==============================] - 0s 4ms/step - loss: 0.0015\n",
            "Epoch 19/100\n",
            "16/16 [==============================] - 0s 4ms/step - loss: 0.0015\n",
            "Epoch 20/100\n",
            "16/16 [==============================] - 0s 4ms/step - loss: 0.0015\n",
            "Epoch 21/100\n",
            "16/16 [==============================] - 0s 4ms/step - loss: 0.0015\n",
            "Epoch 22/100\n",
            "16/16 [==============================] - 0s 4ms/step - loss: 0.0015\n",
            "Epoch 23/100\n",
            "16/16 [==============================] - 0s 4ms/step - loss: 0.0015\n",
            "Epoch 24/100\n",
            "16/16 [==============================] - 0s 4ms/step - loss: 0.0015\n",
            "Epoch 25/100\n",
            "16/16 [==============================] - 0s 4ms/step - loss: 0.0015\n",
            "Epoch 26/100\n",
            "16/16 [==============================] - 0s 4ms/step - loss: 0.0015\n",
            "Epoch 27/100\n",
            "16/16 [==============================] - 0s 5ms/step - loss: 0.0015\n",
            "Epoch 28/100\n",
            "16/16 [==============================] - 0s 4ms/step - loss: 0.0015\n",
            "Epoch 29/100\n",
            "16/16 [==============================] - 0s 4ms/step - loss: 0.0015\n",
            "Epoch 30/100\n",
            "16/16 [==============================] - 0s 4ms/step - loss: 0.0015\n",
            "Epoch 31/100\n",
            "16/16 [==============================] - 0s 4ms/step - loss: 0.0015\n",
            "Epoch 32/100\n",
            "16/16 [==============================] - 0s 4ms/step - loss: 0.0015\n",
            "Epoch 33/100\n",
            "16/16 [==============================] - 0s 4ms/step - loss: 0.0015\n",
            "Epoch 34/100\n",
            "16/16 [==============================] - 0s 4ms/step - loss: 0.0015\n",
            "Epoch 35/100\n",
            "16/16 [==============================] - 0s 5ms/step - loss: 0.0015\n",
            "Epoch 36/100\n",
            "16/16 [==============================] - 0s 4ms/step - loss: 0.0015\n",
            "Epoch 37/100\n",
            "16/16 [==============================] - 0s 4ms/step - loss: 0.0015\n",
            "Epoch 38/100\n",
            "16/16 [==============================] - 0s 5ms/step - loss: 0.0015\n",
            "Epoch 39/100\n",
            "16/16 [==============================] - 0s 4ms/step - loss: 0.0015\n",
            "Epoch 40/100\n",
            "16/16 [==============================] - 0s 4ms/step - loss: 0.0015\n",
            "Epoch 41/100\n",
            "16/16 [==============================] - 0s 5ms/step - loss: 0.0015\n",
            "Epoch 42/100\n",
            "16/16 [==============================] - 0s 5ms/step - loss: 0.0015\n",
            "Epoch 43/100\n",
            "16/16 [==============================] - 0s 5ms/step - loss: 0.0015\n",
            "Epoch 44/100\n",
            "16/16 [==============================] - 0s 5ms/step - loss: 0.0015\n",
            "Epoch 45/100\n",
            "16/16 [==============================] - 0s 5ms/step - loss: 0.0015\n",
            "Epoch 46/100\n",
            "16/16 [==============================] - 0s 5ms/step - loss: 0.0015\n",
            "Epoch 47/100\n",
            "16/16 [==============================] - 0s 5ms/step - loss: 0.0015\n",
            "Epoch 48/100\n",
            "16/16 [==============================] - 0s 4ms/step - loss: 0.0015\n",
            "Epoch 49/100\n",
            "16/16 [==============================] - 0s 5ms/step - loss: 0.0015\n",
            "Epoch 50/100\n",
            "16/16 [==============================] - 0s 4ms/step - loss: 0.0015\n",
            "Epoch 51/100\n",
            "16/16 [==============================] - 0s 4ms/step - loss: 0.0015\n",
            "Epoch 52/100\n",
            "16/16 [==============================] - 0s 5ms/step - loss: 0.0015\n",
            "Epoch 53/100\n",
            "16/16 [==============================] - 0s 4ms/step - loss: 0.0015\n",
            "Epoch 54/100\n",
            "16/16 [==============================] - 0s 5ms/step - loss: 0.0015\n",
            "Epoch 55/100\n",
            "16/16 [==============================] - 0s 4ms/step - loss: 0.0015\n",
            "Epoch 56/100\n",
            "16/16 [==============================] - 0s 5ms/step - loss: 0.0015\n",
            "Epoch 57/100\n",
            "16/16 [==============================] - 0s 4ms/step - loss: 0.0015\n",
            "Epoch 58/100\n",
            "16/16 [==============================] - 0s 5ms/step - loss: 0.0015\n",
            "Epoch 59/100\n",
            "16/16 [==============================] - 0s 4ms/step - loss: 0.0015\n",
            "Epoch 60/100\n",
            "16/16 [==============================] - 0s 4ms/step - loss: 0.0015\n",
            "Epoch 61/100\n",
            "16/16 [==============================] - 0s 4ms/step - loss: 0.0015\n",
            "Epoch 62/100\n",
            "16/16 [==============================] - 0s 4ms/step - loss: 0.0015\n",
            "Epoch 63/100\n",
            "16/16 [==============================] - 0s 4ms/step - loss: 0.0015\n",
            "Epoch 64/100\n",
            "16/16 [==============================] - 0s 4ms/step - loss: 0.0015\n",
            "Epoch 65/100\n",
            "16/16 [==============================] - 0s 4ms/step - loss: 0.0015\n",
            "Epoch 66/100\n",
            "16/16 [==============================] - 0s 6ms/step - loss: 0.0015\n",
            "Epoch 67/100\n",
            "16/16 [==============================] - 0s 4ms/step - loss: 0.0015\n",
            "Epoch 68/100\n",
            "16/16 [==============================] - 0s 5ms/step - loss: 0.0015\n",
            "Epoch 69/100\n",
            "16/16 [==============================] - 0s 4ms/step - loss: 0.0015\n",
            "Epoch 70/100\n",
            "16/16 [==============================] - 0s 4ms/step - loss: 0.0015\n",
            "Epoch 71/100\n",
            "16/16 [==============================] - 0s 4ms/step - loss: 0.0015\n",
            "Epoch 72/100\n",
            "16/16 [==============================] - 0s 4ms/step - loss: 0.0015\n",
            "Epoch 73/100\n",
            "16/16 [==============================] - 0s 5ms/step - loss: 0.0015\n",
            "Epoch 74/100\n",
            "16/16 [==============================] - 0s 4ms/step - loss: 0.0015\n",
            "Epoch 75/100\n",
            "16/16 [==============================] - 0s 4ms/step - loss: 0.0015\n",
            "Epoch 76/100\n",
            "16/16 [==============================] - 0s 5ms/step - loss: 0.0015\n",
            "Epoch 77/100\n",
            "16/16 [==============================] - 0s 5ms/step - loss: 0.0015\n",
            "Epoch 78/100\n",
            "16/16 [==============================] - 0s 4ms/step - loss: 0.0015\n",
            "Epoch 79/100\n",
            "16/16 [==============================] - 0s 5ms/step - loss: 0.0015\n",
            "Epoch 80/100\n",
            "16/16 [==============================] - 0s 4ms/step - loss: 0.0015\n",
            "Epoch 81/100\n",
            "16/16 [==============================] - 0s 4ms/step - loss: 0.0015\n",
            "Epoch 82/100\n",
            "16/16 [==============================] - 0s 4ms/step - loss: 0.0015\n",
            "Epoch 83/100\n",
            "16/16 [==============================] - 0s 4ms/step - loss: 0.0015\n",
            "Epoch 84/100\n",
            "16/16 [==============================] - 0s 4ms/step - loss: 0.0015\n",
            "Epoch 85/100\n",
            "16/16 [==============================] - 0s 4ms/step - loss: 0.0015\n",
            "Epoch 86/100\n",
            "16/16 [==============================] - 0s 4ms/step - loss: 0.0015\n",
            "Epoch 87/100\n",
            "16/16 [==============================] - 0s 4ms/step - loss: 0.0015\n",
            "Epoch 88/100\n",
            "16/16 [==============================] - 0s 4ms/step - loss: 0.0015\n",
            "Epoch 89/100\n",
            "16/16 [==============================] - 0s 4ms/step - loss: 0.0015\n",
            "Epoch 90/100\n",
            "16/16 [==============================] - 0s 4ms/step - loss: 0.0015\n",
            "Epoch 91/100\n",
            "16/16 [==============================] - 0s 6ms/step - loss: 0.0015\n",
            "Epoch 92/100\n",
            "16/16 [==============================] - 0s 4ms/step - loss: 0.0015\n",
            "Epoch 93/100\n",
            "16/16 [==============================] - 0s 5ms/step - loss: 0.0015\n",
            "Epoch 94/100\n",
            "16/16 [==============================] - 0s 4ms/step - loss: 0.0015\n",
            "Epoch 95/100\n",
            "16/16 [==============================] - 0s 4ms/step - loss: 0.0015\n",
            "Epoch 96/100\n",
            "16/16 [==============================] - 0s 4ms/step - loss: 0.0015\n",
            "Epoch 97/100\n",
            "16/16 [==============================] - 0s 4ms/step - loss: 0.0015\n",
            "Epoch 98/100\n",
            "16/16 [==============================] - 0s 5ms/step - loss: 0.0015\n",
            "Epoch 99/100\n",
            "16/16 [==============================] - 0s 5ms/step - loss: 0.0015\n",
            "Epoch 100/100\n",
            "16/16 [==============================] - 0s 8ms/step - loss: 0.0015\n",
            "Epoch 1/100\n",
            "16/16 [==============================] - 0s 4ms/step - loss: 0.0016\n",
            "Epoch 2/100\n",
            "16/16 [==============================] - 0s 4ms/step - loss: 0.0016\n",
            "Epoch 3/100\n",
            "16/16 [==============================] - 0s 3ms/step - loss: 0.0016\n",
            "Epoch 4/100\n",
            "16/16 [==============================] - 0s 5ms/step - loss: 0.0016\n",
            "Epoch 5/100\n",
            "16/16 [==============================] - 0s 5ms/step - loss: 0.0016\n",
            "Epoch 6/100\n",
            "16/16 [==============================] - 0s 5ms/step - loss: 0.0016\n",
            "Epoch 7/100\n",
            "16/16 [==============================] - 0s 5ms/step - loss: 0.0016\n",
            "Epoch 8/100\n",
            "16/16 [==============================] - 0s 5ms/step - loss: 0.0016\n",
            "Epoch 9/100\n",
            "16/16 [==============================] - 0s 4ms/step - loss: 0.0016\n",
            "Epoch 10/100\n",
            "16/16 [==============================] - 0s 5ms/step - loss: 0.0016\n",
            "Epoch 11/100\n",
            "16/16 [==============================] - 0s 5ms/step - loss: 0.0016\n",
            "Epoch 12/100\n",
            "16/16 [==============================] - 0s 4ms/step - loss: 0.0016\n",
            "Epoch 13/100\n",
            "16/16 [==============================] - 0s 3ms/step - loss: 0.0016\n",
            "Epoch 14/100\n",
            "16/16 [==============================] - 0s 3ms/step - loss: 0.0016\n",
            "Epoch 15/100\n",
            "16/16 [==============================] - 0s 3ms/step - loss: 0.0016\n",
            "Epoch 16/100\n",
            "16/16 [==============================] - 0s 3ms/step - loss: 0.0016\n",
            "Epoch 17/100\n",
            "16/16 [==============================] - 0s 3ms/step - loss: 0.0016\n",
            "Epoch 18/100\n",
            "16/16 [==============================] - 0s 3ms/step - loss: 0.0016\n",
            "Epoch 19/100\n",
            "16/16 [==============================] - 0s 2ms/step - loss: 0.0016\n",
            "Epoch 20/100\n",
            "16/16 [==============================] - 0s 3ms/step - loss: 0.0016\n",
            "Epoch 21/100\n",
            "16/16 [==============================] - 0s 2ms/step - loss: 0.0016\n",
            "Epoch 22/100\n",
            "16/16 [==============================] - 0s 2ms/step - loss: 0.0016\n",
            "Epoch 23/100\n",
            "16/16 [==============================] - 0s 2ms/step - loss: 0.0016\n",
            "Epoch 24/100\n",
            "16/16 [==============================] - 0s 2ms/step - loss: 0.0016\n",
            "Epoch 25/100\n",
            "16/16 [==============================] - 0s 3ms/step - loss: 0.0016\n",
            "Epoch 26/100\n",
            "16/16 [==============================] - 0s 3ms/step - loss: 0.0016\n",
            "Epoch 27/100\n",
            "16/16 [==============================] - 0s 2ms/step - loss: 0.0016\n",
            "Epoch 28/100\n",
            "16/16 [==============================] - 0s 3ms/step - loss: 0.0016\n",
            "Epoch 29/100\n",
            "16/16 [==============================] - 0s 2ms/step - loss: 0.0016\n",
            "Epoch 30/100\n",
            "16/16 [==============================] - 0s 3ms/step - loss: 0.0016\n",
            "Epoch 31/100\n",
            "16/16 [==============================] - 0s 3ms/step - loss: 0.0016\n",
            "Epoch 32/100\n",
            "16/16 [==============================] - 0s 3ms/step - loss: 0.0016\n",
            "Epoch 33/100\n",
            "16/16 [==============================] - 0s 2ms/step - loss: 0.0016\n",
            "Epoch 34/100\n",
            "16/16 [==============================] - 0s 3ms/step - loss: 0.0016\n",
            "Epoch 35/100\n",
            "16/16 [==============================] - 0s 4ms/step - loss: 0.0016\n",
            "Epoch 36/100\n",
            "16/16 [==============================] - 0s 3ms/step - loss: 0.0016\n",
            "Epoch 37/100\n",
            "16/16 [==============================] - 0s 3ms/step - loss: 0.0016\n",
            "Epoch 38/100\n",
            "16/16 [==============================] - 0s 3ms/step - loss: 0.0016\n",
            "Epoch 39/100\n",
            "16/16 [==============================] - 0s 3ms/step - loss: 0.0016\n",
            "Epoch 40/100\n",
            "16/16 [==============================] - 0s 3ms/step - loss: 0.0016\n",
            "Epoch 41/100\n",
            "16/16 [==============================] - 0s 3ms/step - loss: 0.0015\n",
            "Epoch 42/100\n",
            "16/16 [==============================] - 0s 3ms/step - loss: 0.0015\n",
            "Epoch 43/100\n",
            "16/16 [==============================] - 0s 2ms/step - loss: 0.0015\n",
            "Epoch 44/100\n",
            "16/16 [==============================] - 0s 3ms/step - loss: 0.0015\n",
            "Epoch 45/100\n",
            "16/16 [==============================] - 0s 3ms/step - loss: 0.0015\n",
            "Epoch 46/100\n",
            "16/16 [==============================] - 0s 3ms/step - loss: 0.0015\n",
            "Epoch 47/100\n",
            "16/16 [==============================] - 0s 2ms/step - loss: 0.0015\n",
            "Epoch 48/100\n",
            "16/16 [==============================] - 0s 3ms/step - loss: 0.0015\n",
            "Epoch 49/100\n",
            "16/16 [==============================] - 0s 3ms/step - loss: 0.0015\n",
            "Epoch 50/100\n",
            "16/16 [==============================] - 0s 3ms/step - loss: 0.0015\n",
            "Epoch 51/100\n",
            "16/16 [==============================] - 0s 3ms/step - loss: 0.0015\n",
            "Epoch 52/100\n",
            "16/16 [==============================] - 0s 3ms/step - loss: 0.0015\n",
            "Epoch 53/100\n",
            "16/16 [==============================] - 0s 3ms/step - loss: 0.0015\n",
            "Epoch 54/100\n",
            "16/16 [==============================] - 0s 3ms/step - loss: 0.0015\n",
            "Epoch 55/100\n",
            "16/16 [==============================] - 0s 3ms/step - loss: 0.0015\n",
            "Epoch 56/100\n",
            "16/16 [==============================] - 0s 3ms/step - loss: 0.0015\n",
            "Epoch 57/100\n",
            "16/16 [==============================] - 0s 3ms/step - loss: 0.0015\n",
            "Epoch 58/100\n",
            "16/16 [==============================] - 0s 3ms/step - loss: 0.0015\n",
            "Epoch 59/100\n",
            "16/16 [==============================] - 0s 3ms/step - loss: 0.0015\n",
            "Epoch 60/100\n",
            "16/16 [==============================] - 0s 2ms/step - loss: 0.0015\n",
            "Epoch 61/100\n",
            "16/16 [==============================] - 0s 3ms/step - loss: 0.0015\n",
            "Epoch 62/100\n",
            "16/16 [==============================] - 0s 3ms/step - loss: 0.0015\n",
            "Epoch 63/100\n",
            "16/16 [==============================] - 0s 4ms/step - loss: 0.0015\n",
            "Epoch 64/100\n",
            "16/16 [==============================] - 0s 3ms/step - loss: 0.0015\n",
            "Epoch 65/100\n",
            "16/16 [==============================] - 0s 3ms/step - loss: 0.0015\n",
            "Epoch 66/100\n",
            "16/16 [==============================] - 0s 3ms/step - loss: 0.0015\n",
            "Epoch 67/100\n",
            "16/16 [==============================] - 0s 3ms/step - loss: 0.0015\n",
            "Epoch 68/100\n",
            "16/16 [==============================] - 0s 3ms/step - loss: 0.0015\n",
            "Epoch 69/100\n",
            "16/16 [==============================] - 0s 2ms/step - loss: 0.0015\n",
            "Epoch 70/100\n",
            "16/16 [==============================] - 0s 3ms/step - loss: 0.0015\n",
            "Epoch 71/100\n",
            "16/16 [==============================] - 0s 3ms/step - loss: 0.0015\n",
            "Epoch 72/100\n",
            "16/16 [==============================] - 0s 3ms/step - loss: 0.0015\n",
            "Epoch 73/100\n",
            "16/16 [==============================] - 0s 2ms/step - loss: 0.0015\n",
            "Epoch 74/100\n",
            "16/16 [==============================] - 0s 3ms/step - loss: 0.0015\n",
            "Epoch 75/100\n",
            "16/16 [==============================] - 0s 3ms/step - loss: 0.0015\n",
            "Epoch 76/100\n",
            "16/16 [==============================] - 0s 2ms/step - loss: 0.0015\n",
            "Epoch 77/100\n",
            "16/16 [==============================] - 0s 3ms/step - loss: 0.0015\n",
            "Epoch 78/100\n",
            "16/16 [==============================] - 0s 2ms/step - loss: 0.0015\n",
            "Epoch 79/100\n",
            "16/16 [==============================] - 0s 3ms/step - loss: 0.0015\n",
            "Epoch 80/100\n",
            "16/16 [==============================] - 0s 3ms/step - loss: 0.0015\n",
            "Epoch 81/100\n",
            "16/16 [==============================] - 0s 2ms/step - loss: 0.0015\n",
            "Epoch 82/100\n",
            "16/16 [==============================] - 0s 3ms/step - loss: 0.0015\n",
            "Epoch 83/100\n",
            "16/16 [==============================] - 0s 3ms/step - loss: 0.0015\n",
            "Epoch 84/100\n",
            "16/16 [==============================] - 0s 3ms/step - loss: 0.0015\n",
            "Epoch 85/100\n",
            "16/16 [==============================] - 0s 2ms/step - loss: 0.0015\n",
            "Epoch 86/100\n",
            "16/16 [==============================] - 0s 2ms/step - loss: 0.0015\n",
            "Epoch 87/100\n",
            "16/16 [==============================] - 0s 3ms/step - loss: 0.0015\n",
            "Epoch 88/100\n",
            "16/16 [==============================] - 0s 2ms/step - loss: 0.0015\n",
            "Epoch 89/100\n",
            "16/16 [==============================] - 0s 2ms/step - loss: 0.0015\n",
            "Epoch 90/100\n",
            "16/16 [==============================] - 0s 2ms/step - loss: 0.0015\n",
            "Epoch 91/100\n",
            "16/16 [==============================] - 0s 3ms/step - loss: 0.0015\n",
            "Epoch 92/100\n",
            "16/16 [==============================] - 0s 3ms/step - loss: 0.0015\n",
            "Epoch 93/100\n",
            "16/16 [==============================] - 0s 3ms/step - loss: 0.0015\n",
            "Epoch 94/100\n",
            "16/16 [==============================] - 0s 3ms/step - loss: 0.0015\n",
            "Epoch 95/100\n",
            "16/16 [==============================] - 0s 3ms/step - loss: 0.0015\n",
            "Epoch 96/100\n",
            "16/16 [==============================] - 0s 3ms/step - loss: 0.0015\n",
            "Epoch 97/100\n",
            "16/16 [==============================] - 0s 4ms/step - loss: 0.0015\n",
            "Epoch 98/100\n",
            "16/16 [==============================] - 0s 3ms/step - loss: 0.0015\n",
            "Epoch 99/100\n",
            "16/16 [==============================] - 0s 2ms/step - loss: 0.0015\n",
            "Epoch 100/100\n",
            "16/16 [==============================] - 0s 3ms/step - loss: 0.0015\n"
          ]
        }
      ]
    },
    {
      "cell_type": "code",
      "source": [
        "print(1 - cosine(coding1[100],coding2[100]))\n",
        "print(1 - cosine(coding1[50],coding2[50]))\n",
        "print(1 - cosine(coding1[125],coding2[125]))\n",
        "print(1 - cosine(coding1[275],coding2[275]))\n",
        "print(1 - cosine(coding1[325],coding2[325]))\n",
        "print(1 - cosine(coding1[475],coding2[475]))\n",
        "print(1 - cosine(coding1[268],coding2[268]))\n",
        "print(1 - cosine(coding1[339],coding2[339]))\n",
        "print(1 - cosine(coding1[413],coding2[413]))\n",
        "print(1 - cosine(coding1[168],coding2[168]))\n",
        "\n"
      ],
      "metadata": {
        "colab": {
          "base_uri": "https://localhost:8080/"
        },
        "id": "ehB5ilat-wWb",
        "outputId": "2ed75923-5184-481d-9978-ffd45cd621b6"
      },
      "execution_count": null,
      "outputs": [
        {
          "output_type": "stream",
          "name": "stdout",
          "text": [
            "0.9253243207931519\n",
            "0.6080589890480042\n",
            "0.7968112230300903\n",
            "0.8847402930259705\n",
            "0.7249835729598999\n",
            "0.6933592557907104\n",
            "0.6193163990974426\n",
            "0.8756940960884094\n",
            "0.5975826978683472\n",
            "0.5746639370918274\n"
          ]
        }
      ]
    },
    {
      "cell_type": "markdown",
      "source": [
        "<b> Using SVD Truncate <b>"
      ],
      "metadata": {
        "id": "kp5fkRXxpMKo"
      }
    },
    {
      "cell_type": "code",
      "source": [
        "from sklearn.decomposition import TruncatedSVD"
      ],
      "metadata": {
        "id": "gHoSO6Q-pRRI"
      },
      "execution_count": 42,
      "outputs": []
    },
    {
      "cell_type": "code",
      "source": [
        "svd = TruncatedSVD(n_components=64)"
      ],
      "metadata": {
        "id": "Iw6a3bxYqTWu"
      },
      "execution_count": 43,
      "outputs": []
    },
    {
      "cell_type": "code",
      "source": [
        "small_df_1 = small_df['sent0'].values.tolist()\n",
        "small_df_2 = small_df['sent1'].values.tolist()\n",
        "small_df_3 = small_df['hard_neg'].values.tolist()\n",
        "small_df_1 = model.encode(small_df_1)\n",
        "small_df_2 = model.encode(small_df_2)\n",
        "small_df_3 = model.encode(small_df_3)"
      ],
      "metadata": {
        "colab": {
          "base_uri": "https://localhost:8080/"
        },
        "id": "NaiolHd8qhSL",
        "outputId": "993d3f82-aa49-457c-b014-6f5ed7690a9b"
      },
      "execution_count": 46,
      "outputs": [
        {
          "output_type": "stream",
          "name": "stderr",
          "text": [
            "100%|██████████| 8/8 [00:31<00:00,  3.91s/it]\n",
            "100%|██████████| 8/8 [00:42<00:00,  5.27s/it]\n",
            "100%|██████████| 8/8 [00:45<00:00,  5.63s/it]\n"
          ]
        }
      ]
    },
    {
      "cell_type": "code",
      "source": [
        "svd_encoded_1 = svd.fit_transform(small_df_1)\n",
        "svd_encoded_2 = svd.fit_transform(small_df_2)\n",
        "svd_encoded_3 = svd.fit_transform(small_df_3)"
      ],
      "metadata": {
        "id": "LIHO-XamrPe9"
      },
      "execution_count": 63,
      "outputs": []
    },
    {
      "cell_type": "code",
      "source": [
        "print(1 - cosine(svd_encoded_1[0],svd_encoded_2[0]))\n",
        "print(1 - cosine(svd_encoded_2[0],svd_encoded_3[0]))\n",
        "print(1 - cosine(svd_encoded_1[0],svd_encoded_3[0]))"
      ],
      "metadata": {
        "colab": {
          "base_uri": "https://localhost:8080/"
        },
        "id": "hhzdyWJjszQA",
        "outputId": "2566e165-782e-42fe-b6dc-909675e8dd69"
      },
      "execution_count": 64,
      "outputs": [
        {
          "output_type": "stream",
          "name": "stdout",
          "text": [
            "-0.25547558069229126\n",
            "0.05344222113490105\n",
            "0.1591043621301651\n"
          ]
        }
      ]
    },
    {
      "cell_type": "code",
      "source": [
        "print(1 - cosine(svd_encoded_1[3],svd_encoded_2[3]))\n",
        "print(1 - cosine(svd_encoded_2[3],svd_encoded_3[3]))\n",
        "print(1 - cosine(svd_encoded_1[3],svd_encoded_3[3]))"
      ],
      "metadata": {
        "colab": {
          "base_uri": "https://localhost:8080/"
        },
        "id": "vfq8k7kds9HZ",
        "outputId": "4cd3aecb-66b6-4391-99f4-1f36ef49498b"
      },
      "execution_count": 65,
      "outputs": [
        {
          "output_type": "stream",
          "name": "stdout",
          "text": [
            "0.3731144964694977\n",
            "-0.29767143726348877\n",
            "-0.03404412791132927\n"
          ]
        }
      ]
    },
    {
      "cell_type": "code",
      "source": [
        "print(1 - cosine(svd_encoded_1[497],svd_encoded_2[497]))\n",
        "print(1 - cosine(svd_encoded_2[497],svd_encoded_3[497]))\n",
        "print(1 - cosine(svd_encoded_1[497],svd_encoded_3[497]))"
      ],
      "metadata": {
        "colab": {
          "base_uri": "https://localhost:8080/"
        },
        "id": "6aHfT2w0tS3l",
        "outputId": "1e77dd8e-6841-4191-af3e-cb6e73c959c9"
      },
      "execution_count": 66,
      "outputs": [
        {
          "output_type": "stream",
          "name": "stdout",
          "text": [
            "0.2319801151752472\n",
            "0.014913138002157211\n",
            "0.4191705286502838\n"
          ]
        }
      ]
    },
    {
      "cell_type": "code",
      "source": [
        "print(1 - cosine(svd_encoded_1[250],svd_encoded_2[250]))\n",
        "print(1 - cosine(svd_encoded_2[250],svd_encoded_3[250]))\n",
        "print(1 - cosine(svd_encoded_1[250],svd_encoded_3[250]))"
      ],
      "metadata": {
        "colab": {
          "base_uri": "https://localhost:8080/"
        },
        "id": "QzQmB9-nvrQ3",
        "outputId": "714632c6-71c8-4fbc-cfa8-da2bc3e7a1be"
      },
      "execution_count": 67,
      "outputs": [
        {
          "output_type": "stream",
          "name": "stdout",
          "text": [
            "0.18096499145030975\n",
            "-0.05822616443037987\n",
            "0.007683912757784128\n"
          ]
        }
      ]
    },
    {
      "cell_type": "code",
      "source": [
        "print(1 - cosine(svd_encoded_1[25],svd_encoded_2[25]))\n",
        "print(1 - cosine(svd_encoded_2[25],svd_encoded_3[25]))\n",
        "print(1 - cosine(svd_encoded_1[25],svd_encoded_3[25]))"
      ],
      "metadata": {
        "colab": {
          "base_uri": "https://localhost:8080/"
        },
        "id": "6OoHrcQowBq1",
        "outputId": "5ac1a516-6224-4283-d711-e67c89f6ce64"
      },
      "execution_count": 68,
      "outputs": [
        {
          "output_type": "stream",
          "name": "stdout",
          "text": [
            "-0.023105403408408165\n",
            "0.2851147949695587\n",
            "-0.03509161248803139\n"
          ]
        }
      ]
    },
    {
      "cell_type": "code",
      "source": [
        "medium_df_1 = medium_df['sent0'].values.tolist()\n",
        "medium_df_2 = medium_df['sent1'].values.tolist()\n",
        "medium_df_3 = medium_df['hard_neg'].values.tolist()\n",
        "medium_df_1 = model.encode(medium_df_1)\n",
        "medium_df_2 = model.encode(medium_df_2)\n",
        "medium_df_3 = model.encode(medium_df_3)"
      ],
      "metadata": {
        "colab": {
          "base_uri": "https://localhost:8080/"
        },
        "id": "ZZEUTkfZxAhy",
        "outputId": "4ca4e38c-07ad-4391-a511-ffb1e63de40e"
      },
      "execution_count": 69,
      "outputs": [
        {
          "output_type": "stream",
          "name": "stderr",
          "text": [
            "100%|██████████| 8/8 [00:46<00:00,  5.77s/it]\n",
            "100%|██████████| 8/8 [00:31<00:00,  3.97s/it]\n",
            "100%|██████████| 8/8 [00:31<00:00,  4.00s/it]\n"
          ]
        }
      ]
    },
    {
      "cell_type": "code",
      "source": [
        "svd_encoded_1 = svd.fit_transform(medium_df_1)\n",
        "svd_encoded_2 = svd.fit_transform(medium_df_2)\n",
        "svd_encoded_3 = svd.fit_transform(medium_df_3)"
      ],
      "metadata": {
        "id": "vTCbUhwhS2V5"
      },
      "execution_count": 71,
      "outputs": []
    },
    {
      "cell_type": "code",
      "source": [
        "print(1 - cosine(svd_encoded_1[100],svd_encoded_2[100]))\n",
        "print(1 - cosine(svd_encoded_2[100],svd_encoded_3[100]))\n",
        "print(1 - cosine(svd_encoded_1[100],svd_encoded_3[100]))"
      ],
      "metadata": {
        "colab": {
          "base_uri": "https://localhost:8080/"
        },
        "id": "5FM8JGJvSm-d",
        "outputId": "0e2823b0-b3af-4052-94ee-71c8ec3e7bfd"
      },
      "execution_count": 72,
      "outputs": [
        {
          "output_type": "stream",
          "name": "stdout",
          "text": [
            "0.31621986627578735\n",
            "0.0805441290140152\n",
            "0.19113987684249878\n"
          ]
        }
      ]
    },
    {
      "cell_type": "code",
      "source": [
        "print(1 - cosine(svd_encoded_1[50],svd_encoded_2[50]))\n",
        "print(1 - cosine(svd_encoded_2[50],svd_encoded_3[50]))\n",
        "print(1 - cosine(svd_encoded_1[50],svd_encoded_3[50]))"
      ],
      "metadata": {
        "colab": {
          "base_uri": "https://localhost:8080/"
        },
        "id": "nED48566TKNI",
        "outputId": "458a6bd5-4b9b-4c88-d3d6-9cdc22647672"
      },
      "execution_count": 73,
      "outputs": [
        {
          "output_type": "stream",
          "name": "stdout",
          "text": [
            "0.30971160531044006\n",
            "0.4338149428367615\n",
            "0.3816317319869995\n"
          ]
        }
      ]
    },
    {
      "cell_type": "code",
      "source": [
        "print(1 - cosine(svd_encoded_1[125],svd_encoded_2[125]))\n",
        "print(1 - cosine(svd_encoded_2[125],svd_encoded_3[125]))\n",
        "print(1 - cosine(svd_encoded_1[125],svd_encoded_3[125]))"
      ],
      "metadata": {
        "colab": {
          "base_uri": "https://localhost:8080/"
        },
        "id": "H_sf6tr-TTgg",
        "outputId": "56674e8f-7736-4da3-d382-2731aa49bd42"
      },
      "execution_count": 74,
      "outputs": [
        {
          "output_type": "stream",
          "name": "stdout",
          "text": [
            "-0.009609532542526722\n",
            "-0.004967356566339731\n",
            "0.03862790763378143\n"
          ]
        }
      ]
    },
    {
      "cell_type": "code",
      "source": [
        "print(1 - cosine(svd_encoded_1[275],svd_encoded_2[275]))\n",
        "print(1 - cosine(svd_encoded_2[275],svd_encoded_3[275]))\n",
        "print(1 - cosine(svd_encoded_1[275],svd_encoded_3[275]))"
      ],
      "metadata": {
        "colab": {
          "base_uri": "https://localhost:8080/"
        },
        "id": "u1o73cyfTcR5",
        "outputId": "4c623f5e-a449-4192-9f38-0fbee4f32d9f"
      },
      "execution_count": 75,
      "outputs": [
        {
          "output_type": "stream",
          "name": "stdout",
          "text": [
            "0.29763665795326233\n",
            "-0.1551969349384308\n",
            "-0.05822740122675896\n"
          ]
        }
      ]
    },
    {
      "cell_type": "code",
      "source": [
        "print(1 - cosine(svd_encoded_1[325],svd_encoded_2[325]))\n",
        "print(1 - cosine(svd_encoded_2[325],svd_encoded_3[325]))\n",
        "print(1 - cosine(svd_encoded_1[325],svd_encoded_3[325]))"
      ],
      "metadata": {
        "colab": {
          "base_uri": "https://localhost:8080/"
        },
        "id": "dU_nZmCPTlk-",
        "outputId": "bbf20f12-dad9-4b33-d1a0-d4a8a7d36aaf"
      },
      "execution_count": 76,
      "outputs": [
        {
          "output_type": "stream",
          "name": "stdout",
          "text": [
            "0.20121997594833374\n",
            "0.12961339950561523\n",
            "0.07070797681808472\n"
          ]
        }
      ]
    },
    {
      "cell_type": "code",
      "source": [
        "long_df_1 = long_df['sent0'].values.tolist()\n",
        "long_df_2 = long_df['sent1'].values.tolist()\n",
        "long_df_3 = long_df['hard_neg'].values.tolist()\n",
        "long_df_1 = model.encode(long_df_1)\n",
        "long_df_2 = model.encode(long_df_2)\n",
        "long_df_3 = model.encode(long_df_3)\n",
        "\n",
        "\n"
      ],
      "metadata": {
        "colab": {
          "base_uri": "https://localhost:8080/"
        },
        "id": "_FHShwBaUSG5",
        "outputId": "2ed2badb-208e-4840-9c3a-9d80f6e7c2e1"
      },
      "execution_count": 77,
      "outputs": [
        {
          "output_type": "stream",
          "name": "stderr",
          "text": [
            "100%|██████████| 8/8 [02:37<00:00, 19.68s/it]\n",
            "100%|██████████| 8/8 [00:52<00:00,  6.56s/it]\n",
            "100%|██████████| 8/8 [00:36<00:00,  4.52s/it]\n"
          ]
        }
      ]
    },
    {
      "cell_type": "code",
      "source": [
        "svd_encoded_1 = svd.fit_transform(long_df_1)\n",
        "svd_encoded_2 = svd.fit_transform(long_df_2)\n",
        "svd_encoded_3 = svd.fit_transform(long_df_3)"
      ],
      "metadata": {
        "id": "FhM_Z64nUfzB"
      },
      "execution_count": 78,
      "outputs": []
    },
    {
      "cell_type": "code",
      "source": [
        "print(1 - cosine(svd_encoded_1[100],svd_encoded_2[100]))\n",
        "print(1 - cosine(svd_encoded_2[100],svd_encoded_3[100]))\n",
        "print(1 - cosine(svd_encoded_1[100],svd_encoded_3[100]))"
      ],
      "metadata": {
        "colab": {
          "base_uri": "https://localhost:8080/"
        },
        "id": "b9JYMcnTVgH2",
        "outputId": "3e415987-2b3e-4bc2-8323-1b46d572b63e"
      },
      "execution_count": 79,
      "outputs": [
        {
          "output_type": "stream",
          "name": "stdout",
          "text": [
            "0.039438989013433456\n",
            "-0.07851266115903854\n",
            "0.04085397347807884\n"
          ]
        }
      ]
    },
    {
      "cell_type": "code",
      "source": [
        "print(1 - cosine(svd_encoded_1[50],svd_encoded_2[50]))\n",
        "print(1 - cosine(svd_encoded_2[50],svd_encoded_3[50]))\n",
        "print(1 - cosine(svd_encoded_1[50],svd_encoded_3[50]))"
      ],
      "metadata": {
        "colab": {
          "base_uri": "https://localhost:8080/"
        },
        "id": "QXkWQosDViZ_",
        "outputId": "daf9b89c-a19e-40f4-c5dd-8cdf29c03cd8"
      },
      "execution_count": 80,
      "outputs": [
        {
          "output_type": "stream",
          "name": "stdout",
          "text": [
            "0.29464420676231384\n",
            "0.37286853790283203\n",
            "0.1820400506258011\n"
          ]
        }
      ]
    },
    {
      "cell_type": "code",
      "source": [
        "print(1 - cosine(svd_encoded_1[125],svd_encoded_2[125]))\n",
        "print(1 - cosine(svd_encoded_2[125],svd_encoded_3[125]))\n",
        "print(1 - cosine(svd_encoded_1[125],svd_encoded_3[125]))"
      ],
      "metadata": {
        "colab": {
          "base_uri": "https://localhost:8080/"
        },
        "id": "KfdDAH43VkLV",
        "outputId": "198a4017-3620-4253-f21b-3afedfd76b35"
      },
      "execution_count": 81,
      "outputs": [
        {
          "output_type": "stream",
          "name": "stdout",
          "text": [
            "0.46337029337882996\n",
            "0.21703855693340302\n",
            "0.26895570755004883\n"
          ]
        }
      ]
    },
    {
      "cell_type": "code",
      "source": [
        "print(1 - cosine(svd_encoded_1[275],svd_encoded_2[275]))\n",
        "print(1 - cosine(svd_encoded_2[275],svd_encoded_3[275]))\n",
        "print(1 - cosine(svd_encoded_1[275],svd_encoded_3[275]))"
      ],
      "metadata": {
        "colab": {
          "base_uri": "https://localhost:8080/"
        },
        "id": "vGkKHJx4VoZk",
        "outputId": "f3f1ef4c-2402-44c1-83b8-c33c5be1c540"
      },
      "execution_count": 82,
      "outputs": [
        {
          "output_type": "stream",
          "name": "stdout",
          "text": [
            "0.06381940096616745\n",
            "-0.2933316230773926\n",
            "-0.1036132276058197\n"
          ]
        }
      ]
    },
    {
      "cell_type": "code",
      "source": [
        "print(1 - cosine(svd_encoded_1[325],svd_encoded_2[325]))\n",
        "print(1 - cosine(svd_encoded_2[325],svd_encoded_3[325]))\n",
        "print(1 - cosine(svd_encoded_1[325],svd_encoded_3[325]))"
      ],
      "metadata": {
        "colab": {
          "base_uri": "https://localhost:8080/"
        },
        "id": "y4zmrEkbVqJQ",
        "outputId": "1399e05a-b7c9-4e12-c5c9-5f62f06b46b7"
      },
      "execution_count": 83,
      "outputs": [
        {
          "output_type": "stream",
          "name": "stdout",
          "text": [
            "0.3586592376232147\n",
            "-0.2231447696685791\n",
            "-0.09189213812351227\n"
          ]
        }
      ]
    }
  ]
}